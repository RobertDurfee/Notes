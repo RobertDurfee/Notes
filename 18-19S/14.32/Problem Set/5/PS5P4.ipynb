{
 "cells": [
  {
   "cell_type": "code",
   "execution_count": 1,
   "metadata": {},
   "outputs": [],
   "source": [
    "import pandas as pd\n",
    "from statsmodels.regression.linear_model import OLS\n",
    "import numpy as np\n",
    "from linearmodels.iv import IV2SLS"
   ]
  },
  {
   "cell_type": "markdown",
   "metadata": {},
   "source": [
    "# 14.32 Problem Set 5\n",
    "\n",
    "## Problem 4\n",
    "\n",
    "Loading the data from the Current Population Survey Merged Outgoing Rotation Groups for 2018 from the National Bureau of Economic Research."
   ]
  },
  {
   "cell_type": "code",
   "execution_count": 2,
   "metadata": {},
   "outputs": [],
   "source": [
    "full_df = pd.read_stata('morg18.dta')"
   ]
  },
  {
   "cell_type": "markdown",
   "metadata": {},
   "source": [
    "We add a constant column to run OLS with a constant later on."
   ]
  },
  {
   "cell_type": "code",
   "execution_count": 3,
   "metadata": {},
   "outputs": [],
   "source": [
    "full_df['_cons'] = 1."
   ]
  },
  {
   "cell_type": "markdown",
   "metadata": {},
   "source": [
    "### Part A\n",
    "\n",
    "In this problem, we are interested in determining if getting married has an impact on one's weekly earnings. To answer this question, we will regress the logarithm of weekly earnings on a binary indictor of married vs un-married. There are a few possible confounding variables in this case:\n",
    "\n",
    "- The age of an individual is likely strongly correlated with both marital status and weekly earnings.\n",
    "- The education level of an individual is likely strongly correlated with both marital status and weekly earnings.\n",
    "- Whether an individual has children or not is likely strongly correlated to both marital status and weekly earnings.\n",
    "- A person's sex is likely strongly correlated to weekly earnings and it might possibly be weakly correlated to their marital status.\n",
    "- A person's race is likely strongly correlated to weekly earnings and it might possible be weakly correlated to their marital status.\n",
    "\n",
    "By controlling for these factors, we might reduce some omitted variables bias. To do so, we can extract the important columns:"
   ]
  },
  {
   "cell_type": "code",
   "execution_count": 4,
   "metadata": {},
   "outputs": [],
   "source": [
    "df = full_df[['_cons', 'earnwke', 'marital', 'age', \n",
    "              'ihigrdc', 'ownchild', 'race', 'sex']]"
   ]
  },
  {
   "cell_type": "markdown",
   "metadata": {},
   "source": [
    "We are only going to consider people who have a positive weekly income. Therefore, we drop all `NaN` incomes (this will also drop unknown education levels in `ihigrdc`) and take only people with income not equal to zero."
   ]
  },
  {
   "cell_type": "code",
   "execution_count": 5,
   "metadata": {},
   "outputs": [],
   "source": [
    "df = df.dropna()\n",
    "df = df[df['earnwke'] != 0.]"
   ]
  },
  {
   "cell_type": "markdown",
   "metadata": {},
   "source": [
    "We don't want to regress on the weekly wage directly, instead we use the logarithm of the weekly wage."
   ]
  },
  {
   "cell_type": "code",
   "execution_count": 6,
   "metadata": {},
   "outputs": [],
   "source": [
    "df['lgearnwke'] = np.log(df['earnwke'])\n",
    "df = df.drop(columns=['earnwke'])"
   ]
  },
  {
   "cell_type": "markdown",
   "metadata": {},
   "source": [
    "The data set breaks marital status into several categories. We are only interested in whether someone is married or not."
   ]
  },
  {
   "cell_type": "code",
   "execution_count": 7,
   "metadata": {},
   "outputs": [],
   "source": [
    "df['married'] = df['marital'].replace({\n",
    "    1: 1.,  # Married Civilian Spouse Present\n",
    "    2: 1.,  # Married AF Spouse Present\n",
    "    3: 1.,  # Married Spouse Absent\n",
    "    4: 0.,  # Widowed\n",
    "    5: 0.,  # Divorced\n",
    "    6: 0.,  # Separated\n",
    "    7: 0.,  # Never Married\n",
    "})\n",
    "df = df.drop(columns=['marital'])"
   ]
  },
  {
   "cell_type": "markdown",
   "metadata": {},
   "source": [
    "I don't really care about the number of children, only whether or not a child is present. Therefore, I simplify this variable to an indicator."
   ]
  },
  {
   "cell_type": "code",
   "execution_count": 8,
   "metadata": {},
   "outputs": [],
   "source": [
    "df['children'] = (df['ownchild'] > 0).astype(np.float64)\n",
    "df = df.drop(columns=['ownchild'])"
   ]
  },
  {
   "cell_type": "markdown",
   "metadata": {},
   "source": [
    "There are many different categories of race represented in this data set. To make things super simple, we are only going to indicate whether someone is black."
   ]
  },
  {
   "cell_type": "code",
   "execution_count": 9,
   "metadata": {},
   "outputs": [],
   "source": [
    "df['white'] = (df['race'] == 1).astype(np.float64)\n",
    "df = df.drop(columns=['race'])"
   ]
  },
  {
   "cell_type": "markdown",
   "metadata": {},
   "source": [
    "The data set represent male as 1 and female as 2. To simplify this, we transform the data such that male is 1 and female is 0."
   ]
  },
  {
   "cell_type": "code",
   "execution_count": 10,
   "metadata": {},
   "outputs": [],
   "source": [
    "df['male'] = (df['sex'] == 1).astype(np.float64)\n",
    "df = df.drop(columns=['sex'])"
   ]
  },
  {
   "cell_type": "markdown",
   "metadata": {},
   "source": [
    "Now our dataframe consists of the following columns."
   ]
  },
  {
   "cell_type": "code",
   "execution_count": 11,
   "metadata": {},
   "outputs": [
    {
     "data": {
      "text/plain": [
       "['_cons',\n",
       " 'age',\n",
       " 'ihigrdc',\n",
       " 'lgearnwke',\n",
       " 'married',\n",
       " 'children',\n",
       " 'white',\n",
       " 'male']"
      ]
     },
     "execution_count": 11,
     "metadata": {},
     "output_type": "execute_result"
    }
   ],
   "source": [
    "list(df.columns)"
   ]
  },
  {
   "cell_type": "markdown",
   "metadata": {},
   "source": [
    "### Part B\n",
    "\n",
    "#### Part I\n",
    "\n",
    "Our data has already been imported into `df` as in Part A. Here's a preview:"
   ]
  },
  {
   "cell_type": "code",
   "execution_count": 12,
   "metadata": {},
   "outputs": [
    {
     "name": "stdout",
     "output_type": "stream",
     "text": [
      "    _cons  age  ihigrdc  lgearnwke  married  children  white  male\n",
      "2     1.0   52     12.0   6.805723      0.0       1.0    0.0   0.0\n",
      "3     1.0   19     12.0   5.991465      0.0       0.0    0.0   0.0\n",
      "5     1.0   22     12.0   4.248495      0.0       0.0    0.0   0.0\n",
      "6     1.0   48     12.0   6.522093      0.0       0.0    1.0   1.0\n",
      "17    1.0   59     12.0   6.684612      0.0       0.0    0.0   1.0\n",
      "18    1.0   27     12.0   5.953243      0.0       0.0    0.0   1.0\n",
      "19    1.0   30     12.0   6.514713      0.0       0.0    0.0   0.0\n",
      "20    1.0   49     12.0   5.786897      0.0       0.0    0.0   0.0\n",
      "28    1.0   48     15.0   7.025005      1.0       0.0    0.0   1.0\n",
      "31    1.0   51     14.0   7.489110      1.0       0.0    0.0   1.0\n"
     ]
    }
   ],
   "source": [
    "print(df[:10])"
   ]
  },
  {
   "cell_type": "markdown",
   "metadata": {},
   "source": [
    "#### Part II\n",
    "\n",
    "We can quickly look at the summary statistics of our data set:"
   ]
  },
  {
   "cell_type": "code",
   "execution_count": 13,
   "metadata": {},
   "outputs": [
    {
     "name": "stdout",
     "output_type": "stream",
     "text": [
      "          _cons            age        ihigrdc      lgearnwke        married  \\\n",
      "count  105108.0  105108.000000  105108.000000  105108.000000  105108.000000   \n",
      "mean        1.0      41.815143      12.749990       6.421394       0.500590   \n",
      "std         0.0      15.025220       2.309817       0.803723       0.500002   \n",
      "min         1.0      16.000000       0.000000      -4.605170       0.000000   \n",
      "25%         1.0      29.000000      12.000000       6.004677       0.000000   \n",
      "50%         1.0      41.000000      12.000000       6.461468       1.000000   \n",
      "75%         1.0      54.000000      14.000000       6.915723       1.000000   \n",
      "max         1.0      85.000000      18.000000       7.967145       1.000000   \n",
      "\n",
      "            children          white           male  \n",
      "count  105108.000000  105108.000000  105108.000000  \n",
      "mean        0.303459       0.804439       0.530873  \n",
      "std         0.459754       0.396634       0.499048  \n",
      "min         0.000000       0.000000       0.000000  \n",
      "25%         0.000000       1.000000       0.000000  \n",
      "50%         0.000000       1.000000       1.000000  \n",
      "75%         1.000000       1.000000       1.000000  \n",
      "max         1.000000       1.000000       1.000000  \n"
     ]
    }
   ],
   "source": [
    "print(df.describe())"
   ]
  },
  {
   "cell_type": "markdown",
   "metadata": {},
   "source": [
    "#### Part III\n",
    "\n",
    "We can run an ordinary least squares regression of `lgearnwke` on `married` with heteroskedastic robust standard errors without controlling for anything and without using instrumental variables."
   ]
  },
  {
   "cell_type": "code",
   "execution_count": 14,
   "metadata": {},
   "outputs": [
    {
     "name": "stdout",
     "output_type": "stream",
     "text": [
      "                            OLS Regression Results                            \n",
      "==============================================================================\n",
      "Dep. Variable:              lgearnwke   R-squared:                       0.061\n",
      "Model:                            OLS   Adj. R-squared:                  0.061\n",
      "Method:                 Least Squares   F-statistic:                     6779.\n",
      "Date:                Wed, 01 May 2019   Prob (F-statistic):               0.00\n",
      "Time:                        15:54:39   Log-Likelihood:            -1.2289e+05\n",
      "No. Observations:              105108   AIC:                         2.458e+05\n",
      "Df Residuals:                  105106   BIC:                         2.458e+05\n",
      "Df Model:                           1                                         \n",
      "Covariance Type:                  HC1                                         \n",
      "==============================================================================\n",
      "                 coef    std err          t      P>|t|      [0.025      0.975]\n",
      "------------------------------------------------------------------------------\n",
      "_cons          6.2233      0.004   1761.417      0.000       6.216       6.230\n",
      "married        0.3957      0.005     82.333      0.000       0.386       0.405\n",
      "==============================================================================\n",
      "Omnibus:                    32594.095   Durbin-Watson:                   1.898\n",
      "Prob(Omnibus):                  0.000   Jarque-Bera (JB):           287844.443\n",
      "Skew:                          -1.241   Prob(JB):                         0.00\n",
      "Kurtosis:                      10.718   Cond. No.                         2.62\n",
      "==============================================================================\n",
      "\n",
      "Warnings:\n",
      "[1] Standard Errors are heteroscedasticity robust (HC1)\n"
     ]
    }
   ],
   "source": [
    "simple_model = OLS(df['lgearnwke'], df[['_cons', 'married']])\n",
    "simple_results = simple_model.fit(cov_type='HC1', use_t=True)\n",
    "print(simple_results.summary())"
   ]
  },
  {
   "cell_type": "markdown",
   "metadata": {},
   "source": [
    "Using the results from this regression, we can explicitly test our hypothesis:\n",
    "\n",
    "$$ H_0 : married = 0 $$\n",
    "$$ H_1 : married \\neq 0 $$"
   ]
  },
  {
   "cell_type": "code",
   "execution_count": 15,
   "metadata": {},
   "outputs": [
    {
     "name": "stdout",
     "output_type": "stream",
     "text": [
      "                             Test for Constraints                             \n",
      "==============================================================================\n",
      "                 coef    std err          t      P>|t|      [0.025      0.975]\n",
      "------------------------------------------------------------------------------\n",
      "c0             0.3957      0.005     82.333      0.000       0.386       0.405\n",
      "==============================================================================\n"
     ]
    }
   ],
   "source": [
    "simple_married_t_test = simple_results.t_test('married = 0')\n",
    "print(simple_married_t_test.summary())"
   ]
  },
  {
   "cell_type": "markdown",
   "metadata": {},
   "source": [
    "From this $t$-test, we can see the $p$-value is equal to zero or, equivalently, that the confidence interval does not include zero. Thus, it is safe to reject the null that marriage has no effect on weekly wages. From the coefficient, and individual who is married makes approximately 40\\% more on average than an individual who is not married."
   ]
  },
  {
   "cell_type": "markdown",
   "metadata": {},
   "source": [
    "#### Part IV\n",
    "\n",
    "Now we can control for some other confounding factors. \n",
    "\n",
    "- We would expect $\\mathrm{cov}(lgearnwke, age)$ and $\\mathrm{cov}(married, age)$ to both be strongly positive. This should cause overstatement of the coefficient on married.\n",
    "- We would expect $\\mathrm{cov}(lgearnwke, ihigrd)$ to be strongly positive and $\\mathrm{cov}(married, ihigrd)$ to be slightly positive. This should cause overstatement of the coefficient on married.\n",
    "- We would expect $\\mathrm{cov}(lgearnwke, children)$ to be slightly positive and $\\mathrm{cov}(married, children)$ to be strongly positive. This should cause overstatement of the coefficient on married.\n",
    "- We would expect $\\mathrm{cov}(lgearnwke, male)$ to be strongly positive and $\\mathrm{cov}(married, male)$ to be roughly zero. This may or may not have a noticeable effect.\n",
    "- We would expect $\\mathrm{cov}(lgearnwke, white)$ to be strongly positive and $\\mathrm{cov}(married, white)$ to be roughtly zero. This may or may not have a noticeable effect.\n",
    "\n",
    "Running the controlled regression:"
   ]
  },
  {
   "cell_type": "code",
   "execution_count": 16,
   "metadata": {},
   "outputs": [
    {
     "name": "stdout",
     "output_type": "stream",
     "text": [
      "                            OLS Regression Results                            \n",
      "==============================================================================\n",
      "Dep. Variable:              lgearnwke   R-squared:                       0.209\n",
      "Model:                            OLS   Adj. R-squared:                  0.209\n",
      "Method:                 Least Squares   F-statistic:                     4170.\n",
      "Date:                Wed, 01 May 2019   Prob (F-statistic):               0.00\n",
      "Time:                        15:54:39   Log-Likelihood:            -1.1383e+05\n",
      "No. Observations:              105108   AIC:                         2.277e+05\n",
      "Df Residuals:                  105101   BIC:                         2.277e+05\n",
      "Df Model:                           6                                         \n",
      "Covariance Type:                  HC1                                         \n",
      "==============================================================================\n",
      "                 coef    std err          t      P>|t|      [0.025      0.975]\n",
      "------------------------------------------------------------------------------\n",
      "_cons          4.4266      0.016    270.281      0.000       4.394       4.459\n",
      "married        0.1652      0.005     33.159      0.000       0.155       0.175\n",
      "age            0.0117      0.000     62.513      0.000       0.011       0.012\n",
      "ihigrdc        0.0872      0.001     83.489      0.000       0.085       0.089\n",
      "children       0.2082      0.005     43.890      0.000       0.199       0.217\n",
      "male           0.3739      0.004     83.750      0.000       0.365       0.383\n",
      "white          0.0599      0.005     11.157      0.000       0.049       0.070\n",
      "==============================================================================\n",
      "Omnibus:                    45012.175   Durbin-Watson:                   1.886\n",
      "Prob(Omnibus):                  0.000   Jarque-Bera (JB):           665862.547\n",
      "Skew:                          -1.668   Prob(JB):                         0.00\n",
      "Kurtosis:                      14.871   Cond. No.                         316.\n",
      "==============================================================================\n",
      "\n",
      "Warnings:\n",
      "[1] Standard Errors are heteroscedasticity robust (HC1)\n"
     ]
    }
   ],
   "source": [
    "controlled_model = OLS(df['lgearnwke'], df[['_cons', 'married', 'age', \n",
    "                                            'ihigrdc', 'children', 'male', \n",
    "                                            'white']])\n",
    "controlled_results = controlled_model.fit(cov_type='HC1', use_t=True)\n",
    "print(controlled_results.summary())"
   ]
  },
  {
   "cell_type": "markdown",
   "metadata": {},
   "source": [
    "Putting all the controls together drastically reduces the coefficient of married. We can explicitly test the our hypothesis:\n",
    "\n",
    "$$ H_0 : married = 0 $$\n",
    "$$ H_1 : married \\neq 0 $$"
   ]
  },
  {
   "cell_type": "code",
   "execution_count": 17,
   "metadata": {},
   "outputs": [
    {
     "name": "stdout",
     "output_type": "stream",
     "text": [
      "                             Test for Constraints                             \n",
      "==============================================================================\n",
      "                 coef    std err          t      P>|t|      [0.025      0.975]\n",
      "------------------------------------------------------------------------------\n",
      "c0             0.1652      0.005     33.159      0.000       0.155       0.175\n",
      "==============================================================================\n"
     ]
    }
   ],
   "source": [
    "controlled_married_t_test = controlled_results.t_test('married = 0')\n",
    "print(controlled_married_t_test.summary())"
   ]
  },
  {
   "cell_type": "markdown",
   "metadata": {},
   "source": [
    "From this $t$-test, we can see the $p$-value is still equal to zero or, equivalently, that the confidence interval still does not include zero. Thus, it is safe to reject the null that marriage has no effect on weekly wages. From the coefficient, and individual who is married makes approximately 17\\% more on average than an individual who is not married. However, this is significantly lower than the naive estimate which suggests the effect of marriage on income is not nearly as strong as it first appears.\n",
    "\n",
    "Furthermore, there are likely more omitted variables present in this model. Some quick Googling suggests the length of someone's marriage could be a strong confounder. Unfortunately I couldn't test this using the CPS data. Though it is kind of incorporated in the model using age."
   ]
  }
 ],
 "metadata": {
  "kernelspec": {
   "display_name": "Python 3",
   "language": "python",
   "name": "python3"
  },
  "language_info": {
   "codemirror_mode": {
    "name": "ipython",
    "version": 3
   },
   "file_extension": ".py",
   "mimetype": "text/x-python",
   "name": "python",
   "nbconvert_exporter": "python",
   "pygments_lexer": "ipython3",
   "version": "3.6.7"
  }
 },
 "nbformat": 4,
 "nbformat_minor": 2
}
