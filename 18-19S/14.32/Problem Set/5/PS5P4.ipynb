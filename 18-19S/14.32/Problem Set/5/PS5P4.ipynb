{
 "cells": [
  {
   "cell_type": "code",
   "execution_count": 1,
   "metadata": {},
   "outputs": [],
   "source": [
    "import pandas as pd\n",
    "from statsmodels.regression.linear_model import OLS\n",
    "import numpy as np\n",
    "from linearmodels.iv import IV2SLS"
   ]
  },
  {
   "cell_type": "markdown",
   "metadata": {},
   "source": [
    "# 14.32 Problem Set 5\n",
    "\n",
    "## Problem 4\n",
    "\n",
    "Loading the data from the Current Population Survey Merged Outgoing Rotation Groups for 2018 from the National Bureau of Economic Research."
   ]
  },
  {
   "cell_type": "code",
   "execution_count": 2,
   "metadata": {},
   "outputs": [],
   "source": [
    "full_df = pd.read_stata('morg18.dta')"
   ]
  },
  {
   "cell_type": "markdown",
   "metadata": {},
   "source": [
    "We add a constant column to run OLS with a constant later on."
   ]
  },
  {
   "cell_type": "code",
   "execution_count": 3,
   "metadata": {},
   "outputs": [],
   "source": [
    "full_df['_cons'] = 1."
   ]
  },
  {
   "cell_type": "markdown",
   "metadata": {},
   "source": [
    "### Part A\n",
    "\n",
    "In this problem, we are interested in determining if getting married has an impact on one's weekly earnings. To answer this question, we will regress the logarithm of weekly earnings on a binary indictor of married vs un-married. There are a few possible confounding variables in this case:\n",
    "\n",
    "- The age of an individual is likely strongly correlated with both marital status and weekly earnings.\n",
    "- A person's sex is likely strongly correlated to weekly earnings and it might possibly be weakly correlated to their marital status.\n",
    "- A person's race is likely strongly correlated to weekly earnings and it might possible be weakly correlated to their marital status.\n",
    "\n",
    "By controlling for these factors, we might reduce some omitted variables bias.\n",
    "\n",
    "On the other hand, instead of controlling for these factors, we could use an instrumental variable to remove the bias. In this case, whether or not an individual has a child could act as an instrumental variable:\n",
    "\n",
    "- Relevance: The presence of a child is likely strongly correlated to an individual's marriage status as there is some moral incentive to get married before (or as the result of) getting pregnant.\n",
    "- Exclusion: The presence of a child is unlikely to directly correlated with an individual's weekly earnings. Nonetheless, their might be an indirect correlation with earnings outside of marital status (e.g. a correlation through age).\n",
    "\n",
    "As a result, we can try both of these regressions. To do so, we can extract the important columns:"
   ]
  },
  {
   "cell_type": "code",
   "execution_count": 4,
   "metadata": {},
   "outputs": [],
   "source": [
    "df = full_df[['_cons', 'earnwke', 'age', 'marital',\n",
    "              'race', 'sex', 'ownchild']]"
   ]
  },
  {
   "cell_type": "markdown",
   "metadata": {},
   "source": [
    "We are only going to consider people who have a positive weekly income. Therefore, we drop all `NaN` incomes and take only people with income not equal to zero."
   ]
  },
  {
   "cell_type": "code",
   "execution_count": 5,
   "metadata": {},
   "outputs": [],
   "source": [
    "df = df.dropna()\n",
    "df = df[df['earnwke'] != 0.]"
   ]
  },
  {
   "cell_type": "markdown",
   "metadata": {},
   "source": [
    "We don't want to regress on the weekly wage directly, instead we use the logarithm of the weekly wage."
   ]
  },
  {
   "cell_type": "code",
   "execution_count": 6,
   "metadata": {},
   "outputs": [],
   "source": [
    "df['lgearnwke'] = np.log(df['earnwke'])\n",
    "df = df.drop(columns=['earnwke'])"
   ]
  },
  {
   "cell_type": "markdown",
   "metadata": {},
   "source": [
    "The data set breaks marital status into several categories. We are only interested in whether someone is married or not."
   ]
  },
  {
   "cell_type": "code",
   "execution_count": 7,
   "metadata": {},
   "outputs": [],
   "source": [
    "df['married'] = df['marital'].replace({\n",
    "    1: 1.,  # Married Civilian Spouse Present\n",
    "    2: 1.,  # Married AF Spouse Present\n",
    "    3: 1.,  # Married Spouse Absent\n",
    "    4: 0.,  # Widowed\n",
    "    5: 0.,  # Divorced\n",
    "    6: 0.,  # Separated\n",
    "    7: 0.,  # Never Married\n",
    "})\n",
    "df = df.drop(columns=['marital'])"
   ]
  },
  {
   "cell_type": "markdown",
   "metadata": {},
   "source": [
    "There are many different categories of race represented in this data set. To make things super simple, we are only going to indicate whether someone white or non-white."
   ]
  },
  {
   "cell_type": "code",
   "execution_count": 8,
   "metadata": {},
   "outputs": [],
   "source": [
    "df['white'] = (df['race'] == 1).astype(np.float64)\n",
    "df = df.drop(columns=['race'])"
   ]
  },
  {
   "cell_type": "markdown",
   "metadata": {},
   "source": [
    "The data set represent male as 1 and female as 2. To simplify this, we transform the data such that male is 1 and female is 0."
   ]
  },
  {
   "cell_type": "code",
   "execution_count": 9,
   "metadata": {},
   "outputs": [],
   "source": [
    "df['male'] = (df['sex'] == 1).astype(np.float64)\n",
    "df = df.drop(columns=['sex'])"
   ]
  },
  {
   "cell_type": "markdown",
   "metadata": {},
   "source": [
    "Lastly, I don't really care about the number of children, only whether or not a child is present. Therefore, I simplify this variable to an indicator."
   ]
  },
  {
   "cell_type": "code",
   "execution_count": 10,
   "metadata": {},
   "outputs": [],
   "source": [
    "df['children'] = (df['ownchild'] > 0).astype(np.float64)\n",
    "df = df.drop(columns=['ownchild'])"
   ]
  },
  {
   "cell_type": "markdown",
   "metadata": {},
   "source": [
    "Now our dataframe consists of the following columns."
   ]
  },
  {
   "cell_type": "code",
   "execution_count": 11,
   "metadata": {},
   "outputs": [
    {
     "data": {
      "text/plain": [
       "['_cons', 'age', 'lgearnwke', 'married', 'white', 'male', 'children']"
      ]
     },
     "execution_count": 11,
     "metadata": {},
     "output_type": "execute_result"
    }
   ],
   "source": [
    "list(df.columns)"
   ]
  },
  {
   "cell_type": "markdown",
   "metadata": {},
   "source": [
    "### Part B\n",
    "\n",
    "#### Part I\n",
    "\n",
    "Our data has already been imported into `df` as in Part A. Here's a preview:"
   ]
  },
  {
   "cell_type": "code",
   "execution_count": 12,
   "metadata": {},
   "outputs": [
    {
     "name": "stdout",
     "output_type": "stream",
     "text": [
      "    _cons  age  lgearnwke  married  white  male  children\n",
      "2     1.0   52   6.805723      0.0    0.0   0.0       1.0\n",
      "3     1.0   19   5.991465      0.0    0.0   0.0       0.0\n",
      "4     1.0   56   7.130899      0.0    0.0   0.0       0.0\n",
      "5     1.0   22   4.248495      0.0    0.0   0.0       0.0\n",
      "6     1.0   48   6.522093      0.0    1.0   1.0       0.0\n",
      "17    1.0   59   6.684612      0.0    0.0   1.0       0.0\n",
      "18    1.0   27   5.953243      0.0    0.0   1.0       0.0\n",
      "19    1.0   30   6.514713      0.0    0.0   0.0       0.0\n",
      "20    1.0   49   5.786897      0.0    0.0   0.0       0.0\n",
      "22    1.0   26   6.628041      1.0    1.0   0.0       0.0\n"
     ]
    }
   ],
   "source": [
    "print(df[:10])"
   ]
  },
  {
   "cell_type": "markdown",
   "metadata": {},
   "source": [
    "#### Part II\n",
    "\n",
    "We can quickly look at the summary statistics of our data set:"
   ]
  },
  {
   "cell_type": "code",
   "execution_count": 13,
   "metadata": {},
   "outputs": [
    {
     "name": "stdout",
     "output_type": "stream",
     "text": [
      "          _cons            age      lgearnwke        married          white  \\\n",
      "count  159559.0  159559.000000  159559.000000  159559.000000  159559.000000   \n",
      "mean        1.0      42.310800       6.604410       0.542401       0.807889   \n",
      "std         0.0      14.414349       0.833248       0.498200       0.393961   \n",
      "min         1.0      16.000000      -4.605170       0.000000       0.000000   \n",
      "25%         1.0      30.000000       6.173786       0.000000       1.000000   \n",
      "50%         1.0      42.000000       6.659294       1.000000       1.000000   \n",
      "75%         1.0      54.000000       7.154615       1.000000       1.000000   \n",
      "max         1.0      85.000000       7.967145       1.000000       1.000000   \n",
      "\n",
      "                male       children  \n",
      "count  159559.000000  159559.000000  \n",
      "mean        0.509172       0.323185  \n",
      "std         0.499917       0.467694  \n",
      "min         0.000000       0.000000  \n",
      "25%         0.000000       0.000000  \n",
      "50%         1.000000       0.000000  \n",
      "75%         1.000000       1.000000  \n",
      "max         1.000000       1.000000  \n"
     ]
    }
   ],
   "source": [
    "print(df.describe())"
   ]
  },
  {
   "cell_type": "markdown",
   "metadata": {},
   "source": [
    "#### Part III\n",
    "\n",
    "We can run an ordinary least squares regression of `lgearnwke` on `married` with heteroskedastic robust standard errors without controlling for anything and without using instrumental variables."
   ]
  },
  {
   "cell_type": "code",
   "execution_count": 14,
   "metadata": {},
   "outputs": [
    {
     "name": "stdout",
     "output_type": "stream",
     "text": [
      "                            OLS Regression Results                            \n",
      "==============================================================================\n",
      "Dep. Variable:              lgearnwke   R-squared:                       0.051\n",
      "Model:                            OLS   Adj. R-squared:                  0.051\n",
      "Method:                 Least Squares   F-statistic:                     8439.\n",
      "Date:                Wed, 01 May 2019   Prob (F-statistic):               0.00\n",
      "Time:                        12:01:56   Log-Likelihood:            -1.9314e+05\n",
      "No. Observations:              159559   AIC:                         3.863e+05\n",
      "Df Residuals:                  159557   BIC:                         3.863e+05\n",
      "Df Model:                           1                                         \n",
      "Covariance Type:                  HC1                                         \n",
      "==============================================================================\n",
      "                 coef    std err          t      P>|t|      [0.025      0.975]\n",
      "------------------------------------------------------------------------------\n",
      "_cons          6.4000      0.003   2054.561      0.000       6.394       6.406\n",
      "married        0.3769      0.004     91.866      0.000       0.369       0.385\n",
      "==============================================================================\n",
      "Omnibus:                    59569.274   Durbin-Watson:                   1.832\n",
      "Prob(Omnibus):                  0.000   Jarque-Bera (JB):           699109.191\n",
      "Skew:                          -1.463   Prob(JB):                         0.00\n",
      "Kurtosis:                      12.828   Cond. No.                         2.73\n",
      "==============================================================================\n",
      "\n",
      "Warnings:\n",
      "[1] Standard Errors are heteroscedasticity robust (HC1)\n"
     ]
    }
   ],
   "source": [
    "simple_model = OLS(df['lgearnwke'], df[['_cons', 'married']])\n",
    "simple_results = simple_model.fit(cov_type='HC1', use_t=True)\n",
    "print(simple_results.summary())"
   ]
  },
  {
   "cell_type": "markdown",
   "metadata": {},
   "source": [
    "Using the results from this regression, we can explicitly test our hypothesis:\n",
    "\n",
    "$$ H_0 : married = 0 $$\n",
    "$$ H_1 : married \\neq 0 $$"
   ]
  },
  {
   "cell_type": "code",
   "execution_count": 15,
   "metadata": {},
   "outputs": [
    {
     "name": "stdout",
     "output_type": "stream",
     "text": [
      "                             Test for Constraints                             \n",
      "==============================================================================\n",
      "                 coef    std err          t      P>|t|      [0.025      0.975]\n",
      "------------------------------------------------------------------------------\n",
      "c0             0.3769      0.004     91.866      0.000       0.369       0.385\n",
      "==============================================================================\n"
     ]
    }
   ],
   "source": [
    "married_t_test = simple_results.t_test('married = 0')\n",
    "print(married_t_test.summary())"
   ]
  },
  {
   "cell_type": "markdown",
   "metadata": {},
   "source": [
    "From this $t$-test, we can see the $p$-value is equal to zero or, equivalently, that the confidence interval does not include zero. Thus, it is safe to reject the null that marriage has no effect on weekly wages. From the coefficient, and individual who is married makes approximately 37\\% more on average than an individual who is not married."
   ]
  },
  {
   "cell_type": "markdown",
   "metadata": {},
   "source": [
    "#### Part IV\n",
    "\n",
    "Now we can control for some other confounding factors. \n",
    "\n",
    "First we consider a person's age. In order for age to contribute omitted variable bias, it needs to be both correlated to weekly wage and marital status. First we check if age and weekly wage are correlated."
   ]
  },
  {
   "cell_type": "code",
   "execution_count": 16,
   "metadata": {},
   "outputs": [
    {
     "name": "stdout",
     "output_type": "stream",
     "text": [
      "           lgearnwke         age\n",
      "lgearnwke   0.694302    2.323699\n",
      "age         2.323699  207.773450\n"
     ]
    }
   ],
   "source": [
    "print(df[['lgearnwke', 'age']].cov())"
   ]
  },
  {
   "cell_type": "markdown",
   "metadata": {},
   "source": [
    "Clearly it is correlated. Now we check if age is correlated to marital status."
   ]
  },
  {
   "cell_type": "code",
   "execution_count": 17,
   "metadata": {},
   "outputs": [
    {
     "name": "stdout",
     "output_type": "stream",
     "text": [
      "          married         age\n",
      "married  0.248204    2.305386\n",
      "age      2.305386  207.773450\n"
     ]
    }
   ],
   "source": [
    "print(df[['married', 'age']].cov())"
   ]
  },
  {
   "cell_type": "markdown",
   "metadata": {},
   "source": [
    "Since both have positive correlation, we expect that the marriage coefficient is overstated. Let's run the controlled regression."
   ]
  },
  {
   "cell_type": "code",
   "execution_count": 18,
   "metadata": {},
   "outputs": [
    {
     "name": "stdout",
     "output_type": "stream",
     "text": [
      "                            OLS Regression Results                            \n",
      "==============================================================================\n",
      "Dep. Variable:              lgearnwke   R-squared:                       0.067\n",
      "Model:                            OLS   Adj. R-squared:                  0.067\n",
      "Method:                 Least Squares   F-statistic:                     4981.\n",
      "Date:                Wed, 01 May 2019   Prob (F-statistic):               0.00\n",
      "Time:                        12:01:56   Log-Likelihood:            -1.9175e+05\n",
      "No. Observations:              159559   AIC:                         3.835e+05\n",
      "Df Residuals:                  159556   BIC:                         3.835e+05\n",
      "Df Model:                           2                                         \n",
      "Covariance Type:                  HC1                                         \n",
      "==============================================================================\n",
      "                 coef    std err          t      P>|t|      [0.025      0.975]\n",
      "------------------------------------------------------------------------------\n",
      "_cons          6.1090      0.007    867.475      0.000       6.095       6.123\n",
      "married        0.3044      0.004     72.722      0.000       0.296       0.313\n",
      "age            0.0078      0.000     46.198      0.000       0.007       0.008\n",
      "==============================================================================\n",
      "Omnibus:                    62241.110   Durbin-Watson:                   1.826\n",
      "Prob(Omnibus):                  0.000   Jarque-Bera (JB):           772194.580\n",
      "Skew:                          -1.530   Prob(JB):                         0.00\n",
      "Kurtosis:                      13.334   Cond. No.                         139.\n",
      "==============================================================================\n",
      "\n",
      "Warnings:\n",
      "[1] Standard Errors are heteroscedasticity robust (HC1)\n"
     ]
    }
   ],
   "source": [
    "simple_model = OLS(df['lgearnwke'], df[['_cons', 'married', 'age']])\n",
    "simple_results = simple_model.fit(cov_type='HC1', use_t=True)\n",
    "print(simple_results.summary())"
   ]
  },
  {
   "cell_type": "markdown",
   "metadata": {},
   "source": [
    "We were correct. The married coefficient was overstated by about 7\\%.\n",
    "\n",
    "Now let's consider a person's sex. First we check if sex and weekly wage are correlated."
   ]
  },
  {
   "cell_type": "code",
   "execution_count": 19,
   "metadata": {},
   "outputs": [
    {
     "name": "stdout",
     "output_type": "stream",
     "text": [
      "           lgearnwke      male\n",
      "lgearnwke   0.694302  0.076026\n",
      "male        0.076026  0.249917\n"
     ]
    }
   ],
   "source": [
    "print(df[['lgearnwke', 'male']].cov())"
   ]
  },
  {
   "cell_type": "markdown",
   "metadata": {},
   "source": [
    "It is slightly correlated. Now we check if sex is correlated to marital status."
   ]
  },
  {
   "cell_type": "code",
   "execution_count": 20,
   "metadata": {},
   "outputs": [
    {
     "name": "stdout",
     "output_type": "stream",
     "text": [
      "          married      male\n",
      "married  0.248204  0.013799\n",
      "male     0.013799  0.249917\n"
     ]
    }
   ],
   "source": [
    "print(df[['married', 'male']].cov())"
   ]
  },
  {
   "cell_type": "markdown",
   "metadata": {},
   "source": [
    "Since both have positive correlation, we expect that the marriage coefficient is slightly overstated. Let's run the controlled regression."
   ]
  },
  {
   "cell_type": "code",
   "execution_count": 21,
   "metadata": {},
   "outputs": [
    {
     "name": "stdout",
     "output_type": "stream",
     "text": [
      "                            OLS Regression Results                            \n",
      "==============================================================================\n",
      "Dep. Variable:              lgearnwke   R-squared:                       0.080\n",
      "Model:                            OLS   Adj. R-squared:                  0.080\n",
      "Method:                 Least Squares   F-statistic:                     7099.\n",
      "Date:                Wed, 01 May 2019   Prob (F-statistic):               0.00\n",
      "Time:                        12:01:57   Log-Likelihood:            -1.9066e+05\n",
      "No. Observations:              159559   AIC:                         3.813e+05\n",
      "Df Residuals:                  159556   BIC:                         3.814e+05\n",
      "Df Model:                           2                                         \n",
      "Covariance Type:                  HC1                                         \n",
      "==============================================================================\n",
      "                 coef    std err          t      P>|t|      [0.025      0.975]\n",
      "------------------------------------------------------------------------------\n",
      "_cons          6.2638      0.004   1709.057      0.000       6.257       6.271\n",
      "married        0.3611      0.004     88.879      0.000       0.353       0.369\n",
      "male           0.2843      0.004     70.680      0.000       0.276       0.292\n",
      "==============================================================================\n",
      "Omnibus:                    61772.433   Durbin-Watson:                   1.811\n",
      "Prob(Omnibus):                  0.000   Jarque-Bera (JB):           794252.667\n",
      "Skew:                          -1.504   Prob(JB):                         0.00\n",
      "Kurtosis:                      13.508   Cond. No.                         3.23\n",
      "==============================================================================\n",
      "\n",
      "Warnings:\n",
      "[1] Standard Errors are heteroscedasticity robust (HC1)\n"
     ]
    }
   ],
   "source": [
    "simple_model = OLS(df['lgearnwke'], df[['_cons', 'married', 'male']])\n",
    "simple_results = simple_model.fit(cov_type='HC1', use_t=True)\n",
    "print(simple_results.summary())"
   ]
  },
  {
   "cell_type": "markdown",
   "metadata": {},
   "source": [
    "We were correct. The married coefficient was overstated by about 1\\%.\n",
    "\n",
    "Now let's consider a person's race. First we check if race and weekly wage are correlated."
   ]
  },
  {
   "cell_type": "code",
   "execution_count": 22,
   "metadata": {},
   "outputs": [
    {
     "name": "stdout",
     "output_type": "stream",
     "text": [
      "           lgearnwke     white\n",
      "lgearnwke   0.694302  0.014954\n",
      "white       0.014954  0.155205\n"
     ]
    }
   ],
   "source": [
    "print(df[['lgearnwke', 'white']].cov())"
   ]
  },
  {
   "cell_type": "markdown",
   "metadata": {},
   "source": [
    "It is very slightly correlated. Now we check if race is correlated to marital status."
   ]
  },
  {
   "cell_type": "code",
   "execution_count": 23,
   "metadata": {},
   "outputs": [
    {
     "name": "stdout",
     "output_type": "stream",
     "text": [
      "          married     white\n",
      "married  0.248204  0.016284\n",
      "white    0.016284  0.155205\n"
     ]
    }
   ],
   "source": [
    "print(df[['married', 'white']].cov())"
   ]
  },
  {
   "cell_type": "markdown",
   "metadata": {},
   "source": [
    "Since both have slightly positive correlation, we expect that the marriage coefficient is slightly overstated. Let's run the controlled regression."
   ]
  },
  {
   "cell_type": "code",
   "execution_count": 24,
   "metadata": {},
   "outputs": [
    {
     "name": "stdout",
     "output_type": "stream",
     "text": [
      "                            OLS Regression Results                            \n",
      "==============================================================================\n",
      "Dep. Variable:              lgearnwke   R-squared:                       0.052\n",
      "Model:                            OLS   Adj. R-squared:                  0.052\n",
      "Method:                 Least Squares   F-statistic:                     4305.\n",
      "Date:                Wed, 01 May 2019   Prob (F-statistic):               0.00\n",
      "Time:                        12:01:57   Log-Likelihood:            -1.9308e+05\n",
      "No. Observations:              159559   AIC:                         3.862e+05\n",
      "Df Residuals:                  159556   BIC:                         3.862e+05\n",
      "Df Model:                           2                                         \n",
      "Covariance Type:                  HC1                                         \n",
      "==============================================================================\n",
      "                 coef    std err          t      P>|t|      [0.025      0.975]\n",
      "------------------------------------------------------------------------------\n",
      "_cons          6.3558      0.005   1301.841      0.000       6.346       6.365\n",
      "married        0.3732      0.004     90.584      0.000       0.365       0.381\n",
      "white          0.0572      0.005     11.370      0.000       0.047       0.067\n",
      "==============================================================================\n",
      "Omnibus:                    59789.834   Durbin-Watson:                   1.831\n",
      "Prob(Omnibus):                  0.000   Jarque-Bera (JB):           705577.626\n",
      "Skew:                          -1.469   Prob(JB):                         0.00\n",
      "Kurtosis:                      12.874   Cond. No.                         4.84\n",
      "==============================================================================\n",
      "\n",
      "Warnings:\n",
      "[1] Standard Errors are heteroscedasticity robust (HC1)\n"
     ]
    }
   ],
   "source": [
    "simple_model = OLS(df['lgearnwke'], df[['_cons', 'married', 'white']])\n",
    "simple_results = simple_model.fit(cov_type='HC1', use_t=True)\n",
    "print(simple_results.summary())"
   ]
  },
  {
   "cell_type": "markdown",
   "metadata": {},
   "source": [
    "We were correct. The married coefficient is very slightly overstated by about 0.3\\%.\n",
    "\n",
    "Let's combine all of these results into a single controlled regression."
   ]
  },
  {
   "cell_type": "code",
   "execution_count": 25,
   "metadata": {},
   "outputs": [
    {
     "name": "stdout",
     "output_type": "stream",
     "text": [
      "                            OLS Regression Results                            \n",
      "==============================================================================\n",
      "Dep. Variable:              lgearnwke   R-squared:                       0.098\n",
      "Model:                            OLS   Adj. R-squared:                  0.098\n",
      "Method:                 Least Squares   F-statistic:                     4031.\n",
      "Date:                Wed, 01 May 2019   Prob (F-statistic):               0.00\n",
      "Time:                        12:01:57   Log-Likelihood:            -1.8910e+05\n",
      "No. Observations:              159559   AIC:                         3.782e+05\n",
      "Df Residuals:                  159554   BIC:                         3.783e+05\n",
      "Df Model:                           4                                         \n",
      "Covariance Type:                  HC1                                         \n",
      "==============================================================================\n",
      "                 coef    std err          t      P>|t|      [0.025      0.975]\n",
      "------------------------------------------------------------------------------\n",
      "_cons          5.9292      0.008    728.509      0.000       5.913       5.945\n",
      "married        0.2833      0.004     68.324      0.000       0.275       0.291\n",
      "age            0.0081      0.000     48.228      0.000       0.008       0.008\n",
      "male           0.2889      0.004     72.460      0.000       0.281       0.297\n",
      "white          0.0415      0.005      8.381      0.000       0.032       0.051\n",
      "==============================================================================\n",
      "Omnibus:                    64783.967   Durbin-Watson:                   1.803\n",
      "Prob(Omnibus):                  0.000   Jarque-Bera (JB):           889048.051\n",
      "Skew:                          -1.579   Prob(JB):                         0.00\n",
      "Kurtosis:                      14.125   Cond. No.                         183.\n",
      "==============================================================================\n",
      "\n",
      "Warnings:\n",
      "[1] Standard Errors are heteroscedasticity robust (HC1)\n"
     ]
    }
   ],
   "source": [
    "simple_model = OLS(df['lgearnwke'], df[['_cons', 'married', 'age', \n",
    "                                        'male', 'white']])\n",
    "simple_results = simple_model.fit(cov_type='HC1', use_t=True)\n",
    "print(simple_results.summary())"
   ]
  },
  {
   "cell_type": "markdown",
   "metadata": {},
   "source": [
    "Putting all the controls together drastically reduces the coefficient of married. We can explicitly test the our hypothesis:\n",
    "\n",
    "$$ H_0 : married = 0 $$\n",
    "$$ H_1 : married \\neq 0 $$"
   ]
  },
  {
   "cell_type": "code",
   "execution_count": 26,
   "metadata": {},
   "outputs": [
    {
     "name": "stdout",
     "output_type": "stream",
     "text": [
      "                             Test for Constraints                             \n",
      "==============================================================================\n",
      "                 coef    std err          t      P>|t|      [0.025      0.975]\n",
      "------------------------------------------------------------------------------\n",
      "c0             0.2833      0.004     68.324      0.000       0.275       0.291\n",
      "==============================================================================\n"
     ]
    }
   ],
   "source": [
    "married_t_test = simple_results.t_test('married = 0')\n",
    "print(married_t_test.summary())"
   ]
  },
  {
   "cell_type": "markdown",
   "metadata": {},
   "source": [
    "From this $t$-test, we can see the $p$-value is equal to zero or, equivalently, that the confidence interval does not include zero. Thus, it is safe to reject the null that marriage has no effect on weekly wages. From the coefficient, and individual who is married makes approximately 28\\% more on average than an individual who is not married."
   ]
  },
  {
   "cell_type": "markdown",
   "metadata": {},
   "source": [
    "Instead of controlling for omitted variables, we can try running two-stage least squares using the instrumental variable for the presence of children.\n",
    "\n",
    "First we test for relevance by regressing married on children."
   ]
  },
  {
   "cell_type": "code",
   "execution_count": 27,
   "metadata": {},
   "outputs": [
    {
     "name": "stdout",
     "output_type": "stream",
     "text": [
      "                            OLS Regression Results                            \n",
      "==============================================================================\n",
      "Dep. Variable:                married   R-squared:                       0.112\n",
      "Model:                            OLS   Adj. R-squared:                  0.112\n",
      "Method:                 Least Squares   F-statistic:                 2.293e+04\n",
      "Date:                Wed, 01 May 2019   Prob (F-statistic):               0.00\n",
      "Time:                        12:01:57   Log-Likelihood:            -1.0574e+05\n",
      "No. Observations:              159559   AIC:                         2.115e+05\n",
      "Df Residuals:                  159557   BIC:                         2.115e+05\n",
      "Df Model:                           1                                         \n",
      "Covariance Type:                  HC1                                         \n",
      "==============================================================================\n",
      "                 coef    std err          t      P>|t|      [0.025      0.975]\n",
      "------------------------------------------------------------------------------\n",
      "_cons          0.4271      0.002    283.742      0.000       0.424       0.430\n",
      "children       0.3567      0.002    151.412      0.000       0.352       0.361\n",
      "==============================================================================\n",
      "Omnibus:                   874635.532   Durbin-Watson:                   1.556\n",
      "Prob(Omnibus):                  0.000   Jarque-Bera (JB):            15857.925\n",
      "Skew:                          -0.067   Prob(JB):                         0.00\n",
      "Kurtosis:                       1.461   Cond. No.                         2.42\n",
      "==============================================================================\n",
      "\n",
      "Warnings:\n",
      "[1] Standard Errors are heteroscedasticity robust (HC1)\n"
     ]
    }
   ],
   "source": [
    "simple_model = OLS(df['married'], df[['_cons', 'children']])\n",
    "simple_results = simple_model.fit(cov_type='HC1', use_t=True)\n",
    "print(simple_results.summary())"
   ]
  },
  {
   "cell_type": "markdown",
   "metadata": {},
   "source": [
    "Clearly the instrument is relevant. I could not think of an additional instrument, so I am just going to take the exclusion criteria on faith.\n",
    "\n",
    "Now we run two-stage least squares."
   ]
  },
  {
   "cell_type": "code",
   "execution_count": 28,
   "metadata": {},
   "outputs": [
    {
     "name": "stdout",
     "output_type": "stream",
     "text": [
      "                          IV-2SLS Estimation Summary                          \n",
      "==============================================================================\n",
      "Dep. Variable:              lgearnwke   R-squared:                      0.0316\n",
      "Estimator:                    IV-2SLS   Adj. R-squared:                 0.0316\n",
      "No. Observations:              159559   F-statistic:                    2688.7\n",
      "Date:                Wed, May 01 2019   P-value (F-stat)                0.0000\n",
      "Time:                        12:01:58   Distribution:                  chi2(1)\n",
      "Cov. Estimator:                robust                                         \n",
      "                                                                              \n",
      "                             Parameter Estimates                              \n",
      "==============================================================================\n",
      "            Parameter  Std. Err.     T-stat    P-value    Lower CI    Upper CI\n",
      "------------------------------------------------------------------------------\n",
      "_cons          6.2742     0.0069     905.53     0.0000      6.2606      6.2878\n",
      "married        0.6088     0.0117     51.852     0.0000      0.5858      0.6318\n",
      "==============================================================================\n",
      "\n",
      "Endogenous: married\n",
      "Instruments: children\n",
      "Robust Covariance (Heteroskedastic)\n",
      "Debiased: False\n"
     ]
    }
   ],
   "source": [
    "iv2sls_model = IV2SLS(df['lgearnwke'], df['_cons'], df['married'], \n",
    "                      df['children'])\n",
    "iv2sls_results = iv2sls_model.fit(cov_type='robust')\n",
    "print(iv2sls_results.summary)"
   ]
  },
  {
   "cell_type": "markdown",
   "metadata": {},
   "source": [
    "Interestingly, it appears that using children as an instrument increases the coefficient of married on weekly earnings (and it remains statistically significant). Since this contradicts the logical assumption that marriage has no direct effect on earnings, I would likely figure that the presence of children does not satisfy the exclusion criterion for the reasons outlined in Part A. If I could come up with another instrument, I would try testing this condition.\n",
    "\n",
    "(Note: After regression yielded unsuspected results, I did a little research and found the paper \"Marriage and Earnings\" by Cornwell and Rupert. They identified the same coefficient as the simple model when not controlling for other factors (37\\%). They also conjectured that there is a likely confounding variable of years of marriage amongst other factors. They were able to reduce the coefficient to zero by controlling for various factors and using instruments: number of siblings and years of education of the father.)"
   ]
  }
 ],
 "metadata": {
  "kernelspec": {
   "display_name": "Python 3",
   "language": "python",
   "name": "python3"
  },
  "language_info": {
   "codemirror_mode": {
    "name": "ipython",
    "version": 3
   },
   "file_extension": ".py",
   "mimetype": "text/x-python",
   "name": "python",
   "nbconvert_exporter": "python",
   "pygments_lexer": "ipython3",
   "version": "3.6.7"
  }
 },
 "nbformat": 4,
 "nbformat_minor": 2
}
