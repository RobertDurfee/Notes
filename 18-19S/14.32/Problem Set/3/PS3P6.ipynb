{
 "cells": [
  {
   "cell_type": "code",
   "execution_count": 1,
   "metadata": {},
   "outputs": [],
   "source": [
    "import numpy as np\n",
    "from statsmodels.regression.linear_model import OLS\n",
    "from statsmodels.stats.diagnostic import het_breuschpagan\n",
    "from statsmodels.tools import add_constant\n",
    "import scipy as sp\n",
    "import pandas as pd"
   ]
  },
  {
   "cell_type": "markdown",
   "metadata": {},
   "source": [
    "# 14.32 Problem Set 3\n",
    "\n",
    "## Computational Exercise\n",
    "\n",
    "Loading the data from the Excel document."
   ]
  },
  {
   "cell_type": "code",
   "execution_count": 2,
   "metadata": {},
   "outputs": [],
   "source": [
    "df = pd.read_excel(\"housingprices.xls\")"
   ]
  },
  {
   "cell_type": "markdown",
   "metadata": {},
   "source": [
    "We add a constant column to run OLS with a constant."
   ]
  },
  {
   "cell_type": "code",
   "execution_count": 3,
   "metadata": {},
   "outputs": [],
   "source": [
    "df['_cons'] = 1"
   ]
  },
  {
   "cell_type": "markdown",
   "metadata": {},
   "source": [
    "### Problem 1\n",
    "\n",
    "Here we run an ordinary least squares regression of $price$ on $crime$, $nox$, $dist$, $radial$, and $proptax$."
   ]
  },
  {
   "cell_type": "code",
   "execution_count": 4,
   "metadata": {},
   "outputs": [
    {
     "name": "stdout",
     "output_type": "stream",
     "text": [
      "                            OLS Regression Results                            \n",
      "==============================================================================\n",
      "Dep. Variable:                  price   R-squared:                       0.305\n",
      "Model:                            OLS   Adj. R-squared:                  0.298\n",
      "Method:                 Least Squares   F-statistic:                     43.80\n",
      "Date:                Fri, 15 Mar 2019   Prob (F-statistic):           1.84e-37\n",
      "Time:                        03:03:02   Log-Likelihood:                -5244.3\n",
      "No. Observations:                 506   AIC:                         1.050e+04\n",
      "Df Residuals:                     500   BIC:                         1.053e+04\n",
      "Df Model:                           5                                         \n",
      "Covariance Type:            nonrobust                                         \n",
      "==============================================================================\n",
      "                 coef    std err          t      P>|t|      [0.025      0.975]\n",
      "------------------------------------------------------------------------------\n",
      "_cons         5.2e+04   3517.287     14.784      0.000    4.51e+04    5.89e+04\n",
      "crime       -253.4456     51.529     -4.919      0.000    -354.685    -152.207\n",
      "nox        -2914.9162    527.912     -5.522      0.000   -3952.115   -1877.717\n",
      "dist       -1008.8736    256.857     -3.928      0.000   -1513.525    -504.222\n",
      "radial       406.7316     99.279      4.097      0.000     211.675     601.788\n",
      "proptax     -304.9389     52.331     -5.827      0.000    -407.754    -202.123\n",
      "==============================================================================\n",
      "Omnibus:                      170.424   Durbin-Watson:                   0.737\n",
      "Prob(Omnibus):                  0.000   Jarque-Bera (JB):              473.341\n",
      "Skew:                           1.656   Prob(JB):                    1.64e-103\n",
      "Kurtosis:                       6.388   Cond. No.                         481.\n",
      "==============================================================================\n",
      "\n",
      "Warnings:\n",
      "[1] Standard Errors assume that the covariance matrix of the errors is correctly specified.\n"
     ]
    }
   ],
   "source": [
    "p1_res = OLS(df['price'], df[['_cons', 'crime', 'nox', 'dist', 'radial', 'proptax']]).fit()\n",
    "print(p1_res.summary())"
   ]
  },
  {
   "cell_type": "markdown",
   "metadata": {},
   "source": [
    "From this regression, the $R^2$ value is $0.305$."
   ]
  },
  {
   "cell_type": "code",
   "execution_count": 5,
   "metadata": {},
   "outputs": [
    {
     "data": {
      "text/plain": [
       "0.3046098301139186"
      ]
     },
     "execution_count": 5,
     "metadata": {},
     "output_type": "execute_result"
    }
   ],
   "source": [
    "p1_res.rsquared"
   ]
  },
  {
   "cell_type": "markdown",
   "metadata": {},
   "source": [
    "For my own peace of mind, I compute the estimator by hand."
   ]
  },
  {
   "cell_type": "code",
   "execution_count": 6,
   "metadata": {},
   "outputs": [],
   "source": [
    "X = df[['_cons', 'crime', 'nox', 'dist', 'radial', 'proptax']].values\n",
    "Y = df['price'].values.reshape(-1, 1)"
   ]
  },
  {
   "cell_type": "code",
   "execution_count": 7,
   "metadata": {},
   "outputs": [
    {
     "data": {
      "text/plain": [
       "array([[51998.11457491],\n",
       "       [ -253.44560808],\n",
       "       [-2914.91619368],\n",
       "       [-1008.87358186],\n",
       "       [  406.73164601],\n",
       "       [ -304.93889934]])"
      ]
     },
     "execution_count": 7,
     "metadata": {},
     "output_type": "execute_result"
    }
   ],
   "source": [
    "beta_hat = np.linalg.solve(X.T @ X, X.T @ Y)\n",
    "beta_hat"
   ]
  },
  {
   "cell_type": "markdown",
   "metadata": {},
   "source": [
    "I also compute the standard errors by hand."
   ]
  },
  {
   "cell_type": "code",
   "execution_count": 8,
   "metadata": {},
   "outputs": [
    {
     "data": {
      "text/plain": [
       "array([[3517.2866418 ],\n",
       "       [  51.52851133],\n",
       "       [ 527.91177856],\n",
       "       [ 256.85684351],\n",
       "       [  99.27946592],\n",
       "       [  52.3308545 ]])"
      ]
     },
     "execution_count": 8,
     "metadata": {},
     "output_type": "execute_result"
    }
   ],
   "source": [
    "SSR = np.sum((Y - X @ beta_hat) ** 2)\n",
    "sigma_hat = np.sqrt(SSR / (len(df) - 6))\n",
    "se = np.sqrt(np.diag(sigma_hat ** 2 * np.linalg.inv(X.T @ X)))[:, np.newaxis]\n",
    "se"
   ]
  },
  {
   "cell_type": "markdown",
   "metadata": {},
   "source": [
    "### Problem 2\n",
    "\n",
    "Now we can run the Breusch-Pagan test for heteroskedasticity."
   ]
  },
  {
   "cell_type": "code",
   "execution_count": 9,
   "metadata": {},
   "outputs": [],
   "source": [
    "p2a_res = het_breuschpagan(p1_res.resid, df[['_cons', 'crime', 'nox', 'dist', 'radial', 'proptax']])"
   ]
  },
  {
   "cell_type": "markdown",
   "metadata": {},
   "source": [
    "From this test, we can observe the $F$-statistic's $p$-value."
   ]
  },
  {
   "cell_type": "code",
   "execution_count": 10,
   "metadata": {},
   "outputs": [
    {
     "data": {
      "text/plain": [
       "0.011432859124892414"
      ]
     },
     "execution_count": 10,
     "metadata": {},
     "output_type": "execute_result"
    }
   ],
   "source": [
    "lm, lm_pval, fval, f_pval = p2a_res\n",
    "f_pval"
   ]
  },
  {
   "cell_type": "markdown",
   "metadata": {},
   "source": [
    "Since this is less than $\\alpha = 0.05$, we reject the null hypothesis that there is no heteroskedasticity. Now we can re-run ordinary least squares with White's heteroskedastic robust standard errors."
   ]
  },
  {
   "cell_type": "code",
   "execution_count": 11,
   "metadata": {},
   "outputs": [
    {
     "name": "stdout",
     "output_type": "stream",
     "text": [
      "                            OLS Regression Results                            \n",
      "==============================================================================\n",
      "Dep. Variable:                  price   R-squared:                       0.305\n",
      "Model:                            OLS   Adj. R-squared:                  0.298\n",
      "Method:                 Least Squares   F-statistic:                     57.86\n",
      "Date:                Fri, 15 Mar 2019   Prob (F-statistic):           1.82e-47\n",
      "Time:                        03:03:02   Log-Likelihood:                -5244.3\n",
      "No. Observations:                 506   AIC:                         1.050e+04\n",
      "Df Residuals:                     500   BIC:                         1.053e+04\n",
      "Df Model:                           5                                         \n",
      "Covariance Type:                  HC1                                         \n",
      "==============================================================================\n",
      "                 coef    std err          t      P>|t|      [0.025      0.975]\n",
      "------------------------------------------------------------------------------\n",
      "_cons         5.2e+04   3048.103     17.059      0.000     4.6e+04     5.8e+04\n",
      "crime       -253.4456     54.659     -4.637      0.000    -360.836    -146.055\n",
      "nox        -2914.9162    426.051     -6.842      0.000   -3751.987   -2077.846\n",
      "dist       -1008.8736    239.082     -4.220      0.000   -1478.602    -539.145\n",
      "radial       406.7316     92.860      4.380      0.000     224.287     589.176\n",
      "proptax     -304.9389     50.033     -6.095      0.000    -403.239    -206.639\n",
      "==============================================================================\n",
      "Omnibus:                      170.424   Durbin-Watson:                   0.737\n",
      "Prob(Omnibus):                  0.000   Jarque-Bera (JB):              473.341\n",
      "Skew:                           1.656   Prob(JB):                    1.64e-103\n",
      "Kurtosis:                       6.388   Cond. No.                         481.\n",
      "==============================================================================\n",
      "\n",
      "Warnings:\n",
      "[1] Standard Errors are heteroscedasticity robust (HC1)\n"
     ]
    }
   ],
   "source": [
    "p2b_res = OLS(df['price'], df[['_cons', 'crime', 'nox', 'dist', 'radial', 'proptax']]).fit(cov_type='HC1', use_t=True)\n",
    "print(p2b_res.summary())"
   ]
  },
  {
   "cell_type": "markdown",
   "metadata": {},
   "source": [
    "It is important to note that the estimates have not changed, only the standard errors. In particular, all but one of the standard errors went *down*."
   ]
  },
  {
   "cell_type": "markdown",
   "metadata": {},
   "source": [
    "Once again, I compute the White heteroskedasticity-robust standard errors by hand to confirm the results."
   ]
  },
  {
   "cell_type": "code",
   "execution_count": 12,
   "metadata": {},
   "outputs": [
    {
     "data": {
      "text/plain": [
       "array([[3029.9769754 ],\n",
       "       [  54.33429643],\n",
       "       [ 423.51735529],\n",
       "       [ 237.65981767],\n",
       "       [  92.30803164],\n",
       "       [  49.73499428]])"
      ]
     },
     "execution_count": 12,
     "metadata": {},
     "output_type": "execute_result"
    }
   ],
   "source": [
    "Sigma_hat = np.diag(((Y - X @ beta_hat) ** 2).reshape(-1))\n",
    "se = np.sqrt(np.diag(np.linalg.inv(X.T @ X) @ (X.T @ Sigma_hat @ X) @ np.linalg.inv(X.T @ X)))[:, np.newaxis]\n",
    "se"
   ]
  },
  {
   "cell_type": "markdown",
   "metadata": {},
   "source": [
    "Note the slight differences between the results by hand and the results from `statsmodels`. This comes from the use of a different version of White's standard error formula. `'HC1'` refers to a newer version developed in 1985 and the formula we use in class is from 1980. If I use `'HC0'`, the results match the results done by hand."
   ]
  },
  {
   "cell_type": "markdown",
   "metadata": {},
   "source": [
    "## Problem 3"
   ]
  },
  {
   "cell_type": "markdown",
   "metadata": {},
   "source": [
    "\n",
    "We can run an $F$-test on the joint null hypothesis that neither $proptax$ nor $radial$ affects the price."
   ]
  },
  {
   "cell_type": "code",
   "execution_count": 13,
   "metadata": {},
   "outputs": [],
   "source": [
    "f_test = p2b_res.f_test('(proptax = 0), (radial = 0)')"
   ]
  },
  {
   "cell_type": "markdown",
   "metadata": {},
   "source": [
    "From this test, we can examine the $p$-value."
   ]
  },
  {
   "cell_type": "code",
   "execution_count": 14,
   "metadata": {},
   "outputs": [
    {
     "data": {
      "text/plain": [
       "1.5712984661012053e-08"
      ]
     },
     "execution_count": 14,
     "metadata": {},
     "output_type": "execute_result"
    }
   ],
   "source": [
    "np.asscalar(f_test.pvalue)"
   ]
  },
  {
   "cell_type": "markdown",
   "metadata": {},
   "source": [
    "Since the $p$-value is significantly less than $\\alpha = 0.05$, we can reject the null hypothesis the neither $proptax$ nor $radial$ affects the price jointly."
   ]
  },
  {
   "cell_type": "markdown",
   "metadata": {},
   "source": [
    "## Problem 4\n",
    "\n",
    "We first add a new column to the dataframe $lprice$."
   ]
  },
  {
   "cell_type": "code",
   "execution_count": 15,
   "metadata": {},
   "outputs": [],
   "source": [
    "df['lprice'] = np.log(df['price'])"
   ]
  },
  {
   "cell_type": "markdown",
   "metadata": {},
   "source": [
    "We can re-run the ordinary least squares on $lprice$. Since we discovered heteroskedasticity, we keep the robust standard errors."
   ]
  },
  {
   "cell_type": "code",
   "execution_count": 16,
   "metadata": {},
   "outputs": [
    {
     "name": "stdout",
     "output_type": "stream",
     "text": [
      "                            OLS Regression Results                            \n",
      "==============================================================================\n",
      "Dep. Variable:                 lprice   R-squared:                       0.436\n",
      "Model:                            OLS   Adj. R-squared:                  0.431\n",
      "Method:                 Least Squares   F-statistic:                     68.20\n",
      "Date:                Fri, 15 Mar 2019   Prob (F-statistic):           2.72e-54\n",
      "Time:                        03:03:02   Log-Likelihood:                -120.39\n",
      "No. Observations:                 506   AIC:                             252.8\n",
      "Df Residuals:                     500   BIC:                             278.1\n",
      "Df Model:                           5                                         \n",
      "Covariance Type:                  HC1                                         \n",
      "==============================================================================\n",
      "                 coef    std err          t      P>|t|      [0.025      0.975]\n",
      "------------------------------------------------------------------------------\n",
      "_cons         11.2021      0.119     94.308      0.000      10.969      11.435\n",
      "crime         -0.0170      0.004     -4.446      0.000      -0.025      -0.010\n",
      "nox           -0.1260      0.018     -6.845      0.000      -0.162      -0.090\n",
      "dist          -0.0343      0.009     -3.815      0.000      -0.052      -0.017\n",
      "radial         0.0170      0.005      3.773      0.000       0.008       0.026\n",
      "proptax       -0.0130      0.002     -5.689      0.000      -0.018      -0.009\n",
      "==============================================================================\n",
      "Omnibus:                       43.595   Durbin-Watson:                   0.748\n",
      "Prob(Omnibus):                  0.000   Jarque-Bera (JB):               63.130\n",
      "Skew:                           0.627   Prob(JB):                     1.96e-14\n",
      "Kurtosis:                       4.192   Cond. No.                         481.\n",
      "==============================================================================\n",
      "\n",
      "Warnings:\n",
      "[1] Standard Errors are heteroscedasticity robust (HC1)\n"
     ]
    }
   ],
   "source": [
    "p4_res = OLS(df['lprice'], df[['_cons', 'crime', 'nox', 'dist', 'radial', 'proptax']]).fit(cov_type='HC1', use_t=True)\n",
    "print(p4_res.summary())"
   ]
  },
  {
   "cell_type": "markdown",
   "metadata": {},
   "source": [
    "The $R^2$ value for this regression is $0.436$."
   ]
  },
  {
   "cell_type": "code",
   "execution_count": 17,
   "metadata": {},
   "outputs": [
    {
     "data": {
      "text/plain": [
       "0.43628441740062684"
      ]
     },
     "execution_count": 17,
     "metadata": {},
     "output_type": "execute_result"
    }
   ],
   "source": [
    "p4_res.rsquared"
   ]
  },
  {
   "cell_type": "markdown",
   "metadata": {},
   "source": [
    "Since this has a higher $R^2$ value, this model has a better fit."
   ]
  }
 ],
 "metadata": {
  "kernelspec": {
   "display_name": "Python 3",
   "language": "python",
   "name": "python3"
  },
  "language_info": {
   "codemirror_mode": {
    "name": "ipython",
    "version": 3
   },
   "file_extension": ".py",
   "mimetype": "text/x-python",
   "name": "python",
   "nbconvert_exporter": "python",
   "pygments_lexer": "ipython3",
   "version": "3.6.7"
  }
 },
 "nbformat": 4,
 "nbformat_minor": 2
}
