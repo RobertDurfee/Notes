{
 "cells": [
  {
   "cell_type": "code",
   "execution_count": 1,
   "metadata": {},
   "outputs": [],
   "source": [
    "import pandas as pd\n",
    "import numpy as np\n",
    "import statsmodels.api as sm"
   ]
  },
  {
   "cell_type": "markdown",
   "metadata": {},
   "source": [
    "# 14.32 Problem Set 6\n",
    "\n",
    "## Problem 4\n",
    "\n",
    "### Part A\n",
    "\n",
    "First we load the Wooldridge smoking dataset from Boston College."
   ]
  },
  {
   "cell_type": "code",
   "execution_count": 2,
   "metadata": {},
   "outputs": [],
   "source": [
    "df = pd.read_stata('smoke.dta')"
   ]
  },
  {
   "cell_type": "markdown",
   "metadata": {},
   "source": [
    "We add a constant column to run regression with a constant later on."
   ]
  },
  {
   "cell_type": "code",
   "execution_count": 3,
   "metadata": {},
   "outputs": [],
   "source": [
    "df['_cons'] = 1"
   ]
  },
  {
   "cell_type": "markdown",
   "metadata": {},
   "source": [
    "Next, we create a binary dependent variable for smoking at least one cigarette per day."
   ]
  },
  {
   "cell_type": "code",
   "execution_count": 4,
   "metadata": {},
   "outputs": [],
   "source": [
    "df['smoke'] = (df['cigs'] > 0).astype(np.float32)"
   ]
  },
  {
   "cell_type": "markdown",
   "metadata": {},
   "source": [
    "Using this dependent variable, we can run probit regression analysis."
   ]
  },
  {
   "cell_type": "code",
   "execution_count": 5,
   "metadata": {},
   "outputs": [
    {
     "name": "stdout",
     "output_type": "stream",
     "text": [
      "Optimization terminated successfully.\n",
      "         Current function value: 0.636103\n",
      "         Iterations 5\n",
      "                          Probit Regression Results                           \n",
      "==============================================================================\n",
      "Dep. Variable:                  smoke   No. Observations:                  807\n",
      "Model:                         Probit   Df Residuals:                      801\n",
      "Method:                           MLE   Df Model:                            5\n",
      "Date:                Thu, 09 May 2019   Pseudo R-squ.:                 0.04497\n",
      "Time:                        15:56:06   Log-Likelihood:                -513.33\n",
      "converged:                       True   LL-Null:                       -537.51\n",
      "                                        LLR p-value:                 3.026e-09\n",
      "==============================================================================\n",
      "                 coef    std err          z      P>|z|      [0.025      0.975]\n",
      "------------------------------------------------------------------------------\n",
      "_cons         -0.0029      0.840     -0.003      0.997      -1.649       1.644\n",
      "cigpric       -0.0066      0.010     -0.681      0.496      -0.025       0.012\n",
      "age            0.0626      0.017      3.783      0.000       0.030       0.095\n",
      "agesq         -0.0008      0.000     -4.410      0.000      -0.001      -0.000\n",
      "lincome        0.0184      0.070      0.263      0.792      -0.119       0.156\n",
      "educ          -0.0843      0.017     -5.026      0.000      -0.117      -0.051\n",
      "==============================================================================\n"
     ]
    }
   ],
   "source": [
    "probit_model = sm.Probit(df['smoke'], df[['_cons', 'cigpric', 'age', \n",
    "                                          'agesq', 'lincome', 'educ']])\n",
    "probit_results = probit_model.fit()\n",
    "print(probit_results.summary())"
   ]
  },
  {
   "cell_type": "markdown",
   "metadata": {},
   "source": [
    "These coefficients are difficult to interpret. Therefore, we consider the marginal effects of the variables."
   ]
  },
  {
   "cell_type": "code",
   "execution_count": 6,
   "metadata": {},
   "outputs": [
    {
     "name": "stdout",
     "output_type": "stream",
     "text": [
      "       Probit Marginal Effects       \n",
      "=====================================\n",
      "Dep. Variable:                  smoke\n",
      "Method:                          dydx\n",
      "At:                           overall\n",
      "==============================================================================\n",
      "                dy/dx    std err          z      P>|z|      [0.025      0.975]\n",
      "------------------------------------------------------------------------------\n",
      "cigpric       -0.0024      0.004     -0.681      0.496      -0.009       0.004\n",
      "age            0.0228      0.006      3.879      0.000       0.011       0.034\n",
      "agesq         -0.0003   6.52e-05     -4.563      0.000      -0.000      -0.000\n",
      "lincome        0.0067      0.025      0.263      0.792      -0.043       0.057\n",
      "educ          -0.0306      0.006     -5.281      0.000      -0.042      -0.019\n",
      "==============================================================================\n"
     ]
    }
   ],
   "source": [
    "probit_marg = probit_results.get_margeff()\n",
    "print(probit_marg.summary())"
   ]
  },
  {
   "cell_type": "markdown",
   "metadata": {},
   "source": [
    "We can repeat the same process for logit regression analysis."
   ]
  },
  {
   "cell_type": "code",
   "execution_count": 7,
   "metadata": {},
   "outputs": [
    {
     "name": "stdout",
     "output_type": "stream",
     "text": [
      "Optimization terminated successfully.\n",
      "         Current function value: 0.636258\n",
      "         Iterations 6\n",
      "                           Logit Regression Results                           \n",
      "==============================================================================\n",
      "Dep. Variable:                  smoke   No. Observations:                  807\n",
      "Model:                          Logit   Df Residuals:                      801\n",
      "Method:                           MLE   Df Model:                            5\n",
      "Date:                Thu, 09 May 2019   Pseudo R-squ.:                 0.04474\n",
      "Time:                        15:56:06   Log-Likelihood:                -513.46\n",
      "converged:                       True   LL-Null:                       -537.51\n",
      "                                        LLR p-value:                 3.403e-09\n",
      "==============================================================================\n",
      "                 coef    std err          z      P>|z|      [0.025      0.975]\n",
      "------------------------------------------------------------------------------\n",
      "_cons         -0.0294      1.370     -0.021      0.983      -2.715       2.656\n",
      "cigpric       -0.0109      0.016     -0.689      0.491      -0.042       0.020\n",
      "age            0.1049      0.028      3.749      0.000       0.050       0.160\n",
      "agesq         -0.0014      0.000     -4.311      0.000      -0.002      -0.001\n",
      "lincome        0.0280      0.115      0.244      0.807      -0.197       0.253\n",
      "educ          -0.1362      0.028     -4.917      0.000      -0.191      -0.082\n",
      "==============================================================================\n"
     ]
    }
   ],
   "source": [
    "logit_model = sm.Logit(df['smoke'], df[['_cons', 'cigpric', 'age', \n",
    "                                        'agesq', 'lincome', 'educ']])\n",
    "logit_results = logit_model.fit()\n",
    "print(logit_results.summary())"
   ]
  },
  {
   "cell_type": "markdown",
   "metadata": {},
   "source": [
    "Once again, we consider the marginal effects of the variables."
   ]
  },
  {
   "cell_type": "code",
   "execution_count": 8,
   "metadata": {},
   "outputs": [
    {
     "name": "stdout",
     "output_type": "stream",
     "text": [
      "        Logit Marginal Effects       \n",
      "=====================================\n",
      "Dep. Variable:                  smoke\n",
      "Method:                          dydx\n",
      "At:                           overall\n",
      "==============================================================================\n",
      "                dy/dx    std err          z      P>|z|      [0.025      0.975]\n",
      "------------------------------------------------------------------------------\n",
      "cigpric       -0.0024      0.004     -0.689      0.491      -0.009       0.004\n",
      "age            0.0234      0.006      3.866      0.000       0.012       0.035\n",
      "agesq         -0.0003   6.82e-05     -4.491      0.000      -0.000      -0.000\n",
      "lincome        0.0063      0.026      0.244      0.807      -0.044       0.056\n",
      "educ          -0.0304      0.006     -5.211      0.000      -0.042      -0.019\n",
      "==============================================================================\n"
     ]
    }
   ],
   "source": [
    "logit_marg = logit_results.get_margeff()\n",
    "print(logit_marg.summary())"
   ]
  },
  {
   "cell_type": "markdown",
   "metadata": {},
   "source": [
    "We can also run OLS and compare the results."
   ]
  },
  {
   "cell_type": "code",
   "execution_count": 9,
   "metadata": {},
   "outputs": [
    {
     "name": "stdout",
     "output_type": "stream",
     "text": [
      "                            OLS Regression Results                            \n",
      "==============================================================================\n",
      "Dep. Variable:                  smoke   R-squared:                       0.054\n",
      "Model:                            OLS   Adj. R-squared:                  0.048\n",
      "Method:                 Least Squares   F-statistic:                     12.50\n",
      "Date:                Thu, 09 May 2019   Prob (F-statistic):           1.07e-11\n",
      "Time:                        15:56:06   Log-Likelihood:                -540.96\n",
      "No. Observations:                 807   AIC:                             1094.\n",
      "Df Residuals:                     801   BIC:                             1122.\n",
      "Df Model:                           5                                         \n",
      "Covariance Type:                  HC1                                         \n",
      "==============================================================================\n",
      "                 coef    std err          t      P>|t|      [0.025      0.975]\n",
      "------------------------------------------------------------------------------\n",
      "_cons          0.4995      0.302      1.652      0.099      -0.094       1.093\n",
      "cigpric       -0.0023      0.004     -0.626      0.532      -0.009       0.005\n",
      "age            0.0200      0.005      3.643      0.000       0.009       0.031\n",
      "agesq         -0.0003    5.8e-05     -4.494      0.000      -0.000      -0.000\n",
      "lincome        0.0083      0.026      0.317      0.751      -0.043       0.060\n",
      "educ          -0.0293      0.006     -5.195      0.000      -0.040      -0.018\n",
      "==============================================================================\n",
      "Omnibus:                     4358.097   Durbin-Watson:                   2.105\n",
      "Prob(Omnibus):                  0.000   Jarque-Bera (JB):              113.124\n",
      "Skew:                           0.406   Prob(JB):                     2.73e-25\n",
      "Kurtosis:                       1.355   Cond. No.                     4.65e+04\n",
      "==============================================================================\n",
      "\n",
      "Warnings:\n",
      "[1] Standard Errors are heteroscedasticity robust (HC1)\n",
      "[2] The condition number is large, 4.65e+04. This might indicate that there are\n",
      "strong multicollinearity or other numerical problems.\n"
     ]
    }
   ],
   "source": [
    "ols_model = sm.OLS(df['smoke'], df[['_cons', 'cigpric', 'age', 'agesq', \n",
    "                                    'lincome', 'educ']])\n",
    "ols_results = ols_model.fit(cov_type='HC1', use_t=True)\n",
    "print(ols_results.summary())"
   ]
  },
  {
   "cell_type": "markdown",
   "metadata": {},
   "source": [
    "### Part B\n",
    "\n",
    "We can compare the coefficients between the probit and logit regressions. Printed below again for convenience:"
   ]
  },
  {
   "cell_type": "code",
   "execution_count": 10,
   "metadata": {},
   "outputs": [
    {
     "name": "stdout",
     "output_type": "stream",
     "text": [
      "_cons     -0.002851\n",
      "cigpric   -0.006570\n",
      "age        0.062623\n",
      "agesq     -0.000818\n",
      "lincome    0.018448\n",
      "educ      -0.084260\n",
      "dtype: float64\n"
     ]
    }
   ],
   "source": [
    "print(probit_results.params)"
   ]
  },
  {
   "cell_type": "code",
   "execution_count": 11,
   "metadata": {},
   "outputs": [
    {
     "name": "stdout",
     "output_type": "stream",
     "text": [
      "_cons     -0.029363\n",
      "cigpric   -0.010861\n",
      "age        0.104903\n",
      "agesq     -0.001371\n",
      "lincome    0.027996\n",
      "educ      -0.136240\n",
      "dtype: float64\n"
     ]
    }
   ],
   "source": [
    "print(logit_results.params)"
   ]
  },
  {
   "cell_type": "markdown",
   "metadata": {},
   "source": [
    "Clearly, these values are quite different. This is expected as the the link function between the two regressions is considerably different numerically (although they achieve similar effects)."
   ]
  },
  {
   "cell_type": "markdown",
   "metadata": {},
   "source": [
    "### Part C\n",
    "\n",
    "Can can also consider the marginal effects of the three models. Printed below again for convenience:"
   ]
  },
  {
   "cell_type": "code",
   "execution_count": 12,
   "metadata": {},
   "outputs": [
    {
     "name": "stdout",
     "output_type": "stream",
     "text": [
      "cigpric\t-0.0023888482409308355\n",
      "age\t0.022769849064765608\n",
      "agesq\t-0.00029756022601105996\n",
      "lincome\t0.006707633681726004\n",
      "educ\t-0.030637071481779486\n"
     ]
    }
   ],
   "source": [
    "for p, m in zip(['cigpric', 'age', 'agesq', 'lincome', 'educ'], \n",
    "                probit_marg.margeff):\n",
    "    print(f\"{p}\\t{m}\")"
   ]
  },
  {
   "cell_type": "code",
   "execution_count": 13,
   "metadata": {},
   "outputs": [
    {
     "name": "stdout",
     "output_type": "stream",
     "text": [
      "cigpric\t-0.002425635732371646\n",
      "age\t0.023428323130750477\n",
      "agesq\t-0.0003062247647835375\n",
      "lincome\t0.006252407079763507\n",
      "educ\t-0.03042690694491135\n"
     ]
    }
   ],
   "source": [
    "for p, m in zip(['cigpric', 'age', 'agesq', 'lincome', 'educ'], \n",
    "                logit_marg.margeff):\n",
    "    print(f\"{p}\\t{m}\")"
   ]
  },
  {
   "cell_type": "code",
   "execution_count": 14,
   "metadata": {},
   "outputs": [
    {
     "name": "stdout",
     "output_type": "stream",
     "text": [
      "_cons      0.499525\n",
      "cigpric   -0.002256\n",
      "age        0.019985\n",
      "agesq     -0.000261\n",
      "lincome    0.008319\n",
      "educ      -0.029317\n",
      "dtype: float64\n"
     ]
    }
   ],
   "source": [
    "print(ols_results.params)"
   ]
  },
  {
   "cell_type": "markdown",
   "metadata": {},
   "source": [
    "Between the two non-linear models probit and logit, the marginal effects are very similar. This is due to similarity of the models. Both use the same basic idea to apply regression, they only have different link functions (although they basically achieve the same thing).\n",
    "\n",
    "On the other hand, the OLS model has slightly different marginal effects. This is because the model will not restrict the predictions to the range $(0, 1)$ like the other models. Nonetheless, the same approximate effects will be accounted for by the OLS model as they model the same data."
   ]
  }
 ],
 "metadata": {
  "kernelspec": {
   "display_name": "Python 3",
   "language": "python",
   "name": "python3"
  },
  "language_info": {
   "codemirror_mode": {
    "name": "ipython",
    "version": 3
   },
   "file_extension": ".py",
   "mimetype": "text/x-python",
   "name": "python",
   "nbconvert_exporter": "python",
   "pygments_lexer": "ipython3",
   "version": "3.6.7"
  }
 },
 "nbformat": 4,
 "nbformat_minor": 2
}
