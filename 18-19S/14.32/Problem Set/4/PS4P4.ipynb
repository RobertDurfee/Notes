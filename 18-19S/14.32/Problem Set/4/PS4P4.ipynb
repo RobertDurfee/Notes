{
 "cells": [
  {
   "cell_type": "code",
   "execution_count": 1,
   "metadata": {},
   "outputs": [],
   "source": [
    "import pandas as pd\n",
    "from statsmodels.regression.linear_model import OLS\n",
    "from linearmodels.iv import IV2SLS\n",
    "import numpy as np"
   ]
  },
  {
   "cell_type": "markdown",
   "metadata": {},
   "source": [
    "# 14.32 Problem Set 4\n",
    "\n",
    "## Problem 4\n",
    "\n",
    "Loading the data from the whitespace-separated Angrist and Krueger data file."
   ]
  },
  {
   "cell_type": "code",
   "execution_count": 2,
   "metadata": {},
   "outputs": [],
   "source": [
    "df = pd.read_csv('asciiqob.txt', sep='\\s+', names=['lwklywge', 'educ', \n",
    "                                                   'yob', 'qob', 'pob'])"
   ]
  },
  {
   "cell_type": "markdown",
   "metadata": {},
   "source": [
    "We add a constant column to run OLS with a constant."
   ]
  },
  {
   "cell_type": "code",
   "execution_count": 3,
   "metadata": {},
   "outputs": [],
   "source": [
    "df['_cons'] = 1"
   ]
  },
  {
   "cell_type": "markdown",
   "metadata": {},
   "source": [
    "### Part A\n",
    "\n",
    "First we regress weekly wages on years of education naively. This will likely include some bias, but it will give us a basis on which to compare the instrumental variables coefficient. Note we are using heteroskedastic robust standard errors."
   ]
  },
  {
   "cell_type": "code",
   "execution_count": 4,
   "metadata": {},
   "outputs": [
    {
     "name": "stdout",
     "output_type": "stream",
     "text": [
      "                            OLS Regression Results                            \n",
      "==============================================================================\n",
      "Dep. Variable:               lwklywge   R-squared:                       0.117\n",
      "Model:                            OLS   Adj. R-squared:                  0.117\n",
      "Method:                 Least Squares   F-statistic:                 3.458e+04\n",
      "Date:                Thu, 11 Apr 2019   Prob (F-statistic):               0.00\n",
      "Time:                        20:29:00   Log-Likelihood:            -3.1935e+05\n",
      "No. Observations:              329509   AIC:                         6.387e+05\n",
      "Df Residuals:                  329507   BIC:                         6.387e+05\n",
      "Df Model:                           1                                         \n",
      "Covariance Type:                  HC1                                         \n",
      "==============================================================================\n",
      "                 coef    std err          t      P>|t|      [0.025      0.975]\n",
      "------------------------------------------------------------------------------\n",
      "_cons          4.9952      0.005    984.491      0.000       4.985       5.005\n",
      "educ           0.0709      0.000    185.949      0.000       0.070       0.072\n",
      "==============================================================================\n",
      "Omnibus:                   191064.440   Durbin-Watson:                   1.870\n",
      "Prob(Omnibus):                  0.000   Jarque-Bera (JB):          4082110.366\n",
      "Skew:                          -2.377   Prob(JB):                         0.00\n",
      "Kurtosis:                      19.575   Cond. No.                         53.3\n",
      "==============================================================================\n",
      "\n",
      "Warnings:\n",
      "[1] Standard Errors are heteroscedasticity robust (HC1)\n"
     ]
    }
   ],
   "source": [
    "naive_model = OLS(df['lwklywge'], df[['_cons', 'educ']])\n",
    "naive_res = naive_model.fit(cov_type='HC1', use_t=True)\n",
    "print(naive_res.summary())"
   ]
  },
  {
   "cell_type": "markdown",
   "metadata": {},
   "source": [
    "The coefficient of the effect of education on wages is,"
   ]
  },
  {
   "cell_type": "code",
   "execution_count": 5,
   "metadata": {},
   "outputs": [
    {
     "data": {
      "text/plain": [
       "0.07085103867008755"
      ]
     },
     "execution_count": 5,
     "metadata": {},
     "output_type": "execute_result"
    }
   ],
   "source": [
    "naive_res.params['educ']"
   ]
  },
  {
   "cell_type": "markdown",
   "metadata": {},
   "source": [
    "The heteroskedastic robust standard error of the coefficient is,"
   ]
  },
  {
   "cell_type": "code",
   "execution_count": 6,
   "metadata": {},
   "outputs": [
    {
     "data": {
      "text/plain": [
       "0.0003810233853165221"
      ]
     },
     "execution_count": 6,
     "metadata": {},
     "output_type": "execute_result"
    }
   ],
   "source": [
    "naive_res.HC1_se['educ']"
   ]
  },
  {
   "cell_type": "markdown",
   "metadata": {},
   "source": [
    "### Part B\n",
    "\n",
    "Refer to the attached writeup.\n",
    "\n",
    "### Part C\n",
    "\n",
    "Refer to the attached writeup.\n",
    "\n",
    "### Part D\n",
    "\n",
    "First, we can form the instrumental variable discussed in Part C. $z$ will be an indicator variable for if the person was born in the second half of the year."
   ]
  },
  {
   "cell_type": "code",
   "execution_count": 7,
   "metadata": {},
   "outputs": [],
   "source": [
    "df['z'] = (df['qob'] > 2).astype(np.int64)"
   ]
  },
  {
   "cell_type": "markdown",
   "metadata": {},
   "source": [
    "We can check if the relevance condition is satisfied by regressing years of schooling on $z$. Note we are still using heteroskedastic robust standard errors."
   ]
  },
  {
   "cell_type": "code",
   "execution_count": 8,
   "metadata": {},
   "outputs": [
    {
     "name": "stdout",
     "output_type": "stream",
     "text": [
      "                            OLS Regression Results                            \n",
      "==============================================================================\n",
      "Dep. Variable:                   educ   R-squared:                       0.000\n",
      "Model:                            OLS   Adj. R-squared:                  0.000\n",
      "Method:                 Least Squares   F-statistic:                     85.39\n",
      "Date:                Thu, 11 Apr 2019   Prob (F-statistic):           2.46e-20\n",
      "Time:                        20:29:00   Log-Likelihood:            -8.5904e+05\n",
      "No. Observations:              329509   AIC:                         1.718e+06\n",
      "Df Residuals:                  329507   BIC:                         1.718e+06\n",
      "Df Model:                           1                                         \n",
      "Covariance Type:                  HC1                                         \n",
      "==============================================================================\n",
      "                 coef    std err          t      P>|t|      [0.025      0.975]\n",
      "------------------------------------------------------------------------------\n",
      "_cons         12.7161      0.008   1540.925      0.000      12.700      12.732\n",
      "z              0.1057      0.011      9.241      0.000       0.083       0.128\n",
      "==============================================================================\n",
      "Omnibus:                     3321.343   Durbin-Watson:                   1.757\n",
      "Prob(Omnibus):                  0.000   Jarque-Bera (JB):             5427.718\n",
      "Skew:                          -0.062   Prob(JB):                         0.00\n",
      "Kurtosis:                       3.616   Cond. No.                         2.64\n",
      "==============================================================================\n",
      "\n",
      "Warnings:\n",
      "[1] Standard Errors are heteroscedasticity robust (HC1)\n"
     ]
    }
   ],
   "source": [
    "first_stage_model = OLS(df['educ'], df[['_cons', 'z']])\n",
    "first_stage_res = first_stage_model.fit(cov_type='HC1', use_t=True)\n",
    "print(first_stage_res.summary())"
   ]
  },
  {
   "cell_type": "markdown",
   "metadata": {},
   "source": [
    "The coefficient of the effect of $z$ on the years of education is,"
   ]
  },
  {
   "cell_type": "code",
   "execution_count": 9,
   "metadata": {},
   "outputs": [
    {
     "data": {
      "text/plain": [
       "0.10569066631425825"
      ]
     },
     "execution_count": 9,
     "metadata": {},
     "output_type": "execute_result"
    }
   ],
   "source": [
    "first_stage_res.params['z']"
   ]
  },
  {
   "cell_type": "markdown",
   "metadata": {},
   "source": [
    "The heteroskedastic robust standard error for the coefficient is,"
   ]
  },
  {
   "cell_type": "code",
   "execution_count": 10,
   "metadata": {},
   "outputs": [
    {
     "data": {
      "text/plain": [
       "0.011437457674739538"
      ]
     },
     "execution_count": 10,
     "metadata": {},
     "output_type": "execute_result"
    }
   ],
   "source": [
    "first_stage_res.HC1_se['z']"
   ]
  },
  {
   "cell_type": "markdown",
   "metadata": {},
   "source": [
    "From the $t$-statistic, we can confirm that the instrumental variable $z$ is relevant."
   ]
  },
  {
   "cell_type": "markdown",
   "metadata": {},
   "source": [
    "### Part E\n",
    "\n",
    "We next do the reduced regression of weekly wage on $z$. Note we still use heteroskedastic robust standard errors."
   ]
  },
  {
   "cell_type": "code",
   "execution_count": 11,
   "metadata": {},
   "outputs": [
    {
     "name": "stdout",
     "output_type": "stream",
     "text": [
      "                            OLS Regression Results                            \n",
      "==============================================================================\n",
      "Dep. Variable:               lwklywge   R-squared:                       0.000\n",
      "Model:                            OLS   Adj. R-squared:                  0.000\n",
      "Method:                 Least Squares   F-statistic:                     25.66\n",
      "Date:                Thu, 11 Apr 2019   Prob (F-statistic):           4.08e-07\n",
      "Time:                        20:29:00   Log-Likelihood:            -3.3989e+05\n",
      "No. Observations:              329509   AIC:                         6.798e+05\n",
      "Df Residuals:                  329507   BIC:                         6.798e+05\n",
      "Df Model:                           1                                         \n",
      "Covariance Type:                  HC1                                         \n",
      "==============================================================================\n",
      "                 coef    std err          t      P>|t|      [0.025      0.975]\n",
      "------------------------------------------------------------------------------\n",
      "_cons          5.8938      0.002   3470.536      0.000       5.891       5.897\n",
      "z              0.0120      0.002      5.065      0.000       0.007       0.017\n",
      "==============================================================================\n",
      "Omnibus:                   167172.535   Durbin-Watson:                   1.787\n",
      "Prob(Omnibus):                  0.000   Jarque-Bera (JB):          2698325.812\n",
      "Skew:                          -2.061   Prob(JB):                         0.00\n",
      "Kurtosis:                      16.399   Cond. No.                         2.64\n",
      "==============================================================================\n",
      "\n",
      "Warnings:\n",
      "[1] Standard Errors are heteroscedasticity robust (HC1)\n"
     ]
    }
   ],
   "source": [
    "reduced_model = OLS(df['lwklywge'], df[['_cons', 'z']])\n",
    "reduced_res = reduced_model.fit(cov_type='HC1', use_t=True)\n",
    "print(reduced_res.summary())"
   ]
  },
  {
   "cell_type": "markdown",
   "metadata": {},
   "source": [
    "The coefficient of the effect of $z$ on weekly wages is,"
   ]
  },
  {
   "cell_type": "code",
   "execution_count": 12,
   "metadata": {},
   "outputs": [
    {
     "data": {
      "text/plain": [
       "0.011984652902653358"
      ]
     },
     "execution_count": 12,
     "metadata": {},
     "output_type": "execute_result"
    }
   ],
   "source": [
    "reduced_res.params['z']"
   ]
  },
  {
   "cell_type": "markdown",
   "metadata": {},
   "source": [
    "The heteroskedastic standard error for the coefficient is,"
   ]
  },
  {
   "cell_type": "code",
   "execution_count": 13,
   "metadata": {},
   "outputs": [
    {
     "data": {
      "text/plain": [
       "0.002365942739518425"
      ]
     },
     "execution_count": 13,
     "metadata": {},
     "output_type": "execute_result"
    }
   ],
   "source": [
    "reduced_res.HC1_se['z']"
   ]
  },
  {
   "cell_type": "markdown",
   "metadata": {},
   "source": [
    "### Part F\n",
    "\n",
    "Using the reduced form coefficient and the first stage coefficient, we can form the indirect least squares estimate for the effect of education on weekly wages."
   ]
  },
  {
   "cell_type": "code",
   "execution_count": 14,
   "metadata": {},
   "outputs": [
    {
     "data": {
      "text/plain": [
       "0.1133936734490675"
      ]
     },
     "execution_count": 14,
     "metadata": {},
     "output_type": "execute_result"
    }
   ],
   "source": [
    "reduced_res.params['z'] / first_stage_res.params['z']"
   ]
  },
  {
   "cell_type": "markdown",
   "metadata": {},
   "source": [
    "### Part G\n",
    "\n",
    "We now do manual two-stage least squares by regressing weekly wage on the predicted years of schooling from the first stage regression.\n",
    "\n",
    "First we add the first-stage predictions to the data frame."
   ]
  },
  {
   "cell_type": "code",
   "execution_count": 15,
   "metadata": {},
   "outputs": [],
   "source": [
    "df['fst'] = first_stage_res.predict(df[['_cons', 'z']])"
   ]
  },
  {
   "cell_type": "markdown",
   "metadata": {},
   "source": [
    "Now we run the second stage regression."
   ]
  },
  {
   "cell_type": "code",
   "execution_count": 16,
   "metadata": {},
   "outputs": [
    {
     "name": "stdout",
     "output_type": "stream",
     "text": [
      "                            OLS Regression Results                            \n",
      "==============================================================================\n",
      "Dep. Variable:               lwklywge   R-squared:                       0.000\n",
      "Model:                            OLS   Adj. R-squared:                  0.000\n",
      "Method:                 Least Squares   F-statistic:                     25.66\n",
      "Date:                Thu, 11 Apr 2019   Prob (F-statistic):           4.08e-07\n",
      "Time:                        20:29:01   Log-Likelihood:            -3.3989e+05\n",
      "No. Observations:              329509   AIC:                         6.798e+05\n",
      "Df Residuals:                  329507   BIC:                         6.798e+05\n",
      "Df Model:                           1                                         \n",
      "Covariance Type:                  HC1                                         \n",
      "==============================================================================\n",
      "                 coef    std err          t      P>|t|      [0.025      0.975]\n",
      "------------------------------------------------------------------------------\n",
      "_cons          4.4519      0.286     15.573      0.000       3.892       5.012\n",
      "fst            0.1134      0.022      5.065      0.000       0.070       0.157\n",
      "==============================================================================\n",
      "Omnibus:                   167172.535   Durbin-Watson:                   1.787\n",
      "Prob(Omnibus):                  0.000   Jarque-Bera (JB):          2698325.812\n",
      "Skew:                          -2.061   Prob(JB):                         0.00\n",
      "Kurtosis:                      16.399   Cond. No.                     3.11e+03\n",
      "==============================================================================\n",
      "\n",
      "Warnings:\n",
      "[1] Standard Errors are heteroscedasticity robust (HC1)\n",
      "[2] The condition number is large, 3.11e+03. This might indicate that there are\n",
      "strong multicollinearity or other numerical problems.\n"
     ]
    }
   ],
   "source": [
    "second_stage_model = OLS(df['lwklywge'], df[['_cons', 'fst']])\n",
    "second_stage_res = second_stage_model.fit(cov_type='HC1', use_t=True)\n",
    "print(second_stage_res.summary())"
   ]
  },
  {
   "cell_type": "markdown",
   "metadata": {},
   "source": [
    "The manual two-stage regression estimate of the effect of education on weekly wage is,"
   ]
  },
  {
   "cell_type": "code",
   "execution_count": 17,
   "metadata": {},
   "outputs": [
    {
     "data": {
      "text/plain": [
       "0.11339367344969792"
      ]
     },
     "execution_count": 17,
     "metadata": {},
     "output_type": "execute_result"
    }
   ],
   "source": [
    "second_stage_res.params['fst']"
   ]
  },
  {
   "cell_type": "markdown",
   "metadata": {},
   "source": [
    "This is nearly identical to the estimate from Part F."
   ]
  },
  {
   "cell_type": "markdown",
   "metadata": {},
   "source": [
    "### Part H\n",
    "\n",
    "We can also run automatic two stage least squares regression to compare the results."
   ]
  },
  {
   "cell_type": "code",
   "execution_count": 18,
   "metadata": {},
   "outputs": [
    {
     "name": "stdout",
     "output_type": "stream",
     "text": [
      "                          IV-2SLS Estimation Summary                          \n",
      "==============================================================================\n",
      "Dep. Variable:               lwklywge   R-squared:                      0.0750\n",
      "Estimator:                    IV-2SLS   Adj. R-squared:                 0.0750\n",
      "No. Observations:              329509   F-statistic:                    27.737\n",
      "Date:                Thu, Apr 11 2019   P-value (F-stat)                0.0000\n",
      "Time:                        20:29:02   Distribution:                  chi2(1)\n",
      "Cov. Estimator:                robust                                         \n",
      "                                                                              \n",
      "                             Parameter Estimates                              \n",
      "==============================================================================\n",
      "            Parameter  Std. Err.     T-stat    P-value    Lower CI    Upper CI\n",
      "------------------------------------------------------------------------------\n",
      "_cons          4.4519     0.2750     16.191     0.0000      3.9130      4.9908\n",
      "educ           0.1134     0.0215     5.2666     0.0000      0.0712      0.1556\n",
      "==============================================================================\n",
      "\n",
      "Endogenous: educ\n",
      "Instruments: z\n",
      "Robust Covariance (Heteroskedastic)\n",
      "Debiased: False\n"
     ]
    }
   ],
   "source": [
    "auto_model = IV2SLS(df['lwklywge'], df['_cons'], df['educ'], df['z'])\n",
    "auto_res = auto_model.fit(cov_type='robust')\n",
    "print(auto_res.summary)"
   ]
  },
  {
   "cell_type": "markdown",
   "metadata": {},
   "source": [
    "The automatic two-stage regression estimate of the effect of education on weekly wage is,"
   ]
  },
  {
   "cell_type": "code",
   "execution_count": 19,
   "metadata": {},
   "outputs": [
    {
     "data": {
      "text/plain": [
       "0.11339367345135543"
      ]
     },
     "execution_count": 19,
     "metadata": {},
     "output_type": "execute_result"
    }
   ],
   "source": [
    "auto_res.params['educ']"
   ]
  },
  {
   "cell_type": "markdown",
   "metadata": {},
   "source": [
    "Once again, this is nearly identical to the estimate from the previous two parts."
   ]
  }
 ],
 "metadata": {
  "kernelspec": {
   "display_name": "Python 3",
   "language": "python",
   "name": "python3"
  },
  "language_info": {
   "codemirror_mode": {
    "name": "ipython",
    "version": 3
   },
   "file_extension": ".py",
   "mimetype": "text/x-python",
   "name": "python",
   "nbconvert_exporter": "python",
   "pygments_lexer": "ipython3",
   "version": "3.6.7"
  }
 },
 "nbformat": 4,
 "nbformat_minor": 2
}
