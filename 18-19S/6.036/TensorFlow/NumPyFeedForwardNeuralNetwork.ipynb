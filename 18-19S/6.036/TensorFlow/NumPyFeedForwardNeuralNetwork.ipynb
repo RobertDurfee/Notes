{
 "cells": [
  {
   "cell_type": "code",
   "execution_count": 1,
   "metadata": {},
   "outputs": [],
   "source": [
    "import numpy as np\n",
    "%matplotlib inline\n",
    "from matplotlib.colors import ListedColormap\n",
    "from matplotlib import pyplot as plt"
   ]
  },
  {
   "cell_type": "markdown",
   "metadata": {},
   "source": [
    "# NumPy Feed-Forward Neural Network\n",
    "\n",
    "This notebook walks through the process of constructing a feed-forward neural network for multi-class classification solely using NumPy.\n",
    "\n",
    "## Layers\n",
    "\n",
    "For our neural network, we want to abstract away from individual neurons and focus on layers. Each element of the network will be defined by a certain layer.\n",
    "\n",
    "### Base Layer\n",
    "\n",
    "This layer provides the virtual methods that each layer has to implement. If the layer doesn't implement the method, we default to one of these empty methods."
   ]
  },
  {
   "cell_type": "code",
   "execution_count": 2,
   "metadata": {},
   "outputs": [],
   "source": [
    "class Layer:\n",
    "    \"\"\"Abstract base layer for our neural network.\"\"\""
   ]
  },
  {
   "cell_type": "markdown",
   "metadata": {},
   "source": [
    "The `__init__` method sets up constant information about the layer that is necessary to build the graph later. Typically, only dimensions of input/output data is required."
   ]
  },
  {
   "cell_type": "code",
   "execution_count": 3,
   "metadata": {},
   "outputs": [],
   "source": [
    "    def __init__(self):\n",
    "        \"\"\"Initializes layer constants necessary to construct the graph\n",
    "            for training. Likely: just dimension information or nothing\n",
    "            at all.\"\"\"\n",
    "\n",
    "Layer.__init__ = __init__"
   ]
  },
  {
   "cell_type": "markdown",
   "metadata": {},
   "source": [
    "The forward method computes the forward pass from the network. All layers should implement this method."
   ]
  },
  {
   "cell_type": "code",
   "execution_count": 4,
   "metadata": {},
   "outputs": [],
   "source": [
    "    def forward(self, X):\n",
    "        \"\"\"Executes the forward pass through the layer\n",
    "            \n",
    "        Args:\n",
    "            X (ndarray): A matrix representing the inputs to the layer.\n",
    "                Likely: A or Z depending on the layer.\n",
    "        \n",
    "        Returns:\n",
    "            ndarray: A tensor representing the outputs of the layer. \n",
    "                Likely: Z or A depending on the layer.\n",
    "                \n",
    "        \"\"\"\n",
    "\n",
    "Layer.forward = forward"
   ]
  },
  {
   "cell_type": "markdown",
   "metadata": {},
   "source": [
    "The backward method computes the backward pass step for a single layer. This should be implemented for all layers."
   ]
  },
  {
   "cell_type": "code",
   "execution_count": 5,
   "metadata": {},
   "outputs": [],
   "source": [
    "    def backward(self, dL):\n",
    "        \"\"\"Computes the backward pass for the layer.\n",
    "            \n",
    "        Args:\n",
    "            dL (ndarray): A matrix representing the gradient of the loss\n",
    "                of the network with respect to the outputs of the current\n",
    "                layer. Likely: dLdA or dLdZ depending on the layer.\n",
    "        \n",
    "        Returns:\n",
    "            ndarray: A matrix representing the gradient of the loss of the\n",
    "                network will respect to the inputs of the current layer.\n",
    "                Likely: dLdZ or dLdA depending on the layer.\n",
    "        \n",
    "        \"\"\"\n",
    "\n",
    "Layer.backward = backward"
   ]
  },
  {
   "cell_type": "markdown",
   "metadata": {},
   "source": [
    "Any layer that has any variables needs to update these variables during stochastic gradient descent."
   ]
  },
  {
   "cell_type": "code",
   "execution_count": 6,
   "metadata": {},
   "outputs": [],
   "source": [
    "    def sgd_step(self, eta):\n",
    "        \"\"\"Updates trainable variables based off the results from the\n",
    "            backward pass.\n",
    "            \n",
    "        Args:\n",
    "            eta (float): The learning rate to use for the stochastic\n",
    "                gradient descent update step.\n",
    "                \n",
    "        \"\"\"\n",
    "\n",
    "Layer.sgd_step = sgd_step"
   ]
  },
  {
   "cell_type": "markdown",
   "metadata": {},
   "source": [
    "### Linear Layer\n",
    "\n",
    "This is the simplest possible layer where all inputs are connected to all outputs."
   ]
  },
  {
   "cell_type": "code",
   "execution_count": 7,
   "metadata": {},
   "outputs": [],
   "source": [
    "class Linear(Layer):\n",
    "    \"\"\"Simple layer fully-connecting inputs to outputs linearly.\"\"\""
   ]
  },
  {
   "cell_type": "markdown",
   "metadata": {},
   "source": [
    "To set up this layer, we need to know the input and output dimensions ahead of time. Using this information, we randomly initialize the weight matrices."
   ]
  },
  {
   "cell_type": "code",
   "execution_count": 8,
   "metadata": {},
   "outputs": [],
   "source": [
    "    def __init__(self, m, n):\n",
    "        \"\"\"Initializes the layer based on input and output dimensions. \n",
    "\n",
    "        Note: Kernel is initialized using normal distribution with mean 0 \n",
    "        and variance 1 / m. All biases are initialized to zero.\n",
    "\n",
    "        Args:\n",
    "            m (int): Number of input features to the layer.\n",
    "            n (int): Number of output features of the layer.\n",
    "\n",
    "        \"\"\"\n",
    "        self.m = m\n",
    "        self.n = n\n",
    "\n",
    "        self.W0 = np.zeros((self.n, 1))\n",
    "        self.W = np.random.normal(0, np.sqrt(1 / self.m), (self.m, self.n))\n",
    "\n",
    "Linear.__init__ = __init__"
   ]
  },
  {
   "cell_type": "markdown",
   "metadata": {},
   "source": [
    "With our variables defined, we can execute the forward pass. We take the activation $A$ from the previous layer and produce the current $Z$ pre-activation."
   ]
  },
  {
   "cell_type": "code",
   "execution_count": 9,
   "metadata": {},
   "outputs": [],
   "source": [
    "    def forward(self, A):\n",
    "        \"\"\"Computes the forward pass of the layer.\n",
    "            \n",
    "        Args:\n",
    "            A (ndarray): An m by b matrix representing the activations from\n",
    "                the previous layer with a batch of size b.\n",
    "                \n",
    "        Returns:\n",
    "            ndarray: An n by b matrix, Z, representing the pre-activations\n",
    "                as the output from this linear layer.\n",
    "        \n",
    "        \"\"\"\n",
    "        # We need this input later when computing the backward path.\n",
    "        self.A = A\n",
    "\n",
    "        return np.transpose(self.W) @ self.A + self.W0\n",
    "\n",
    "Linear.forward = forward"
   ]
  },
  {
   "cell_type": "markdown",
   "metadata": {},
   "source": [
    "For now, we will compute the gradients by hand using back-propogation. We take the gradient of the loss with respect to the pre-activations of the layer $\\partial \\mathrm{Loss} / \\partial Z$ and compute the gradient of the loss with respect to the activations of the previous layer $\\partial \\mathrm{Loss} / \\partial A$. \n",
    "\n",
    "In addition, we save gradients of the loss with respect to the weights ($\\partial \\mathrm{Loss} / \\partial W$ and $\\partial \\mathrm{Loss} / \\partial W_0$) for the stochastic gradient descent update step."
   ]
  },
  {
   "cell_type": "code",
   "execution_count": 10,
   "metadata": {},
   "outputs": [],
   "source": [
    "    def backward(self, dLdZ):\n",
    "        \"\"\"Computes the backward pass for the layer. Also records gradients\n",
    "            of the loss with respect to weights for later stochastic \n",
    "            gradient descent updates.\n",
    "        \n",
    "        Args:\n",
    "            dLdZ (ndarray): An n by b matrix representing the gradient of\n",
    "                the loss with respect to the current layer's \n",
    "                pre-activations for a batch of size b.\n",
    "                \n",
    "        Returns:\n",
    "            ndarray: An m by b matrix, dLdA, representing the gradient of \n",
    "                the loss with respect to the previous layer's activations.\n",
    "        \n",
    "        \"\"\"\n",
    "        # We store these gradients for use later in the sgd_step\n",
    "        self.dLdW = self.A @ np.transpose(dLdZ)\n",
    "        self.dLdW0 = np.sum(dLdZ, axis=1, keepdims=True)\n",
    "\n",
    "        return self.W @ dLdZ\n",
    "\n",
    "Linear.backward = backward"
   ]
  },
  {
   "cell_type": "markdown",
   "metadata": {},
   "source": [
    "The linear layer has some trainable parameters to update. Using the specified learning rate $\\eta$, we can re-assign our variable values using stochastic gradient descent."
   ]
  },
  {
   "cell_type": "code",
   "execution_count": 11,
   "metadata": {},
   "outputs": [],
   "source": [
    "    def sgd_step(self, eta):\n",
    "        \"\"\"Updates the layer's variables using stochastic gradient\n",
    "            descent.\n",
    "            \n",
    "        Args:\n",
    "            eta (float): The learning rate to use for the stochastic\n",
    "                gradient descent update step.\n",
    "        \n",
    "        \"\"\"\n",
    "        self.W -= eta * self.dLdW\n",
    "        self.W0 -= eta * self.dLdW0\n",
    "        \n",
    "Linear.sgd_step = sgd_step"
   ]
  },
  {
   "cell_type": "markdown",
   "metadata": {},
   "source": [
    "### Rectified Linear Unit Activation Layer\n",
    "\n",
    "This layer applies the relu activation function to each of the inputs element-wise."
   ]
  },
  {
   "cell_type": "code",
   "execution_count": 12,
   "metadata": {},
   "outputs": [],
   "source": [
    "class ReLU(Layer):\n",
    "    \"\"\"Applies relu activation function to all inputs.\"\"\""
   ]
  },
  {
   "cell_type": "markdown",
   "metadata": {},
   "source": [
    "We have no variables to consider, we just need to construct the forward and backward passes. With the forward pass we compute the activation $A$ using the previous layer's pre-activation $A$."
   ]
  },
  {
   "cell_type": "code",
   "execution_count": 13,
   "metadata": {},
   "outputs": [],
   "source": [
    "    def forward(self, Z):\n",
    "        \"\"\"Compute the forward pass output for the layer. \n",
    "            \n",
    "        Args:\n",
    "            Z (ndarray): An m by b matrix representing the pre-activations\n",
    "                from the previous layer for a batch of size b.\n",
    "        \n",
    "        Returns:\n",
    "            ndarray: An n by b matrix, A, representing the activations from\n",
    "                the current layer for a batch of size b. (Note: n and m \n",
    "                are equal.)\n",
    "                \n",
    "        \"\"\"\n",
    "        # We need this activation when computing the backward step later\n",
    "        self.A = np.maximum(0.0, Z)\n",
    "        \n",
    "        return self.A\n",
    "    \n",
    "ReLU.forward = forward"
   ]
  },
  {
   "cell_type": "markdown",
   "metadata": {},
   "source": [
    "In the backward pass, we use the gradient of the loss with respect to the layer's activations $\\partial \\mathrm{Loss} / \\partial A$ to compute the gradient of the loss with respect to the previous layer's pre-activations $\\partial \\mathrm{Loss} / \\partial Z$."
   ]
  },
  {
   "cell_type": "code",
   "execution_count": 14,
   "metadata": {},
   "outputs": [],
   "source": [
    "    def backward(self, dLdA):\n",
    "        \"\"\"Computes the backward pass for the layer.\n",
    "        \n",
    "        Args:\n",
    "            dLdA (ndarray): An n by b matrix representing the gradient of\n",
    "                the loss with respect to the current layer's activations\n",
    "                for a batch of size b.\n",
    "        \n",
    "        Returns:\n",
    "            ndarray: An m by b matrix, dLdZ, representing the gradient of\n",
    "                the loss with respect to the previous layer's activations\n",
    "                for a batch of size b. (Note: n and m are equal.)\n",
    "        \n",
    "        \"\"\"\n",
    "        return np.sign(self.A) * dLdA\n",
    "    \n",
    "ReLU.backward = backward"
   ]
  },
  {
   "cell_type": "markdown",
   "metadata": {},
   "source": [
    "### Hyperbolic Tangent Activation Layer\n",
    "\n",
    "This layer applies the hyperbolic tangent activation function to each input element-wise."
   ]
  },
  {
   "cell_type": "code",
   "execution_count": 15,
   "metadata": {},
   "outputs": [],
   "source": [
    "class Tanh(Layer):\n",
    "    \"\"\"Applies hyperbolic tangent activation function to all inputs.\"\"\""
   ]
  },
  {
   "cell_type": "markdown",
   "metadata": {},
   "source": [
    "There are no variables in this layer, thus we only need to worry about forward and backward passes. The forward pass takes the previous layer's pre-activation $Z$ and produces the activation $A$."
   ]
  },
  {
   "cell_type": "code",
   "execution_count": 16,
   "metadata": {},
   "outputs": [],
   "source": [
    "    def forward(self, Z):\n",
    "        \"\"\"Computes the forward pass activation for the layer.\n",
    "        \n",
    "        Args:\n",
    "            Z (ndarray): An m by b matrix representing the previous layer's\n",
    "                pre-activation for a batch of size b.\n",
    "        \n",
    "        Returns:\n",
    "            ndarray: An n by b matrix, A, representing the layer's \n",
    "                activation for a batch of size b. (Note: m and n are\n",
    "                equal.)\n",
    "                \n",
    "        \"\"\"\n",
    "        # We need this activation when computing the backward step later\n",
    "        self.A = np.tanh(Z)\n",
    "\n",
    "        return self.A\n",
    "\n",
    "Tanh.forward = forward"
   ]
  },
  {
   "cell_type": "markdown",
   "metadata": {},
   "source": [
    "The backward pass uses the gradient of the loss with respect to the layer's activation $\\partial \\mathrm{Loss} / \\partial A$ to compute the gradient of the loss with respect to the previous layer's pre-activation $\\partial \\mathrm{Loss} / \\partial Z$."
   ]
  },
  {
   "cell_type": "code",
   "execution_count": 17,
   "metadata": {},
   "outputs": [],
   "source": [
    "    def backward(self, dLdA):\n",
    "        \"\"\"Computes the backward pass for the layer.\n",
    "        \n",
    "        Args:\n",
    "            dLdA (ndarray): An n by b matrix representing the gradient of\n",
    "                the loss with respect to this layer's activation for a \n",
    "                batch of size b.\n",
    "                \n",
    "        Returns:\n",
    "            ndarray: An m by b matrix, dLdZ, representing the gradient of \n",
    "                the loss with respect to the previous layer's \n",
    "                pre-activation for a batch of size b. (Note: n and m are \n",
    "                equal.)\n",
    "                \n",
    "        \"\"\"\n",
    "        return (1.0 - self.A ** 2.0) * dLdA\n",
    "\n",
    "Tanh.backward = backward"
   ]
  },
  {
   "cell_type": "markdown",
   "metadata": {},
   "source": [
    "### Softmax Activation Layer\n",
    "\n",
    "This layer applies the softmax activation function to the inputs."
   ]
  },
  {
   "cell_type": "code",
   "execution_count": 18,
   "metadata": {},
   "outputs": [],
   "source": [
    "class SoftMax(Layer):\n",
    "    \"\"\"Applies the softmax activation function to layer inputs.\"\"\""
   ]
  },
  {
   "cell_type": "markdown",
   "metadata": {},
   "source": [
    "As with the other activation layers, there are no variables to consider. The forward pass takes the previous layer's pre-activations $Z$ and computes the current layer's activation $A$."
   ]
  },
  {
   "cell_type": "code",
   "execution_count": 19,
   "metadata": {},
   "outputs": [],
   "source": [
    "    def forward(self, Z):\n",
    "        \"\"\"Computes the forward pass activations for the layer.\n",
    "            \n",
    "        Args:\n",
    "            Z (ndarray): An m by b matrix representing the previous layer's\n",
    "                pre-activation for a batch of size b.\n",
    "        \n",
    "        Returns:\n",
    "            ndarray: An n by b matrix, A, representing the current layer's\n",
    "                activation for a batch of size b. (Note: m and n are\n",
    "                equal.)\n",
    "                \n",
    "        \"\"\"\n",
    "        # We need this activation when computing the backward step later\n",
    "        self.A = np.exp(Z) / np.sum(np.exp(Z), axis=0, keepdims=True)\n",
    "        \n",
    "        return self.A\n",
    "\n",
    "SoftMax.forward = forward"
   ]
  },
  {
   "cell_type": "markdown",
   "metadata": {},
   "source": [
    "In the backward pass, we use the gradient of the loss with respect to the current layer's activations $\\partial \\mathrm{Loss} / \\partial A$ to compute the gradient of the loss with respect to the previous layer's pre-activations $\\partial \\mathrm{Loss} / \\partial Z$."
   ]
  },
  {
   "cell_type": "code",
   "execution_count": 20,
   "metadata": {},
   "outputs": [],
   "source": [
    "    def backward(self, dLdA):\n",
    "        \"\"\"Computes the backward pass for the layer.\n",
    "            \n",
    "        Args:\n",
    "            dLdA (ndarray): An n by b matrix representing the gradient of\n",
    "                the loss with respect to the current layer's activation.\n",
    "                \n",
    "        Returns:\n",
    "            ndarray: An m by b tensor, dLdZ, representing the gradient of \n",
    "                the loss with respect to the previous layer's \n",
    "                pre-activation. (Note: n and m are equal.)\n",
    "            \n",
    "        \"\"\"\n",
    "        n = dLdA.shape[0]\n",
    "        \n",
    "        # This is just a way to compute dLdZ by using the provided dLdA\n",
    "        # and softmax's dAdZ tensor. Or you can assume dLdZ is passed in.\n",
    "        return np.einsum('ikj,kj->ij', np.einsum('jk,jk,ji->ijk', self.A, 1.0 - self.A, np.eye(n)) + np.einsum('jk,ik,ji->ijk', -self.A, self.A, 1.0 - np.eye(n)), dLdA)\n",
    "\n",
    "SoftMax.backward = backward"
   ]
  },
  {
   "cell_type": "markdown",
   "metadata": {},
   "source": [
    "### Negative Log-Likelihood Multi-Class Loss Layer\n",
    "\n",
    "This layer computes the loss of the output of the network compared with the expected results."
   ]
  },
  {
   "cell_type": "code",
   "execution_count": 21,
   "metadata": {},
   "outputs": [],
   "source": [
    "class NLLM(Layer):\n",
    "    \"\"\"Computes the negative log-likelihood multi-class loss for neural\n",
    "        network outputs and expected outputs.\"\"\""
   ]
  },
  {
   "cell_type": "markdown",
   "metadata": {},
   "source": [
    "Like the activation layers, there are no variables to consider. The forward pass takes the neural network's final activations $A$ and the expected outputs\n",
    "$Y$ and computes the loss scalar."
   ]
  },
  {
   "cell_type": "code",
   "execution_count": 22,
   "metadata": {},
   "outputs": [],
   "source": [
    "    def forward(self, A, Y):\n",
    "        \"\"\"Computes the loss of predictions vs expected outputs.\n",
    "            \n",
    "        Args:\n",
    "            A (ndarray): An n by b matrix representing the neural network's\n",
    "                outputs for a batch of size b.\n",
    "            Y (ndarray): An n by b matrix representing the expected outputs\n",
    "                from the neural network for a batch of size b.\n",
    "        \n",
    "        Returns:\n",
    "            float: A scalar, L, which represents the loss of the neural\n",
    "                network for a batch of size b.\n",
    "        \n",
    "        \"\"\"\n",
    "        # We will need both of these later to compute the backward pass.\n",
    "        self.A = A\n",
    "        self.Y = Y\n",
    "\n",
    "        return -np.sum(self.Y * np.log(self.A))\n",
    "\n",
    "NLLM.forward = forward"
   ]
  },
  {
   "cell_type": "markdown",
   "metadata": {},
   "source": [
    "The backward pass computes the gradient of the loss with respect to the neural network's final activations $\\partial \\mathrm{Loss} / \\partial A$. Note, this is not immediately computing $\\partial \\mathrm{Loss} / \\partial Z$ by assuming softmax activations."
   ]
  },
  {
   "cell_type": "code",
   "execution_count": 23,
   "metadata": {},
   "outputs": [],
   "source": [
    "    def backward(self):\n",
    "        \"\"\"Computes the backward step for the loss.\n",
    "        \n",
    "        Returns:\n",
    "            Tensor: An n by b tensor, dLdA, representing the gradient of\n",
    "                the loss with respect to the neural network's outputs.\n",
    "                \n",
    "        \"\"\"\n",
    "        return -self.Y / self.A\n",
    "\n",
    "NLLM.backward = backward"
   ]
  },
  {
   "cell_type": "markdown",
   "metadata": {},
   "source": [
    "## Model\n",
    "\n",
    "Now we have all the components to construct our neural network, but we need a model to connect them together.\n",
    "\n",
    "### Sequential Model\n",
    "\n",
    "The sequential model simply connects all the layer linearly."
   ]
  },
  {
   "cell_type": "code",
   "execution_count": 24,
   "metadata": {},
   "outputs": [],
   "source": [
    "class Sequential:\n",
    "    \"\"\"A standard neural network model with linearly stacked layers.\"\"\""
   ]
  },
  {
   "cell_type": "markdown",
   "metadata": {},
   "source": [
    "The first step to construct the model is to provide a list of layers."
   ]
  },
  {
   "cell_type": "code",
   "execution_count": 25,
   "metadata": {},
   "outputs": [],
   "source": [
    "    def __init__(self, layers, loss):\n",
    "        \"\"\"Initialize the layers and the loss for the network.\n",
    "        \n",
    "        Args:\n",
    "            layers (list of Layer): A list of layers in sequential order\n",
    "                to construct the model from.\n",
    "            loss (Layer): A layer used to construct the objective for\n",
    "                stochastic gradient descent.\n",
    "        \n",
    "        \"\"\"\n",
    "        self.layers = layers\n",
    "        self.loss = loss\n",
    "\n",
    "Sequential.__init__ = __init__"
   ]
  },
  {
   "cell_type": "markdown",
   "metadata": {},
   "source": [
    "To make predictions with the network, we use the `forward` method. This passes the data through every layer and returns the result."
   ]
  },
  {
   "cell_type": "code",
   "execution_count": 26,
   "metadata": {},
   "outputs": [],
   "source": [
    "    def forward(self, X):\n",
    "        \"\"\"Predicts the output for a training input batch.\n",
    "        \n",
    "        Args:\n",
    "            X (ndarray): A d by b matrix of points to predict with \n",
    "                dimension d and batch size b.\n",
    "        \n",
    "        Returns:\n",
    "            ndarray: A c by b matrix representing the predicted outputs \n",
    "                with c features of the neural network for a batch size b.\n",
    "        \n",
    "        \"\"\"\n",
    "        for layer in self.layers:\n",
    "            X = layer.forward(X)\n",
    "            \n",
    "        return X\n",
    "\n",
    "Sequential.forward = forward"
   ]
  },
  {
   "cell_type": "markdown",
   "metadata": {},
   "source": [
    "To train the network, we will use stochastic gradient descent. Before we define the stochastic gradient descent training loop, we have to back-propogate the error throughout the layers of the network. To do this, we use the `backward` method."
   ]
  },
  {
   "cell_type": "code",
   "execution_count": 27,
   "metadata": {},
   "outputs": [],
   "source": [
    "    def backward(self, dL):\n",
    "        \"\"\"Computes the gradients of the loss with respect to each weight\n",
    "        in the neural network to prepare for stochastic gradient descent.\n",
    "        \n",
    "        Args:\n",
    "            dL (ndarray): An n by b tensor representing the gradient of the\n",
    "                loss with respect to the output of the neural network.\n",
    "        \n",
    "        \"\"\"\n",
    "        for layer in self.layers[::-1]:\n",
    "            dL = layer.backward(dL)\n",
    "\n",
    "Sequential.backward = backward"
   ]
  },
  {
   "cell_type": "markdown",
   "metadata": {},
   "source": [
    "Once the error is propogated through all the layers, each layer can update their weight matrices. For a single step, this is achieved through the `sgd_step` method."
   ]
  },
  {
   "cell_type": "code",
   "execution_count": 28,
   "metadata": {},
   "outputs": [],
   "source": [
    "    def sgd_step(self, eta):\n",
    "        \"\"\"Runs a single update step on the weight matrices throughout the\n",
    "        neural network using stochastic gradient descent.\n",
    "        \n",
    "        Args:\n",
    "            eta (float): A learning rate for stochastic gradient descent.\n",
    "        \n",
    "        \"\"\"\n",
    "        for layer in self.layers:\n",
    "            layer.sgd_step(eta)\n",
    "\n",
    "Sequential.sgd_step = sgd_step"
   ]
  },
  {
   "cell_type": "markdown",
   "metadata": {},
   "source": [
    "Now we loop over the data applying many stochastic gradient descent update steps."
   ]
  },
  {
   "cell_type": "code",
   "execution_count": 29,
   "metadata": {},
   "outputs": [],
   "source": [
    "    def sgd(self, X_train, Y_train, epochs, eta):\n",
    "        \"\"\"Trains the neural network by running stochastic gradient descent.\n",
    "        \n",
    "        Args:\n",
    "            X_train (ndarray): A d by n NumPy array representing n input\n",
    "                training points each with d features.\n",
    "            Y_train (ndarray): A c by n NumPy array representing n output\n",
    "                training points each with c features.\n",
    "            epochs (int): Number of iterations to run stochastic gradient\n",
    "                descent.\n",
    "            eta (float): A learning rate for stochastic gradient descent.\n",
    "        \n",
    "        \"\"\"\n",
    "        _, n = X.shape\n",
    "        \n",
    "        for epoch in range(epochs):\n",
    "            \n",
    "            t = np.random.randint(n)\n",
    "            \n",
    "            Xt = X[:, t:t + 1]\n",
    "            Yt = Y[:, t:t + 1]\n",
    "            \n",
    "            loss = self.loss.forward(self.forward(Xt), Yt)\n",
    "            self.backward(self.loss.backward())            \n",
    "            self.sgd_step(eta)\n",
    "            \n",
    "            if epoch % 250 == 1:\n",
    "                \n",
    "                acc = np.mean(np.argmax(self.forward(X_train), axis=0) == np.argmax(Y_train, axis=0))\n",
    "                print('Iteration =', epoch, '\\tAcc =', acc, '\\tLoss =', loss, flush=True)\n",
    "\n",
    "Sequential.sgd = sgd"
   ]
  },
  {
   "cell_type": "markdown",
   "metadata": {},
   "source": [
    "## Training\n",
    "\n",
    "Our model is complete! Let's train it on some data and see how will it can classify. We will use the standard 'hard' data set used previously."
   ]
  },
  {
   "cell_type": "code",
   "execution_count": 30,
   "metadata": {
    "scrolled": true
   },
   "outputs": [],
   "source": [
    "X = np.array([[-0.23390341,  1.18151883, -2.46493986,  1.55322202,  1.27621763,\n",
    "                2.39710997, -1.34403040, -0.46903436, -0.64673502, -1.44029872,\n",
    "               -1.37537243,  1.05994811, -0.93311512,  1.02735575, -0.84138778,\n",
    "               -2.22585412, -0.42591102,  1.03561105,  0.91125595, -2.26550369],\n",
    "              [-0.92254932, -1.10309630, -2.41956036, -1.15509002, -1.04805327,\n",
    "                0.08717325,  0.81847250, -0.75171045,  0.60664705,  0.80410947,\n",
    "               -0.11600488,  1.03747218, -0.67210575,  0.99944446, -0.65559838,\n",
    "               -0.40744784, -0.58367642,  1.05972780, -0.95991874, -1.41720255]])\n",
    "\n",
    "Y = np.array([[0., 0., 1., 0., 0., 0., 1., 1., 1., 1., 1., 0., 0., 0., 1., 1., 1., 0., 0., 1.],\n",
    "              [1., 1., 0., 1., 1., 1., 0., 0., 0., 0., 0., 1., 1., 1., 0., 0., 0., 1., 1., 0.]])"
   ]
  },
  {
   "cell_type": "markdown",
   "metadata": {},
   "source": [
    "Let's start by taking a look at our data."
   ]
  },
  {
   "cell_type": "code",
   "execution_count": 31,
   "metadata": {},
   "outputs": [
    {
     "data": {
      "image/png": "[encoded data removed]",
      "text/plain": [
       "<Figure size 432x288 with 1 Axes>"
      ]
     },
     "metadata": {
      "needs_background": "light"
     },
     "output_type": "display_data"
    }
   ],
   "source": [
    "_ = plt.scatter(X[0,:], X[1,:], c=Y[1,:], cmap=ListedColormap(['#1f77b4', '#ff7f0e']))"
   ]
  },
  {
   "cell_type": "markdown",
   "metadata": {},
   "source": [
    "Now we can construct a neural network we think might be able to classify these points."
   ]
  },
  {
   "cell_type": "code",
   "execution_count": 32,
   "metadata": {},
   "outputs": [],
   "source": [
    "model = Sequential([Linear(2, 10), ReLU(), \n",
    "                    Linear(10, 10), ReLU(), \n",
    "                    Linear(10, 2), SoftMax()], NLLM())"
   ]
  },
  {
   "cell_type": "markdown",
   "metadata": {},
   "source": [
    "Let's try training the model on the data for a few thousand iterations."
   ]
  },
  {
   "cell_type": "code",
   "execution_count": 33,
   "metadata": {
    "scrolled": true
   },
   "outputs": [
    {
     "name": "stdout",
     "output_type": "stream",
     "text": [
      "Iteration = 1 \tAcc = 0.9 \tLoss = 0.7291152473713108\n",
      "Iteration = 251 \tAcc = 0.95 \tLoss = 0.2973852747147087\n",
      "Iteration = 501 \tAcc = 0.95 \tLoss = 0.18839965876111237\n",
      "Iteration = 751 \tAcc = 0.95 \tLoss = 0.01352699316990441\n",
      "Iteration = 1001 \tAcc = 0.95 \tLoss = 0.021876539231356084\n",
      "Iteration = 1251 \tAcc = 0.95 \tLoss = 0.3601216501566613\n",
      "Iteration = 1501 \tAcc = 0.95 \tLoss = 0.5056405685397661\n",
      "Iteration = 1751 \tAcc = 0.95 \tLoss = 0.0043338910953799195\n",
      "Iteration = 2001 \tAcc = 0.95 \tLoss = 1.6469783097728663\n",
      "Iteration = 2251 \tAcc = 0.95 \tLoss = 0.2929479593145705\n",
      "Iteration = 2501 \tAcc = 0.95 \tLoss = 0.0121445184948526\n",
      "Iteration = 2751 \tAcc = 0.95 \tLoss = 0.024619672642208358\n",
      "Iteration = 3001 \tAcc = 0.95 \tLoss = 0.0020037896152337816\n",
      "Iteration = 3251 \tAcc = 0.95 \tLoss = 0.0005497366022968423\n",
      "Iteration = 3501 \tAcc = 0.95 \tLoss = 0.015482134711551014\n",
      "Iteration = 3751 \tAcc = 0.95 \tLoss = 0.0021990851417584755\n",
      "Iteration = 4001 \tAcc = 0.95 \tLoss = 0.01006816362788859\n",
      "Iteration = 4251 \tAcc = 0.95 \tLoss = 0.4450258838866263\n",
      "Iteration = 4501 \tAcc = 0.95 \tLoss = 0.04439183023783149\n",
      "Iteration = 4751 \tAcc = 0.95 \tLoss = 0.4608350823105593\n",
      "Iteration = 5001 \tAcc = 0.95 \tLoss = 0.002817241934111932\n",
      "Iteration = 5251 \tAcc = 0.95 \tLoss = 0.03219779773697584\n",
      "Iteration = 5501 \tAcc = 0.95 \tLoss = 0.00016096546072754994\n",
      "Iteration = 5751 \tAcc = 0.95 \tLoss = 0.05214098731268116\n",
      "Iteration = 6001 \tAcc = 0.95 \tLoss = 0.003684967962694749\n",
      "Iteration = 6251 \tAcc = 0.95 \tLoss = 0.00012196553637170549\n",
      "Iteration = 6501 \tAcc = 0.95 \tLoss = 0.00352420392157122\n",
      "Iteration = 6751 \tAcc = 0.95 \tLoss = 1.2195817557580652e-06\n",
      "Iteration = 7001 \tAcc = 0.95 \tLoss = 0.38740130868348643\n",
      "Iteration = 7251 \tAcc = 0.95 \tLoss = 0.3557225538874234\n",
      "Iteration = 7501 \tAcc = 0.95 \tLoss = 0.025436483363261948\n",
      "Iteration = 7751 \tAcc = 0.95 \tLoss = 0.004705774529632416\n",
      "Iteration = 8001 \tAcc = 0.95 \tLoss = 4.1916611601955085e-06\n",
      "Iteration = 8251 \tAcc = 0.95 \tLoss = 0.0031176512653219753\n",
      "Iteration = 8501 \tAcc = 0.95 \tLoss = 0.2702308033471532\n",
      "Iteration = 8751 \tAcc = 0.95 \tLoss = 0.0046354653382623175\n",
      "Iteration = 9001 \tAcc = 0.95 \tLoss = 0.005735304112263148\n",
      "Iteration = 9251 \tAcc = 0.95 \tLoss = 9.33946153794779e-05\n",
      "Iteration = 9501 \tAcc = 0.95 \tLoss = 0.005217156429371994\n",
      "Iteration = 9751 \tAcc = 0.95 \tLoss = 0.02664077164935997\n",
      "Iteration = 10001 \tAcc = 0.95 \tLoss = 0.003998494272783764\n",
      "Iteration = 10251 \tAcc = 0.95 \tLoss = 0.000868508015455265\n",
      "Iteration = 10501 \tAcc = 0.95 \tLoss = 4.848067533552739e-07\n",
      "Iteration = 10751 \tAcc = 0.95 \tLoss = 0.0007925932401593746\n",
      "Iteration = 11001 \tAcc = 0.95 \tLoss = 2.5792937643301933e-05\n",
      "Iteration = 11251 \tAcc = 0.95 \tLoss = 8.628121920847073e-09\n",
      "Iteration = 11501 \tAcc = 0.95 \tLoss = 0.12336733815148841\n",
      "Iteration = 11751 \tAcc = 0.95 \tLoss = 0.07323372376348038\n",
      "Iteration = 12001 \tAcc = 0.95 \tLoss = 0.021171137920624878\n",
      "Iteration = 12251 \tAcc = 0.95 \tLoss = 0.23852573717498188\n",
      "Iteration = 12501 \tAcc = 0.95 \tLoss = 0.0004337842503643591\n",
      "Iteration = 12751 \tAcc = 0.95 \tLoss = 0.088858140125882\n",
      "Iteration = 13001 \tAcc = 0.95 \tLoss = 1.1565368669446034e-09\n",
      "Iteration = 13251 \tAcc = 0.95 \tLoss = 0.0017297920251923323\n",
      "Iteration = 13501 \tAcc = 0.95 \tLoss = 0.14865989380859926\n",
      "Iteration = 13751 \tAcc = 0.95 \tLoss = 0.016821806371731567\n",
      "Iteration = 14001 \tAcc = 0.95 \tLoss = 0.34809969783659794\n",
      "Iteration = 14251 \tAcc = 0.95 \tLoss = 0.0045080759435619415\n",
      "Iteration = 14501 \tAcc = 0.95 \tLoss = 0.0014098055368666903\n",
      "Iteration = 14751 \tAcc = 0.95 \tLoss = 2.530256577472498e-06\n",
      "Iteration = 15001 \tAcc = 0.95 \tLoss = 0.2728939963404257\n",
      "Iteration = 15251 \tAcc = 0.95 \tLoss = 6.609032628628476e-08\n",
      "Iteration = 15501 \tAcc = 0.95 \tLoss = 0.06857987256722797\n",
      "Iteration = 15751 \tAcc = 0.95 \tLoss = 8.033098664728469e-08\n",
      "Iteration = 16001 \tAcc = 0.95 \tLoss = 9.64001294033402e-07\n",
      "Iteration = 16251 \tAcc = 0.95 \tLoss = 5.038221866724344e-08\n",
      "Iteration = 16501 \tAcc = 0.95 \tLoss = 0.0011727695332323087\n",
      "Iteration = 16751 \tAcc = 0.95 \tLoss = 1.408634145486216\n",
      "Iteration = 17001 \tAcc = 0.95 \tLoss = 7.075315167872513e-05\n",
      "Iteration = 17251 \tAcc = 0.95 \tLoss = 0.011035753713981057\n",
      "Iteration = 17501 \tAcc = 0.95 \tLoss = 0.001271586032727767\n",
      "Iteration = 17751 \tAcc = 0.95 \tLoss = 0.012891254514193045\n",
      "Iteration = 18001 \tAcc = 0.95 \tLoss = 0.0022916343222122225\n",
      "Iteration = 18251 \tAcc = 0.95 \tLoss = 1.6949920935791332\n",
      "Iteration = 18501 \tAcc = 0.95 \tLoss = 0.054143506692026215\n",
      "Iteration = 18751 \tAcc = 0.95 \tLoss = 1.4872799360890636\n",
      "Iteration = 19001 \tAcc = 0.95 \tLoss = 0.0022120095025991156\n",
      "Iteration = 19251 \tAcc = 0.95 \tLoss = 0.003979496283963525\n",
      "Iteration = 19501 \tAcc = 0.95 \tLoss = 0.05817107538673841\n",
      "Iteration = 19751 \tAcc = 0.95 \tLoss = 1.4103657396281775\n",
      "Iteration = 20001 \tAcc = 0.95 \tLoss = 1.4344697662224207e-09\n",
      "Iteration = 20251 \tAcc = 0.95 \tLoss = 5.226820089221781e-10\n",
      "Iteration = 20501 \tAcc = 0.95 \tLoss = 1.3611160676188179e-05\n",
      "Iteration = 20751 \tAcc = 0.95 \tLoss = 1.588201644652891e-05\n",
      "Iteration = 21001 \tAcc = 0.95 \tLoss = 0.000601399621289717\n",
      "Iteration = 21251 \tAcc = 0.95 \tLoss = 1.4929123321520907e-05\n",
      "Iteration = 21501 \tAcc = 0.95 \tLoss = 1.141095205622301e-05\n",
      "Iteration = 21751 \tAcc = 0.95 \tLoss = 0.05848537071161515\n",
      "Iteration = 22001 \tAcc = 0.95 \tLoss = 0.3492023244683011\n",
      "Iteration = 22251 \tAcc = 0.95 \tLoss = 9.088841841246537e-06\n",
      "Iteration = 22501 \tAcc = 0.95 \tLoss = 0.0007006013080652228\n",
      "Iteration = 22751 \tAcc = 0.95 \tLoss = 1.298215979246178e-10\n",
      "Iteration = 23001 \tAcc = 0.95 \tLoss = 0.0007944523191385294\n",
      "Iteration = 23251 \tAcc = 1.0 \tLoss = 0.018084534004163468\n",
      "Iteration = 23501 \tAcc = 1.0 \tLoss = 0.04928968584903637\n",
      "Iteration = 23751 \tAcc = 0.95 \tLoss = 0.49755811879366085\n",
      "Iteration = 24001 \tAcc = 0.95 \tLoss = 3.2538008146229168e-06\n",
      "Iteration = 24251 \tAcc = 0.95 \tLoss = 0.10300914026838023\n",
      "Iteration = 24501 \tAcc = 0.95 \tLoss = 1.7205740180750542e-09\n",
      "Iteration = 24751 \tAcc = 0.95 \tLoss = 4.440892098500627e-16\n",
      "Iteration = 25001 \tAcc = 0.95 \tLoss = 0.006251718855701491\n",
      "Iteration = 25251 \tAcc = 0.95 \tLoss = 0.5378776564152458\n",
      "Iteration = 25501 \tAcc = 0.95 \tLoss = 0.0002585627228071096\n",
      "Iteration = 25751 \tAcc = 0.95 \tLoss = 7.114143289757227e-05\n",
      "Iteration = 26001 \tAcc = 0.95 \tLoss = 2.0324303349567516e-06\n",
      "Iteration = 26251 \tAcc = 0.95 \tLoss = 0.033596286244764476\n",
      "Iteration = 26501 \tAcc = 0.95 \tLoss = 1.3877787807814553e-14\n",
      "Iteration = 26751 \tAcc = 0.95 \tLoss = 0.011318506432189393\n",
      "Iteration = 27001 \tAcc = 0.95 \tLoss = 3.2037480411359245e-05\n",
      "Iteration = 27251 \tAcc = 1.0 \tLoss = 1.2702259791150805e-06\n",
      "Iteration = 27501 \tAcc = 1.0 \tLoss = 0.0068881612585841865\n",
      "Iteration = 27751 \tAcc = 0.95 \tLoss = 0.1734043665741831\n",
      "Iteration = 28001 \tAcc = 0.95 \tLoss = 6.123600362096942e-07\n",
      "Iteration = 28251 \tAcc = 1.0 \tLoss = 0.03188944076436563\n",
      "Iteration = 28501 \tAcc = 1.0 \tLoss = 0.041338412012014436\n",
      "Iteration = 28751 \tAcc = 1.0 \tLoss = 4.5530135218611703e-11\n",
      "Iteration = 29001 \tAcc = 0.95 \tLoss = 3.7340769242070593e-05\n",
      "Iteration = 29251 \tAcc = 0.95 \tLoss = 3.8260394853061614e-11\n",
      "Iteration = 29501 \tAcc = 1.0 \tLoss = 1.699751450701259e-13\n",
      "Iteration = 29751 \tAcc = 0.95 \tLoss = 0.002383174973536866\n",
      "Iteration = 30001 \tAcc = 0.95 \tLoss = 4.657272133322545e-07\n",
      "Iteration = 30251 \tAcc = 0.95 \tLoss = 2.5528227123270214e-05\n",
      "Iteration = 30501 \tAcc = 1.0 \tLoss = 0.004899325662544605\n",
      "Iteration = 30751 \tAcc = 0.95 \tLoss = 0.29030809501470767\n",
      "Iteration = 31001 \tAcc = 0.95 \tLoss = 4.7951049191214574e-05\n",
      "Iteration = 31251 \tAcc = 0.95 \tLoss = 0.0036143631162131287\n",
      "Iteration = 31501 \tAcc = 0.95 \tLoss = 7.771561172376126e-15\n",
      "Iteration = 31751 \tAcc = 1.0 \tLoss = 0.023468882726393667\n",
      "Iteration = 32001 \tAcc = 1.0 \tLoss = 0.028117639552641155\n",
      "Iteration = 32251 \tAcc = 0.95 \tLoss = 4.7252202151182925e-12\n",
      "Iteration = 32501 \tAcc = 1.0 \tLoss = 1.3514666888442736e-07\n",
      "Iteration = 32751 \tAcc = 0.95 \tLoss = -0.0\n",
      "Iteration = 33001 \tAcc = 0.95 \tLoss = 1.0214051826551492e-14\n",
      "Iteration = 33251 \tAcc = 0.95 \tLoss = 8.770761894538775e-15\n",
      "Iteration = 33501 \tAcc = 0.95 \tLoss = 0.0018612877901450619\n",
      "Iteration = 33751 \tAcc = 1.0 \tLoss = 0.604000909537737\n",
      "Iteration = 34001 \tAcc = 1.0 \tLoss = 0.029331245137358065\n",
      "Iteration = 34251 \tAcc = 0.95 \tLoss = 1.908871741354942e-05\n",
      "Iteration = 34501 \tAcc = 1.0 \tLoss = 3.836654689875894e-05\n",
      "Iteration = 34751 \tAcc = 1.0 \tLoss = -0.0\n",
      "Iteration = 35001 \tAcc = 0.95 \tLoss = 0.038986744814807454\n"
     ]
    },
    {
     "name": "stdout",
     "output_type": "stream",
     "text": [
      "Iteration = 35251 \tAcc = 0.95 \tLoss = 0.002423360938707255\n",
      "Iteration = 35501 \tAcc = 0.95 \tLoss = 2.2204460492503136e-16\n",
      "Iteration = 35751 \tAcc = 0.95 \tLoss = 4.947399024050628e-08\n",
      "Iteration = 36001 \tAcc = 1.0 \tLoss = 0.007265969019241052\n",
      "Iteration = 36251 \tAcc = 0.95 \tLoss = 0.002476767678562398\n",
      "Iteration = 36501 \tAcc = 1.0 \tLoss = 6.005889999158912e-08\n",
      "Iteration = 36751 \tAcc = 0.95 \tLoss = 5.142574154407003e-08\n",
      "Iteration = 37001 \tAcc = 0.95 \tLoss = 0.0016259637016151182\n",
      "Iteration = 37251 \tAcc = 0.95 \tLoss = 0.02087370997282972\n",
      "Iteration = 37501 \tAcc = 1.0 \tLoss = 0.634833662391953\n",
      "Iteration = 37751 \tAcc = 1.0 \tLoss = 8.726352973554112e-14\n",
      "Iteration = 38001 \tAcc = 0.95 \tLoss = -0.0\n",
      "Iteration = 38251 \tAcc = 0.95 \tLoss = 0.00659449436293096\n",
      "Iteration = 38501 \tAcc = 1.0 \tLoss = -0.0\n",
      "Iteration = 38751 \tAcc = 1.0 \tLoss = 4.5129889511276434e-08\n",
      "Iteration = 39001 \tAcc = 0.95 \tLoss = -0.0\n",
      "Iteration = 39251 \tAcc = 0.95 \tLoss = 0.001069956645868117\n",
      "Iteration = 39501 \tAcc = 0.95 \tLoss = 0.18360989794717128\n",
      "Iteration = 39751 \tAcc = 0.95 \tLoss = 0.35974660848238793\n",
      "Iteration = 40001 \tAcc = 0.95 \tLoss = -0.0\n",
      "Iteration = 40251 \tAcc = 0.95 \tLoss = -0.0\n",
      "Iteration = 40501 \tAcc = 1.0 \tLoss = 0.6419821285133498\n",
      "Iteration = 40751 \tAcc = 1.0 \tLoss = 0.015303103863764822\n",
      "Iteration = 41001 \tAcc = 1.0 \tLoss = 4.966933646883247e-06\n",
      "Iteration = 41251 \tAcc = 1.0 \tLoss = 0.024209116105749138\n",
      "Iteration = 41501 \tAcc = 1.0 \tLoss = 7.549516567451093e-15\n",
      "Iteration = 41751 \tAcc = 1.0 \tLoss = 0.014937743670637667\n",
      "Iteration = 42001 \tAcc = 1.0 \tLoss = 0.004359599121043658\n",
      "Iteration = 42251 \tAcc = 1.0 \tLoss = 2.0646341738456788e-08\n",
      "Iteration = 42501 \tAcc = 0.95 \tLoss = 9.808980319031806e-06\n",
      "Iteration = 42751 \tAcc = 0.95 \tLoss = 0.20216992537795858\n",
      "Iteration = 43001 \tAcc = 1.0 \tLoss = 0.00520612126966862\n",
      "Iteration = 43251 \tAcc = 0.95 \tLoss = 0.011493818327330315\n",
      "Iteration = 43501 \tAcc = 1.0 \tLoss = 7.46031095240667e-09\n",
      "Iteration = 43751 \tAcc = 0.95 \tLoss = -0.0\n",
      "Iteration = 44001 \tAcc = 0.95 \tLoss = 0.3626811103160668\n",
      "Iteration = 44251 \tAcc = 0.95 \tLoss = -0.0\n",
      "Iteration = 44501 \tAcc = 1.0 \tLoss = 1.0822068948870742\n",
      "Iteration = 44751 \tAcc = 1.0 \tLoss = 0.8620022301763862\n",
      "Iteration = 45001 \tAcc = 0.95 \tLoss = -0.0\n",
      "Iteration = 45251 \tAcc = 1.0 \tLoss = 8.171279074535545e-07\n",
      "Iteration = 45501 \tAcc = 1.0 \tLoss = 0.003030088796863804\n",
      "Iteration = 45751 \tAcc = 0.95 \tLoss = 0.02005851604004343\n",
      "Iteration = 46001 \tAcc = 1.0 \tLoss = 9.393007613712767e-06\n",
      "Iteration = 46251 \tAcc = 1.0 \tLoss = -0.0\n",
      "Iteration = 46501 \tAcc = 1.0 \tLoss = -0.0\n",
      "Iteration = 46751 \tAcc = 1.0 \tLoss = 0.007135081023989998\n",
      "Iteration = 47001 \tAcc = 1.0 \tLoss = 1.274689848142658e-05\n",
      "Iteration = 47251 \tAcc = 1.0 \tLoss = 0.0018960967153154175\n",
      "Iteration = 47501 \tAcc = 1.0 \tLoss = 0.0030394709792786676\n",
      "Iteration = 47751 \tAcc = 1.0 \tLoss = 4.72572748717333e-09\n",
      "Iteration = 48001 \tAcc = 1.0 \tLoss = 9.194639167158826e-07\n",
      "Iteration = 48251 \tAcc = 1.0 \tLoss = 0.001744330265524391\n",
      "Iteration = 48501 \tAcc = 0.95 \tLoss = 0.0015906555750523155\n",
      "Iteration = 48751 \tAcc = 0.95 \tLoss = 0.015896377955996747\n",
      "Iteration = 49001 \tAcc = 1.0 \tLoss = 6.389382867853768e-07\n",
      "Iteration = 49251 \tAcc = 1.0 \tLoss = 0.6781813015208907\n",
      "Iteration = 49501 \tAcc = 0.95 \tLoss = 1.1102230246251565e-16\n",
      "Iteration = 49751 \tAcc = 0.95 \tLoss = -0.0\n",
      "Iteration = 50001 \tAcc = 1.0 \tLoss = 0.8253804606296992\n",
      "Iteration = 50251 \tAcc = 0.95 \tLoss = 2.767417305008481e-06\n",
      "Iteration = 50501 \tAcc = 0.95 \tLoss = 0.009489587765401227\n",
      "Iteration = 50751 \tAcc = 0.95 \tLoss = 0.0075225684069313535\n",
      "Iteration = 51001 \tAcc = 0.95 \tLoss = 4.7525321568953985e-09\n",
      "Iteration = 51251 \tAcc = 0.95 \tLoss = 3.6707382220827594e-07\n",
      "Iteration = 51501 \tAcc = 1.0 \tLoss = 0.45811630168534967\n",
      "Iteration = 51751 \tAcc = 0.95 \tLoss = 3.611518535200447e-09\n",
      "Iteration = 52001 \tAcc = 1.0 \tLoss = 0.0049910515395525335\n",
      "Iteration = 52251 \tAcc = 1.0 \tLoss = 0.005200362660548117\n",
      "Iteration = 52501 \tAcc = 1.0 \tLoss = 0.004383954911809319\n",
      "Iteration = 52751 \tAcc = 0.95 \tLoss = 0.005285568425819914\n",
      "Iteration = 53001 \tAcc = 0.95 \tLoss = 3.6234791899326066e-09\n",
      "Iteration = 53251 \tAcc = 1.0 \tLoss = 8.850121822532184e-07\n",
      "Iteration = 53501 \tAcc = 1.0 \tLoss = 0.006882527500269117\n",
      "Iteration = 53751 \tAcc = 1.0 \tLoss = 1.2751516517498402e-09\n",
      "Iteration = 54001 \tAcc = 1.0 \tLoss = 8.944850993403134e-06\n",
      "Iteration = 54251 \tAcc = 1.0 \tLoss = 1.3378152989408552\n",
      "Iteration = 54501 \tAcc = 1.0 \tLoss = 2.281538019510782e-05\n",
      "Iteration = 54751 \tAcc = 1.0 \tLoss = 0.0028725229052337133\n",
      "Iteration = 55001 \tAcc = 1.0 \tLoss = 0.006091486509051952\n",
      "Iteration = 55251 \tAcc = 0.95 \tLoss = 3.3366663780855137e-07\n",
      "Iteration = 55501 \tAcc = 1.0 \tLoss = -0.0\n",
      "Iteration = 55751 \tAcc = 1.0 \tLoss = 2.7409711579524506e-05\n",
      "Iteration = 56001 \tAcc = 1.0 \tLoss = -0.0\n",
      "Iteration = 56251 \tAcc = 1.0 \tLoss = 1.1666814188215973e-09\n",
      "Iteration = 56501 \tAcc = 0.95 \tLoss = 1.0916322296513362e-09\n",
      "Iteration = 56751 \tAcc = 0.95 \tLoss = 6.854392969524192e-06\n",
      "Iteration = 57001 \tAcc = 0.95 \tLoss = 2.0039966373104864e-09\n",
      "Iteration = 57251 \tAcc = 0.95 \tLoss = 0.003551365410465972\n",
      "Iteration = 57501 \tAcc = 1.0 \tLoss = 1.6258966408672576e-09\n",
      "Iteration = 57751 \tAcc = 1.0 \tLoss = -0.0\n",
      "Iteration = 58001 \tAcc = 1.0 \tLoss = 0.009027972140961309\n",
      "Iteration = 58251 \tAcc = 0.95 \tLoss = 0.005334648515137329\n",
      "Iteration = 58501 \tAcc = 1.0 \tLoss = -0.0\n",
      "Iteration = 58751 \tAcc = 1.0 \tLoss = 0.0036580316590973604\n",
      "Iteration = 59001 \tAcc = 0.95 \tLoss = 0.005363150601619082\n",
      "Iteration = 59251 \tAcc = 1.0 \tLoss = 1.3038871102440583e-09\n",
      "Iteration = 59501 \tAcc = 1.0 \tLoss = 7.383297309598914e-10\n",
      "Iteration = 59751 \tAcc = 0.95 \tLoss = 2.464194054885195e-07\n",
      "Iteration = 60001 \tAcc = 1.0 \tLoss = 0.006409311205678021\n",
      "Iteration = 60251 \tAcc = 1.0 \tLoss = 1.1646318360934477e-09\n",
      "Iteration = 60501 \tAcc = 1.0 \tLoss = -0.0\n",
      "Iteration = 60751 \tAcc = 0.95 \tLoss = -0.0\n",
      "Iteration = 61001 \tAcc = 1.0 \tLoss = 7.883081481663273e-07\n",
      "Iteration = 61251 \tAcc = 1.0 \tLoss = 0.007834063211557989\n",
      "Iteration = 61501 \tAcc = 1.0 \tLoss = 0.003322725981400193\n",
      "Iteration = 61751 \tAcc = 0.95 \tLoss = 0.0051284863404697685\n",
      "Iteration = 62001 \tAcc = 1.0 \tLoss = 4.764399986781126e-10\n",
      "Iteration = 62251 \tAcc = 1.0 \tLoss = 0.0023591007567273555\n",
      "Iteration = 62501 \tAcc = 1.0 \tLoss = 0.0064955034911772175\n",
      "Iteration = 62751 \tAcc = 1.0 \tLoss = -0.0\n",
      "Iteration = 63001 \tAcc = 1.0 \tLoss = 0.007845873515067322\n",
      "Iteration = 63251 \tAcc = 1.0 \tLoss = 0.0032652668446772515\n",
      "Iteration = 63501 \tAcc = 1.0 \tLoss = 0.0017313055044640175\n",
      "Iteration = 63751 \tAcc = 1.0 \tLoss = 0.008677891394553095\n",
      "Iteration = 64001 \tAcc = 1.0 \tLoss = 0.2175775807779262\n",
      "Iteration = 64251 \tAcc = 0.95 \tLoss = 3.896462911486459e-06\n",
      "Iteration = 64501 \tAcc = 1.0 \tLoss = 0.004101962206025886\n",
      "Iteration = 64751 \tAcc = 1.0 \tLoss = 6.184506242371037e-10\n",
      "Iteration = 65001 \tAcc = 1.0 \tLoss = 0.00445456653993478\n",
      "Iteration = 65251 \tAcc = 0.95 \tLoss = 2.216510308873663e-10\n",
      "Iteration = 65501 \tAcc = 1.0 \tLoss = 5.835617546449873e-10\n",
      "Iteration = 65751 \tAcc = 0.95 \tLoss = -0.0\n",
      "Iteration = 66001 \tAcc = 1.0 \tLoss = 0.0008468018115995931\n",
      "Iteration = 66251 \tAcc = 1.0 \tLoss = 7.44525750154614e-06\n",
      "Iteration = 66501 \tAcc = 1.0 \tLoss = 0.0019139307971074541\n",
      "Iteration = 66751 \tAcc = 1.0 \tLoss = 2.560504031351734e-10\n",
      "Iteration = 67001 \tAcc = 1.0 \tLoss = -0.0\n",
      "Iteration = 67251 \tAcc = 1.0 \tLoss = 0.005114649919876852\n",
      "Iteration = 67501 \tAcc = 1.0 \tLoss = 0.21527914886048377\n",
      "Iteration = 67751 \tAcc = 1.0 \tLoss = -0.0\n",
      "Iteration = 68001 \tAcc = 1.0 \tLoss = -0.0\n",
      "Iteration = 68251 \tAcc = 1.0 \tLoss = 2.184520342635074e-10\n",
      "Iteration = 68501 \tAcc = 1.0 \tLoss = -0.0\n",
      "Iteration = 68751 \tAcc = 1.0 \tLoss = 0.0025972276447362584\n",
      "Iteration = 69001 \tAcc = 1.0 \tLoss = 1.8524526359026623e-10\n",
      "Iteration = 69251 \tAcc = 1.0 \tLoss = -0.0\n",
      "Iteration = 69501 \tAcc = 0.95 \tLoss = 3.6786851349662306e-10\n",
      "Iteration = 69751 \tAcc = 1.0 \tLoss = 0.5136040654452239\n",
      "Iteration = 70001 \tAcc = 1.0 \tLoss = -0.0\n",
      "Iteration = 70251 \tAcc = 1.0 \tLoss = -0.0\n",
      "Iteration = 70501 \tAcc = 1.0 \tLoss = 0.012515241708486035\n",
      "Iteration = 70751 \tAcc = 1.0 \tLoss = 0.12529002458257182\n",
      "Iteration = 71001 \tAcc = 0.95 \tLoss = 0.0018318944399335498\n",
      "Iteration = 71251 \tAcc = 1.0 \tLoss = 0.006386258724188847\n",
      "Iteration = 71501 \tAcc = 1.0 \tLoss = -0.0\n",
      "Iteration = 71751 \tAcc = 1.0 \tLoss = 8.685252517559276e-11\n"
     ]
    },
    {
     "name": "stdout",
     "output_type": "stream",
     "text": [
      "Iteration = 72001 \tAcc = 1.0 \tLoss = -0.0\n",
      "Iteration = 72251 \tAcc = 1.0 \tLoss = -0.0\n",
      "Iteration = 72501 \tAcc = 1.0 \tLoss = 0.002499051098635531\n",
      "Iteration = 72751 \tAcc = 1.0 \tLoss = 0.005750729880868507\n",
      "Iteration = 73001 \tAcc = 1.0 \tLoss = 0.005004032992514144\n",
      "Iteration = 73251 \tAcc = 1.0 \tLoss = 1.0252287908045077e-10\n",
      "Iteration = 73501 \tAcc = 1.0 \tLoss = -0.0\n",
      "Iteration = 73751 \tAcc = 1.0 \tLoss = -0.0\n",
      "Iteration = 74001 \tAcc = 1.0 \tLoss = 0.005089206793688874\n",
      "Iteration = 74251 \tAcc = 1.0 \tLoss = 0.00526856011259056\n",
      "Iteration = 74501 \tAcc = 1.0 \tLoss = 3.143435017284196e-08\n",
      "Iteration = 74751 \tAcc = 0.95 \tLoss = 0.0024442865227678715\n",
      "Iteration = 75001 \tAcc = 1.0 \tLoss = 7.104069585136298e-08\n",
      "Iteration = 75251 \tAcc = 1.0 \tLoss = -0.0\n",
      "Iteration = 75501 \tAcc = 1.0 \tLoss = 0.005086314764488435\n",
      "Iteration = 75751 \tAcc = 1.0 \tLoss = 0.27267781107263694\n",
      "Iteration = 76001 \tAcc = 1.0 \tLoss = 7.578482286450702e-11\n",
      "Iteration = 76251 \tAcc = 1.0 \tLoss = -0.0\n",
      "Iteration = 76501 \tAcc = 1.0 \tLoss = 7.095784950249833e-07\n",
      "Iteration = 76751 \tAcc = 1.0 \tLoss = -0.0\n",
      "Iteration = 77001 \tAcc = 1.0 \tLoss = 0.004878823629294295\n",
      "Iteration = 77251 \tAcc = 1.0 \tLoss = 0.005744016627316616\n",
      "Iteration = 77501 \tAcc = 1.0 \tLoss = 0.002858324984974765\n",
      "Iteration = 77751 \tAcc = 1.0 \tLoss = -0.0\n",
      "Iteration = 78001 \tAcc = 1.0 \tLoss = 5.960687499317898e-11\n",
      "Iteration = 78251 \tAcc = 1.0 \tLoss = 1.2409784312043612e-10\n",
      "Iteration = 78501 \tAcc = 1.0 \tLoss = -0.0\n",
      "Iteration = 78751 \tAcc = 1.0 \tLoss = 2.0198043552942837e-08\n",
      "Iteration = 79001 \tAcc = 1.0 \tLoss = 0.0007458511608509221\n",
      "Iteration = 79251 \tAcc = 1.0 \tLoss = 0.1949763325340146\n",
      "Iteration = 79501 \tAcc = 1.0 \tLoss = 3.2140623496507404e-11\n",
      "Iteration = 79751 \tAcc = 1.0 \tLoss = -0.0\n",
      "Iteration = 80001 \tAcc = 1.0 \tLoss = -0.0\n",
      "Iteration = 80251 \tAcc = 1.0 \tLoss = 0.0034784552800874113\n",
      "Iteration = 80501 \tAcc = 1.0 \tLoss = 0.00428686770412676\n",
      "Iteration = 80751 \tAcc = 1.0 \tLoss = -0.0\n",
      "Iteration = 81001 \tAcc = 1.0 \tLoss = 0.006868513993427178\n",
      "Iteration = 81251 \tAcc = 1.0 \tLoss = -0.0\n",
      "Iteration = 81501 \tAcc = 1.0 \tLoss = 0.0011937867448252248\n",
      "Iteration = 81751 \tAcc = 1.0 \tLoss = 0.0066081913708615865\n",
      "Iteration = 82001 \tAcc = 1.0 \tLoss = 0.0026684756703423225\n",
      "Iteration = 82251 \tAcc = 1.0 \tLoss = 2.2361223983830215e-11\n",
      "Iteration = 82501 \tAcc = 1.0 \tLoss = 0.003917833917034765\n",
      "Iteration = 82751 \tAcc = 1.0 \tLoss = 1.9823062277180734e-08\n",
      "Iteration = 83001 \tAcc = 1.0 \tLoss = -0.0\n",
      "Iteration = 83251 \tAcc = 1.0 \tLoss = 0.00398272337429651\n",
      "Iteration = 83501 \tAcc = 1.0 \tLoss = 0.004250968717841489\n",
      "Iteration = 83751 \tAcc = 1.0 \tLoss = 0.000565111927353652\n",
      "Iteration = 84001 \tAcc = 1.0 \tLoss = 2.8392177498352035e-11\n",
      "Iteration = 84251 \tAcc = 1.0 \tLoss = -0.0\n",
      "Iteration = 84501 \tAcc = 1.0 \tLoss = 8.734446204481616e-09\n",
      "Iteration = 84751 \tAcc = 1.0 \tLoss = 0.003383710516247268\n",
      "Iteration = 85001 \tAcc = 1.0 \tLoss = -0.0\n",
      "Iteration = 85251 \tAcc = 1.0 \tLoss = -0.0\n",
      "Iteration = 85501 \tAcc = 1.0 \tLoss = 0.002091494214687082\n",
      "Iteration = 85751 \tAcc = 1.0 \tLoss = 0.00381931134188241\n",
      "Iteration = 86001 \tAcc = 1.0 \tLoss = 0.002088312510639374\n",
      "Iteration = 86251 \tAcc = 1.0 \tLoss = 0.0006875769597002842\n",
      "Iteration = 86501 \tAcc = 1.0 \tLoss = 0.0038779437750932626\n",
      "Iteration = 86751 \tAcc = 1.0 \tLoss = 0.004250311595762237\n",
      "Iteration = 87001 \tAcc = 1.0 \tLoss = 0.0020518540957990936\n",
      "Iteration = 87251 \tAcc = 1.0 \tLoss = -0.0\n",
      "Iteration = 87501 \tAcc = 1.0 \tLoss = 0.0035384799757140948\n",
      "Iteration = 87751 \tAcc = 1.0 \tLoss = -0.0\n",
      "Iteration = 88001 \tAcc = 1.0 \tLoss = 4.796418817791368e-11\n",
      "Iteration = 88251 \tAcc = 1.0 \tLoss = 1.8992807327047842e-11\n",
      "Iteration = 88501 \tAcc = 1.0 \tLoss = 0.0006300470243190999\n",
      "Iteration = 88751 \tAcc = 1.0 \tLoss = -0.0\n",
      "Iteration = 89001 \tAcc = 1.0 \tLoss = 2.613380182343415e-09\n",
      "Iteration = 89251 \tAcc = 1.0 \tLoss = 1.1339817973585644e-11\n",
      "Iteration = 89501 \tAcc = 1.0 \tLoss = 0.000622476873032333\n",
      "Iteration = 89751 \tAcc = 1.0 \tLoss = 0.004673967277651392\n",
      "Iteration = 90001 \tAcc = 1.0 \tLoss = -0.0\n",
      "Iteration = 90251 \tAcc = 1.0 \tLoss = 1.5223933225288342e-11\n",
      "Iteration = 90501 \tAcc = 1.0 \tLoss = 1.1363490217180958e-07\n",
      "Iteration = 90751 \tAcc = 1.0 \tLoss = 2.354729334534213e-07\n",
      "Iteration = 91001 \tAcc = 1.0 \tLoss = 3.2517615319994477e-09\n",
      "Iteration = 91251 \tAcc = 1.0 \tLoss = -0.0\n",
      "Iteration = 91501 \tAcc = 1.0 \tLoss = 1.7565768184028618e-07\n",
      "Iteration = 91751 \tAcc = 1.0 \tLoss = 1.0209702246904573e-08\n",
      "Iteration = 92001 \tAcc = 1.0 \tLoss = 0.0004439459324787221\n",
      "Iteration = 92251 \tAcc = 1.0 \tLoss = 0.0006108085712385536\n",
      "Iteration = 92501 \tAcc = 1.0 \tLoss = 8.331002554519415e-12\n",
      "Iteration = 92751 \tAcc = 1.0 \tLoss = 6.96239457401845e-09\n",
      "Iteration = 93001 \tAcc = 1.0 \tLoss = -0.0\n",
      "Iteration = 93251 \tAcc = 1.0 \tLoss = -0.0\n",
      "Iteration = 93501 \tAcc = 1.0 \tLoss = -0.0\n",
      "Iteration = 93751 \tAcc = 1.0 \tLoss = 0.0030031313094886487\n",
      "Iteration = 94001 \tAcc = 1.0 \tLoss = 0.11643310618163705\n",
      "Iteration = 94251 \tAcc = 1.0 \tLoss = 0.00181711322406171\n",
      "Iteration = 94501 \tAcc = 1.0 \tLoss = 1.3035926790975439e-09\n",
      "Iteration = 94751 \tAcc = 1.0 \tLoss = 0.12246953272944382\n",
      "Iteration = 95001 \tAcc = 1.0 \tLoss = 0.12512935753376345\n",
      "Iteration = 95251 \tAcc = 1.0 \tLoss = -0.0\n",
      "Iteration = 95501 \tAcc = 1.0 \tLoss = -0.0\n",
      "Iteration = 95751 \tAcc = 1.0 \tLoss = 6.000089314302197e-12\n",
      "Iteration = 96001 \tAcc = 1.0 \tLoss = 0.0029910721429790917\n",
      "Iteration = 96251 \tAcc = 1.0 \tLoss = -0.0\n",
      "Iteration = 96501 \tAcc = 1.0 \tLoss = 0.0024230984407473525\n",
      "Iteration = 96751 \tAcc = 1.0 \tLoss = -0.0\n",
      "Iteration = 97001 \tAcc = 1.0 \tLoss = 0.002272474187894024\n",
      "Iteration = 97251 \tAcc = 1.0 \tLoss = 5.211719944511453e-12\n",
      "Iteration = 97501 \tAcc = 1.0 \tLoss = 5.88365080610472e-09\n",
      "Iteration = 97751 \tAcc = 1.0 \tLoss = -0.0\n",
      "Iteration = 98001 \tAcc = 1.0 \tLoss = 2.0748514018224952e-11\n",
      "Iteration = 98251 \tAcc = 1.0 \tLoss = -0.0\n",
      "Iteration = 98501 \tAcc = 1.0 \tLoss = 0.0015371175727227765\n",
      "Iteration = 98751 \tAcc = 1.0 \tLoss = 0.0012552091420507398\n",
      "Iteration = 99001 \tAcc = 1.0 \tLoss = 1.0460902149987196e-09\n",
      "Iteration = 99251 \tAcc = 1.0 \tLoss = 4.4815262612119486e-12\n",
      "Iteration = 99501 \tAcc = 1.0 \tLoss = 0.03991702224278788\n",
      "Iteration = 99751 \tAcc = 1.0 \tLoss = 0.053212580743462544\n"
     ]
    }
   ],
   "source": [
    "model.sgd(X, Y, 100000, 0.005)"
   ]
  },
  {
   "cell_type": "markdown",
   "metadata": {},
   "source": [
    "Seems like it has fitted the data 100\\%. Let's see what the decision boundary looks like."
   ]
  },
  {
   "cell_type": "code",
   "execution_count": 34,
   "metadata": {},
   "outputs": [
    {
     "data": {
      "image/png": "[encoded data removed]",
      "text/plain": [
       "<Figure size 432x288 with 1 Axes>"
      ]
     },
     "metadata": {
      "needs_background": "light"
     },
     "output_type": "display_data"
    }
   ],
   "source": [
    "# Create a grid of points to classify\n",
    "xx1, xx2 = np.meshgrid(np.arange(-3, 3, 0.005), np.arange(-3, 3, 0.005))\n",
    "\n",
    "# Flatten the grid to pass into model\n",
    "grid = np.c_[xx1.ravel(), xx2.ravel()].T\n",
    "\n",
    "# Predict classification at every point on the grid\n",
    "Z = model.forward(grid)[1,:].reshape(xx1.shape)\n",
    "\n",
    "# Plot the prediction regions.\n",
    "plt.imshow(Z, interpolation='bicubic', origin='lower', extent=[-3, 3, -3, 3], \n",
    "           cmap=ListedColormap(['#1f77b4', '#ff7f0e']), alpha=0.55, aspect='auto')\n",
    "\n",
    "# Plot the original points.\n",
    "_ = plt.scatter(X[0,:], X[1,:], c=Y[1,:], cmap=ListedColormap(['#1f77b4', '#ff7f0e']))"
   ]
  }
 ],
 "metadata": {
  "kernelspec": {
   "display_name": "Python 3",
   "language": "python",
   "name": "python3"
  },
  "language_info": {
   "codemirror_mode": {
    "name": "ipython",
    "version": 3
   },
   "file_extension": ".py",
   "mimetype": "text/x-python",
   "name": "python",
   "nbconvert_exporter": "python",
   "pygments_lexer": "ipython3",
   "version": "3.6.7"
  }
 },
 "nbformat": 4,
 "nbformat_minor": 2
}
