{
 "cells": [
  {
   "cell_type": "code",
   "execution_count": 1,
   "metadata": {},
   "outputs": [],
   "source": [
    "import numpy as np\n",
    "%matplotlib inline\n",
    "from matplotlib.colors import ListedColormap\n",
    "from matplotlib import pyplot as plt"
   ]
  },
  {
   "cell_type": "markdown",
   "metadata": {},
   "source": [
    "# NumPy Feed-Forward Neural Network\n",
    "\n",
    "This notebook walks through the process of constructing a feed-forward neural network for multi-class classification solely using NumPy.\n",
    "\n",
    "## Layers\n",
    "\n",
    "For our neural network, we want to abstract away from individual neurons and focus on layers. Each element of the network will be defined by a certain layer.\n",
    "\n",
    "### Base Layer\n",
    "\n",
    "The abstract base layer ensures that all called methods by the `Sequential` model exist on the layers. "
   ]
  },
  {
   "cell_type": "code",
   "execution_count": 2,
   "metadata": {},
   "outputs": [],
   "source": [
    "class Layer:\n",
    "    \"\"\"Base class for neural network layers.\"\"\""
   ]
  },
  {
   "cell_type": "markdown",
   "metadata": {},
   "source": [
    "In this case, we only need to worry about the `sgd_step` method as some layers won't need to update any weights because they don't have any (e.g. activation layers)."
   ]
  },
  {
   "cell_type": "code",
   "execution_count": 3,
   "metadata": {},
   "outputs": [],
   "source": [
    "    def sgd_step(self, lrate):\n",
    "        \"\"\"Some layers do not have weights to update on gradient descent steps.\"\"\"\n",
    "\n",
    "# Add this method to the Layer class\n",
    "Layer.sgd_step = sgd_step"
   ]
  },
  {
   "cell_type": "markdown",
   "metadata": {},
   "source": [
    "### Linear Layer\n",
    "\n",
    "This is the simplest layer that makes up the majority of our neural network."
   ]
  },
  {
   "cell_type": "code",
   "execution_count": 4,
   "metadata": {},
   "outputs": [],
   "source": [
    "class Linear(Layer):\n",
    "    \"\"\"A simple, fully-connected linear layer.\"\"\""
   ]
  },
  {
   "cell_type": "markdown",
   "metadata": {},
   "source": [
    "To set up this layer, we need to know the input and output dimensions ahead of time. Using this information, we randomly initialize the weight matrices."
   ]
  },
  {
   "cell_type": "code",
   "execution_count": 5,
   "metadata": {},
   "outputs": [],
   "source": [
    "    def __init__(self, m, n):\n",
    "        \"\"\"Initializes the layer based on input and output dimensions. \n",
    "\n",
    "        Note: Kernel is initialized using normal distribution with mean 0 and \n",
    "        variance 1 / m. All biases are initialized to zero.\n",
    "\n",
    "        Args:\n",
    "            m (int): Number of inputs to the layer.\n",
    "            n (int): Number of outputs from the layer.\n",
    "\n",
    "        \"\"\"\n",
    "        self.m, self.n = m, n\n",
    "\n",
    "        self.W0 = np.zeros((n, 1))\n",
    "        self.W = np.random.normal(0, np.sqrt(1 / m), (m, n))\n",
    "\n",
    "# Add this method to the Linear layer class\n",
    "Linear.__init__ = __init__"
   ]
  },
  {
   "cell_type": "markdown",
   "metadata": {},
   "source": [
    "The `forward` method will compute the output of the layer given a set of $m$ inputs from the previous layer for a batch of size $b$."
   ]
  },
  {
   "cell_type": "code",
   "execution_count": 6,
   "metadata": {},
   "outputs": [],
   "source": [
    "    def forward(self, A):\n",
    "        \"\"\"Computes the forward pass through the linear network for a batch.\n",
    "\n",
    "        Args:\n",
    "            A (ndarray): An m by b matrix representing the m activations from the\n",
    "                previous layer for a batch of size b.\n",
    "\n",
    "        Returns:\n",
    "            ndarray: An n by b matrix representing the result of passing the \n",
    "                activations through the network layer for a batch of size b.\n",
    "\n",
    "        \"\"\"\n",
    "        self.A = A\n",
    "\n",
    "        return self.W.T @ self.A + self.W0\n",
    "\n",
    "# Add this method to the Linear layer class\n",
    "Linear.forward = forward"
   ]
  },
  {
   "cell_type": "markdown",
   "metadata": {},
   "source": [
    "The `backward` method will compute the gradient of the loss with respect to the inputs to the layer for a batch of size $b$. Note: There is an implicit sum over all $b$ in the `dLdW` calculation."
   ]
  },
  {
   "cell_type": "code",
   "execution_count": 7,
   "metadata": {},
   "outputs": [],
   "source": [
    "    def backward(self, dLdZ):\n",
    "        \"\"\"Uses the gradient of loss with respect to outputs of the layer for a \n",
    "        batch to update the sum of gradients of the loss with respect to the \n",
    "        weights for the entire batch. Also returns the gradient of the loss with \n",
    "        respect to the inputs to the layer for a batch.\n",
    "\n",
    "        Args:\n",
    "            dLdZ (ndarray): An n by b matrix representing the gradient of the loss\n",
    "                with respect to the layer outputs for a batch of size b.\n",
    "\n",
    "        Returns:\n",
    "            ndarray: An m by b matrix representing the gradient of the loss with \n",
    "                respect to the inputs to the layer for a batch of size b.\n",
    "\n",
    "        \"\"\"\n",
    "        self.dLdW = self.A @ dLdZ.T  # Implicit sum over all b\n",
    "        self.dLdW0 = np.sum(dLdZ, axis=1, keepdims=True)\n",
    "\n",
    "        return self.W @ dLdZ\n",
    "\n",
    "# Add this method to the Linear layer class\n",
    "Linear.backward = backward"
   ]
  },
  {
   "cell_type": "markdown",
   "metadata": {},
   "source": [
    "Lastly, we need a method to update the weight matrices using the current weight gradients for a batch."
   ]
  },
  {
   "cell_type": "code",
   "execution_count": 8,
   "metadata": {},
   "outputs": [],
   "source": [
    "    def sgd_step(self, lrate):\n",
    "        \"\"\"Performs a single step of gradient descent to update the weights for a \n",
    "        single batch of points.\n",
    "\n",
    "        Args:\n",
    "            lrate (float): A learning rate to scale the gradient for the update.\n",
    "\n",
    "        \"\"\"\n",
    "        self.W = self.W - lrate * self.dLdW\n",
    "        self.W0 = self.W0 - lrate * self.dLdW0\n",
    "        \n",
    "# Add this method to the Linear layer class\n",
    "Linear.sgd_step = sgd_step"
   ]
  },
  {
   "cell_type": "markdown",
   "metadata": {},
   "source": [
    "### Hyperbolic Tangent Activation Layer\n",
    "\n",
    "This layer encapsulates the hyperbolic tangent activation function."
   ]
  },
  {
   "cell_type": "code",
   "execution_count": 9,
   "metadata": {},
   "outputs": [],
   "source": [
    "class Tanh(Layer):\n",
    "    \"\"\"Hyperbolic tangent activation layer.\"\"\""
   ]
  },
  {
   "cell_type": "markdown",
   "metadata": {},
   "source": [
    "The `forward` method take a preactivation from the previous layer and computes the activation using the hyperbolic tangent function."
   ]
  },
  {
   "cell_type": "code",
   "execution_count": 10,
   "metadata": {},
   "outputs": [],
   "source": [
    "    def forward(self, Z):\n",
    "        \"\"\"Computes the output of the hyperbolic tangent activation layer.\n",
    "\n",
    "        Args:\n",
    "            Z (ndarray): An n by b matrix representing the input pre-activations\n",
    "                of the layer for a batch of size b.\n",
    "\n",
    "        Returns:\n",
    "            ndarray: An n by b matrix representing the output of the layer after\n",
    "                using the hyperbolic tangent activation on all inputs for a batch\n",
    "                of size b.\n",
    "\n",
    "        \"\"\"\n",
    "        self.A = np.tanh(Z)\n",
    "\n",
    "        return self.A\n",
    "\n",
    "# Add this method to the Tanh layer class\n",
    "Tanh.forward = forward"
   ]
  },
  {
   "cell_type": "markdown",
   "metadata": {},
   "source": [
    "The `backward` method computes the gradient of the loss with respect to the inputs to the activation layer."
   ]
  },
  {
   "cell_type": "code",
   "execution_count": 11,
   "metadata": {},
   "outputs": [],
   "source": [
    "    def backward(self, dLdA):\n",
    "        \"\"\"Computes the gradient of the loss with respect to the inputs to the\n",
    "        layer using the gradient of the loss with respect to the outputs of the\n",
    "        layer for a single batch.\n",
    "\n",
    "        Args:\n",
    "            dLdA (ndarray): An n by b matrix representing the gradient of the loss\n",
    "                with respect to the outputs for the layer for a batch of size b.\n",
    "\n",
    "        Returns:\n",
    "            ndarray: An n by b matrix representing the gradient of the loss with\n",
    "                respect to the inputs of the layer for a batch of size b.\n",
    "\n",
    "        \"\"\"\n",
    "        return (1 - self.A ** 2) * dLdA\n",
    "\n",
    "# Add this method to the Tanh layer class\n",
    "Tanh.backward = backward"
   ]
  },
  {
   "cell_type": "markdown",
   "metadata": {},
   "source": [
    "This layer has no weights to update. Therefore, no `sgd_step` function is required.\n",
    "\n",
    "### Rectified Linear Unit Activation Layer\n",
    "\n",
    "This layer encapsulates the rectified linear unit activation function."
   ]
  },
  {
   "cell_type": "code",
   "execution_count": 12,
   "metadata": {},
   "outputs": [],
   "source": [
    "class ReLU(Layer):\n",
    "    \"\"\"Rectified linear unit layer.\"\"\""
   ]
  },
  {
   "cell_type": "markdown",
   "metadata": {},
   "source": [
    "The `forward` method take a preactivation from the previous layer and computes the activation using the relu function."
   ]
  },
  {
   "cell_type": "code",
   "execution_count": 13,
   "metadata": {},
   "outputs": [],
   "source": [
    "    def forward(self, Z):\n",
    "        \"\"\"Computes the output of the rectified linear unit layer.\n",
    "        \n",
    "        Args:\n",
    "            Z (ndarray): An n by b matrix representing the input pre-activations\n",
    "                of the layer for a batch of size b.\n",
    "        \n",
    "        Returns:\n",
    "            ndarray: An n by b matrix representing the output of the layer after\n",
    "                using the rectified linear activation on all inputs for a batch\n",
    "                of size b.\n",
    "        \n",
    "        \"\"\"\n",
    "        self.A = np.maximum(0, Z)\n",
    "        \n",
    "        return self.A\n",
    "    \n",
    "# Add this method to the ReLU layer class\n",
    "ReLU.forward = forward"
   ]
  },
  {
   "cell_type": "markdown",
   "metadata": {},
   "source": [
    "The `backward` method computes the gradient of the loss with respect to the inputs to the activation layer."
   ]
  },
  {
   "cell_type": "code",
   "execution_count": 14,
   "metadata": {},
   "outputs": [],
   "source": [
    "    def backward(self, dLdA):\n",
    "        \"\"\"Computes the gradient of the loss with respect to the inputs to the\n",
    "        layer using the gradient of the loss with respect to the outputs of the\n",
    "        layer for a single batch.\n",
    "\n",
    "        Args:\n",
    "            dLdA (ndarray): An n by b matrix representing the gradient of the loss\n",
    "                with respect to the outputs for the layer for a batch of size b.\n",
    "\n",
    "        Returns:\n",
    "            ndarray: An n by b matrix representing the gradient of the loss with\n",
    "                respect to the inputs of the layer for a batch of size b.\n",
    "\n",
    "        \"\"\"\n",
    "        return np.sign(self.A) * dLdA\n",
    "    \n",
    "# Add this method to the ReLU layer class\n",
    "ReLU.backward = backward"
   ]
  },
  {
   "cell_type": "markdown",
   "metadata": {},
   "source": [
    "This layer has no weights to update. Therefore, no `sgd_step` function is required.\n",
    "\n",
    "### Softmax Activation Layer\n",
    "\n",
    "This layer encapsulates the softmax activation function."
   ]
  },
  {
   "cell_type": "code",
   "execution_count": 15,
   "metadata": {},
   "outputs": [],
   "source": [
    "class SoftMax(Layer):\n",
    "    \"\"\"Softmax activation layer.\"\"\""
   ]
  },
  {
   "cell_type": "markdown",
   "metadata": {},
   "source": [
    "The `forward` method take a preactivation from the previous layer and computes the activation using the softmax function."
   ]
  },
  {
   "cell_type": "code",
   "execution_count": 16,
   "metadata": {},
   "outputs": [],
   "source": [
    "    def forward(self, Z):\n",
    "        \"\"\"Computes the softmax activation given the inputs from the previous\n",
    "        layer for a single batch.\n",
    "\n",
    "        Args:\n",
    "            Z (ndarray): An n by b matrix representing the inputs to the softmax\n",
    "                layer for a batch of size b.\n",
    "\n",
    "        Returns:\n",
    "            ndarray: An n by b matrix of outputs from softmax for a batch of \n",
    "                size b.\n",
    "\n",
    "        \"\"\"\n",
    "        self.A = np.exp(Z) / np.sum(np.exp(Z), axis=0, keepdims=True)\n",
    "        \n",
    "        return self.A\n",
    "\n",
    "# Add this method to the SoftMax layer class\n",
    "SoftMax.forward = forward"
   ]
  },
  {
   "cell_type": "markdown",
   "metadata": {},
   "source": [
    "The `backward` method computes the gradient of the loss with respect to the inputs to the activation layer. Note that I *do not* assume that $\\partial \\mathrm{Loss} / \\partial Z^L$ is passed in directly. More information on how this works can be found in the 'Einstein Summation' notebook."
   ]
  },
  {
   "cell_type": "code",
   "execution_count": 17,
   "metadata": {},
   "outputs": [],
   "source": [
    "    def backward(self, dLdA):\n",
    "        \"\"\"Computes the gradient of the loss with respect to the inputs to the\n",
    "        layer using the gradient of the loss with respect to the outputs of the\n",
    "        layer for a single batch.\n",
    "\n",
    "        Args:\n",
    "            dLdA (ndarray): An n by b matrix representing the gradient of the loss\n",
    "                with respect to the outputs for the layer for a batch of size b.\n",
    "\n",
    "        Returns:\n",
    "            ndarray: An n by b matrix representing the gradient of the loss with\n",
    "                respect to the inputs of the layer for a batch of size b.\n",
    "                \n",
    "        \"\"\"\n",
    "        n, _ = dLdA.shape\n",
    "        \n",
    "        dAdZ = np.einsum('jk,jk,ji->ijk', self.A, 1 - self.A, np.eye(n)) \\\n",
    "                + np.einsum('jk,ik,ji->ijk', -self.A, self.A, 1 - np.eye(n))\n",
    "        \n",
    "        return np.einsum('ikj,kj->ij', dAdZ, dLdA)\n",
    "\n",
    "# Add this method to the SoftMax layer class\n",
    "SoftMax.backward = backward"
   ]
  },
  {
   "cell_type": "markdown",
   "metadata": {},
   "source": [
    "To make prediction a little easier, we also provide a method that will determine the classes of highest probability as returned from a softmax prediction."
   ]
  },
  {
   "cell_type": "code",
   "execution_count": 18,
   "metadata": {},
   "outputs": [],
   "source": [
    "    def class_fun(self, Ypred):  # Return class indices\n",
    "        \"\"\"Computes the index of maximum value given the softmax outputs from a\n",
    "        layer for a single batch.\n",
    "\n",
    "        Args:\n",
    "            Ypred (ndarray): An n by b matrix representing the softmax outputs of a\n",
    "                layer for a batch of size b.\n",
    "\n",
    "        Returns:\n",
    "            ndarray: A 1 by b row vectors representing the indices of maximum value\n",
    "                for each output from a batch of size b.\n",
    "\n",
    "        \"\"\"\n",
    "        return np.argmax(Ypred, axis=0)\n",
    "\n",
    "# Add this method to the SoftMax layer class\n",
    "SoftMax.class_fun = class_fun"
   ]
  },
  {
   "cell_type": "markdown",
   "metadata": {},
   "source": [
    "This layer has no weights to update. Therefore, no `sgd_step` function is required.\n",
    "\n",
    "### Negative Log-Likelihood Multi-Class Loss Layer\n",
    "\n",
    "This isn't really a layer, but it functions quite similarly to one. It will take predictions and actual labels and compute the categorical cross-entropy loss."
   ]
  },
  {
   "cell_type": "code",
   "execution_count": 19,
   "metadata": {},
   "outputs": [],
   "source": [
    "class NLL(Layer):\n",
    "    \"\"\"Negative log-likelihood loss layer.\"\"\""
   ]
  },
  {
   "cell_type": "markdown",
   "metadata": {},
   "source": [
    "The `forward` method will compute the loss between predicted and actual labels using categorical cross-entropy loss."
   ]
  },
  {
   "cell_type": "code",
   "execution_count": 20,
   "metadata": {},
   "outputs": [],
   "source": [
    "    def forward(self, Ypred, Y):\n",
    "        \"\"\"Computes the loss given the predicted and actual results.\n",
    "\n",
    "        Args:\n",
    "            Ypred (ndarray): An n by b matrix representing the predicted results\n",
    "                from the network for a batch of size b.\n",
    "            Y (ndarray): An n by b matrix representing the actual expected results\n",
    "                for a batch of size b.\n",
    "\n",
    "        Returns:\n",
    "            float: A scalar representing the total loss for each of the outputs\n",
    "                in a batch of size b.\n",
    "\n",
    "        \"\"\"\n",
    "        self.Ypred = Ypred\n",
    "        self.Y = Y\n",
    "\n",
    "        return -np.sum(self.Y * np.log(self.Ypred))\n",
    "\n",
    "# Add this method to the NLL layer class\n",
    "NLL.forward = forward"
   ]
  },
  {
   "cell_type": "markdown",
   "metadata": {},
   "source": [
    "The `backward` method will compute the gradient of the loss with respect to the predicted outputs from the network. (Note: this is *not* in terms of the pre-activations, but the actual activations. To learn more about this, look at the 'Einstein Summation' notebook.)"
   ]
  },
  {
   "cell_type": "code",
   "execution_count": 21,
   "metadata": {},
   "outputs": [],
   "source": [
    "    def backward(self):\n",
    "        \"\"\"Computes the gradient of the loss with respect to predicted targets for\n",
    "        a single batch.\n",
    "        \n",
    "        Returns:\n",
    "            ndarray: An n by b matrix representing the gradient of loss with\n",
    "                respect to predicted targets for a batch of size b.\n",
    "                \n",
    "        \"\"\"\n",
    "        return -self.Y / self.Ypred\n",
    "\n",
    "# Add this method to the NLL layer class\n",
    "NLL.backward = backward"
   ]
  },
  {
   "cell_type": "markdown",
   "metadata": {},
   "source": [
    "This layer has no weights to update. Therefore, no `sgd_step` function is required.\n",
    "\n",
    "## Model\n",
    "\n",
    "Now that we have all the components to make up a simple neural network, we can combine them together into a model.\n",
    "\n",
    "### Sequential Model\n",
    "\n",
    "This is the simplest type of model which just linearly stacks each layer together."
   ]
  },
  {
   "cell_type": "code",
   "execution_count": 22,
   "metadata": {},
   "outputs": [],
   "source": [
    "class Sequential:\n",
    "    \"\"\"A standard neural network model with linear stacked layers.\"\"\""
   ]
  },
  {
   "cell_type": "markdown",
   "metadata": {},
   "source": [
    "Before we can do anything with the model, we need to know what layers should be included and what loss should be used to compute gradient updates"
   ]
  },
  {
   "cell_type": "code",
   "execution_count": 23,
   "metadata": {},
   "outputs": [],
   "source": [
    "    def __init__(self, layers, loss):\n",
    "        \"\"\"Initialize the layers and the loss for the network.\n",
    "        \n",
    "        Args:\n",
    "            layers (list of Layer): A list of layers to make up the linear\n",
    "                neural network.\n",
    "            loss (Layer): A final layer to use to compute the loss of the\n",
    "                neural network.\n",
    "        \n",
    "        \"\"\"\n",
    "        self.layers = layers\n",
    "        self.loss = loss\n",
    "\n",
    "# Add this method to the Sequential model class\n",
    "Sequential.__init__ = __init__"
   ]
  },
  {
   "cell_type": "markdown",
   "metadata": {},
   "source": [
    "To make predictions with the network, we use the `forward` method. This passes the data through every layer and returns the result."
   ]
  },
  {
   "cell_type": "code",
   "execution_count": 24,
   "metadata": {},
   "outputs": [],
   "source": [
    "    def forward(self, Xt):\n",
    "        \"\"\"Predicts the output for a training input batch.\n",
    "        \n",
    "        Args:\n",
    "            Xt (ndarray): A d by b matrix of points to predict\n",
    "                with dimension d and batch size b.\n",
    "        \n",
    "        Returns:\n",
    "            ndarray: A 1 by b matrix representing the predicted\n",
    "                outputs of the neural network for a batch size b.\n",
    "        \n",
    "        \"\"\"\n",
    "        for layer in self.layers:\n",
    "            Xt = layer.forward(Xt)\n",
    "            \n",
    "        return Xt\n",
    "\n",
    "# Add this method to the Sequential model class\n",
    "Sequential.forward = forward"
   ]
  },
  {
   "cell_type": "markdown",
   "metadata": {},
   "source": [
    "To train the network, we will use stochastic gradient descent. Before we define the stochastic gradient descent training loop, we have to back-propogate the error throughout the layers of the network. To do this, we use the `backward` method."
   ]
  },
  {
   "cell_type": "code",
   "execution_count": 25,
   "metadata": {},
   "outputs": [],
   "source": [
    "    def backward(self, dLdA):\n",
    "        \"\"\"Computes the gradients of the loss with respect to each weight\n",
    "        in the neural network to prepare for stochastic gradient descent.\n",
    "        \n",
    "        Args:\n",
    "            dLdA (ndarray): An n by b matrix representing the gradient of the\n",
    "                loss with respect to the outputs of the neural network for a\n",
    "                batch of size b.\n",
    "        \n",
    "        \"\"\"\n",
    "        for layer in self.layers[::-1]:\n",
    "            dLdA = layer.backward(dLdA)\n",
    "\n",
    "# Add this method to the Sequential model class\n",
    "Sequential.backward = backward"
   ]
  },
  {
   "cell_type": "markdown",
   "metadata": {},
   "source": [
    "Once the error is propogated through all the layers, each layer can update their weight matrices. For a single step, this is achieved through the `sgd_step` method."
   ]
  },
  {
   "cell_type": "code",
   "execution_count": 26,
   "metadata": {},
   "outputs": [],
   "source": [
    "    def sgd_step(self, lrate):\n",
    "        \"\"\"Runs a single update step on the weight matrices throughout the\n",
    "        neural network using stochastic gradient descent.\n",
    "        \n",
    "        Args:\n",
    "            lrate (float): Learning rate for the update step.\n",
    "        \n",
    "        \"\"\"\n",
    "        for layer in self.layers:\n",
    "            layer.sgd_step(lrate)\n",
    "\n",
    "# Add this method to the Sequential model class\n",
    "Sequential.sgd_step = sgd_step"
   ]
  },
  {
   "cell_type": "markdown",
   "metadata": {},
   "source": [
    "Now we loop over the data applying many stochastic gradient descent update steps."
   ]
  },
  {
   "cell_type": "code",
   "execution_count": 27,
   "metadata": {},
   "outputs": [],
   "source": [
    "    def sgd(self, X, Y, iters=100, lrate=0.005):\n",
    "        \"\"\"Trains the neural network by running stochastic gradient descent.\n",
    "        \n",
    "        Args:\n",
    "            X (ndarray): A d by n matrix representing n training data points\n",
    "                each with d dimensions.\n",
    "            Y (ndarray): A 1 by n matrix representing n training labels.\n",
    "            iters (int): The number of iterations to run stochastic graident\n",
    "                descent.\n",
    "            lrate (float): The step size for stochastic gradient descent.\n",
    "        \n",
    "        \"\"\"\n",
    "        _, n = X.shape\n",
    "        \n",
    "        for it in range(iters):\n",
    "            \n",
    "            t = np.random.randint(n)\n",
    "            \n",
    "            Xt = X[:, t:t + 1]\n",
    "            Yt = Y[:, t:t + 1]\n",
    "            \n",
    "            loss = self.loss.forward(self.forward(Xt), Yt)\n",
    "            self.backward(self.loss.backward())      \n",
    "            \n",
    "            self.print_accuracy(it, X, Y, loss)\n",
    "            \n",
    "            self.sgd_step(lrate)\n",
    "            \n",
    "# Add this method to the Sequential model class\n",
    "Sequential.sgd = sgd"
   ]
  },
  {
   "cell_type": "markdown",
   "metadata": {},
   "source": [
    "We also create a helper method `print_accuracy` to display our progress as we train our network."
   ]
  },
  {
   "cell_type": "code",
   "execution_count": 28,
   "metadata": {},
   "outputs": [],
   "source": [
    "    def print_accuracy(self, it, X, Y, cur_loss, every=250):\n",
    "        \"\"\"Displays current prediction statistics.\n",
    "        \n",
    "        Args:\n",
    "            it (int): Current iteration.\n",
    "            X (ndarray): A d by n matrix of n points to evaluate, each with\n",
    "                d dimensions.\n",
    "            Y (ndarray): A 1 by n vector of n labels.\n",
    "            cur_loss (float): Current loss.\n",
    "            every (int): Frequency to output statistics.\n",
    "        \n",
    "        \"\"\"\n",
    "        if it % every == 1:\n",
    "            \n",
    "            cf = self.layers[-1].class_fun\n",
    "            acc = np.mean(cf(self.forward(X)) == cf(Y))\n",
    "            \n",
    "            print('Iteration =', it, '\\tAcc =', acc, '\\tLoss =', cur_loss, flush=True)\n",
    "\n",
    "# Add this method to the Sequential model class\n",
    "Sequential.print_accuracy = print_accuracy"
   ]
  },
  {
   "cell_type": "markdown",
   "metadata": {},
   "source": [
    "## Training\n",
    "\n",
    "Now that we have a model, let's train it on some data and see how well it can classify. We will use the standard 'hard' data set used previously."
   ]
  },
  {
   "cell_type": "code",
   "execution_count": 29,
   "metadata": {
    "scrolled": true
   },
   "outputs": [],
   "source": [
    "X = np.array([[-0.23390341,  1.18151883, -2.46493986,  1.55322202,  1.27621763,\n",
    "                2.39710997, -1.34403040, -0.46903436, -0.64673502, -1.44029872,\n",
    "               -1.37537243,  1.05994811, -0.93311512,  1.02735575, -0.84138778,\n",
    "               -2.22585412, -0.42591102,  1.03561105,  0.91125595, -2.26550369],\n",
    "              [-0.92254932, -1.10309630, -2.41956036, -1.15509002, -1.04805327,\n",
    "                0.08717325,  0.81847250, -0.75171045,  0.60664705,  0.80410947,\n",
    "               -0.11600488,  1.03747218, -0.67210575,  0.99944446, -0.65559838,\n",
    "               -0.40744784, -0.58367642,  1.05972780, -0.95991874, -1.41720255]])\n",
    "\n",
    "Y = np.array([[0., 0., 1., 0., 0., 0., 1., 1., 1., 1., 1., 0., 0., 0., 1., 1., 1., 0., 0., 1.],\n",
    "              [1., 1., 0., 1., 1., 1., 0., 0., 0., 0., 0., 1., 1., 1., 0., 0., 0., 1., 1., 0.]])"
   ]
  },
  {
   "cell_type": "markdown",
   "metadata": {},
   "source": [
    "Let's start by taking a look at our data."
   ]
  },
  {
   "cell_type": "code",
   "execution_count": 30,
   "metadata": {},
   "outputs": [
    {
     "data": {
      "image/png": "[encoded data removed]",
      "text/plain": [
       "<Figure size 432x288 with 1 Axes>"
      ]
     },
     "metadata": {
      "needs_background": "light"
     },
     "output_type": "display_data"
    }
   ],
   "source": [
    "_ = plt.scatter(X[0,:], X[1,:], c=Y[1,:], cmap=ListedColormap(['#1f77b4', '#ff7f0e']))"
   ]
  },
  {
   "cell_type": "markdown",
   "metadata": {},
   "source": [
    "Now we can construct a neural network we think might be able to classify these points."
   ]
  },
  {
   "cell_type": "code",
   "execution_count": 31,
   "metadata": {},
   "outputs": [],
   "source": [
    "model = Sequential([Linear(2, 10), ReLU(), \n",
    "                    Linear(10, 10), ReLU(), \n",
    "                    Linear(10, 2), SoftMax()], NLL())"
   ]
  },
  {
   "cell_type": "markdown",
   "metadata": {},
   "source": [
    "Let's try training the model on the data for a few thousand iterations."
   ]
  },
  {
   "cell_type": "code",
   "execution_count": 32,
   "metadata": {
    "scrolled": true
   },
   "outputs": [
    {
     "name": "stdout",
     "output_type": "stream",
     "text": [
      "Iteration = 1 \tAcc = 0.7 \tLoss = 0.3934914193303726\n",
      "Iteration = 251 \tAcc = 0.9 \tLoss = 0.12411735563525321\n",
      "Iteration = 501 \tAcc = 0.95 \tLoss = 0.44936215058337015\n",
      "Iteration = 751 \tAcc = 0.95 \tLoss = 0.023703123508501126\n",
      "Iteration = 1001 \tAcc = 0.95 \tLoss = 0.03389847921897066\n",
      "Iteration = 1251 \tAcc = 0.95 \tLoss = 0.040771498401040975\n",
      "Iteration = 1501 \tAcc = 0.95 \tLoss = 0.04041583067233898\n",
      "Iteration = 1751 \tAcc = 0.95 \tLoss = 0.005750435344733054\n",
      "Iteration = 2001 \tAcc = 0.95 \tLoss = 0.22655461864745374\n",
      "Iteration = 2251 \tAcc = 0.95 \tLoss = 0.0010722377951524911\n",
      "Iteration = 2501 \tAcc = 0.95 \tLoss = 0.05172183453643268\n",
      "Iteration = 2751 \tAcc = 0.95 \tLoss = 0.022242247645096684\n",
      "Iteration = 3001 \tAcc = 0.95 \tLoss = 0.03157322213905229\n",
      "Iteration = 3251 \tAcc = 0.95 \tLoss = 0.07051094667061675\n",
      "Iteration = 3501 \tAcc = 0.95 \tLoss = 0.37745435765886864\n",
      "Iteration = 3751 \tAcc = 0.95 \tLoss = 1.878718234366643e-05\n",
      "Iteration = 4001 \tAcc = 0.95 \tLoss = 0.0009934308898585354\n",
      "Iteration = 4251 \tAcc = 0.95 \tLoss = 0.024471157611222035\n",
      "Iteration = 4501 \tAcc = 0.95 \tLoss = 1.8575603218133008\n",
      "Iteration = 4751 \tAcc = 0.95 \tLoss = 0.03700767043415097\n",
      "Iteration = 5001 \tAcc = 0.95 \tLoss = 0.0003637526769248513\n",
      "Iteration = 5251 \tAcc = 0.95 \tLoss = 0.0016443918592251529\n",
      "Iteration = 5501 \tAcc = 0.95 \tLoss = 0.016315097498260225\n",
      "Iteration = 5751 \tAcc = 0.95 \tLoss = 0.005520203096089413\n",
      "Iteration = 6001 \tAcc = 0.95 \tLoss = 0.21678804870759608\n",
      "Iteration = 6251 \tAcc = 0.95 \tLoss = 0.005905096402422633\n",
      "Iteration = 6501 \tAcc = 0.95 \tLoss = 0.2274420308802165\n",
      "Iteration = 6751 \tAcc = 0.95 \tLoss = 0.006146658603942413\n",
      "Iteration = 7001 \tAcc = 0.95 \tLoss = 8.388903693246218e-05\n",
      "Iteration = 7251 \tAcc = 0.95 \tLoss = 0.14282110077083526\n",
      "Iteration = 7501 \tAcc = 0.95 \tLoss = 0.008909254308614273\n",
      "Iteration = 7751 \tAcc = 0.95 \tLoss = 0.0006578489613627756\n",
      "Iteration = 8001 \tAcc = 0.95 \tLoss = 0.36659338779338\n",
      "Iteration = 8251 \tAcc = 0.95 \tLoss = 5.2301852444303974e-05\n",
      "Iteration = 8501 \tAcc = 0.95 \tLoss = 0.12122549269248557\n",
      "Iteration = 8751 \tAcc = 0.95 \tLoss = 0.003907392710635276\n",
      "Iteration = 9001 \tAcc = 0.95 \tLoss = 1.1447667991540584e-07\n",
      "Iteration = 9251 \tAcc = 0.95 \tLoss = 0.3109134351847943\n",
      "Iteration = 9501 \tAcc = 0.95 \tLoss = 0.04491861277223132\n",
      "Iteration = 9751 \tAcc = 0.95 \tLoss = 1.670809796435294e-06\n",
      "Iteration = 10001 \tAcc = 0.95 \tLoss = 0.023123408614060113\n",
      "Iteration = 10251 \tAcc = 0.95 \tLoss = 0.10802438458168738\n",
      "Iteration = 10501 \tAcc = 0.95 \tLoss = 0.0024395282364348043\n",
      "Iteration = 10751 \tAcc = 0.95 \tLoss = 0.0003404127472996712\n",
      "Iteration = 11001 \tAcc = 0.95 \tLoss = 1.885885898575243e-08\n",
      "Iteration = 11251 \tAcc = 0.95 \tLoss = 1.471182008711023\n",
      "Iteration = 11501 \tAcc = 0.95 \tLoss = 0.002016508527984569\n",
      "Iteration = 11751 \tAcc = 0.95 \tLoss = 0.08919078398558873\n",
      "Iteration = 12001 \tAcc = 0.95 \tLoss = 0.09182961072662747\n",
      "Iteration = 12251 \tAcc = 0.95 \tLoss = 1.8389813253361964e-07\n",
      "Iteration = 12501 \tAcc = 0.95 \tLoss = 0.22117675965425213\n",
      "Iteration = 12751 \tAcc = 0.95 \tLoss = 0.00018746357700072621\n",
      "Iteration = 13001 \tAcc = 0.95 \tLoss = 0.05970545401333278\n",
      "Iteration = 13251 \tAcc = 0.95 \tLoss = 0.08122096671588885\n",
      "Iteration = 13501 \tAcc = 0.95 \tLoss = 1.75815866691336e-05\n",
      "Iteration = 13751 \tAcc = 0.95 \tLoss = 5.871966518893402e-08\n",
      "Iteration = 14001 \tAcc = 0.95 \tLoss = 0.06255766917989933\n",
      "Iteration = 14251 \tAcc = 0.95 \tLoss = 4.4093819413714643e-07\n",
      "Iteration = 14501 \tAcc = 0.95 \tLoss = 7.62635177522436e-10\n",
      "Iteration = 14751 \tAcc = 0.95 \tLoss = 1.038991015833111e-05\n",
      "Iteration = 15001 \tAcc = 0.95 \tLoss = 2.736052821765566e-08\n",
      "Iteration = 15251 \tAcc = 0.95 \tLoss = 0.22499875375866335\n",
      "Iteration = 15501 \tAcc = 0.95 \tLoss = 0.2945129976797181\n",
      "Iteration = 15751 \tAcc = 0.95 \tLoss = 1.749194671085233e-08\n",
      "Iteration = 16001 \tAcc = 0.95 \tLoss = 2.093059224048725e-07\n",
      "Iteration = 16251 \tAcc = 0.95 \tLoss = 0.042052455763472205\n",
      "Iteration = 16501 \tAcc = 0.95 \tLoss = 0.21347137422751009\n",
      "Iteration = 16751 \tAcc = 0.95 \tLoss = 0.07612743922247481\n",
      "Iteration = 17001 \tAcc = 0.95 \tLoss = 0.06838861721535214\n",
      "Iteration = 17251 \tAcc = 0.95 \tLoss = 2.5664700105583724e-07\n",
      "Iteration = 17501 \tAcc = 0.95 \tLoss = 0.057134589510469076\n",
      "Iteration = 17751 \tAcc = 0.95 \tLoss = 1.0087041190587642\n",
      "Iteration = 18001 \tAcc = 0.95 \tLoss = 0.3810845860630388\n",
      "Iteration = 18251 \tAcc = 0.95 \tLoss = 0.09156134527787897\n",
      "Iteration = 18501 \tAcc = 0.95 \tLoss = 6.828119081228342e-08\n",
      "Iteration = 18751 \tAcc = 0.95 \tLoss = 0.035472509064088574\n",
      "Iteration = 19001 \tAcc = 0.95 \tLoss = 1.0659193396777618\n",
      "Iteration = 19251 \tAcc = 0.95 \tLoss = 0.00033005968623555537\n",
      "Iteration = 19501 \tAcc = 1.0 \tLoss = 2.583826530585253e-08\n",
      "Iteration = 19751 \tAcc = 0.95 \tLoss = 7.852961888435339e-05\n",
      "Iteration = 20001 \tAcc = 0.95 \tLoss = 1.317567973142155\n",
      "Iteration = 20251 \tAcc = 1.0 \tLoss = 0.02766151505308017\n",
      "Iteration = 20501 \tAcc = 0.95 \tLoss = 9.960496735280706e-07\n",
      "Iteration = 20751 \tAcc = 0.95 \tLoss = 4.1805551349134185e-05\n",
      "Iteration = 21001 \tAcc = 0.95 \tLoss = 0.06414696900650756\n",
      "Iteration = 21251 \tAcc = 0.95 \tLoss = 1.2157221636679781e-08\n",
      "Iteration = 21501 \tAcc = 0.95 \tLoss = 0.0013076460887208813\n",
      "Iteration = 21751 \tAcc = 0.95 \tLoss = 3.9267370215665495e-07\n",
      "Iteration = 22001 \tAcc = 1.0 \tLoss = 0.07595080837431376\n",
      "Iteration = 22251 \tAcc = 0.95 \tLoss = 0.013386410885680823\n",
      "Iteration = 22501 \tAcc = 1.0 \tLoss = 2.4783066993148692e-05\n",
      "Iteration = 22751 \tAcc = 1.0 \tLoss = 0.09934522140564246\n",
      "Iteration = 23001 \tAcc = 1.0 \tLoss = 0.0579718263284432\n",
      "Iteration = 23251 \tAcc = 0.95 \tLoss = 0.0041144144411106144\n",
      "Iteration = 23501 \tAcc = 0.95 \tLoss = 6.905184115029016e-09\n",
      "Iteration = 23751 \tAcc = 1.0 \tLoss = 0.6836741670282984\n",
      "Iteration = 24001 \tAcc = 0.95 \tLoss = 0.0060707345340905395\n",
      "Iteration = 24251 \tAcc = 1.0 \tLoss = 2.8133051444005425e-13\n",
      "Iteration = 24501 \tAcc = 0.95 \tLoss = 1.3917419616065288e-05\n",
      "Iteration = 24751 \tAcc = 1.0 \tLoss = 1.1471228418187535e-09\n",
      "Iteration = 25001 \tAcc = 0.95 \tLoss = 1.245177941674306e-07\n",
      "Iteration = 25251 \tAcc = 1.0 \tLoss = 0.0003787526171783812\n",
      "Iteration = 25501 \tAcc = 0.95 \tLoss = 0.012681246513480217\n",
      "Iteration = 25751 \tAcc = 0.95 \tLoss = 9.47321221915943e-10\n",
      "Iteration = 26001 \tAcc = 1.0 \tLoss = 9.121441268795761e-06\n",
      "Iteration = 26251 \tAcc = 0.95 \tLoss = 0.004402865878884308\n",
      "Iteration = 26501 \tAcc = 0.95 \tLoss = 0.03532531107148847\n",
      "Iteration = 26751 \tAcc = 0.95 \tLoss = 1.1783860006365048\n",
      "Iteration = 27001 \tAcc = 1.0 \tLoss = 0.032707534992321145\n",
      "Iteration = 27251 \tAcc = 1.0 \tLoss = 5.340034215624308e-06\n",
      "Iteration = 27501 \tAcc = 1.0 \tLoss = 5.568657961768283e-06\n",
      "Iteration = 27751 \tAcc = 0.95 \tLoss = 2.3663186505511353e-06\n",
      "Iteration = 28001 \tAcc = 0.95 \tLoss = 1.012471850582188e-05\n",
      "Iteration = 28251 \tAcc = 0.95 \tLoss = 0.010517402470713462\n",
      "Iteration = 28501 \tAcc = 1.0 \tLoss = 4.672769853158493e-06\n",
      "Iteration = 28751 \tAcc = 0.95 \tLoss = 0.024861064877329215\n",
      "Iteration = 29001 \tAcc = 1.0 \tLoss = 2.5103188168521037e-06\n",
      "Iteration = 29251 \tAcc = 1.0 \tLoss = 1.0214051826551492e-14\n",
      "Iteration = 29501 \tAcc = 1.0 \tLoss = 0.003955088241459176\n",
      "Iteration = 29751 \tAcc = 0.95 \tLoss = 9.699736580970828e-06\n",
      "Iteration = 30001 \tAcc = 0.95 \tLoss = 0.01772088369910615\n",
      "Iteration = 30251 \tAcc = 1.0 \tLoss = 0.023310736535270868\n",
      "Iteration = 30501 \tAcc = 0.95 \tLoss = 4.591255025502915e-06\n",
      "Iteration = 30751 \tAcc = 1.0 \tLoss = 0.021656995368061076\n",
      "Iteration = 31001 \tAcc = 1.0 \tLoss = 1.2013723349476035e-12\n",
      "Iteration = 31251 \tAcc = 1.0 \tLoss = 6.40573122334162e-05\n",
      "Iteration = 31501 \tAcc = 0.95 \tLoss = 0.0017932204784147456\n",
      "Iteration = 31751 \tAcc = 1.0 \tLoss = 0.003926802347462158\n",
      "Iteration = 32001 \tAcc = 1.0 \tLoss = 1.887379141862768e-15\n",
      "Iteration = 32251 \tAcc = 1.0 \tLoss = 2.0911170261143633e-06\n",
      "Iteration = 32501 \tAcc = 1.0 \tLoss = 0.46287514310112204\n",
      "Iteration = 32751 \tAcc = 1.0 \tLoss = 0.0023608138123673915\n",
      "Iteration = 33001 \tAcc = 0.95 \tLoss = 0.011627492309372885\n",
      "Iteration = 33251 \tAcc = 1.0 \tLoss = 6.205226458888957e-06\n",
      "Iteration = 33501 \tAcc = 0.95 \tLoss = 0.019975100986406858\n",
      "Iteration = 33751 \tAcc = 0.95 \tLoss = 0.0010853395503855868\n",
      "Iteration = 34001 \tAcc = 1.0 \tLoss = 4.1757042269258435e-11\n",
      "Iteration = 34251 \tAcc = 1.0 \tLoss = 5.6372771723040975e-06\n",
      "Iteration = 34501 \tAcc = 0.95 \tLoss = 0.0015155736554504126\n",
      "Iteration = 34751 \tAcc = 1.0 \tLoss = 0.02056975229631056\n"
     ]
    },
    {
     "name": "stdout",
     "output_type": "stream",
     "text": [
      "Iteration = 35001 \tAcc = 0.95 \tLoss = 2.5307850291916825e-09\n",
      "Iteration = 35251 \tAcc = 1.0 \tLoss = 1.2328471577026046e-11\n",
      "Iteration = 35501 \tAcc = 0.95 \tLoss = 5.046543867981812e-06\n",
      "Iteration = 35751 \tAcc = 0.95 \tLoss = 1.4032338062493788e-06\n",
      "Iteration = 36001 \tAcc = 1.0 \tLoss = 0.36628446991454305\n",
      "Iteration = 36251 \tAcc = 0.95 \tLoss = 0.005117248166227754\n",
      "Iteration = 36501 \tAcc = 0.95 \tLoss = 4.850334341761312e-06\n",
      "Iteration = 36751 \tAcc = 1.0 \tLoss = 0.006711691691118829\n",
      "Iteration = 37001 \tAcc = 1.0 \tLoss = 7.527402231332379e-07\n",
      "Iteration = 37251 \tAcc = 1.0 \tLoss = 0.00164209628353335\n",
      "Iteration = 37501 \tAcc = 1.0 \tLoss = 1.9573898058147855e-11\n",
      "Iteration = 37751 \tAcc = 1.0 \tLoss = 1.884660651540642e-09\n",
      "Iteration = 38001 \tAcc = 1.0 \tLoss = 0.6122466958115572\n",
      "Iteration = 38251 \tAcc = 0.95 \tLoss = 0.00039516640914568805\n",
      "Iteration = 38501 \tAcc = 1.0 \tLoss = 3.022500024070885e-07\n",
      "Iteration = 38751 \tAcc = 1.0 \tLoss = 0.01229536755774261\n",
      "Iteration = 39001 \tAcc = 0.95 \tLoss = 4.408331968695247e-06\n",
      "Iteration = 39251 \tAcc = 0.95 \tLoss = 5.939693181744764e-14\n",
      "Iteration = 39501 \tAcc = 1.0 \tLoss = 4.159858348793186e-06\n",
      "Iteration = 39751 \tAcc = 1.0 \tLoss = 1.3275736074832986e-09\n",
      "Iteration = 40001 \tAcc = 0.95 \tLoss = 1.382893799482657e-11\n",
      "Iteration = 40251 \tAcc = 1.0 \tLoss = 0.016949832861158\n",
      "Iteration = 40501 \tAcc = 1.0 \tLoss = 0.011344294196807393\n",
      "Iteration = 40751 \tAcc = 1.0 \tLoss = 4.0867905374690795e-06\n",
      "Iteration = 41001 \tAcc = 1.0 \tLoss = 0.002658496782794299\n",
      "Iteration = 41251 \tAcc = 1.0 \tLoss = 0.004176699375675386\n",
      "Iteration = 41501 \tAcc = 1.0 \tLoss = 6.897080304598236e-06\n",
      "Iteration = 41751 \tAcc = 1.0 \tLoss = 9.144561778657907e-10\n",
      "Iteration = 42001 \tAcc = 1.0 \tLoss = 4.99139929280816e-07\n",
      "Iteration = 42251 \tAcc = 0.95 \tLoss = 4.0134313666041784e-07\n",
      "Iteration = 42501 \tAcc = 1.0 \tLoss = 0.011460235507196662\n",
      "Iteration = 42751 \tAcc = 1.0 \tLoss = 0.0019676641003080184\n",
      "Iteration = 43001 \tAcc = 0.95 \tLoss = 0.026220940038076103\n",
      "Iteration = 43251 \tAcc = 1.0 \tLoss = 0.0038077427503913287\n",
      "Iteration = 43501 \tAcc = 1.0 \tLoss = 0.013239124392049002\n",
      "Iteration = 43751 \tAcc = 1.0 \tLoss = 0.2660273107895684\n",
      "Iteration = 44001 \tAcc = 1.0 \tLoss = 0.5716575360145593\n",
      "Iteration = 44251 \tAcc = 1.0 \tLoss = 8.048898217835772e-10\n",
      "Iteration = 44501 \tAcc = 0.95 \tLoss = 3.0182933553810824e-06\n",
      "Iteration = 44751 \tAcc = 1.0 \tLoss = 0.0035366642819532113\n",
      "Iteration = 45001 \tAcc = 0.95 \tLoss = 1.0111865707710124\n",
      "Iteration = 45251 \tAcc = 0.95 \tLoss = 0.0035738422031461967\n",
      "Iteration = 45501 \tAcc = 1.0 \tLoss = 0.3167424358468553\n",
      "Iteration = 45751 \tAcc = 1.0 \tLoss = 0.0019947420688018512\n",
      "Iteration = 46001 \tAcc = 1.0 \tLoss = 0.5354207585014057\n",
      "Iteration = 46251 \tAcc = 1.0 \tLoss = 0.008966221184279654\n",
      "Iteration = 46501 \tAcc = 1.0 \tLoss = 0.0030111096437103048\n",
      "Iteration = 46751 \tAcc = 0.95 \tLoss = -0.0\n",
      "Iteration = 47001 \tAcc = 1.0 \tLoss = 0.002830444983547576\n",
      "Iteration = 47251 \tAcc = 0.95 \tLoss = 0.0029955132847871296\n",
      "Iteration = 47501 \tAcc = 1.0 \tLoss = 0.00909699603686445\n",
      "Iteration = 47751 \tAcc = 1.0 \tLoss = 0.24728801110150908\n",
      "Iteration = 48001 \tAcc = 1.0 \tLoss = 0.002494293699675775\n",
      "Iteration = 48251 \tAcc = 0.95 \tLoss = 0.0031482097250973852\n",
      "Iteration = 48501 \tAcc = 1.0 \tLoss = 3.4143798899380355e-12\n",
      "Iteration = 48751 \tAcc = 1.0 \tLoss = 3.3969196779073757e-06\n",
      "Iteration = 49001 \tAcc = 1.0 \tLoss = 0.36392562409533613\n",
      "Iteration = 49251 \tAcc = 1.0 \tLoss = 4.921988637889371e-08\n",
      "Iteration = 49501 \tAcc = 1.0 \tLoss = 3.6859613459483603e-06\n",
      "Iteration = 49751 \tAcc = 1.0 \tLoss = 0.26761096819676305\n",
      "Iteration = 50001 \tAcc = 1.0 \tLoss = 3.927176091281717e-06\n",
      "Iteration = 50251 \tAcc = 1.0 \tLoss = 0.012283112949703459\n",
      "Iteration = 50501 \tAcc = 1.0 \tLoss = 2.4842136468050583e-06\n",
      "Iteration = 50751 \tAcc = 1.0 \tLoss = 8.659739592076259e-15\n",
      "Iteration = 51001 \tAcc = 1.0 \tLoss = 0.0007796367637666282\n",
      "Iteration = 51251 \tAcc = 1.0 \tLoss = 0.4528568220586623\n",
      "Iteration = 51501 \tAcc = 0.95 \tLoss = 0.002323021077062115\n",
      "Iteration = 51751 \tAcc = 1.0 \tLoss = 0.008322028136511079\n",
      "Iteration = 52001 \tAcc = 1.0 \tLoss = 5.004228144231742e-10\n",
      "Iteration = 52251 \tAcc = 1.0 \tLoss = 3.6481113332494798e-06\n",
      "Iteration = 52501 \tAcc = 1.0 \tLoss = 3.7710877420851857e-06\n",
      "Iteration = 52751 \tAcc = 1.0 \tLoss = 0.008929214166181556\n",
      "Iteration = 53001 \tAcc = 1.0 \tLoss = 5.240134993963079e-10\n",
      "Iteration = 53251 \tAcc = 1.0 \tLoss = 3.612216377388819e-06\n",
      "Iteration = 53501 \tAcc = 1.0 \tLoss = -0.0\n",
      "Iteration = 53751 \tAcc = 1.0 \tLoss = -0.0\n",
      "Iteration = 54001 \tAcc = 1.0 \tLoss = -0.0\n",
      "Iteration = 54251 \tAcc = 1.0 \tLoss = 7.362391810029809e-10\n",
      "Iteration = 54501 \tAcc = 1.0 \tLoss = 1.3678478700003459e-06\n",
      "Iteration = 54751 \tAcc = 1.0 \tLoss = 4.654193479463974e-06\n",
      "Iteration = 55001 \tAcc = 1.0 \tLoss = 0.35599203436281246\n",
      "Iteration = 55251 \tAcc = 1.0 \tLoss = 0.0020547337131352245\n",
      "Iteration = 55501 \tAcc = 1.0 \tLoss = 0.001923262610756725\n",
      "Iteration = 55751 \tAcc = 1.0 \tLoss = 0.006239957766621967\n",
      "Iteration = 56001 \tAcc = 1.0 \tLoss = 0.09250225161492993\n",
      "Iteration = 56251 \tAcc = 1.0 \tLoss = 0.0021359471435089352\n",
      "Iteration = 56501 \tAcc = 1.0 \tLoss = 0.00920098726170305\n",
      "Iteration = 56751 \tAcc = 1.0 \tLoss = 1.6431300764452452e-14\n",
      "Iteration = 57001 \tAcc = 1.0 \tLoss = 0.0014139780455551313\n",
      "Iteration = 57251 \tAcc = 1.0 \tLoss = 4.894993089464006e-06\n",
      "Iteration = 57501 \tAcc = 1.0 \tLoss = 0.20936390981312208\n",
      "Iteration = 57751 \tAcc = 1.0 \tLoss = 2.6157964683227523e-12\n",
      "Iteration = 58001 \tAcc = 1.0 \tLoss = 2.375877272697863e-14\n",
      "Iteration = 58251 \tAcc = 1.0 \tLoss = 7.337019880564725e-12\n",
      "Iteration = 58501 \tAcc = 1.0 \tLoss = 0.17895529358691403\n",
      "Iteration = 58751 \tAcc = 1.0 \tLoss = 5.799017550875773e-06\n",
      "Iteration = 59001 \tAcc = 1.0 \tLoss = 0.0015596846799375143\n",
      "Iteration = 59251 \tAcc = 1.0 \tLoss = 3.5958651511494137e-06\n",
      "Iteration = 59501 \tAcc = 1.0 \tLoss = 0.0010136897818500779\n",
      "Iteration = 59751 \tAcc = 1.0 \tLoss = 0.003631114667831408\n",
      "Iteration = 60001 \tAcc = 1.0 \tLoss = 1.1842733467566717e-09\n",
      "Iteration = 60251 \tAcc = 1.0 \tLoss = 0.0011860267886063297\n",
      "Iteration = 60501 \tAcc = 1.0 \tLoss = -0.0\n",
      "Iteration = 60751 \tAcc = 1.0 \tLoss = 3.8837116388732056e-08\n",
      "Iteration = 61001 \tAcc = 1.0 \tLoss = 0.007148017461185393\n",
      "Iteration = 61251 \tAcc = 1.0 \tLoss = -0.0\n",
      "Iteration = 61501 \tAcc = 1.0 \tLoss = 6.875774611218384e-06\n",
      "Iteration = 61751 \tAcc = 1.0 \tLoss = 7.011794963004175e-06\n",
      "Iteration = 62001 \tAcc = 1.0 \tLoss = 0.001733490003375887\n",
      "Iteration = 62251 \tAcc = 1.0 \tLoss = 0.007717114409052395\n",
      "Iteration = 62501 \tAcc = 1.0 \tLoss = 2.981694124980784e-08\n",
      "Iteration = 62751 \tAcc = 1.0 \tLoss = 3.8283030590106343e-08\n",
      "Iteration = 63001 \tAcc = 1.0 \tLoss = 0.0018583191804469098\n",
      "Iteration = 63251 \tAcc = 1.0 \tLoss = 3.4950040917044566e-08\n",
      "Iteration = 63501 \tAcc = 1.0 \tLoss = 0.0016133694278114015\n",
      "Iteration = 63751 \tAcc = 1.0 \tLoss = 5.127091188407102e-06\n",
      "Iteration = 64001 \tAcc = 1.0 \tLoss = 0.12436464587960498\n",
      "Iteration = 64251 \tAcc = 1.0 \tLoss = 3.5478286974984438e-12\n",
      "Iteration = 64501 \tAcc = 1.0 \tLoss = 0.0014636725242433\n",
      "Iteration = 64751 \tAcc = 1.0 \tLoss = 0.005214131118563326\n",
      "Iteration = 65001 \tAcc = 1.0 \tLoss = 1.2518839306372543e-09\n",
      "Iteration = 65251 \tAcc = 1.0 \tLoss = 0.1387809356776524\n",
      "Iteration = 65501 \tAcc = 1.0 \tLoss = 0.004952215339884132\n",
      "Iteration = 65751 \tAcc = 1.0 \tLoss = 1.2381620181250133e-09\n",
      "Iteration = 66001 \tAcc = 1.0 \tLoss = 8.157947257749021e-06\n",
      "Iteration = 66251 \tAcc = 1.0 \tLoss = 2.5671686998440445e-12\n",
      "Iteration = 66501 \tAcc = 1.0 \tLoss = 0.0007871992615118115\n",
      "Iteration = 66751 \tAcc = 1.0 \tLoss = 0.001348673524996489\n",
      "Iteration = 67001 \tAcc = 1.0 \tLoss = 0.0007880216494693643\n",
      "Iteration = 67251 \tAcc = 1.0 \tLoss = 0.0013448456642589366\n",
      "Iteration = 67501 \tAcc = 1.0 \tLoss = 0.004464539477039491\n",
      "Iteration = 67751 \tAcc = 1.0 \tLoss = 7.70561392474305e-12\n",
      "Iteration = 68001 \tAcc = 1.0 \tLoss = 9.833772496807205e-06\n",
      "Iteration = 68251 \tAcc = 1.0 \tLoss = 0.001202092340980168\n",
      "Iteration = 68501 \tAcc = 1.0 \tLoss = 0.0006426401590977124\n",
      "Iteration = 68751 \tAcc = 1.0 \tLoss = 5.513791281742474e-06\n",
      "Iteration = 69001 \tAcc = 1.0 \tLoss = 5.9455364138920374e-06\n",
      "Iteration = 69251 \tAcc = 1.0 \tLoss = 0.004115279935925176\n",
      "Iteration = 69501 \tAcc = 1.0 \tLoss = 6.175273968728562e-06\n",
      "Iteration = 69751 \tAcc = 1.0 \tLoss = 1.8207657603852735e-14\n",
      "Iteration = 70001 \tAcc = 1.0 \tLoss = 0.0064160857312008275\n",
      "Iteration = 70251 \tAcc = 1.0 \tLoss = 0.003944996097748947\n"
     ]
    },
    {
     "name": "stdout",
     "output_type": "stream",
     "text": [
      "Iteration = 70501 \tAcc = 1.0 \tLoss = -0.0\n",
      "Iteration = 70751 \tAcc = 1.0 \tLoss = 2.0600188221940996e-12\n",
      "Iteration = 71001 \tAcc = 1.0 \tLoss = 6.596426733285705e-06\n",
      "Iteration = 71251 \tAcc = 1.0 \tLoss = 0.003733373890669672\n",
      "Iteration = 71501 \tAcc = 1.0 \tLoss = 6.941447416887958e-12\n",
      "Iteration = 71751 \tAcc = 1.0 \tLoss = 9.453379195028758e-10\n",
      "Iteration = 72001 \tAcc = 1.0 \tLoss = 7.002609285257464e-06\n",
      "Iteration = 72251 \tAcc = 1.0 \tLoss = 5.5079713164462104e-09\n",
      "Iteration = 72501 \tAcc = 1.0 \tLoss = 0.0007428180872959329\n",
      "Iteration = 72751 \tAcc = 1.0 \tLoss = 0.09587592815344274\n",
      "Iteration = 73001 \tAcc = 1.0 \tLoss = 1.672461361176425e-08\n",
      "Iteration = 73251 \tAcc = 1.0 \tLoss = 0.0006195831985393855\n",
      "Iteration = 73501 \tAcc = 1.0 \tLoss = 0.05874640457468738\n",
      "Iteration = 73751 \tAcc = 1.0 \tLoss = 1.0122488232229309e-08\n",
      "Iteration = 74001 \tAcc = 1.0 \tLoss = -0.0\n",
      "Iteration = 74251 \tAcc = 1.0 \tLoss = 4.663047725738992e-12\n",
      "Iteration = 74501 \tAcc = 1.0 \tLoss = 1.1170146314789952e-08\n",
      "Iteration = 74751 \tAcc = 1.0 \tLoss = 4.028951069779345e-09\n",
      "Iteration = 75001 \tAcc = 1.0 \tLoss = 0.0005923349442536828\n",
      "Iteration = 75251 \tAcc = 1.0 \tLoss = -0.0\n",
      "Iteration = 75501 \tAcc = 1.0 \tLoss = 3.5481617644058325e-12\n",
      "Iteration = 75751 \tAcc = 1.0 \tLoss = -0.0\n",
      "Iteration = 76001 \tAcc = 1.0 \tLoss = 0.0007251757215684801\n",
      "Iteration = 76251 \tAcc = 1.0 \tLoss = 2.5004000121120866e-07\n",
      "Iteration = 76501 \tAcc = 1.0 \tLoss = 0.0008747260571131515\n",
      "Iteration = 76751 \tAcc = 1.0 \tLoss = 2.3556788718734505e-07\n",
      "Iteration = 77001 \tAcc = 1.0 \tLoss = 0.0007487116316142986\n",
      "Iteration = 77251 \tAcc = 1.0 \tLoss = 0.0007518830036485561\n",
      "Iteration = 77501 \tAcc = 1.0 \tLoss = 1.1366912586951466e-08\n",
      "Iteration = 77751 \tAcc = 1.0 \tLoss = 0.06457363458166773\n",
      "Iteration = 78001 \tAcc = 1.0 \tLoss = 8.771687595856105e-06\n",
      "Iteration = 78251 \tAcc = 1.0 \tLoss = 0.0008088770668430066\n",
      "Iteration = 78501 \tAcc = 1.0 \tLoss = 0.0030116140030186462\n",
      "Iteration = 78751 \tAcc = 1.0 \tLoss = 1.0419443086112523e-12\n",
      "Iteration = 79001 \tAcc = 1.0 \tLoss = 1.2511772803661172e-05\n",
      "Iteration = 79251 \tAcc = 1.0 \tLoss = 0.00083350962733348\n",
      "Iteration = 79501 \tAcc = 1.0 \tLoss = 0.02727153984394517\n",
      "Iteration = 79751 \tAcc = 1.0 \tLoss = 7.4153670299536955e-06\n",
      "Iteration = 80001 \tAcc = 1.0 \tLoss = 2.0175522178697824e-07\n",
      "Iteration = 80251 \tAcc = 1.0 \tLoss = 7.359708922438192e-06\n",
      "Iteration = 80501 \tAcc = 1.0 \tLoss = 2.755711215154389e-10\n",
      "Iteration = 80751 \tAcc = 1.0 \tLoss = 0.003904721030957022\n",
      "Iteration = 81001 \tAcc = 1.0 \tLoss = 7.2787779704509426e-06\n",
      "Iteration = 81251 \tAcc = 1.0 \tLoss = 7.608298039874327e-06\n",
      "Iteration = 81501 \tAcc = 1.0 \tLoss = 0.0004131635194136025\n",
      "Iteration = 81751 \tAcc = 1.0 \tLoss = 5.544379149461141e-06\n",
      "Iteration = 82001 \tAcc = 1.0 \tLoss = 0.0040048768953245455\n",
      "Iteration = 82251 \tAcc = 1.0 \tLoss = 0.04577234326101734\n",
      "Iteration = 82501 \tAcc = 1.0 \tLoss = 6.028842534172224e-06\n",
      "Iteration = 82751 \tAcc = 1.0 \tLoss = 1.0649913556639936e-05\n",
      "Iteration = 83001 \tAcc = 1.0 \tLoss = 0.00048072291515282564\n",
      "Iteration = 83251 \tAcc = 1.0 \tLoss = 0.0004620225281354859\n",
      "Iteration = 83501 \tAcc = 1.0 \tLoss = -0.0\n",
      "Iteration = 83751 \tAcc = 1.0 \tLoss = -0.0\n",
      "Iteration = 84001 \tAcc = 1.0 \tLoss = 0.0004648138564287825\n",
      "Iteration = 84251 \tAcc = 1.0 \tLoss = 0.0004469325823388258\n",
      "Iteration = 84501 \tAcc = 1.0 \tLoss = 1.575373055470956e-09\n",
      "Iteration = 84751 \tAcc = 1.0 \tLoss = 1.031656685351301e-05\n",
      "Iteration = 85001 \tAcc = 1.0 \tLoss = 0.05189223705437829\n",
      "Iteration = 85251 \tAcc = 1.0 \tLoss = -0.0\n",
      "Iteration = 85501 \tAcc = 1.0 \tLoss = -0.0\n",
      "Iteration = 85751 \tAcc = 1.0 \tLoss = 2.1094237467877998e-15\n",
      "Iteration = 86001 \tAcc = 1.0 \tLoss = 5.362729830151563e-09\n",
      "Iteration = 86251 \tAcc = 1.0 \tLoss = 2.3314683517128315e-15\n",
      "Iteration = 86501 \tAcc = 1.0 \tLoss = -0.0\n",
      "Iteration = 86751 \tAcc = 1.0 \tLoss = 0.004211669191741737\n",
      "Iteration = 87001 \tAcc = 1.0 \tLoss = 2.990940828340619e-13\n",
      "Iteration = 87251 \tAcc = 1.0 \tLoss = 2.0991164364474919e-10\n",
      "Iteration = 87501 \tAcc = 1.0 \tLoss = 1.776356839400252e-15\n",
      "Iteration = 87751 \tAcc = 1.0 \tLoss = 0.00038677946016835965\n",
      "Iteration = 88001 \tAcc = 1.0 \tLoss = 1.9091450644427842e-10\n",
      "Iteration = 88251 \tAcc = 1.0 \tLoss = 1.2869669782599447e-09\n",
      "Iteration = 88501 \tAcc = 1.0 \tLoss = 0.0003985655389068474\n",
      "Iteration = 88751 \tAcc = 1.0 \tLoss = 0.027904328030218438\n",
      "Iteration = 89001 \tAcc = 1.0 \tLoss = 0.0004125700363393077\n",
      "Iteration = 89251 \tAcc = 1.0 \tLoss = 0.00041917288086607116\n",
      "Iteration = 89501 \tAcc = 1.0 \tLoss = 9.323682430389495e-06\n",
      "Iteration = 89751 \tAcc = 1.0 \tLoss = -0.0\n",
      "Iteration = 90001 \tAcc = 1.0 \tLoss = -0.0\n",
      "Iteration = 90251 \tAcc = 1.0 \tLoss = 1.850741782050307e-13\n",
      "Iteration = 90501 \tAcc = 1.0 \tLoss = 0.000700033348883845\n",
      "Iteration = 90751 \tAcc = 1.0 \tLoss = 8.809335027558722e-08\n",
      "Iteration = 91001 \tAcc = 1.0 \tLoss = 0.0005768281153116615\n",
      "Iteration = 91251 \tAcc = 1.0 \tLoss = 6.010747455322404e-13\n",
      "Iteration = 91501 \tAcc = 1.0 \tLoss = 5.077975377840221e-06\n",
      "Iteration = 91751 \tAcc = 1.0 \tLoss = 0.00039512278130399446\n",
      "Iteration = 92001 \tAcc = 1.0 \tLoss = 0.0004566130256385683\n",
      "Iteration = 92251 \tAcc = 1.0 \tLoss = 0.0005442315070821984\n",
      "Iteration = 92501 \tAcc = 1.0 \tLoss = 7.771561172376099e-16\n",
      "Iteration = 92751 \tAcc = 1.0 \tLoss = 0.0003233957091008223\n",
      "Iteration = 93001 \tAcc = 1.0 \tLoss = 4.7963859816733245e-06\n",
      "Iteration = 93251 \tAcc = 1.0 \tLoss = 1.2452372467273527e-10\n",
      "Iteration = 93501 \tAcc = 1.0 \tLoss = 0.002143428751360091\n",
      "Iteration = 93751 \tAcc = 1.0 \tLoss = 0.00038170260282032045\n",
      "Iteration = 94001 \tAcc = 1.0 \tLoss = 1.4610535004068128e-13\n",
      "Iteration = 94251 \tAcc = 1.0 \tLoss = 4.958256027977178e-13\n",
      "Iteration = 94501 \tAcc = 1.0 \tLoss = 8.622491613317415e-10\n",
      "Iteration = 94751 \tAcc = 1.0 \tLoss = 5.097033906055392e-13\n",
      "Iteration = 95001 \tAcc = 1.0 \tLoss = 8.516896080908775e-10\n",
      "Iteration = 95251 \tAcc = 1.0 \tLoss = 7.767794188670474e-10\n",
      "Iteration = 95501 \tAcc = 1.0 \tLoss = 0.00029633710706471883\n",
      "Iteration = 95751 \tAcc = 1.0 \tLoss = 0.03481230108671698\n",
      "Iteration = 96001 \tAcc = 1.0 \tLoss = -0.0\n",
      "Iteration = 96251 \tAcc = 1.0 \tLoss = 5.362125797829273e-06\n",
      "Iteration = 96501 \tAcc = 1.0 \tLoss = 0.0031258404535509246\n",
      "Iteration = 96751 \tAcc = 1.0 \tLoss = 0.0002624166557700875\n",
      "Iteration = 97001 \tAcc = 1.0 \tLoss = 7.092425997591755e-06\n",
      "Iteration = 97251 \tAcc = 1.0 \tLoss = -0.0\n",
      "Iteration = 97501 \tAcc = 1.0 \tLoss = 3.945732629518585e-13\n",
      "Iteration = 97751 \tAcc = 1.0 \tLoss = 9.692247004978086e-14\n",
      "Iteration = 98001 \tAcc = 1.0 \tLoss = 0.0002484867571085359\n",
      "Iteration = 98251 \tAcc = 1.0 \tLoss = 0.0004332218610165163\n",
      "Iteration = 98501 \tAcc = 1.0 \tLoss = 0.002884681833310442\n",
      "Iteration = 98751 \tAcc = 1.0 \tLoss = 8.535494533754693e-11\n",
      "Iteration = 99001 \tAcc = 1.0 \tLoss = 8.809950495445773e-06\n",
      "Iteration = 99251 \tAcc = 1.0 \tLoss = 7.158551531891558e-10\n",
      "Iteration = 99501 \tAcc = 1.0 \tLoss = 0.0004768015909036533\n",
      "Iteration = 99751 \tAcc = 1.0 \tLoss = 8.30562600571789e-06\n"
     ]
    }
   ],
   "source": [
    "model.sgd(X, Y, 100000, 0.005)"
   ]
  },
  {
   "cell_type": "markdown",
   "metadata": {},
   "source": [
    "Seems like it has fitted the data 100\\%. Let's see what the decision boundary looks like."
   ]
  },
  {
   "cell_type": "code",
   "execution_count": 33,
   "metadata": {},
   "outputs": [
    {
     "data": {
      "image/png": "[encoded data removed]",
      "text/plain": [
       "<Figure size 432x288 with 1 Axes>"
      ]
     },
     "metadata": {
      "needs_background": "light"
     },
     "output_type": "display_data"
    }
   ],
   "source": [
    "# Create a grid of points to classify\n",
    "xx1, xx2 = np.meshgrid(np.arange(-3, 3, 0.005), np.arange(-3, 3, 0.005))\n",
    "\n",
    "# Flatten the grid to pass into model\n",
    "grid = np.c_[xx1.ravel(), xx2.ravel()].T\n",
    "\n",
    "# Predict classification at every point on the grid\n",
    "Z = model.forward(grid)[1,:].reshape(xx1.shape)\n",
    "\n",
    "# Plot the prediction regions.\n",
    "plt.imshow(Z, interpolation='bicubic', origin='lower', extent=[-3, 3, -3, 3], \n",
    "           cmap=ListedColormap(['#1f77b4', '#ff7f0e']), alpha=0.55, aspect='auto')\n",
    "\n",
    "# Plot the original points.\n",
    "_ = plt.scatter(X[0,:], X[1,:], c=Y[1,:], cmap=ListedColormap(['#1f77b4', '#ff7f0e']))"
   ]
  }
 ],
 "metadata": {
  "kernelspec": {
   "display_name": "Python 3",
   "language": "python",
   "name": "python3"
  },
  "language_info": {
   "codemirror_mode": {
    "name": "ipython",
    "version": 3
   },
   "file_extension": ".py",
   "mimetype": "text/x-python",
   "name": "python",
   "nbconvert_exporter": "python",
   "pygments_lexer": "ipython3",
   "version": "3.6.7"
  }
 },
 "nbformat": 4,
 "nbformat_minor": 2
}
