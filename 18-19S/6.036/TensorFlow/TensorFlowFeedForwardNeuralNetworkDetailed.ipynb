{
 "cells": [
  {
   "cell_type": "code",
   "execution_count": 1,
   "metadata": {},
   "outputs": [],
   "source": [
    "import tensorflow as tf\n",
    "import numpy as np\n",
    "%matplotlib inline\n",
    "from matplotlib.colors import ListedColormap\n",
    "from matplotlib import pyplot as plt"
   ]
  },
  {
   "cell_type": "markdown",
   "metadata": {},
   "source": [
    "# TensorFlow Feed-Forward Neural Network \n",
    "\n",
    "This notebook goes through the training process for a specific neural network architecture (no explicit abstraction into layers) in very low-level, layer-by-layer detail.\n",
    "\n",
    "## Model\n",
    "\n",
    "The first step is to define the model we wish to use for prediction.\n",
    "\n",
    "### Input Layer\n",
    "\n",
    "- Input shape: $2 \\times 20$. \n",
    "- Output shape: $2 \\times 20$.\n",
    "\n",
    "Define tensors."
   ]
  },
  {
   "cell_type": "code",
   "execution_count": 2,
   "metadata": {},
   "outputs": [],
   "source": [
    "X = tf.placeholder(tf.float32, shape=(2, None), name='X')"
   ]
  },
  {
   "cell_type": "markdown",
   "metadata": {},
   "source": [
    "### Linear Layer 1\n",
    "\n",
    "- Input shape: $2 \\times 20$\n",
    "- Output shape: $10 \\times 20$\n",
    "\n",
    "Define tensors."
   ]
  },
  {
   "cell_type": "code",
   "execution_count": 3,
   "metadata": {},
   "outputs": [
    {
     "name": "stdout",
     "output_type": "stream",
     "text": [
      "WARNING:tensorflow:From /usr/local/lib/python3.6/dist-packages/tensorflow/python/framework/op_def_library.py:263: colocate_with (from tensorflow.python.framework.ops) is deprecated and will be removed in a future version.\n",
      "Instructions for updating:\n",
      "Colocations handled automatically by placer.\n"
     ]
    }
   ],
   "source": [
    "W0_1 = tf.get_variable('W0_1', shape=(10, 1), initializer=tf.zeros_initializer)\n",
    "W_1 = tf.get_variable('W_1', shape=(2, 10), initializer=tf.random_normal_initializer(0.0, tf.sqrt(1 / 2)))"
   ]
  },
  {
   "cell_type": "markdown",
   "metadata": {},
   "source": [
    "### ReLU Activation Layer 1\n",
    "\n",
    "- Input shape: $10 \\times 20$\n",
    "- Output shape: $10 \\times 20$\n",
    "\n",
    "No variables need to be defined."
   ]
  },
  {
   "cell_type": "markdown",
   "metadata": {},
   "source": [
    "### Linear Layer 2\n",
    "\n",
    "- Input shape: $10 \\times 20$\n",
    "- Output shape: $10 \\times 20$\n",
    "\n",
    "Define tensors."
   ]
  },
  {
   "cell_type": "code",
   "execution_count": 4,
   "metadata": {},
   "outputs": [],
   "source": [
    "W0_2 = tf.get_variable('W0_2', shape=(10, 1), initializer=tf.zeros_initializer)\n",
    "W_2 = tf.get_variable('W_2', shape=(10, 10), initializer=tf.random_normal_initializer(0.0, tf.sqrt(1 / 10)))"
   ]
  },
  {
   "cell_type": "markdown",
   "metadata": {},
   "source": [
    "### ReLU Activation Layer 2\n",
    "\n",
    "- Input shape: $10 \\times 20$\n",
    "- Output shape: $10 \\times 20$\n",
    "\n",
    "No variables need to be defined."
   ]
  },
  {
   "cell_type": "markdown",
   "metadata": {},
   "source": [
    "### Linear Layer 3\n",
    "\n",
    "- Input shape: $10 \\times 20 $\n",
    "- Output shape: $2 \\times 20 $\n",
    "\n",
    "Define tensors."
   ]
  },
  {
   "cell_type": "code",
   "execution_count": 5,
   "metadata": {},
   "outputs": [],
   "source": [
    "W0_3 = tf.get_variable('W0_3', shape=(2, 1), initializer=tf.zeros_initializer)\n",
    "W_3 = tf.get_variable('W_3', shape=(10, 2), initializer=tf.random_normal_initializer(0.0, tf.sqrt(1 / 10)))"
   ]
  },
  {
   "cell_type": "markdown",
   "metadata": {},
   "source": [
    "### Softmax Activation Layer\n",
    "\n",
    "- Input shape: $2 \\times 20$\n",
    "- Output shape: $2 \\times 20$\n",
    "\n",
    "No variables need to be defined.\n",
    "\n",
    "## Forward Pass\n",
    "\n",
    "Now we have the individual nodes of a neural network graph, but they aren't connected in a way to do anything useful. Let's connect them to run the forward pass to get ready for prediction.\n",
    "\n",
    "### Input Layer\n",
    "\n",
    "- Input shape: $ 2 \\times 20 $\n",
    "- Output shape: $ 2\\times 20 $\n",
    "\n",
    "Define forward result $A^{(0)}$ from placeholder values."
   ]
  },
  {
   "cell_type": "code",
   "execution_count": 6,
   "metadata": {},
   "outputs": [],
   "source": [
    "A_0 = X"
   ]
  },
  {
   "cell_type": "markdown",
   "metadata": {},
   "source": [
    "### Linear Layer 1\n",
    "\n",
    "- Input shape: $2 \\times 20$\n",
    "- Output shape: $10 \\times 20$\n",
    "\n",
    "Define forward pre-activation result $Z^{(1)}$ from previous activation $A^{(0)}$."
   ]
  },
  {
   "cell_type": "code",
   "execution_count": 7,
   "metadata": {},
   "outputs": [],
   "source": [
    "Z_1 = tf.add(tf.matmul(tf.transpose(W_1), A_0), W0_1)"
   ]
  },
  {
   "cell_type": "markdown",
   "metadata": {},
   "source": [
    "### ReLU Activation Layer 1\n",
    "\n",
    "- Input shape: $10 \\times 20$\n",
    "- Output shape: $10 \\times 20$\n",
    "\n",
    "Define forward activation result $A^{(1)}$ from previous pre-activation $Z^{(1)}$."
   ]
  },
  {
   "cell_type": "code",
   "execution_count": 8,
   "metadata": {},
   "outputs": [],
   "source": [
    "A_1 = tf.maximum(tf.constant(0.0), Z_1)"
   ]
  },
  {
   "cell_type": "markdown",
   "metadata": {},
   "source": [
    "### Linear Layer 2\n",
    "\n",
    "- Input shape: $10 \\times 20$\n",
    "- Output shape: $10 \\times 20$\n",
    "\n",
    "Define forward pre-activation result $Z^{(2)}$ from previous activation $A^{(1)}$."
   ]
  },
  {
   "cell_type": "code",
   "execution_count": 9,
   "metadata": {},
   "outputs": [],
   "source": [
    "Z_2 = tf.add(tf.matmul(tf.transpose(W_2), A_1), W0_2)"
   ]
  },
  {
   "cell_type": "markdown",
   "metadata": {},
   "source": [
    "### ReLU Activation Layer 2\n",
    "\n",
    "- Input shape: $10 \\times 20$\n",
    "- Output shape: $10 \\times 20$\n",
    "\n",
    "Define forward activation result $A^{(2)}$ from previous pre-activation $Z^{(2)}$."
   ]
  },
  {
   "cell_type": "code",
   "execution_count": 10,
   "metadata": {},
   "outputs": [],
   "source": [
    "A_2 = tf.maximum(tf.constant(0.0), Z_2)"
   ]
  },
  {
   "cell_type": "markdown",
   "metadata": {},
   "source": [
    "### Linear Layer 3\n",
    "\n",
    "- Input shape: $10 \\times 20 $\n",
    "- Output shape: $2 \\times 20 $\n",
    "\n",
    "Define forward pre-activation result $Z^{(3)}$ from previous activation $A^{(2)}$."
   ]
  },
  {
   "cell_type": "code",
   "execution_count": 11,
   "metadata": {},
   "outputs": [],
   "source": [
    "Z_3 = tf.add(tf.matmul(tf.transpose(W_3), A_2), W0_3)"
   ]
  },
  {
   "cell_type": "markdown",
   "metadata": {},
   "source": [
    "### Softmax Activation Layer\n",
    "\n",
    "- Input shape: $2 \\times 20$\n",
    "- Output shape: $2 \\times 20$\n",
    "\n",
    "Define forward activation result $A^{(3)}$ from previous pre-activation $Z^{(3)}$."
   ]
  },
  {
   "cell_type": "code",
   "execution_count": 12,
   "metadata": {},
   "outputs": [],
   "source": [
    "A_3 = tf.add(1.e-8, tf.divide(tf.exp(tf.subtract(Z_3, tf.reduce_max(Z_3))), tf.reduce_sum(tf.exp(tf.subtract(Z_3, tf.reduce_max(Z_3))), axis=0, keepdims=True)))"
   ]
  },
  {
   "cell_type": "markdown",
   "metadata": {},
   "source": [
    "Note: The end result of the forward pass will be stored in $A^{(3)}$ as it is the last activation result computed."
   ]
  },
  {
   "cell_type": "markdown",
   "metadata": {},
   "source": [
    "## Prediction\n",
    "\n",
    "The graph has now been constructed to provide the forward pass result. Using some data, we can observe this prediction.\n",
    "\n",
    "### Data\n",
    "\n",
    "I am going to use the standard 'hard' data classification data set. (I only use NumPy arrays here because tensors cannot be iterated over without eager execution enable, which I do not want to introduce in this notebook.)"
   ]
  },
  {
   "cell_type": "code",
   "execution_count": 13,
   "metadata": {},
   "outputs": [],
   "source": [
    "X_train = np.array([[-0.23390341,  1.18151883, -2.46493986,  1.55322202,  1.27621763,\n",
    "                      2.39710997, -1.34403040, -0.46903436, -0.64673502, -1.44029872,\n",
    "                     -1.37537243,  1.05994811, -0.93311512,  1.02735575, -0.84138778,\n",
    "                     -2.22585412, -0.42591102,  1.03561105,  0.91125595, -2.26550369],\n",
    "                    [-0.92254932, -1.10309630, -2.41956036, -1.15509002, -1.04805327,\n",
    "                      0.08717325,  0.81847250, -0.75171045,  0.60664705,  0.80410947,\n",
    "                     -0.11600488,  1.03747218, -0.67210575,  0.99944446, -0.65559838,\n",
    "                     -0.40744784, -0.58367642,  1.05972780, -0.95991874, -1.41720255]])\n",
    "\n",
    "Y_train = np.array([[0., 0., 1., 0., 0., 0., 1., 1., 1., 1., 1., 0., 0., 0., 1., 1., 1., 0., 0., 1.],\n",
    "                    [1., 1., 0., 1., 1., 1., 0., 0., 0., 0., 0., 1., 1., 1., 0., 0., 0., 1., 1., 0.]])"
   ]
  },
  {
   "cell_type": "markdown",
   "metadata": {},
   "source": [
    "Let's start by taking a look at our data."
   ]
  },
  {
   "cell_type": "code",
   "execution_count": 14,
   "metadata": {},
   "outputs": [
    {
     "data": {
      "image/png": "[encoded data removed]",
      "text/plain": [
       "<Figure size 432x288 with 1 Axes>"
      ]
     },
     "metadata": {
      "needs_background": "light"
     },
     "output_type": "display_data"
    }
   ],
   "source": [
    "_ = plt.scatter(X_train[0,:], X_train[1,:], c=Y_train[1,:], \n",
    "                cmap=ListedColormap(['#1f77b4', '#ff7f0e']))"
   ]
  },
  {
   "cell_type": "markdown",
   "metadata": {},
   "source": [
    "### Execution\n",
    "\n",
    "Now that we have some data, we can feed it through the network using the placeholders and forward pass (whose result is contained in `A`)."
   ]
  },
  {
   "cell_type": "code",
   "execution_count": 15,
   "metadata": {},
   "outputs": [],
   "source": [
    "with tf.Session() as sess:\n",
    "    \n",
    "    sess.run(tf.global_variables_initializer())\n",
    "    \n",
    "    A_3_eval = sess.run(A_3, feed_dict={ X: X_train })"
   ]
  },
  {
   "cell_type": "markdown",
   "metadata": {},
   "source": [
    "Let's take a look at the evaluated output."
   ]
  },
  {
   "cell_type": "code",
   "execution_count": 16,
   "metadata": {},
   "outputs": [
    {
     "data": {
      "text/plain": [
       "array([[0.5391641 , 0.1885181 , 0.79694235, 0.1367487 , 0.17660016,\n",
       "        0.14626034, 0.2406058 , 0.6113826 , 0.3604963 , 0.22709718,\n",
       "        0.33981967, 0.47949058, 0.55865633, 0.48041552, 0.56368446,\n",
       "        0.3064592 , 0.58924955, 0.47774282, 0.23975688, 0.57725453],\n",
       "       [0.46083584, 0.81148195, 0.20305765, 0.8632513 , 0.8233999 ,\n",
       "        0.8537397 , 0.7593942 , 0.38861737, 0.6395037 , 0.7729028 ,\n",
       "        0.66018033, 0.5205094 , 0.4413436 , 0.5195845 , 0.43631557,\n",
       "        0.6935408 , 0.41075045, 0.52225715, 0.7602431 , 0.4227455 ]],\n",
       "      dtype=float32)"
      ]
     },
     "execution_count": 16,
     "metadata": {},
     "output_type": "execute_result"
    }
   ],
   "source": [
    "A_3_eval"
   ]
  },
  {
   "cell_type": "markdown",
   "metadata": {},
   "source": [
    "## Metrics\n",
    "\n",
    "Next step for training is to evaluate the loss and accuracy of the prediction with respect to the actual values.\n",
    "\n",
    "### Input\n",
    "\n",
    "In the graph environment, we need a placeholder for the actual labels.\n",
    "\n",
    "- Input shape: $2 \\times 20$\n",
    "- Output shape: $2 \\times 20$\n",
    "\n",
    "Define tensors."
   ]
  },
  {
   "cell_type": "code",
   "execution_count": 17,
   "metadata": {},
   "outputs": [],
   "source": [
    "Y = tf.placeholder(tf.float32, shape=(2, None), name='Y')"
   ]
  },
  {
   "cell_type": "markdown",
   "metadata": {},
   "source": [
    "### Negative Log-Likelihood Multi-Class Loss\n",
    "\n",
    "- Input shape: $2 \\times 20$\n",
    "- Output shape: Scalar\n",
    "\n",
    "Define loss result `L` in terms of placeholder `Y` and predictions `A`."
   ]
  },
  {
   "cell_type": "code",
   "execution_count": 18,
   "metadata": {},
   "outputs": [],
   "source": [
    "L = tf.negative(tf.reduce_sum(tf.multiply(Y, tf.log(A_3))))"
   ]
  },
  {
   "cell_type": "markdown",
   "metadata": {},
   "source": [
    "### Accuracy\n",
    "\n",
    "- Input shape: $2 \\times 20$\n",
    "- Output shape: Scalar\n",
    "\n",
    "Define accuracy `accuracy` in terms of placeholder `Y` and predictions `A`."
   ]
  },
  {
   "cell_type": "code",
   "execution_count": 19,
   "metadata": {},
   "outputs": [],
   "source": [
    "accuracy = tf.reduce_mean(tf.cast(tf.equal(tf.argmax(Y, axis=0), tf.argmax(A_3, axis=0)), tf.float32))"
   ]
  },
  {
   "cell_type": "markdown",
   "metadata": {},
   "source": [
    "### Execution\n",
    "\n",
    "Now that we have our loss defined in our graph, we can feed the actual labels and get a loss value."
   ]
  },
  {
   "cell_type": "code",
   "execution_count": 20,
   "metadata": {},
   "outputs": [],
   "source": [
    "with tf.Session() as sess:\n",
    "    \n",
    "    sess.run(tf.global_variables_initializer())\n",
    "    \n",
    "    L_eval, accuracy_eval = sess.run([L, accuracy], feed_dict={ X: X_train, Y: Y_train })"
   ]
  },
  {
   "cell_type": "markdown",
   "metadata": {},
   "source": [
    "Let's take a look at the evaluated loss."
   ]
  },
  {
   "cell_type": "code",
   "execution_count": 21,
   "metadata": {},
   "outputs": [
    {
     "data": {
      "text/plain": [
       "(12.804029, 0.5)"
      ]
     },
     "execution_count": 21,
     "metadata": {},
     "output_type": "execute_result"
    }
   ],
   "source": [
    "L_eval, accuracy_eval"
   ]
  },
  {
   "cell_type": "markdown",
   "metadata": {},
   "source": [
    "## Backward Pass\n",
    "\n",
    "Now we have our prediction and the loss of that prediction, we can compute the gradient of the loss with respect to every `A`, `Z`, and weight matrix.\n",
    "\n",
    "### Negative Log-Likelihood Multi-Class Loss\n",
    "\n",
    "- Input shape: $2 \\times 20$\n",
    "- Output shape: $2 \\times 20$\n",
    "\n",
    "Define gradient of loss with respect to activations $\\partial L / \\partial A^{(3)}$."
   ]
  },
  {
   "cell_type": "code",
   "execution_count": 22,
   "metadata": {},
   "outputs": [],
   "source": [
    "dLdA_3 = -Y / A_3"
   ]
  },
  {
   "cell_type": "markdown",
   "metadata": {},
   "source": [
    "### Softmax Activation Layer\n",
    "\n",
    "- Input shape: $2 \\times 20$\n",
    "- Output shape: $2 \\times 20$\n",
    "\n",
    "First, we calculate the gradient of softmax outputs with respect to softmax inputs $\\partial A^{(3)} / \\partial Z^{(3)}$."
   ]
  },
  {
   "cell_type": "code",
   "execution_count": 23,
   "metadata": {},
   "outputs": [],
   "source": [
    "dA_3dZ_3 = tf.einsum('jk,jk,ji->ijk', A_3, tf.subtract(tf.constant(1.0), A_3), tf.eye(2)) \\\n",
    "         + tf.einsum('jk,ik,ji->ijk', tf.negative(A_3), A_3, tf.subtract(tf.constant(1.0), tf.eye(2)))"
   ]
  },
  {
   "cell_type": "markdown",
   "metadata": {},
   "source": [
    "Then, we can multiply this result with $\\partial L / \\partial A^{(3)}$ to get $\\partial L / \\partial Z^{(3)}$."
   ]
  },
  {
   "cell_type": "code",
   "execution_count": 24,
   "metadata": {},
   "outputs": [],
   "source": [
    "dLdZ_3 = tf.einsum('ikj,kj->ij', dA_3dZ_3, dLdA_3)"
   ]
  },
  {
   "cell_type": "markdown",
   "metadata": {},
   "source": [
    "### Linear Layer 3\n",
    "\n",
    "- Input shape: $2 \\times 20$\n",
    "- Output shape: $ 10 \\times 20$\n",
    "\n",
    "First, we construct the gradients of the loss with respect to the weight matrices $\\partial L / \\partial W^{(3)}$ and $ \\partial L / \\partial W_0^{(3)} $ using the previous $\\partial L / \\partial Z^{(3)}$."
   ]
  },
  {
   "cell_type": "code",
   "execution_count": 25,
   "metadata": {},
   "outputs": [],
   "source": [
    "dLdW_3 = tf.matmul(A_2, tf.transpose(dLdZ_3))\n",
    "dLdW0_3 = tf.reduce_sum(dLdZ_3, axis=1, keepdims=True)"
   ]
  },
  {
   "cell_type": "markdown",
   "metadata": {},
   "source": [
    "Now, we can also compute the loss with respect to the layer activations $\\partial L / \\partial A^{(2)}$ using $\\partial L / \\partial Z^{(3)}$."
   ]
  },
  {
   "cell_type": "code",
   "execution_count": 26,
   "metadata": {},
   "outputs": [],
   "source": [
    "dLdA_2 = tf.matmul(W_3, dLdZ_3)"
   ]
  },
  {
   "cell_type": "markdown",
   "metadata": {},
   "source": [
    "### ReLU Activation Layer 2\n",
    "\n",
    "- Input shape: $10 \\times 20$\n",
    "- Output shape: $10 \\times 20$\n",
    "\n",
    "Compute the gradient of loss with respect to layer pre-activations $\\partial L / \\partial Z^{(2)} $ using $\\partial L / \\partial A^{(2)}$."
   ]
  },
  {
   "cell_type": "code",
   "execution_count": 27,
   "metadata": {},
   "outputs": [],
   "source": [
    "dLdZ_2 = tf.multiply(tf.sign(A_2), dLdA_2)"
   ]
  },
  {
   "cell_type": "markdown",
   "metadata": {},
   "source": [
    "### Linear Layer 2\n",
    "\n",
    "- Input shape: $10 \\times 20$\n",
    "- Output shape: $10 \\times 20$\n",
    "\n",
    "First, we construct the gradients of the loss with respect to the weight matrices $\\partial L / \\partial W^{(2)}$ and $ \\partial L / \\partial W_0^{(2)} $ using the previous $\\partial L / \\partial Z^{(2)}$."
   ]
  },
  {
   "cell_type": "code",
   "execution_count": 28,
   "metadata": {},
   "outputs": [],
   "source": [
    "dLdW_2 = tf.matmul(A_1, tf.transpose(dLdZ_2))\n",
    "dLdW0_2 = tf.reduce_sum(dLdZ_2, axis=1, keepdims=True)"
   ]
  },
  {
   "cell_type": "markdown",
   "metadata": {},
   "source": [
    "Now, we can also compute the loss with respect to the layer activations $\\partial L / \\partial A^{(1)}$ using $\\partial L / \\partial Z^{(2)}$."
   ]
  },
  {
   "cell_type": "code",
   "execution_count": 29,
   "metadata": {},
   "outputs": [],
   "source": [
    "dLdA_1 = tf.matmul(W_2, dLdZ_2)"
   ]
  },
  {
   "cell_type": "markdown",
   "metadata": {},
   "source": [
    "### ReLU Activation Layer 1\n",
    "\n",
    "- Input shape: $10 \\times 20$\n",
    "- Output shape: $10 \\times 20$\n",
    "\n",
    "Compute the gradient of loss with respect to layer pre-activations $\\partial L / \\partial Z^{(1)} $ using $\\partial L / \\partial A^{(1)}$."
   ]
  },
  {
   "cell_type": "code",
   "execution_count": 30,
   "metadata": {},
   "outputs": [],
   "source": [
    "dLdZ_1 = tf.multiply(tf.sign(A_1), dLdA_1)"
   ]
  },
  {
   "cell_type": "markdown",
   "metadata": {},
   "source": [
    "### Linear Layer 1\n",
    "\n",
    "- Input shape: $10 \\times 20$\n",
    "- Output shape: $2 \\times 20$\n",
    "\n",
    "First, we construct the gradients of the loss with respect to the weight matrices $\\partial L / \\partial W^{(1)}$ and $ \\partial L / \\partial W_0^{(1)} $ using the previous $\\partial L / \\partial Z^{(1)}$."
   ]
  },
  {
   "cell_type": "code",
   "execution_count": 31,
   "metadata": {},
   "outputs": [],
   "source": [
    "dLdW_1 = tf.matmul(A_0, tf.transpose(dLdZ_1))\n",
    "dLdW0_1 = tf.reduce_sum(dLdZ_1, axis=1, keepdims=True)"
   ]
  },
  {
   "cell_type": "markdown",
   "metadata": {},
   "source": [
    "Now, we can also compute the loss with respect to the layer activations $\\partial L / \\partial A^{(0)}$ using $\\partial L / \\partial Z^{(1)}$."
   ]
  },
  {
   "cell_type": "code",
   "execution_count": 32,
   "metadata": {},
   "outputs": [],
   "source": [
    "dLdA_0 = tf.matmul(W_1, dLdZ_1)"
   ]
  },
  {
   "cell_type": "markdown",
   "metadata": {},
   "source": [
    "This last gradient isn't really important and neither is $\\partial L / \\partial Z^{(0)}$ especially (why we don't continue calculating gradients once more into the input layer). But, to keep the calculation uniform, we include it (in the layer abstraction, this will be computed no matter what).\n",
    "\n",
    "## Parameter Update\n",
    "\n",
    "Now that we have all the necessary gradients, we can update the model parameters.\n",
    "\n",
    "### Input Layer\n",
    "\n",
    "- Input shape: $ 2 \\times 20 $\n",
    "- Output shape: $ 2\\times 20 $\n",
    "\n",
    "There are no parameters to update.\n",
    "\n",
    "### Linear Layer 1\n",
    "\n",
    "- Input shape: $2 \\times 20$\n",
    "- Output shape: $10 \\times 20$\n",
    "\n",
    "We update both the $W^{(1)}$ and $W_0^{(1)}$ matrices."
   ]
  },
  {
   "cell_type": "code",
   "execution_count": 33,
   "metadata": {
    "scrolled": true
   },
   "outputs": [],
   "source": [
    "W_1 = W_1.assign(tf.subtract(W_1, tf.scalar_mul(0.005, dLdW_1)))\n",
    "W0_1 = W0_1.assign(tf.subtract(W0_1, tf.scalar_mul(0.005, dLdW0_1)))"
   ]
  },
  {
   "cell_type": "markdown",
   "metadata": {},
   "source": [
    "### ReLU Activation Layer 1\n",
    "\n",
    "- Input shape: $10 \\times 20$\n",
    "- Output shape: $10 \\times 20$\n",
    "\n",
    "There are no parameters to update.\n",
    "\n",
    "### Linear Layer 2\n",
    "\n",
    "- Input shape: $10 \\times 20$\n",
    "- Output shape: $10 \\times 20$\n",
    "\n",
    "We update both the $W^{(2)}$ and $W_0^{(2)}$ matrices."
   ]
  },
  {
   "cell_type": "code",
   "execution_count": 34,
   "metadata": {},
   "outputs": [],
   "source": [
    "W_2 = W_2.assign(tf.subtract(W_2, tf.scalar_mul(0.005, dLdW_2)))\n",
    "W0_2 = W0_2.assign(tf.subtract(W0_2, tf.scalar_mul(0.005, dLdW0_2)))"
   ]
  },
  {
   "cell_type": "markdown",
   "metadata": {},
   "source": [
    "### ReLU Activation Layer 2\n",
    "\n",
    "- Input shape: $10 \\times 20$\n",
    "- Output shape: $10 \\times 20$\n",
    "\n",
    "There are no parameters to update.\n",
    "\n",
    "### Linear Layer 3\n",
    "\n",
    "- Input shape: $10 \\times 20$\n",
    "- Output shape: $2 \\times 20$\n",
    "\n",
    "We update both the $W^{(3)}$ and $W_0^{(3)}$ matrices."
   ]
  },
  {
   "cell_type": "code",
   "execution_count": 35,
   "metadata": {},
   "outputs": [],
   "source": [
    "W_3 = W_3.assign(tf.subtract(W_3, tf.scalar_mul(0.005, dLdW_3)))\n",
    "W0_3 = W0_3.assign(tf.subtract(W0_3, tf.scalar_mul(0.005, dLdW0_3)))"
   ]
  },
  {
   "cell_type": "markdown",
   "metadata": {},
   "source": [
    "### Softmax Activation Layer\n",
    "\n",
    "- Input shape: $2 \\times 20$\n",
    "- Output shape: $2 \\times 20$\n",
    "\n",
    "There are no parameters to update.\n",
    "\n",
    "### Groups\n",
    "\n",
    "To make it easier to call this train process, we use a `tf.group`."
   ]
  },
  {
   "cell_type": "code",
   "execution_count": 36,
   "metadata": {},
   "outputs": [],
   "source": [
    "train = tf.group(W_3, W0_3, W_2, W0_2, W_1, W0_1)"
   ]
  },
  {
   "cell_type": "markdown",
   "metadata": {},
   "source": [
    "### Execution\n",
    "\n",
    "Now we can finally run the back-propogation and update the weight matrices."
   ]
  },
  {
   "cell_type": "code",
   "execution_count": 37,
   "metadata": {},
   "outputs": [],
   "source": [
    "with tf.Session() as sess:\n",
    "    \n",
    "    sess.run(tf.global_variables_initializer())\n",
    "    \n",
    "    L_eval_before = sess.run(L, feed_dict={ X: X_train, Y: Y_train })\n",
    "    \n",
    "    sess.run(train, feed_dict={ X: X_train, Y: Y_train })\n",
    "    \n",
    "    L_eval_after = sess.run(L, feed_dict={ X: X_train, Y: Y_train })"
   ]
  },
  {
   "cell_type": "markdown",
   "metadata": {},
   "source": [
    "Let's just make sure the loss went down after a single training update step."
   ]
  },
  {
   "cell_type": "code",
   "execution_count": 38,
   "metadata": {},
   "outputs": [
    {
     "data": {
      "text/plain": [
       "(15.499672, 14.019436)"
      ]
     },
     "execution_count": 38,
     "metadata": {},
     "output_type": "execute_result"
    }
   ],
   "source": [
    "L_eval_before, L_eval_after"
   ]
  },
  {
   "cell_type": "markdown",
   "metadata": {},
   "source": [
    "Be sure to note that `L_eval` from way before, is **not** equal to `L_eval_before`. Shouldn't they be because we haven't performed any updates to the model since then? Wrong! Every time we create a `Session`, we create a new instance of our model with newly initialized variables.\n",
    "\n",
    "## Train\n",
    "\n",
    "We have all of the components of a model and how to train it. However, this only updates the model once. Let's put everything together and yield a fully trained model.\n",
    "\n",
    "### Saving\n",
    "\n",
    "Before we train, we need a way to save the model outside of a session after training it. For this, we use `tf.train.Saver`. We add it to our graph."
   ]
  },
  {
   "cell_type": "code",
   "execution_count": 39,
   "metadata": {},
   "outputs": [],
   "source": [
    "saver = tf.train.Saver()"
   ]
  },
  {
   "cell_type": "markdown",
   "metadata": {},
   "source": [
    "### Training Loop\n",
    "\n",
    "Now we can define a loop to train our model for many iterations and print the progress."
   ]
  },
  {
   "cell_type": "code",
   "execution_count": 51,
   "metadata": {
    "scrolled": true
   },
   "outputs": [
    {
     "name": "stdout",
     "output_type": "stream",
     "text": [
      "Iteration = 1 \tAcc = 0.55 \tLoss = 0.7257758\n",
      "Iteration = 251 \tAcc = 0.7 \tLoss = 0.40333483\n",
      "Iteration = 501 \tAcc = 0.9 \tLoss = 0.28110978\n",
      "Iteration = 751 \tAcc = 0.9 \tLoss = 0.10378498\n",
      "Iteration = 1001 \tAcc = 0.9 \tLoss = 0.56365174\n",
      "Iteration = 1251 \tAcc = 0.9 \tLoss = 0.061916433\n",
      "Iteration = 1501 \tAcc = 0.95 \tLoss = 0.03138366\n",
      "Iteration = 1751 \tAcc = 0.95 \tLoss = 0.034490854\n",
      "Iteration = 2001 \tAcc = 0.95 \tLoss = 0.015215532\n",
      "Iteration = 2251 \tAcc = 0.95 \tLoss = 0.17333916\n",
      "Iteration = 2501 \tAcc = 0.95 \tLoss = 0.01703886\n",
      "Iteration = 2751 \tAcc = 0.95 \tLoss = 0.019825425\n",
      "Iteration = 3001 \tAcc = 0.95 \tLoss = 0.020819481\n",
      "Iteration = 3251 \tAcc = 0.95 \tLoss = 0.41626418\n",
      "Iteration = 3501 \tAcc = 0.95 \tLoss = 0.0018044888\n",
      "Iteration = 3751 \tAcc = 0.95 \tLoss = 0.5555009\n",
      "Iteration = 4001 \tAcc = 0.95 \tLoss = 0.024634795\n",
      "Iteration = 4251 \tAcc = 0.95 \tLoss = 0.35129583\n",
      "Iteration = 4501 \tAcc = 0.9 \tLoss = 0.0016970722\n",
      "Iteration = 4751 \tAcc = 0.95 \tLoss = 0.60940754\n",
      "Iteration = 5001 \tAcc = 0.95 \tLoss = 0.0015579074\n",
      "Iteration = 5251 \tAcc = 0.95 \tLoss = 0.0064500715\n",
      "Iteration = 5501 \tAcc = 0.95 \tLoss = 0.006696902\n",
      "Iteration = 5751 \tAcc = 0.95 \tLoss = 0.23342413\n",
      "Iteration = 6001 \tAcc = 0.85 \tLoss = 0.00096809026\n",
      "Iteration = 6251 \tAcc = 0.95 \tLoss = 0.019080197\n",
      "Iteration = 6501 \tAcc = 0.95 \tLoss = 0.28130853\n",
      "Iteration = 6751 \tAcc = 0.95 \tLoss = 0.005583167\n",
      "Iteration = 7001 \tAcc = 0.95 \tLoss = 0.007892139\n",
      "Iteration = 7251 \tAcc = 0.95 \tLoss = 0.023122342\n",
      "Iteration = 7501 \tAcc = 0.95 \tLoss = 1.7528152\n",
      "Iteration = 7751 \tAcc = 0.95 \tLoss = 0.002239946\n",
      "Iteration = 8001 \tAcc = 0.95 \tLoss = 3.4690504e-05\n",
      "Iteration = 8251 \tAcc = 0.95 \tLoss = 0.32387182\n",
      "Iteration = 8501 \tAcc = 0.95 \tLoss = 0.023395656\n",
      "Iteration = 8751 \tAcc = 0.95 \tLoss = 2.4676627e-05\n",
      "Iteration = 9001 \tAcc = 0.95 \tLoss = 0.2712015\n",
      "Iteration = 9251 \tAcc = 0.95 \tLoss = 0.43189433\n",
      "Iteration = 9501 \tAcc = 0.95 \tLoss = 0.0057639577\n",
      "Iteration = 9751 \tAcc = 0.95 \tLoss = 0.0046876096\n",
      "Iteration = 10001 \tAcc = 0.95 \tLoss = 0.27052692\n",
      "Iteration = 10251 \tAcc = 0.95 \tLoss = 0.4968036\n",
      "Iteration = 10501 \tAcc = 0.95 \tLoss = 0.0009291911\n",
      "Iteration = 10751 \tAcc = 0.95 \tLoss = 0.044537\n",
      "Iteration = 11001 \tAcc = 0.95 \tLoss = 0.28770617\n",
      "Iteration = 11251 \tAcc = 0.95 \tLoss = 0.0073648626\n",
      "Iteration = 11501 \tAcc = 0.95 \tLoss = 0.022393672\n",
      "Iteration = 11751 \tAcc = 0.95 \tLoss = 1.8654022\n",
      "Iteration = 12001 \tAcc = 0.95 \tLoss = 0.004142508\n",
      "Iteration = 12251 \tAcc = 0.95 \tLoss = 4.768383e-06\n",
      "Iteration = 12501 \tAcc = 0.95 \tLoss = 0.1319562\n",
      "Iteration = 12751 \tAcc = 0.95 \tLoss = 0.00014294215\n",
      "Iteration = 13001 \tAcc = 0.95 \tLoss = 0.22700742\n",
      "Iteration = 13251 \tAcc = 0.95 \tLoss = 0.0013790098\n",
      "Iteration = 13501 \tAcc = 0.95 \tLoss = 0.0071265115\n",
      "Iteration = 13751 \tAcc = 0.95 \tLoss = 0.00043550675\n",
      "Iteration = 14001 \tAcc = 0.95 \tLoss = 0.041464213\n",
      "Iteration = 14251 \tAcc = 0.95 \tLoss = 0.014597647\n",
      "Iteration = 14501 \tAcc = 0.95 \tLoss = 0.00023385636\n",
      "Iteration = 14751 \tAcc = 0.95 \tLoss = 0.21954513\n",
      "Iteration = 15001 \tAcc = 0.95 \tLoss = 0.18590693\n",
      "Iteration = 15251 \tAcc = 0.95 \tLoss = 0.393887\n",
      "Iteration = 15501 \tAcc = 0.95 \tLoss = 0.03329577\n",
      "Iteration = 15751 \tAcc = 0.95 \tLoss = 0.0057330243\n",
      "Iteration = 16001 \tAcc = 0.95 \tLoss = 0.00019975512\n",
      "Iteration = 16251 \tAcc = 0.95 \tLoss = 8.3446537e-07\n",
      "Iteration = 16501 \tAcc = 0.95 \tLoss = 0.48665503\n",
      "Iteration = 16751 \tAcc = 0.95 \tLoss = 0.00015140726\n",
      "Iteration = 17001 \tAcc = 0.95 \tLoss = 0.056455445\n",
      "Iteration = 17251 \tAcc = 0.95 \tLoss = 0.008721003\n",
      "Iteration = 17501 \tAcc = 0.95 \tLoss = 0.00016189933\n",
      "Iteration = 17751 \tAcc = 0.95 \tLoss = 8.762267e-05\n",
      "Iteration = 18001 \tAcc = 0.95 \tLoss = 8.3330764e-05\n",
      "Iteration = 18251 \tAcc = 0.95 \tLoss = 0.18603069\n",
      "Iteration = 18501 \tAcc = 0.95 \tLoss = 2.274775\n",
      "Iteration = 18751 \tAcc = 0.95 \tLoss = 0.43577182\n",
      "Iteration = 19001 \tAcc = 0.95 \tLoss = 0.00039257362\n",
      "Iteration = 19251 \tAcc = 0.95 \tLoss = 0.00011397058\n",
      "Iteration = 19501 \tAcc = 0.95 \tLoss = 1.1920929e-07\n",
      "Iteration = 19751 \tAcc = 0.95 \tLoss = 9.536789e-06\n",
      "Iteration = 20001 \tAcc = 0.95 \tLoss = 0.010587334\n",
      "Iteration = 20251 \tAcc = 0.95 \tLoss = 0.014189301\n",
      "Iteration = 20501 \tAcc = 0.95 \tLoss = 0.34324256\n",
      "Iteration = 20751 \tAcc = 0.95 \tLoss = 7.152583e-06\n",
      "Iteration = 21001 \tAcc = 0.95 \tLoss = 0.00026235444\n",
      "Iteration = 21251 \tAcc = 0.95 \tLoss = 0.04755606\n",
      "Iteration = 21501 \tAcc = 0.95 \tLoss = 4.649173e-06\n",
      "Iteration = 21751 \tAcc = 0.95 \tLoss = 0.22295661\n",
      "Iteration = 22001 \tAcc = 0.95 \tLoss = 0.05011101\n",
      "Iteration = 22251 \tAcc = 0.95 \tLoss = 0.38897356\n",
      "Iteration = 22501 \tAcc = 0.95 \tLoss = 0.061518855\n",
      "Iteration = 22751 \tAcc = 0.95 \tLoss = 0.4222885\n",
      "Iteration = 23001 \tAcc = 0.95 \tLoss = 0.1529276\n",
      "Iteration = 23251 \tAcc = 0.95 \tLoss = 6.5805696e-05\n",
      "Iteration = 23501 \tAcc = 0.95 \tLoss = 5.3764834e-05\n",
      "Iteration = 23751 \tAcc = 0.95 \tLoss = 1.786928\n",
      "Iteration = 24001 \tAcc = 0.95 \tLoss = 0.36574745\n",
      "Iteration = 24251 \tAcc = 0.95 \tLoss = 0.14982957\n",
      "Iteration = 24501 \tAcc = 0.95 \tLoss = -0.0\n",
      "Iteration = 24751 \tAcc = 0.95 \tLoss = 1.7166285e-05\n",
      "Iteration = 25001 \tAcc = 0.95 \tLoss = 0.02876796\n",
      "Iteration = 25251 \tAcc = 0.95 \tLoss = 5.8891124e-05\n",
      "Iteration = 25501 \tAcc = 0.95 \tLoss = -0.0\n",
      "Iteration = 25751 \tAcc = 0.95 \tLoss = 0.25003475\n",
      "Iteration = 26001 \tAcc = 0.95 \tLoss = 0.15376195\n",
      "Iteration = 26251 \tAcc = 0.95 \tLoss = 0.009710337\n",
      "Iteration = 26501 \tAcc = 0.95 \tLoss = 0.28081524\n",
      "Iteration = 26751 \tAcc = 0.95 \tLoss = 0.005819412\n",
      "Iteration = 27001 \tAcc = 0.95 \tLoss = 0.039349254\n",
      "Iteration = 27251 \tAcc = 0.95 \tLoss = 5.960466e-07\n",
      "Iteration = 27501 \tAcc = 0.95 \tLoss = 4.2915435e-06\n",
      "Iteration = 27751 \tAcc = 0.95 \tLoss = 0.011579783\n",
      "Iteration = 28001 \tAcc = 0.95 \tLoss = 0.06705748\n",
      "Iteration = 28251 \tAcc = 0.95 \tLoss = 0.030530153\n",
      "Iteration = 28501 \tAcc = 0.95 \tLoss = -0.0\n",
      "Iteration = 28751 \tAcc = 0.95 \tLoss = 4.136648e-05\n",
      "Iteration = 29001 \tAcc = 0.95 \tLoss = 0.064541824\n",
      "Iteration = 29251 \tAcc = 0.95 \tLoss = 2.72993e-05\n",
      "Iteration = 29501 \tAcc = 0.95 \tLoss = 0.038630288\n",
      "Iteration = 29751 \tAcc = 0.95 \tLoss = 0.039914515\n",
      "Iteration = 30001 \tAcc = 0.95 \tLoss = 0.05500792\n",
      "Iteration = 30251 \tAcc = 0.95 \tLoss = 3.8147045e-06\n",
      "Iteration = 30501 \tAcc = 0.95 \tLoss = 0.20688742\n",
      "Iteration = 30751 \tAcc = 0.95 \tLoss = 2.02656e-06\n",
      "Iteration = 31001 \tAcc = 0.95 \tLoss = 3.5524998e-05\n",
      "Iteration = 31251 \tAcc = 0.95 \tLoss = 3.2783093e-05\n",
      "Iteration = 31501 \tAcc = 0.95 \tLoss = 2.9325915e-05\n",
      "Iteration = 31751 \tAcc = 0.95 \tLoss = 4.053124e-06\n",
      "Iteration = 32001 \tAcc = 0.95 \tLoss = 0.042028\n",
      "Iteration = 32251 \tAcc = 0.95 \tLoss = 3.3140732e-05\n",
      "Iteration = 32501 \tAcc = 0.95 \tLoss = 0.16149192\n",
      "Iteration = 32751 \tAcc = 0.95 \tLoss = 3.039883e-05\n",
      "Iteration = 33001 \tAcc = 0.95 \tLoss = 0.07246039\n",
      "Iteration = 33251 \tAcc = 0.95 \tLoss = 0.13551843\n",
      "Iteration = 33501 \tAcc = 0.95 \tLoss = 2.8014576e-05\n",
      "Iteration = 33751 \tAcc = 0.95 \tLoss = 0.06301628\n",
      "Iteration = 34001 \tAcc = 0.95 \tLoss = 3.576285e-06\n",
      "Iteration = 34251 \tAcc = 0.95 \tLoss = 3.9339143e-06\n",
      "Iteration = 34501 \tAcc = 0.95 \tLoss = 2.121948e-05\n",
      "Iteration = 34751 \tAcc = 0.95 \tLoss = 2.0146574e-05\n",
      "Iteration = 35001 \tAcc = 0.95 \tLoss = 0.004698329\n",
      "Iteration = 35251 \tAcc = 0.95 \tLoss = 2.0384996e-05\n",
      "Iteration = 35501 \tAcc = 0.95 \tLoss = 0.005020624\n",
      "Iteration = 35751 \tAcc = 0.95 \tLoss = 0.027495814\n",
      "Iteration = 36001 \tAcc = 0.95 \tLoss = 2.9802368e-06\n",
      "Iteration = 36251 \tAcc = 0.95 \tLoss = 0.17066255\n",
      "Iteration = 36501 \tAcc = 0.95 \tLoss = -0.0\n",
      "Iteration = 36751 \tAcc = 0.95 \tLoss = 2.1457695e-06\n",
      "Iteration = 37001 \tAcc = 0.95 \tLoss = 0.20899421\n",
      "Iteration = 37251 \tAcc = 0.95 \tLoss = 0.082646064\n",
      "Iteration = 37501 \tAcc = 0.95 \tLoss = 0.27918032\n",
      "Iteration = 37751 \tAcc = 0.95 \tLoss = 1.6331805e-05\n",
      "Iteration = 38001 \tAcc = 0.95 \tLoss = 6.914163e-06\n",
      "Iteration = 38251 \tAcc = 0.95 \tLoss = 1.0140846\n",
      "Iteration = 38501 \tAcc = 0.95 \tLoss = -0.0\n",
      "Iteration = 38751 \tAcc = 0.95 \tLoss = 1.0518445\n",
      "Iteration = 39001 \tAcc = 0.95 \tLoss = 6.7949527e-06\n",
      "Iteration = 39251 \tAcc = 0.95 \tLoss = 4.649173e-06\n",
      "Iteration = 39501 \tAcc = 0.95 \tLoss = 4.5299635e-06\n",
      "Iteration = 39751 \tAcc = 0.95 \tLoss = 0.02181008\n",
      "Iteration = 40001 \tAcc = 0.95 \tLoss = 0.085016355\n",
      "Iteration = 40251 \tAcc = 0.95 \tLoss = 0.041495528\n",
      "Iteration = 40501 \tAcc = 0.95 \tLoss = 1.4305125e-06\n",
      "Iteration = 40751 \tAcc = 0.95 \tLoss = -0.0\n",
      "Iteration = 41001 \tAcc = 0.95 \tLoss = 4.768373e-07\n",
      "Iteration = 41251 \tAcc = 0.95 \tLoss = -0.0\n"
     ]
    },
    {
     "name": "stdout",
     "output_type": "stream",
     "text": [
      "Iteration = 41501 \tAcc = 0.95 \tLoss = 0.0031285298\n",
      "Iteration = 41751 \tAcc = 0.95 \tLoss = 2.02656e-06\n",
      "Iteration = 42001 \tAcc = 0.95 \tLoss = 1.7881409e-06\n",
      "Iteration = 42251 \tAcc = 0.95 \tLoss = 2.02656e-06\n",
      "Iteration = 42501 \tAcc = 0.95 \tLoss = 0.010305153\n",
      "Iteration = 42751 \tAcc = 0.95 \tLoss = 3.5762793e-07\n",
      "Iteration = 43001 \tAcc = 0.95 \tLoss = 7.152583e-06\n",
      "Iteration = 43251 \tAcc = 0.95 \tLoss = 0.008328933\n",
      "Iteration = 43501 \tAcc = 0.95 \tLoss = 0.023972662\n",
      "Iteration = 43751 \tAcc = 0.95 \tLoss = -0.0\n",
      "Iteration = 44001 \tAcc = 0.95 \tLoss = 0.0021725036\n",
      "Iteration = 44251 \tAcc = 0.95 \tLoss = 0.056368228\n",
      "Iteration = 44501 \tAcc = 0.95 \tLoss = -0.0\n",
      "Iteration = 44751 \tAcc = 0.95 \tLoss = 0.014889451\n",
      "Iteration = 45001 \tAcc = 0.95 \tLoss = 0.043620456\n",
      "Iteration = 45251 \tAcc = 0.95 \tLoss = 0.006164918\n",
      "Iteration = 45501 \tAcc = 0.95 \tLoss = 2.9802368e-06\n",
      "Iteration = 45751 \tAcc = 0.95 \tLoss = 2.384186e-07\n",
      "Iteration = 46001 \tAcc = 0.95 \tLoss = -0.0\n",
      "Iteration = 46251 \tAcc = 0.95 \tLoss = 0.01758564\n",
      "Iteration = 46501 \tAcc = 0.95 \tLoss = 3.5762793e-07\n",
      "Iteration = 46751 \tAcc = 0.95 \tLoss = 1.1920929e-07\n",
      "Iteration = 47001 \tAcc = 0.95 \tLoss = 3.6954948e-06\n",
      "Iteration = 47251 \tAcc = 0.95 \tLoss = 0.0011203005\n",
      "Iteration = 47501 \tAcc = 0.95 \tLoss = 2.384186e-07\n",
      "Iteration = 47751 \tAcc = 0.95 \tLoss = 0.0011577152\n",
      "Iteration = 48001 \tAcc = 0.95 \tLoss = -0.0\n",
      "Iteration = 48251 \tAcc = 0.95 \tLoss = -0.0\n",
      "Iteration = 48501 \tAcc = 1.0 \tLoss = 0.0018573356\n",
      "Iteration = 48751 \tAcc = 0.95 \tLoss = 0.44790548\n",
      "Iteration = 49001 \tAcc = 0.95 \tLoss = 0.03603958\n",
      "Iteration = 49251 \tAcc = 1.0 \tLoss = 0.07849902\n",
      "Iteration = 49501 \tAcc = 0.95 \tLoss = 1.1920929e-07\n",
      "Iteration = 49751 \tAcc = 0.95 \tLoss = -0.0\n",
      "Iteration = 50001 \tAcc = 1.0 \tLoss = 1.1920929e-07\n",
      "Iteration = 50251 \tAcc = 0.95 \tLoss = -0.0\n",
      "Iteration = 50501 \tAcc = 1.0 \tLoss = 0.77633405\n",
      "Iteration = 50751 \tAcc = 1.0 \tLoss = -0.0\n",
      "Iteration = 51001 \tAcc = 1.0 \tLoss = -0.0\n",
      "Iteration = 51251 \tAcc = 0.95 \tLoss = 0.0004454055\n",
      "Iteration = 51501 \tAcc = 1.0 \tLoss = -0.0\n",
      "Iteration = 51751 \tAcc = 1.0 \tLoss = 0.032845963\n",
      "Iteration = 52001 \tAcc = 0.95 \tLoss = 0.015344324\n",
      "Iteration = 52251 \tAcc = 0.95 \tLoss = 0.11067182\n",
      "Iteration = 52501 \tAcc = 0.95 \tLoss = 0.03587733\n",
      "Iteration = 52751 \tAcc = 1.0 \tLoss = 0.039788224\n",
      "Iteration = 53001 \tAcc = 0.95 \tLoss = 0.024810141\n",
      "Iteration = 53251 \tAcc = 1.0 \tLoss = -0.0\n",
      "Iteration = 53501 \tAcc = 0.95 \tLoss = 0.0060728635\n",
      "Iteration = 53751 \tAcc = 0.95 \tLoss = -0.0\n",
      "Iteration = 54001 \tAcc = 0.95 \tLoss = 0.017564105\n",
      "Iteration = 54251 \tAcc = 0.95 \tLoss = 0.3722469\n",
      "Iteration = 54501 \tAcc = 0.95 \tLoss = -0.0\n",
      "Iteration = 54751 \tAcc = 1.0 \tLoss = 0.60498405\n",
      "Iteration = 55001 \tAcc = 1.0 \tLoss = 1.1920929e-07\n",
      "Iteration = 55251 \tAcc = 0.95 \tLoss = -0.0\n",
      "Iteration = 55501 \tAcc = 1.0 \tLoss = 0.92292917\n",
      "Iteration = 55751 \tAcc = 0.95 \tLoss = -0.0\n",
      "Iteration = 56001 \tAcc = 1.0 \tLoss = -0.0\n",
      "Iteration = 56251 \tAcc = 0.95 \tLoss = 0.0003148813\n",
      "Iteration = 56501 \tAcc = 0.95 \tLoss = -0.0\n",
      "Iteration = 56751 \tAcc = 0.95 \tLoss = -0.0\n",
      "Iteration = 57001 \tAcc = 1.0 \tLoss = 0.0024541307\n",
      "Iteration = 57251 \tAcc = 1.0 \tLoss = 1.1920929e-07\n",
      "Iteration = 57501 \tAcc = 1.0 \tLoss = -0.0\n",
      "Iteration = 57751 \tAcc = 0.95 \tLoss = 0.33700332\n",
      "Iteration = 58001 \tAcc = 1.0 \tLoss = 1.1920936e-06\n",
      "Iteration = 58251 \tAcc = 1.0 \tLoss = 0.0031855723\n",
      "Iteration = 58501 \tAcc = 1.0 \tLoss = -0.0\n",
      "Iteration = 58751 \tAcc = 1.0 \tLoss = 0.03180918\n",
      "Iteration = 59001 \tAcc = 0.95 \tLoss = -0.0\n",
      "Iteration = 59251 \tAcc = 1.0 \tLoss = 0.019074364\n",
      "Iteration = 59501 \tAcc = 0.95 \tLoss = 7.450858e-05\n",
      "Iteration = 59751 \tAcc = 1.0 \tLoss = -0.0\n",
      "Iteration = 60001 \tAcc = 0.95 \tLoss = 9.536748e-07\n",
      "Iteration = 60251 \tAcc = 1.0 \tLoss = 0.013020515\n",
      "Iteration = 60501 \tAcc = 1.0 \tLoss = 0.00016774154\n",
      "Iteration = 60751 \tAcc = 1.0 \tLoss = 0.5973372\n",
      "Iteration = 61001 \tAcc = 1.0 \tLoss = 0.01953856\n",
      "Iteration = 61251 \tAcc = 1.0 \tLoss = -0.0\n",
      "Iteration = 61501 \tAcc = 1.0 \tLoss = 0.025665201\n",
      "Iteration = 61751 \tAcc = 1.0 \tLoss = 0.00017096073\n",
      "Iteration = 62001 \tAcc = 1.0 \tLoss = 0.0013569855\n",
      "Iteration = 62251 \tAcc = 0.95 \tLoss = 2.384186e-07\n",
      "Iteration = 62501 \tAcc = 1.0 \tLoss = 0.00087758654\n",
      "Iteration = 62751 \tAcc = 1.0 \tLoss = -0.0\n",
      "Iteration = 63001 \tAcc = 1.0 \tLoss = 0.012684284\n",
      "Iteration = 63251 \tAcc = 0.95 \tLoss = 0.0040546493\n",
      "Iteration = 63501 \tAcc = 0.95 \tLoss = 0.00021334778\n",
      "Iteration = 63751 \tAcc = 1.0 \tLoss = 0.0016916987\n",
      "Iteration = 64001 \tAcc = 1.0 \tLoss = 0.010513062\n",
      "Iteration = 64251 \tAcc = 0.95 \tLoss = 1.3113031e-06\n",
      "Iteration = 64501 \tAcc = 1.0 \tLoss = -0.0\n",
      "Iteration = 64751 \tAcc = 0.95 \tLoss = 0.0005636015\n",
      "Iteration = 65001 \tAcc = 1.0 \tLoss = 0.008418672\n",
      "Iteration = 65251 \tAcc = 0.95 \tLoss = 0.0055933567\n",
      "Iteration = 65501 \tAcc = 1.0 \tLoss = -0.0\n",
      "Iteration = 65751 \tAcc = 1.0 \tLoss = -0.0\n",
      "Iteration = 66001 \tAcc = 1.0 \tLoss = 0.0033397952\n",
      "Iteration = 66251 \tAcc = 0.95 \tLoss = 0.0066148187\n",
      "Iteration = 66501 \tAcc = 1.0 \tLoss = 0.31450188\n",
      "Iteration = 66751 \tAcc = 1.0 \tLoss = 0.48095414\n",
      "Iteration = 67001 \tAcc = 1.0 \tLoss = -0.0\n",
      "Iteration = 67251 \tAcc = 0.95 \tLoss = -0.0\n",
      "Iteration = 67501 \tAcc = 1.0 \tLoss = -0.0\n",
      "Iteration = 67751 \tAcc = 0.95 \tLoss = -0.0\n",
      "Iteration = 68001 \tAcc = 1.0 \tLoss = 5.257268e-05\n",
      "Iteration = 68251 \tAcc = 1.0 \tLoss = -0.0\n",
      "Iteration = 68501 \tAcc = 1.0 \tLoss = -0.0\n",
      "Iteration = 68751 \tAcc = 1.0 \tLoss = 0.011869379\n",
      "Iteration = 69001 \tAcc = 0.95 \tLoss = 1.1920929e-07\n",
      "Iteration = 69251 \tAcc = 0.95 \tLoss = 0.004948262\n",
      "Iteration = 69501 \tAcc = 1.0 \tLoss = 0.01116236\n",
      "Iteration = 69751 \tAcc = 1.0 \tLoss = 0.00076478155\n",
      "Iteration = 70001 \tAcc = 1.0 \tLoss = 3.516736e-05\n",
      "Iteration = 70251 \tAcc = 1.0 \tLoss = 3.516736e-05\n",
      "Iteration = 70501 \tAcc = 1.0 \tLoss = 0.46216708\n",
      "Iteration = 70751 \tAcc = 1.0 \tLoss = 0.0008583175\n",
      "Iteration = 71001 \tAcc = 1.0 \tLoss = 0.007169975\n",
      "Iteration = 71251 \tAcc = 1.0 \tLoss = 0.0012966453\n",
      "Iteration = 71501 \tAcc = 1.0 \tLoss = 2.02656e-06\n",
      "Iteration = 71751 \tAcc = 0.95 \tLoss = -0.0\n",
      "Iteration = 72001 \tAcc = 1.0 \tLoss = -0.0\n",
      "Iteration = 72251 \tAcc = 1.0 \tLoss = 1.549722e-06\n",
      "Iteration = 72501 \tAcc = 1.0 \tLoss = 0.008909217\n",
      "Iteration = 72751 \tAcc = 1.0 \tLoss = 5.960466e-07\n",
      "Iteration = 73001 \tAcc = 1.0 \tLoss = 0.20347571\n",
      "Iteration = 73251 \tAcc = 1.0 \tLoss = -0.0\n",
      "Iteration = 73501 \tAcc = 0.95 \tLoss = 0.003918088\n",
      "Iteration = 73751 \tAcc = 1.0 \tLoss = 0.29548216\n",
      "Iteration = 74001 \tAcc = 1.0 \tLoss = 0.00044266245\n",
      "Iteration = 74251 \tAcc = 1.0 \tLoss = 1.1920929e-07\n",
      "Iteration = 74501 \tAcc = 1.0 \tLoss = 5.960466e-07\n",
      "Iteration = 74751 \tAcc = 1.0 \tLoss = 4.768373e-07\n",
      "Iteration = 75001 \tAcc = 1.0 \tLoss = 0.0006537786\n",
      "Iteration = 75251 \tAcc = 1.0 \tLoss = -0.0\n",
      "Iteration = 75501 \tAcc = 1.0 \tLoss = -0.0\n",
      "Iteration = 75751 \tAcc = 0.95 \tLoss = -0.0\n",
      "Iteration = 76001 \tAcc = 1.0 \tLoss = 3.8147045e-06\n",
      "Iteration = 76251 \tAcc = 1.0 \tLoss = 0.009036117\n",
      "Iteration = 76501 \tAcc = 1.0 \tLoss = 1.1920929e-07\n",
      "Iteration = 76751 \tAcc = 1.0 \tLoss = -0.0\n",
      "Iteration = 77001 \tAcc = 1.0 \tLoss = -0.0\n",
      "Iteration = 77251 \tAcc = 1.0 \tLoss = 2.193475e-05\n",
      "Iteration = 77501 \tAcc = 1.0 \tLoss = 3.5762793e-07\n",
      "Iteration = 77751 \tAcc = 1.0 \tLoss = 2.7180087e-05\n",
      "Iteration = 78001 \tAcc = 1.0 \tLoss = 0.009407465\n",
      "Iteration = 78251 \tAcc = 1.0 \tLoss = 1.549722e-06\n",
      "Iteration = 78501 \tAcc = 1.0 \tLoss = 0.017644728\n",
      "Iteration = 78751 \tAcc = 0.95 \tLoss = -0.0\n",
      "Iteration = 79001 \tAcc = 0.95 \tLoss = 7.987054e-06\n",
      "Iteration = 79251 \tAcc = 1.0 \tLoss = 1.7881409e-06\n",
      "Iteration = 79501 \tAcc = 0.95 \tLoss = 0.0041839266\n",
      "Iteration = 79751 \tAcc = 1.0 \tLoss = 1.1920929e-07\n",
      "Iteration = 80001 \tAcc = 1.0 \tLoss = 0.0024463034\n",
      "Iteration = 80251 \tAcc = 1.0 \tLoss = 0.004694257\n",
      "Iteration = 80501 \tAcc = 1.0 \tLoss = 1.5497328e-05\n",
      "Iteration = 80751 \tAcc = 1.0 \tLoss = -0.0\n",
      "Iteration = 81001 \tAcc = 1.0 \tLoss = 4.649173e-06\n",
      "Iteration = 81251 \tAcc = 1.0 \tLoss = 3.9339143e-06\n",
      "Iteration = 81501 \tAcc = 1.0 \tLoss = 1.3232318e-05\n",
      "Iteration = 81751 \tAcc = 1.0 \tLoss = 0.17014949\n",
      "Iteration = 82001 \tAcc = 1.0 \tLoss = 1.2636265e-05\n",
      "Iteration = 82251 \tAcc = 1.0 \tLoss = 0.0047176722\n",
      "Iteration = 82501 \tAcc = 1.0 \tLoss = -0.0\n",
      "Iteration = 82751 \tAcc = 0.95 \tLoss = 0.09491965\n",
      "Iteration = 83001 \tAcc = 1.0 \tLoss = -0.0\n",
      "Iteration = 83251 \tAcc = 1.0 \tLoss = 0.4131635\n",
      "Iteration = 83501 \tAcc = 1.0 \tLoss = -0.0\n",
      "Iteration = 83751 \tAcc = 1.0 \tLoss = 0.0030827904\n",
      "Iteration = 84001 \tAcc = 1.0 \tLoss = 0.11676116\n"
     ]
    },
    {
     "name": "stdout",
     "output_type": "stream",
     "text": [
      "Iteration = 84251 \tAcc = 1.0 \tLoss = -0.0\n",
      "Iteration = 84501 \tAcc = 1.0 \tLoss = 0.0023943216\n",
      "Iteration = 84751 \tAcc = 1.0 \tLoss = 0.008581759\n",
      "Iteration = 85001 \tAcc = 1.0 \tLoss = 6.198902e-06\n",
      "Iteration = 85251 \tAcc = 1.0 \tLoss = 8.225475e-06\n",
      "Iteration = 85501 \tAcc = 1.0 \tLoss = 0.3770649\n",
      "Iteration = 85751 \tAcc = 1.0 \tLoss = 0.007547297\n",
      "Iteration = 86001 \tAcc = 1.0 \tLoss = 0.013716281\n",
      "Iteration = 86251 \tAcc = 1.0 \tLoss = 0.100007035\n",
      "Iteration = 86501 \tAcc = 1.0 \tLoss = 0.00461599\n",
      "Iteration = 86751 \tAcc = 1.0 \tLoss = 0.008958051\n",
      "Iteration = 87001 \tAcc = 1.0 \tLoss = 8.940737e-06\n",
      "Iteration = 87251 \tAcc = 1.0 \tLoss = 0.00012017018\n",
      "Iteration = 87501 \tAcc = 1.0 \tLoss = 0.019898811\n",
      "Iteration = 87751 \tAcc = 1.0 \tLoss = -0.0\n",
      "Iteration = 88001 \tAcc = 1.0 \tLoss = 1.3470741e-05\n",
      "Iteration = 88251 \tAcc = 1.0 \tLoss = 0.005032126\n",
      "Iteration = 88501 \tAcc = 1.0 \tLoss = 0.002785625\n",
      "Iteration = 88751 \tAcc = 1.0 \tLoss = 0.01922577\n",
      "Iteration = 89001 \tAcc = 1.0 \tLoss = 0.007828159\n",
      "Iteration = 89251 \tAcc = 1.0 \tLoss = 0.0029004517\n",
      "Iteration = 89501 \tAcc = 1.0 \tLoss = 0.0023357708\n",
      "Iteration = 89751 \tAcc = 1.0 \tLoss = -0.0\n",
      "Iteration = 90001 \tAcc = 1.0 \tLoss = 3.576285e-06\n",
      "Iteration = 90251 \tAcc = 0.95 \tLoss = 2.02656e-06\n",
      "Iteration = 90501 \tAcc = 1.0 \tLoss = 0.0019407616\n",
      "Iteration = 90751 \tAcc = 1.0 \tLoss = 8.225475e-06\n",
      "Iteration = 91001 \tAcc = 1.0 \tLoss = 0.0071944688\n",
      "Iteration = 91251 \tAcc = 0.95 \tLoss = 0.0015659069\n",
      "Iteration = 91501 \tAcc = 1.0 \tLoss = 0.0002562732\n",
      "Iteration = 91751 \tAcc = 1.0 \tLoss = 0.00027869054\n",
      "Iteration = 92001 \tAcc = 1.0 \tLoss = -0.0\n",
      "Iteration = 92251 \tAcc = 1.0 \tLoss = -0.0\n",
      "Iteration = 92501 \tAcc = 1.0 \tLoss = 0.0012457975\n",
      "Iteration = 92751 \tAcc = 1.0 \tLoss = -0.0\n",
      "Iteration = 93001 \tAcc = 1.0 \tLoss = 0.000100856145\n",
      "Iteration = 93251 \tAcc = 1.0 \tLoss = 0.00015319567\n",
      "Iteration = 93501 \tAcc = 1.0 \tLoss = -0.0\n",
      "Iteration = 93751 \tAcc = 1.0 \tLoss = 0.00019987435\n",
      "Iteration = 94001 \tAcc = 1.0 \tLoss = 2.4676627e-05\n",
      "Iteration = 94251 \tAcc = 1.0 \tLoss = 3.0994463e-06\n",
      "Iteration = 94501 \tAcc = 1.0 \tLoss = 0.00077718886\n",
      "Iteration = 94751 \tAcc = 1.0 \tLoss = -0.0\n",
      "Iteration = 95001 \tAcc = 1.0 \tLoss = -0.0\n",
      "Iteration = 95251 \tAcc = 1.0 \tLoss = -0.0\n",
      "Iteration = 95501 \tAcc = 1.0 \tLoss = 3.3378658e-06\n",
      "Iteration = 95751 \tAcc = 1.0 \tLoss = 0.0073031983\n",
      "Iteration = 96001 \tAcc = 1.0 \tLoss = 8.3569204e-05\n",
      "Iteration = 96251 \tAcc = 1.0 \tLoss = 0.12084691\n",
      "Iteration = 96501 \tAcc = 1.0 \tLoss = 8.666891e-05\n",
      "Iteration = 96751 \tAcc = 1.0 \tLoss = 2.253081e-05\n",
      "Iteration = 97001 \tAcc = 1.0 \tLoss = 0.00017531263\n",
      "Iteration = 97251 \tAcc = 1.0 \tLoss = 0.0064719683\n",
      "Iteration = 97501 \tAcc = 1.0 \tLoss = 0.10250043\n",
      "Iteration = 97751 \tAcc = 1.0 \tLoss = 4.196255e-05\n",
      "Iteration = 98001 \tAcc = 1.0 \tLoss = 1.9669726e-05\n",
      "Iteration = 98251 \tAcc = 1.0 \tLoss = 0.0041900915\n",
      "Iteration = 98501 \tAcc = 1.0 \tLoss = 0.00064674066\n",
      "Iteration = 98751 \tAcc = 1.0 \tLoss = 0.18554837\n",
      "Iteration = 99001 \tAcc = 1.0 \tLoss = 0.0068499874\n",
      "Iteration = 99251 \tAcc = 1.0 \tLoss = 0.00026760105\n",
      "Iteration = 99501 \tAcc = 1.0 \tLoss = 2.6226078e-06\n",
      "Iteration = 99751 \tAcc = 1.0 \tLoss = 3.0875683e-05\n"
     ]
    }
   ],
   "source": [
    "with tf.Session() as sess:\n",
    "    \n",
    "    sess.run(tf.global_variables_initializer())\n",
    "    \n",
    "    for it in range(100000):\n",
    "        \n",
    "        t = np.random.randint(20)\n",
    "        \n",
    "        L_eval, _ = sess.run([L, train], feed_dict={ X: X_train[:, t:t+1], Y: Y_train[:, t:t+1] })\n",
    "        \n",
    "        if it % 250 == 1:\n",
    "            accuracy_eval = sess.run(accuracy, feed_dict={ X: X_train, Y: Y_train })\n",
    "            print('Iteration =', it, '\\tAcc =', accuracy_eval, '\\tLoss =', L_eval, flush=True)\n",
    "            \n",
    "    saver.save(sess, 'model.ckpt')"
   ]
  },
  {
   "cell_type": "markdown",
   "metadata": {},
   "source": [
    "### Decision Regions\n",
    "\n",
    "Our network successully classifies all of our points. Let's take a look at the decision regions."
   ]
  },
  {
   "cell_type": "code",
   "execution_count": 53,
   "metadata": {},
   "outputs": [
    {
     "name": "stdout",
     "output_type": "stream",
     "text": [
      "INFO:tensorflow:Restoring parameters from model.ckpt\n"
     ]
    },
    {
     "data": {
      "image/png": "[encoded data removed]",
      "text/plain": [
       "<Figure size 432x288 with 1 Axes>"
      ]
     },
     "metadata": {
      "needs_background": "light"
     },
     "output_type": "display_data"
    }
   ],
   "source": [
    "with tf.Session() as sess:\n",
    "    \n",
    "    # Restore variables\n",
    "    saver.restore(sess, 'model.ckpt')\n",
    "    \n",
    "    # Create a grid of points to classify\n",
    "    xx1, xx2 = np.meshgrid(np.arange(-3, 3, 0.005), np.arange(-3, 3, 0.005))\n",
    "\n",
    "    # Flatten the grid to pass into model\n",
    "    grid = np.c_[xx1.ravel(), xx2.ravel()].T\n",
    "\n",
    "    # Predict classification at every point on the grid\n",
    "    Z = sess.run(A_3, feed_dict={ X: grid, Y: Y_train })[1, :].reshape(xx1.shape)\n",
    "\n",
    "    # Plot the prediction regions.\n",
    "    plt.imshow(Z, interpolation='bicubic', origin='lower', extent=[-3, 3, -3, 3], \n",
    "               cmap=ListedColormap(['#1f77b4', '#ff7f0e']), alpha=0.55, aspect='auto')\n",
    "\n",
    "    # Plot the original points.\n",
    "    _ = plt.scatter(X_train[0,:], X_train[1,:], c=Y_train[1,:], cmap=ListedColormap(['#1f77b4', '#ff7f0e']))"
   ]
  }
 ],
 "metadata": {
  "kernelspec": {
   "display_name": "Python 3",
   "language": "python",
   "name": "python3"
  },
  "language_info": {
   "codemirror_mode": {
    "name": "ipython",
    "version": 3
   },
   "file_extension": ".py",
   "mimetype": "text/x-python",
   "name": "python",
   "nbconvert_exporter": "python",
   "pygments_lexer": "ipython3",
   "version": "3.6.7"
  }
 },
 "nbformat": 4,
 "nbformat_minor": 2
}
