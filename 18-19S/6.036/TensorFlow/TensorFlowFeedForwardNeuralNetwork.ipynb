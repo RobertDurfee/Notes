{
 "cells": [
  {
   "cell_type": "code",
   "execution_count": 1,
   "metadata": {},
   "outputs": [],
   "source": [
    "import tensorflow as tf\n",
    "import numpy as np\n",
    "%matplotlib inline\n",
    "from matplotlib.colors import ListedColormap\n",
    "from matplotlib import pyplot as plt"
   ]
  },
  {
   "cell_type": "markdown",
   "metadata": {},
   "source": [
    "# TensorFlow Feed-Forward Neural Network\n",
    "\n",
    "This notebook walks through how to build a feed-forward neural network using TensorFlow. Nearly everything is the same as the NumPy implementation, except a static graph is constructed using TensorFlow. To see the process in more detail (without level-by-level encapsulation), take a look at the TensorFlow Feed-Forward Neural Network Detailed notebook.\n",
    "\n",
    "## Layers\n",
    "\n",
    "Instead of unrolling the network as shown in the detailed notebook, we encapsulate the common, repeated behavior into layer classes.\n",
    "\n",
    "### Base Layer\n",
    "\n",
    "This layer provides the virtual methods that each layer has to implement. If the layer doesn't implement the method, we default to one of these empty methods."
   ]
  },
  {
   "cell_type": "code",
   "execution_count": 2,
   "metadata": {},
   "outputs": [],
   "source": [
    "class Layer:\n",
    "    \"\"\"Abstract base layer for our neural network.\"\"\""
   ]
  },
  {
   "cell_type": "markdown",
   "metadata": {},
   "source": [
    "The `__init__` method sets up constant information about the layer that is necessary to build the graph later. Typically, only dimensions of input/output data is required."
   ]
  },
  {
   "cell_type": "code",
   "execution_count": 3,
   "metadata": {},
   "outputs": [],
   "source": [
    "    def __init__(self):\n",
    "        \"\"\"Initializes layer constants necessary to construct the graph\n",
    "            for training. Likely: just dimension information or nothing\n",
    "            at all.\"\"\"\n",
    "        \n",
    "Layer.__init__ = __init__"
   ]
  },
  {
   "cell_type": "markdown",
   "metadata": {},
   "source": [
    "Once the information about the layer is obtained from `__init__`, we can construct any variables in the graph needed by the layer using the `build` method. In the NumPy version, this is accomplished within `__init__`. We split this operation into two because at the time of initialization, we do not have a graph defined. Without a graph, we cannot create variables."
   ]
  },
  {
   "cell_type": "code",
   "execution_count": 4,
   "metadata": {},
   "outputs": [],
   "source": [
    "    def build(self):\n",
    "        \"\"\"Adds any variables to the graph required by the layer. (Such\n",
    "            as weight matrices.)\"\"\"\n",
    "        \n",
    "Layer.build = build"
   ]
  },
  {
   "cell_type": "markdown",
   "metadata": {},
   "source": [
    "Each of the layers need to be connected to each other for the forward pass. This is accomplished through the `build_forward` method. Note that this is not the same as a `forward` method in the NumPy version as nothing is being computed yet. In the `build_forward` method, we are constructing operations within the graph to be executed at a later time."
   ]
  },
  {
   "cell_type": "code",
   "execution_count": 5,
   "metadata": {},
   "outputs": [],
   "source": [
    "    def build_forward(self, X):\n",
    "        \"\"\"Connects the layer to the previous layer through a new \n",
    "            operation in the forward pass process.\n",
    "            \n",
    "        Args:\n",
    "            X (Tensor): A tensor representing the inputs to the layer.\n",
    "                Likely: A or Z depending on the layer.\n",
    "        \n",
    "        Returns:\n",
    "            Tensor: A tensor representing the outputs of the layer. Likely:\n",
    "                Z or A depending on the layer.\n",
    "                \n",
    "        \"\"\"\n",
    "\n",
    "Layer.build_forward = build_forward"
   ]
  },
  {
   "cell_type": "markdown",
   "metadata": {},
   "source": [
    "The layers also need to be connected to form the backward pass. We do this using the `build_backward` method. Again, this is not the same as the `backward` method as nothing is executed, only the operation is defined."
   ]
  },
  {
   "cell_type": "code",
   "execution_count": 6,
   "metadata": {},
   "outputs": [],
   "source": [
    "    def build_backward(self, dL):\n",
    "        \"\"\"Connects the layer to the next layer through a new operation\n",
    "            in the backward pass process.\n",
    "            \n",
    "        Args:\n",
    "            dL (Tensor): A tensor representing the gradient of the loss\n",
    "                of the network with respect to the outputs of the current\n",
    "                layer. Likely: dLdA or dLdZ depending on the layer.\n",
    "        \n",
    "        Returns:\n",
    "            Tensor: A tensor representing the gradient of the loss of the\n",
    "                network will respect to the inputs of the current layer.\n",
    "                Likely: dLdZ or dLdA depending on the layer.\n",
    "        \n",
    "        \"\"\"\n",
    "\n",
    "Layer.build_backward = build_backward"
   ]
  },
  {
   "cell_type": "markdown",
   "metadata": {},
   "source": [
    "Some layers need to update variables when they go through the training process. These variables are updated in the `build_sgd_step` method."
   ]
  },
  {
   "cell_type": "code",
   "execution_count": 7,
   "metadata": {},
   "outputs": [],
   "source": [
    "    def build_sgd_step(self, eta):\n",
    "        \"\"\"Updates trainable variables based off the results from the\n",
    "            backward pass.\n",
    "            \n",
    "        Args:\n",
    "            eta (float): The learning rate to use for the stochastic\n",
    "                gradient descent update step.\n",
    "        \n",
    "        \"\"\"\n",
    "\n",
    "Layer.build_sgd_step = build_sgd_step"
   ]
  },
  {
   "cell_type": "markdown",
   "metadata": {},
   "source": [
    "### Linear Layer\n",
    "\n",
    "This is the simplest possible layer where all inputs are connected to all outputs."
   ]
  },
  {
   "cell_type": "code",
   "execution_count": 8,
   "metadata": {},
   "outputs": [],
   "source": [
    "class Linear(Layer):\n",
    "    \"\"\"Simple layer fully-connecting inputs to outputs linearly.\"\"\""
   ]
  },
  {
   "cell_type": "markdown",
   "metadata": {},
   "source": [
    "To initialize this network, we just need to know the input dimensions and the output dimensions."
   ]
  },
  {
   "cell_type": "code",
   "execution_count": 9,
   "metadata": {},
   "outputs": [],
   "source": [
    "    def __init__(self, m, n):\n",
    "        \"\"\"Initializes the dimensions of the layer.\n",
    "        \n",
    "        Args:\n",
    "            m (int): Number of input features to the layer.\n",
    "            n (int): Number of output features of the layer.\n",
    "        \n",
    "        \"\"\"\n",
    "        self.m = m\n",
    "        self.n = n\n",
    "        \n",
    "Linear.__init__ = __init__"
   ]
  },
  {
   "cell_type": "markdown",
   "metadata": {},
   "source": [
    "With the dimensions known, we can construct the variables on the graph. Here are a few notes to consider:\n",
    "\n",
    "- We add new variables to our graph using the `get_variable`. This the standard preferred method to introduce trainable parameters.\n",
    "- Since we will likely have many of these `Linear` layers, we need to scope our variables as duplicate variable names are not allowed. By using `default_name`, TensorFlow will ensure our variable scopes are unique.\n",
    "- The variables need to be initialized to some values when the graph is constructed. To tell TensorFlow what these should be initialized to later, we use `zeros_initializer` for $W_0$ and `random_normal_initializer` for $W$.\n",
    "- This method assumes that the graph we wish to add the variables to is the default graph. This is only important to consider when training multiple different graphs at one time."
   ]
  },
  {
   "cell_type": "code",
   "execution_count": 10,
   "metadata": {},
   "outputs": [],
   "source": [
    "    def build(self):\n",
    "        \"\"\"Creates the trainable variables on the default graph for \n",
    "            the Linear layer.\"\"\"\n",
    "        with tf.variable_scope(name_or_scope=None, default_name='Linear'):\n",
    "            \n",
    "            self.W = tf.get_variable(name='W', shape=(self.m, self.n), initializer=tf.random_normal_initializer(0.0, tf.sqrt(1 / self.m)))\n",
    "            self.W0 = tf.get_variable(name='W0', shape=(self.n, 1), initializer=tf.zeros_initializer)\n",
    "\n",
    "Linear.build = build"
   ]
  },
  {
   "cell_type": "markdown",
   "metadata": {},
   "source": [
    "With our variables defined, we can build the forward pass. We take the activation $A$ from the previous layer and produce the current $Z$ pre-activation."
   ]
  },
  {
   "cell_type": "code",
   "execution_count": 11,
   "metadata": {},
   "outputs": [],
   "source": [
    "    def build_forward(self, A):\n",
    "        \"\"\"Connects the linear layer to the previous layer by operating\n",
    "            on the previous activation.\n",
    "            \n",
    "        Args:\n",
    "            A (Tensor): An m by b tensor representing the activations from\n",
    "                the previous layer with a batch of size b.\n",
    "                \n",
    "        Returns:\n",
    "            Tensor: An n by b tensor, Z, representing the pre-activations\n",
    "                as the output from this linear layer.\n",
    "        \n",
    "        \"\"\"\n",
    "        # We need this input later when computing the backward path.\n",
    "        self.A = A\n",
    "        \n",
    "        return tf.transpose(self.W) @ self.A + self.W0\n",
    "    \n",
    "Linear.build_forward = build_forward"
   ]
  },
  {
   "cell_type": "markdown",
   "metadata": {},
   "source": [
    "For now, we will compute the gradients by hand using back-propogation. We take the gradient of the loss with respect to the pre-activations of the layer $\\partial \\mathrm{Loss} / \\partial Z$ and compute the gradient of the loss with respect to the activations of the previous layer $\\partial \\mathrm{Loss} / \\partial A$. \n",
    "\n",
    "In addition, we save gradients of the loss with respect to the weights ($\\partial \\mathrm{Loss} / \\partial W$ and $\\partial \\mathrm{Loss} / \\partial W_0$) for the stochastic gradient descent update step."
   ]
  },
  {
   "cell_type": "code",
   "execution_count": 12,
   "metadata": {},
   "outputs": [],
   "source": [
    "    def build_backward(self, dLdZ):\n",
    "        \"\"\"Connects the next layer to the current layer using backward \n",
    "            process. Also records gradients of the loss with respect to\n",
    "            weights for later stochastic gradient descent updates.\n",
    "        \n",
    "        Args:\n",
    "            dLdZ (Tensor): An n by b tensor representing the gradient of\n",
    "                the loss with respect to the current layer's \n",
    "                pre-activations for a batch of size b.\n",
    "                \n",
    "        Returns:\n",
    "            Tensor: An m by b tensor, dLdA, representing the gradient of \n",
    "                the loss with respect to the previous layer's activations.\n",
    "        \n",
    "        \"\"\"\n",
    "        # We store these gradients for use later in the sgd_step\n",
    "        self.dLdW = self.A @ tf.transpose(dLdZ)\n",
    "        self.dLdW0 = tf.reduce_sum(dLdZ, axis=1, keepdims=True)\n",
    "\n",
    "        return self.W @ dLdZ\n",
    "    \n",
    "Linear.build_backward = build_backward"
   ]
  },
  {
   "cell_type": "markdown",
   "metadata": {},
   "source": [
    "The linear layer has some trainable parameters to update. Using the specified learning rate $\\eta$, we can re-assign our variable values using stochastic gradient descent. Note that these are not executed when this method is called!Since these are isolated operations, we need to return handles to them to be executed later. To execute in parallel, we use `tf.group`."
   ]
  },
  {
   "cell_type": "code",
   "execution_count": 13,
   "metadata": {},
   "outputs": [],
   "source": [
    "    def build_sgd_step(self, eta):\n",
    "        \"\"\"Constructs the training update operations for the Linear layer\n",
    "            weight parameters.\n",
    "            \n",
    "        Args:\n",
    "            eta (float): The learning rate to use for the stochastic\n",
    "                gradient descent update step.\n",
    "        \n",
    "        Returns:\n",
    "            Operation: An operation that executes the stochastic gradient\n",
    "                descent step for all weights.\n",
    "        \n",
    "        \"\"\"\n",
    "        return tf.group(self.W.assign_sub(eta * self.dLdW),\n",
    "                        self.W0.assign_sub(eta * self.dLdW0))\n",
    "\n",
    "Linear.build_sgd_step = build_sgd_step"
   ]
  },
  {
   "cell_type": "markdown",
   "metadata": {},
   "source": [
    "### Rectified Linear Unit Activation Layer\n",
    "\n",
    "This layer applies the relu activation function to each of the inputs element-wise."
   ]
  },
  {
   "cell_type": "code",
   "execution_count": 14,
   "metadata": {},
   "outputs": [],
   "source": [
    "class ReLU(Layer):\n",
    "    \"\"\"Applies relu activation function to all inputs.\"\"\""
   ]
  },
  {
   "cell_type": "markdown",
   "metadata": {},
   "source": [
    "We have no variables to consider, we just need to construct the forward and backward passes. With the forward pass we compute the activation $A$ using the previous layer's pre-activation $A$."
   ]
  },
  {
   "cell_type": "code",
   "execution_count": 15,
   "metadata": {},
   "outputs": [],
   "source": [
    "    def build_forward(self, Z):\n",
    "        \"\"\"Connects the previous later to the current layer using the\n",
    "            ReLU operation forward pass.\n",
    "            \n",
    "        Args:\n",
    "            Z (Tensor): An m by b tensor representing the pre-activations\n",
    "                from the previous layer for a batch of size b.\n",
    "        \n",
    "        Returns:\n",
    "            Tensor: An n by b tensor, A, representing the activations from\n",
    "                the current layer for a batch of size b. (Note: n and m \n",
    "                are equal.)\n",
    "                \n",
    "        \"\"\"\n",
    "        # We need this activation when computing the backward step later\n",
    "        self.A = tf.maximum(0.0, Z)\n",
    "        \n",
    "        return self.A\n",
    "    \n",
    "ReLU.build_forward = build_forward"
   ]
  },
  {
   "cell_type": "markdown",
   "metadata": {},
   "source": [
    "In the backward pass, we use the gradient of the loss with respect to the layer's activations $\\partial \\mathrm{Loss} / \\partial A$ to compute the gradient of the loss with respect to the previous layer's pre-activations $\\partial \\mathrm{Loss} / \\partial Z$."
   ]
  },
  {
   "cell_type": "code",
   "execution_count": 16,
   "metadata": {},
   "outputs": [],
   "source": [
    "    def build_backward(self, dLdA):\n",
    "        \"\"\"Connects the current layer to the next using the backward pass \n",
    "            process.\n",
    "            \n",
    "        Args:\n",
    "            dLdA (Tensor): An n by b tensor representing the gradient of\n",
    "                the loss with respect to the current layer's activations\n",
    "                for a batch of size b.\n",
    "        \n",
    "        Returns:\n",
    "            Tensor: An m by b tensor, dLdZ, representing the gradient of\n",
    "                the loss with respect to the previous layer's activations\n",
    "                for a batch of size b. (Note: n and m are equal.)\n",
    "        \n",
    "        \"\"\"\n",
    "        return tf.sign(self.A) * dLdA\n",
    "    \n",
    "ReLU.build_backward = build_backward"
   ]
  },
  {
   "cell_type": "markdown",
   "metadata": {},
   "source": [
    "### Hyperbolic Tangent Activation Layer\n",
    "\n",
    "This layer applies the hyperbolic tangent activation function to each input element-wise."
   ]
  },
  {
   "cell_type": "code",
   "execution_count": 17,
   "metadata": {},
   "outputs": [],
   "source": [
    "class Tanh(Layer):\n",
    "    \"\"\"Applies hyperbolic tangent activation function to all inputs.\"\"\""
   ]
  },
  {
   "cell_type": "markdown",
   "metadata": {},
   "source": [
    "There are no variables in this layer, thus we only need to worry about forward and backward passes. The forward pass takes the previous layer's pre-activation $Z$ and produces the activation $A$."
   ]
  },
  {
   "cell_type": "code",
   "execution_count": 18,
   "metadata": {},
   "outputs": [],
   "source": [
    "    def build_forward(self, Z):\n",
    "        \"\"\"Connects the previous layer to the current layer using the\n",
    "            backward pass process.\n",
    "        \n",
    "        Args:\n",
    "            Z (Tensor): An m by b tensor representing the previous layer's\n",
    "                pre-activation for a batch of size b.\n",
    "        \n",
    "        Returns:\n",
    "            Tensor: An n by b tensor, A, representing the layer's \n",
    "                activation for a batch of size b. (Note: m and n are\n",
    "                equal.)\n",
    "                \n",
    "        \"\"\"\n",
    "        # We need this activation when computing the backward step later\n",
    "        self.A = tf.tanh(Z)\n",
    "        \n",
    "        return self.A\n",
    "    \n",
    "Tanh.build_forward = build_forward"
   ]
  },
  {
   "cell_type": "markdown",
   "metadata": {},
   "source": [
    "The backward pass uses the gradient of the loss with respect to the layer's activation $\\partial \\mathrm{Loss} / \\partial A$ to compute the gradient of the loss with respect to the previous layer's pre-activation $\\partial \\mathrm{Loss} / \\partial Z$."
   ]
  },
  {
   "cell_type": "code",
   "execution_count": 19,
   "metadata": {},
   "outputs": [],
   "source": [
    "    def build_backward(self, dLdA):\n",
    "        \"\"\"Connects the next layer to the current layer using the\n",
    "            backward pass process.\n",
    "            \n",
    "        Args:\n",
    "            dLdA (Tensor): An n by b tensor representing the gradient of\n",
    "                the loss with respect to this layer's activation for a \n",
    "                batch of size b.\n",
    "                \n",
    "        Returns:\n",
    "            Tensor: An m by b tensor, dLdZ, representing the gradient of \n",
    "                the loss with respect to the previous layer's \n",
    "                pre-activation for a batch of size b. (Note: n and m are \n",
    "                equal.)\n",
    "                \n",
    "        \"\"\"\n",
    "        return (1.0 - self.A ** 2.0) * dLdA\n",
    "\n",
    "Tanh.build_backward = build_backward"
   ]
  },
  {
   "cell_type": "markdown",
   "metadata": {},
   "source": [
    "### Softmax Activation Layer\n",
    "\n",
    "This layer applies the softmax activation function to the inputs."
   ]
  },
  {
   "cell_type": "code",
   "execution_count": 20,
   "metadata": {},
   "outputs": [],
   "source": [
    "class Softmax(Layer):\n",
    "    \"\"\"Applies the softmax activation function to layer inputs.\"\"\""
   ]
  },
  {
   "cell_type": "markdown",
   "metadata": {},
   "source": [
    "As with the other activation layers, there are no variables to consider. The forward pass takes the previous layer's pre-activations $Z$ and computes the current layer's activation $A$."
   ]
  },
  {
   "cell_type": "code",
   "execution_count": 21,
   "metadata": {},
   "outputs": [],
   "source": [
    "    def build_forward(self, Z):\n",
    "        \"\"\"Connects the previous layer to the current layer using the\n",
    "            forward pass process.\n",
    "            \n",
    "        Args:\n",
    "            Z (Tensor): An m by b tensor representing the previous layer's\n",
    "                pre-activation for a batch of size b.\n",
    "        \n",
    "        Returns:\n",
    "            Tensor: An n by b tensor, A, representing the current layer's\n",
    "                activation for a batch of size b. (Note: m and n are\n",
    "                equal.)\n",
    "                \n",
    "        \"\"\"\n",
    "        # We need this activation when computing the backward step later\n",
    "        self.A = tf.exp(Z) / tf.reduce_sum(tf.exp(Z), axis=0, keepdims=True)\n",
    "        \n",
    "        return self.A\n",
    "    \n",
    "Softmax.build_forward = build_forward"
   ]
  },
  {
   "cell_type": "markdown",
   "metadata": {},
   "source": [
    "In the backward pass, we use the gradient of the loss with respect to the current layer's activations $\\partial \\mathrm{Loss} / \\partial A$ to compute the gradient of the loss with respect to the previous layer's pre-activations $\\partial \\mathrm{Loss} / \\partial Z$."
   ]
  },
  {
   "cell_type": "code",
   "execution_count": 22,
   "metadata": {},
   "outputs": [],
   "source": [
    "    def build_backward(self, dLdA):\n",
    "        \"\"\"Connects the next layer to the current layer using the\n",
    "            backward pass process.\n",
    "            \n",
    "        Args:\n",
    "            dLdA (Tensor): An n by b tensor representing the gradient of\n",
    "                the loss with respect to the current layer's activation.\n",
    "                \n",
    "        Returns:\n",
    "            Tensor: An m by b tensor, dLdZ, representing the gradient of \n",
    "                the loss with respect to the previous layer's \n",
    "                pre-activation. (Note: n and m are equal.)\n",
    "            \n",
    "        \"\"\"\n",
    "        n = dLdA.shape[0].value\n",
    "        \n",
    "        # This is just a way to compute dLdZ by using the provided dLdA\n",
    "        # and softmax's dAdZ tensor. Or you can assume dLdZ is passed in.\n",
    "        return tf.einsum('ikj,kj->ij', tf.einsum('jk,jk,ji->ijk', self.A, 1.0 - self.A, tf.eye(n)) + tf.einsum('jk,ik,ji->ijk', -self.A, self.A, 1.0 - tf.eye(n)), dLdA)\n",
    "    \n",
    "Softmax.build_backward = build_backward"
   ]
  },
  {
   "cell_type": "markdown",
   "metadata": {},
   "source": [
    "### Negative Log-Likelihood Multi-Class Loss Layer\n",
    "\n",
    "This layer computes the loss of the output of the network compared with the expected results."
   ]
  },
  {
   "cell_type": "code",
   "execution_count": 23,
   "metadata": {},
   "outputs": [],
   "source": [
    "class NLLM(Layer):\n",
    "    \"\"\"Computes the negative log-likelihood multi-class loss for neural\n",
    "        network outputs and expected outputs.\"\"\""
   ]
  },
  {
   "cell_type": "markdown",
   "metadata": {},
   "source": [
    "Like the activation layers, there are no variables to consider. The forward pass takes the neural network's final activations $A$ and the expected outputs\n",
    "$Y$ and computes the loss scalar."
   ]
  },
  {
   "cell_type": "code",
   "execution_count": 24,
   "metadata": {},
   "outputs": [],
   "source": [
    "    def build_forward(self, A, Y):\n",
    "        \"\"\"Connects the neural network to the loss layer using the forward \n",
    "            pass process.\n",
    "            \n",
    "        Args:\n",
    "            A (Tensor): An n by b tensor representing the neural network's\n",
    "                outputs for a batch of size b.\n",
    "            Y (Tensor): An n by b tensor representing the expected outputs\n",
    "                from the neural network for a batch of size b.\n",
    "        \n",
    "        Returns:\n",
    "            float: A scalar, L, which represents the loss of the neural\n",
    "                network for a batch of size b.\n",
    "        \n",
    "        \"\"\"\n",
    "        # We will need both of these later to compute the backward pass.\n",
    "        self.A = A\n",
    "        self.Y = Y\n",
    "\n",
    "        return -tf.reduce_sum(self.Y * tf.log(self.A))\n",
    "    \n",
    "NLLM.build_forward = build_forward"
   ]
  },
  {
   "cell_type": "markdown",
   "metadata": {},
   "source": [
    "The backward pass computes the gradient of the loss with respect to the neural network's final activations $\\partial \\mathrm{Loss} / \\partial A$. Note, this is not immediately computing $\\partial \\mathrm{Loss} / \\partial Z$ by assuming softmax activations."
   ]
  },
  {
   "cell_type": "code",
   "execution_count": 25,
   "metadata": {},
   "outputs": [],
   "source": [
    "    def build_backward(self):\n",
    "        \"\"\"Starts off the whole backward pass process.\n",
    "        \n",
    "        Returns:\n",
    "            Tensor: An n by b tensor, dLdA, representing the gradient of\n",
    "                the loss with respect to the neural network's outputs.\n",
    "                \n",
    "        \"\"\"\n",
    "        return -self.Y / self.A\n",
    "\n",
    "NLLM.build_backward = build_backward"
   ]
  },
  {
   "cell_type": "markdown",
   "metadata": {},
   "source": [
    "### Accuracy Layer\n",
    "\n",
    "Unlike the NumPy implementation, we need to explicitly provide a layer that computes the accuracy (quite similar to the loss layer above). Any value we wish to compute from the neural network must be implemented in the graph."
   ]
  },
  {
   "cell_type": "code",
   "execution_count": 26,
   "metadata": {},
   "outputs": [],
   "source": [
    "class Accuracy(Layer):\n",
    "    \"\"\"Computes the accuracy of the current neural network outputs and\n",
    "        expected outputs.\"\"\""
   ]
  },
  {
   "cell_type": "markdown",
   "metadata": {},
   "source": [
    "We only care about the forward pass as nothing uses the gradient of the accuracy. The forward pass uses the network's current outputs $A$ and the expected outputs $Y$ to compute the accuracy."
   ]
  },
  {
   "cell_type": "code",
   "execution_count": 27,
   "metadata": {},
   "outputs": [],
   "source": [
    "    def build_forward(self, A, Y):\n",
    "        \"\"\"Connects the neural network to the accuracy layer using the forward\n",
    "            pass process.\n",
    "            \n",
    "        Args:\n",
    "            A (Tensor): An n by b tensor representing the neural network's\n",
    "                outputs for a batch of size b.\n",
    "            Y (Tensor): An n by b tensor representing the expected outputs\n",
    "                from the neural network for a batch of size b.\n",
    "        \n",
    "        Returns:\n",
    "            float: A scalar, acc, which represents the accuracy of the neural\n",
    "                network for a batch of size b.\n",
    "        \n",
    "        \"\"\"        \n",
    "        return tf.reduce_mean(tf.cast(tf.equal(tf.argmax(A, axis=0), tf.argmax(Y, axis=0)), tf.float32))\n",
    "    \n",
    "Accuracy.build_forward = build_forward"
   ]
  },
  {
   "cell_type": "markdown",
   "metadata": {},
   "source": [
    "## Model\n",
    "\n",
    "Now we have all the components to construct our neural network, but we need a model to connect them together.\n",
    "\n",
    "### Sequential Model\n",
    "\n",
    "The sequential model simply connects all the layer linearly."
   ]
  },
  {
   "cell_type": "code",
   "execution_count": 28,
   "metadata": {},
   "outputs": [],
   "source": [
    "class Sequential:\n",
    "    \"\"\"A standard neural network model with linearly stacked layers.\"\"\""
   ]
  },
  {
   "cell_type": "markdown",
   "metadata": {},
   "source": [
    "The first step to construct the model is to provide a list of layers. This is a little different from the NumPy implementation. From this list of layers, a graph is initialized for the model construction, and a graph session is initialized for training the model."
   ]
  },
  {
   "cell_type": "code",
   "execution_count": 29,
   "metadata": {},
   "outputs": [],
   "source": [
    "    def __init__(self, layers):\n",
    "        \"\"\"Initializes the model by saving the layers provided. Note the\n",
    "            model is not ready for training yet. Please call the build\n",
    "            method.\n",
    "            \n",
    "        Args:\n",
    "            layers (list of Layer): A list of layers in sequential order\n",
    "                to construct the model from.\n",
    "        \n",
    "        \"\"\"\n",
    "        self.layers = layers\n",
    "        \n",
    "        # When we build layer, we need to know input and output dimensions.\n",
    "        self.m = self.layers[0].m\n",
    "        self.n = self.layers[0].n\n",
    "        for layer in self.layers[1:]:\n",
    "            self.n = getattr(layer, 'n', self.n)\n",
    "        \n",
    "        # This is the static graph representing our model\n",
    "        self.graph = tf.Graph()\n",
    "        \n",
    "        # This is the runtime instance of our model\n",
    "        self.sess = tf.Session(graph=self.graph)\n",
    "\n",
    "Sequential.__init__ = __init__"
   ]
  },
  {
   "cell_type": "markdown",
   "metadata": {},
   "source": [
    "Before we can train, we need to construct the entire model graph from the provided layers. This is accomplished through a build method (similar to the compile method used in `tf.keras`)."
   ]
  },
  {
   "cell_type": "code",
   "execution_count": 30,
   "metadata": {},
   "outputs": [],
   "source": [
    "    def build(self, eta, loss, metrics):\n",
    "        \"\"\"Constructs the model's graph from the provided layers with the\n",
    "            specified loss and metrics.\n",
    "            \n",
    "        Args:\n",
    "            eta (float): A scalar representing the learning rate for\n",
    "                stochastic gradient descent.\n",
    "            loss (Layer): A layer used to construct the objective for\n",
    "                stochastic gradient descent.\n",
    "            metrics (list of Layers): A list of layers to use when\n",
    "                evaluating model performance.\n",
    "                \n",
    "        \"\"\"\n",
    "        # This ensures that the graph we add our variables to the graph\n",
    "        # unique to the model.\n",
    "        with self.graph.as_default():\n",
    "        \n",
    "            self.X = tf.placeholder(name='X', shape=(self.m, None), dtype=tf.float32)\n",
    "            self.Y = tf.placeholder(name='Y', shape=(self.n, None), dtype=tf.float32)\n",
    "\n",
    "            for layer in self.layers + [loss] + metrics:\n",
    "                layer.build()\n",
    "\n",
    "            self.forward = self.build_forward(self.X)\n",
    "            self.loss_forward = loss.build_forward(self.forward, self.Y)\n",
    "            self.metrics_forward = tf.tuple([metric.build_forward(self.forward, self.Y) for metric in metrics])\n",
    "\n",
    "            loss_backward = loss.build_backward()\n",
    "            self.build_backward(loss_backward)\n",
    "\n",
    "            self.build_sgd_step(eta)\n",
    "            \n",
    "            initializer = tf.global_variables_initializer()\n",
    "        \n",
    "        # This initializes the variables in our graph using the current \n",
    "        # instance session\n",
    "        self.sess.run(initializer)\n",
    "        \n",
    "Sequential.build = build"
   ]
  },
  {
   "cell_type": "markdown",
   "metadata": {},
   "source": [
    "There are various helper methods called by the build method similar to those used in training in the NumPy implementation. The first is `build_forward`. This method constructs the entire forward pass and saves a handle to the operation in `self.forward`. Note that this does not return a value!"
   ]
  },
  {
   "cell_type": "code",
   "execution_count": 31,
   "metadata": {},
   "outputs": [],
   "source": [
    "    def build_forward(self, X):\n",
    "        \"\"\"Constructs the entire forward pass for the network by \n",
    "            connecting each layer together.\n",
    "        \n",
    "        Args:\n",
    "            X (Tensor): An m by b tensor representing the placeholder \n",
    "                inputs to the neural network for a batch of size b.\n",
    "                \n",
    "        Returns:\n",
    "            Tensor: An n by b tensor representing the final output of the \n",
    "                neural network for a batch of size b to be evaluated in a \n",
    "                graph session.\n",
    "                \n",
    "        \"\"\"        \n",
    "        self.forward = X\n",
    "        for layer in self.layers:\n",
    "            self.forward = layer.build_forward(self.forward)\n",
    "        \n",
    "        return self.forward\n",
    "\n",
    "Sequential.build_forward = build_forward"
   ]
  },
  {
   "cell_type": "markdown",
   "metadata": {},
   "source": [
    "The `build_backward` method constructs the entire backward pass of the network to compute the gradients for the training step later on."
   ]
  },
  {
   "cell_type": "code",
   "execution_count": 32,
   "metadata": {},
   "outputs": [],
   "source": [
    "    def build_backward(self, dL):\n",
    "        \"\"\"Constructs the neural network's backward pass by connecting \n",
    "            each layer together.\n",
    "            \n",
    "        Args:\n",
    "            dL (Tensor): An n by b tensor representing the gradient of the\n",
    "                loss with respect to the output of the neural network.\n",
    "                \n",
    "        \"\"\"        \n",
    "        for layer in self.layers[::-1]:\n",
    "            dL = layer.build_backward(dL)\n",
    "    \n",
    "Sequential.build_backward = build_backward"
   ]
  },
  {
   "cell_type": "markdown",
   "metadata": {},
   "source": [
    "To train the model, we need to construct an operation that updates all the weights within the model. This is accomplished by the `build_sgd_step` method which iterates all `sgd_step` methods in the layers and groups together the ones which have weights to update. When `self.sgd_step` is called later, these updates will take place in parallel."
   ]
  },
  {
   "cell_type": "code",
   "execution_count": 33,
   "metadata": {},
   "outputs": [],
   "source": [
    "    def build_sgd_step(self, eta):\n",
    "        \"\"\"Constructs the stochastic gradient descent training update step \n",
    "            for the entire neural network.\n",
    "            \n",
    "        Args:\n",
    "            eta (float): A learning rate for stochastic gradient descent.\n",
    "            \n",
    "        Returns:\n",
    "            Operation: An operation that executes each layer's stochastic\n",
    "                gradient descent update step in parallel.\n",
    "                \n",
    "        \"\"\"        \n",
    "        sgd_steps = [layer.build_sgd_step(eta) for layer in self.layers]\n",
    "        self.sgd_step = tf.group(*[sgd_step for sgd_step in sgd_steps if sgd_step is not None])\n",
    "        \n",
    "        return self.sgd_step\n",
    "    \n",
    "Sequential.build_sgd_step = build_sgd_step"
   ]
  },
  {
   "cell_type": "markdown",
   "metadata": {},
   "source": [
    "Now our entire graph is constructed. To train the model, we use the `sgd` method. In this method, since the logic is saved in the graph from the `build` method, we just need to execute the training operation."
   ]
  },
  {
   "cell_type": "code",
   "execution_count": 34,
   "metadata": {},
   "outputs": [],
   "source": [
    "    def sgd(self, X_train, Y_train, epochs=100):\n",
    "        \"\"\"Performs stochastic gradient descent on the model.\n",
    "        \n",
    "        Args:\n",
    "            X_train (ndarray): A d by n NumPy array representing n input\n",
    "                training points each with d features.\n",
    "            Y_train (ndarray): A c by n NumPy array representing n output\n",
    "                training points each with c features.\n",
    "            epochs (int): Number of iterations to run stochastic gradient\n",
    "                descent.\n",
    "                \n",
    "        \"\"\"\n",
    "        _, n = X_train.shape\n",
    "        \n",
    "        for epoch in range(epochs):\n",
    "\n",
    "            t = np.random.randint(n)\n",
    "            \n",
    "            Xt = X_train[:, t:t + 1]\n",
    "            Yt = Y_train[:, t:t + 1]\n",
    "\n",
    "            self.sess.run(self.sgd_step, feed_dict={ self.X: Xt, self.Y: Yt })\n",
    "            \n",
    "            if epoch % 250 == 1:\n",
    "                \n",
    "                metrics_eval = self.sess.run(self.metrics_forward, feed_dict={ self.X: X_train, self.Y: Y_train })\n",
    "                print('Iteration =', epoch, '\\tAcc =', metrics_eval[1], '\\tLoss =', metrics_eval[0], flush=True)\n",
    "\n",
    "Sequential.sgd = sgd"
   ]
  },
  {
   "cell_type": "markdown",
   "metadata": {},
   "source": [
    "Unlike the NumPy implementation where the `forward` method could be used for prediction, the TensorFlow implementation needs the execution to take place within a graph session. So, we wrap the forward result in a prediction method."
   ]
  },
  {
   "cell_type": "code",
   "execution_count": 35,
   "metadata": {},
   "outputs": [],
   "source": [
    "    def predict(self, X):\n",
    "        \"\"\"Returns the output from the forward pass.\n",
    "        \n",
    "        Args:\n",
    "            X (ndarray): A d by n NumPy array representing n points each\n",
    "                with d features to predict outputs.\n",
    "                \n",
    "        Returns:\n",
    "            ndarray: A c by n NumPy array representing the outputs from\n",
    "                n points each with c features.\n",
    "                \n",
    "        \"\"\"\n",
    "        return self.sess.run(self.forward, feed_dict={ self.X: X })\n",
    "    \n",
    "Sequential.predict = predict"
   ]
  },
  {
   "cell_type": "markdown",
   "metadata": {},
   "source": [
    "## Training\n",
    "\n",
    "Our model is complete! Let's train it on some data and see how will it can classify. We will use the standard 'hard' data set used previously."
   ]
  },
  {
   "cell_type": "code",
   "execution_count": 36,
   "metadata": {},
   "outputs": [],
   "source": [
    "X = np.array([[-0.23390341,  1.18151883, -2.46493986,  1.55322202,  1.27621763,\n",
    "                2.39710997, -1.34403040, -0.46903436, -0.64673502, -1.44029872,\n",
    "               -1.37537243,  1.05994811, -0.93311512,  1.02735575, -0.84138778,\n",
    "               -2.22585412, -0.42591102,  1.03561105,  0.91125595, -2.26550369],\n",
    "              [-0.92254932, -1.10309630, -2.41956036, -1.15509002, -1.04805327,\n",
    "                0.08717325,  0.81847250, -0.75171045,  0.60664705,  0.80410947,\n",
    "               -0.11600488,  1.03747218, -0.67210575,  0.99944446, -0.65559838,\n",
    "               -0.40744784, -0.58367642,  1.05972780, -0.95991874, -1.41720255]])\n",
    "\n",
    "Y = np.array([[0., 0., 1., 0., 0., 0., 1., 1., 1., 1., 1., 0., 0., 0., 1., 1., 1., 0., 0., 1.],\n",
    "              [1., 1., 0., 1., 1., 1., 0., 0., 0., 0., 0., 1., 1., 1., 0., 0., 0., 1., 1., 0.]])"
   ]
  },
  {
   "cell_type": "markdown",
   "metadata": {},
   "source": [
    "Let's start by taking a look at our data."
   ]
  },
  {
   "cell_type": "code",
   "execution_count": 37,
   "metadata": {},
   "outputs": [
    {
     "data": {
      "image/png": "[encoded data removed]",
      "text/plain": [
       "<Figure size 432x288 with 1 Axes>"
      ]
     },
     "metadata": {
      "needs_background": "light"
     },
     "output_type": "display_data"
    }
   ],
   "source": [
    "_ = plt.scatter(X[0,:], X[1,:], c=Y[1,:], cmap=ListedColormap(['#1f77b4', '#ff7f0e']))"
   ]
  },
  {
   "cell_type": "markdown",
   "metadata": {},
   "source": [
    "Now we can construct a neural network we think might be able to classify these points."
   ]
  },
  {
   "cell_type": "code",
   "execution_count": 38,
   "metadata": {},
   "outputs": [],
   "source": [
    "model = Sequential([Linear(2, 10), ReLU(),\n",
    "                    Linear(10, 10), ReLU(),\n",
    "                    Linear(10, 2), Softmax()])"
   ]
  },
  {
   "cell_type": "markdown",
   "metadata": {},
   "source": [
    "Don't forget that we need to build the model before we use it!"
   ]
  },
  {
   "cell_type": "code",
   "execution_count": 39,
   "metadata": {},
   "outputs": [
    {
     "name": "stdout",
     "output_type": "stream",
     "text": [
      "WARNING:tensorflow:From /usr/local/lib/python3.6/dist-packages/tensorflow/python/framework/op_def_library.py:263: colocate_with (from tensorflow.python.framework.ops) is deprecated and will be removed in a future version.\n",
      "Instructions for updating:\n",
      "Colocations handled automatically by placer.\n"
     ]
    }
   ],
   "source": [
    "model.build(0.005, NLLM(), [NLLM(), Accuracy()])"
   ]
  },
  {
   "cell_type": "markdown",
   "metadata": {},
   "source": [
    "Let's try training the model on the data for a few thousand iterations."
   ]
  },
  {
   "cell_type": "code",
   "execution_count": 40,
   "metadata": {
    "scrolled": true
   },
   "outputs": [
    {
     "name": "stdout",
     "output_type": "stream",
     "text": [
      "Iteration = 1 \tAcc = 0.35 \tLoss = 14.2715645\n",
      "Iteration = 251 \tAcc = 0.9 \tLoss = 8.61764\n",
      "Iteration = 501 \tAcc = 0.9 \tLoss = 6.8519754\n",
      "Iteration = 751 \tAcc = 0.9 \tLoss = 5.8082747\n",
      "Iteration = 1001 \tAcc = 0.9 \tLoss = 5.1170826\n",
      "Iteration = 1251 \tAcc = 0.95 \tLoss = 4.5887856\n",
      "Iteration = 1501 \tAcc = 0.95 \tLoss = 4.2604237\n",
      "Iteration = 1751 \tAcc = 0.95 \tLoss = 4.078884\n",
      "Iteration = 2001 \tAcc = 0.95 \tLoss = 3.8907197\n",
      "Iteration = 2251 \tAcc = 0.95 \tLoss = 3.778599\n",
      "Iteration = 2501 \tAcc = 0.95 \tLoss = 3.7373128\n",
      "Iteration = 2751 \tAcc = 0.95 \tLoss = 3.6215448\n",
      "Iteration = 3001 \tAcc = 0.95 \tLoss = 3.5726953\n",
      "Iteration = 3251 \tAcc = 0.95 \tLoss = 3.5334105\n",
      "Iteration = 3501 \tAcc = 0.95 \tLoss = 3.495299\n",
      "Iteration = 3751 \tAcc = 0.95 \tLoss = 3.4614756\n",
      "Iteration = 4001 \tAcc = 0.95 \tLoss = 3.4282522\n",
      "Iteration = 4251 \tAcc = 0.95 \tLoss = 3.4275966\n",
      "Iteration = 4501 \tAcc = 0.95 \tLoss = 3.5106797\n",
      "Iteration = 4751 \tAcc = 0.95 \tLoss = 3.400843\n",
      "Iteration = 5001 \tAcc = 0.95 \tLoss = 3.3402743\n",
      "Iteration = 5251 \tAcc = 0.95 \tLoss = 3.3390658\n",
      "Iteration = 5501 \tAcc = 0.95 \tLoss = 3.3342695\n",
      "Iteration = 5751 \tAcc = 0.95 \tLoss = 3.278368\n",
      "Iteration = 6001 \tAcc = 0.95 \tLoss = 3.309578\n",
      "Iteration = 6251 \tAcc = 0.95 \tLoss = 3.269842\n",
      "Iteration = 6501 \tAcc = 0.95 \tLoss = 3.2896454\n",
      "Iteration = 6751 \tAcc = 0.95 \tLoss = 3.2364283\n",
      "Iteration = 7001 \tAcc = 0.95 \tLoss = 3.2531672\n",
      "Iteration = 7251 \tAcc = 0.95 \tLoss = 3.2151423\n",
      "Iteration = 7501 \tAcc = 0.95 \tLoss = 3.2041945\n",
      "Iteration = 7751 \tAcc = 0.95 \tLoss = 3.271474\n",
      "Iteration = 8001 \tAcc = 0.95 \tLoss = 3.2031913\n",
      "Iteration = 8251 \tAcc = 0.95 \tLoss = 3.1434143\n",
      "Iteration = 8501 \tAcc = 0.95 \tLoss = 3.2136362\n",
      "Iteration = 8751 \tAcc = 0.95 \tLoss = 3.1180792\n",
      "Iteration = 9001 \tAcc = 0.95 \tLoss = 3.1055894\n",
      "Iteration = 9251 \tAcc = 0.95 \tLoss = 3.1044188\n",
      "Iteration = 9501 \tAcc = 0.95 \tLoss = 3.08239\n",
      "Iteration = 9751 \tAcc = 0.95 \tLoss = 3.0709684\n",
      "Iteration = 10001 \tAcc = 0.95 \tLoss = 3.0610085\n",
      "Iteration = 10251 \tAcc = 0.95 \tLoss = 3.181134\n",
      "Iteration = 10501 \tAcc = 0.95 \tLoss = 3.0490751\n",
      "Iteration = 10751 \tAcc = 0.95 \tLoss = 3.0638196\n",
      "Iteration = 11001 \tAcc = 0.95 \tLoss = 3.0181563\n",
      "Iteration = 11251 \tAcc = 0.95 \tLoss = 3.0376692\n",
      "Iteration = 11501 \tAcc = 0.95 \tLoss = 3.0876389\n",
      "Iteration = 11751 \tAcc = 0.95 \tLoss = 2.9653435\n",
      "Iteration = 12001 \tAcc = 0.95 \tLoss = 2.9626675\n",
      "Iteration = 12251 \tAcc = 0.95 \tLoss = 2.9677522\n",
      "Iteration = 12501 \tAcc = 0.95 \tLoss = 2.9419022\n",
      "Iteration = 12751 \tAcc = 0.95 \tLoss = 2.9538968\n",
      "Iteration = 13001 \tAcc = 0.95 \tLoss = 2.9990888\n",
      "Iteration = 13251 \tAcc = 0.95 \tLoss = 2.9323153\n",
      "Iteration = 13501 \tAcc = 0.95 \tLoss = 2.9022362\n",
      "Iteration = 13751 \tAcc = 0.95 \tLoss = 2.8943865\n",
      "Iteration = 14001 \tAcc = 0.95 \tLoss = 2.9046593\n",
      "Iteration = 14251 \tAcc = 0.95 \tLoss = 2.869136\n",
      "Iteration = 14501 \tAcc = 0.95 \tLoss = 2.9178157\n",
      "Iteration = 14751 \tAcc = 0.95 \tLoss = 2.8881724\n",
      "Iteration = 15001 \tAcc = 0.95 \tLoss = 2.8543458\n",
      "Iteration = 15251 \tAcc = 0.95 \tLoss = 2.8291852\n",
      "Iteration = 15501 \tAcc = 0.95 \tLoss = 2.8154874\n",
      "Iteration = 15751 \tAcc = 0.95 \tLoss = 2.8579192\n",
      "Iteration = 16001 \tAcc = 0.95 \tLoss = 2.9550245\n",
      "Iteration = 16251 \tAcc = 0.95 \tLoss = 2.8273525\n",
      "Iteration = 16501 \tAcc = 0.95 \tLoss = 2.7947762\n",
      "Iteration = 16751 \tAcc = 0.95 \tLoss = 2.7742274\n",
      "Iteration = 17001 \tAcc = 0.95 \tLoss = 2.8336184\n",
      "Iteration = 17251 \tAcc = 0.95 \tLoss = 2.7633677\n",
      "Iteration = 17501 \tAcc = 0.95 \tLoss = 2.8133812\n",
      "Iteration = 17751 \tAcc = 0.95 \tLoss = 2.7291949\n",
      "Iteration = 18001 \tAcc = 0.95 \tLoss = 2.715719\n",
      "Iteration = 18251 \tAcc = 0.95 \tLoss = 2.723966\n",
      "Iteration = 18501 \tAcc = 0.95 \tLoss = 2.6961412\n",
      "Iteration = 18751 \tAcc = 0.95 \tLoss = 2.7932658\n",
      "Iteration = 19001 \tAcc = 0.95 \tLoss = 2.697781\n",
      "Iteration = 19251 \tAcc = 0.95 \tLoss = 2.681873\n",
      "Iteration = 19501 \tAcc = 0.95 \tLoss = 2.6615627\n",
      "Iteration = 19751 \tAcc = 0.95 \tLoss = 2.6577544\n",
      "Iteration = 20001 \tAcc = 0.95 \tLoss = 2.6422226\n",
      "Iteration = 20251 \tAcc = 0.95 \tLoss = 2.6615314\n",
      "Iteration = 20501 \tAcc = 0.95 \tLoss = 2.6315353\n",
      "Iteration = 20751 \tAcc = 0.95 \tLoss = 2.6317296\n",
      "Iteration = 21001 \tAcc = 0.95 \tLoss = 2.6094213\n",
      "Iteration = 21251 \tAcc = 0.95 \tLoss = 2.6137633\n",
      "Iteration = 21501 \tAcc = 0.95 \tLoss = 2.6748915\n",
      "Iteration = 21751 \tAcc = 0.95 \tLoss = 2.5907927\n",
      "Iteration = 22001 \tAcc = 0.95 \tLoss = 2.6096556\n",
      "Iteration = 22251 \tAcc = 0.95 \tLoss = 2.5527186\n",
      "Iteration = 22501 \tAcc = 0.95 \tLoss = 2.5461817\n",
      "Iteration = 22751 \tAcc = 0.95 \tLoss = 2.5361323\n",
      "Iteration = 23001 \tAcc = 0.95 \tLoss = 2.5788076\n",
      "Iteration = 23251 \tAcc = 0.95 \tLoss = 2.527952\n",
      "Iteration = 23501 \tAcc = 0.95 \tLoss = 2.503307\n",
      "Iteration = 23751 \tAcc = 0.95 \tLoss = 2.5151873\n",
      "Iteration = 24001 \tAcc = 0.95 \tLoss = 2.4734123\n",
      "Iteration = 24251 \tAcc = 0.95 \tLoss = 2.5775814\n",
      "Iteration = 24501 \tAcc = 0.95 \tLoss = 2.5050883\n",
      "Iteration = 24751 \tAcc = 0.95 \tLoss = 2.4882076\n",
      "Iteration = 25001 \tAcc = 0.95 \tLoss = 2.4363873\n",
      "Iteration = 25251 \tAcc = 0.95 \tLoss = 2.4350016\n",
      "Iteration = 25501 \tAcc = 0.95 \tLoss = 2.4036741\n",
      "Iteration = 25751 \tAcc = 0.95 \tLoss = 2.3964846\n",
      "Iteration = 26001 \tAcc = 0.95 \tLoss = 2.4221559\n",
      "Iteration = 26251 \tAcc = 0.95 \tLoss = 2.3871815\n",
      "Iteration = 26501 \tAcc = 0.95 \tLoss = 2.356152\n",
      "Iteration = 26751 \tAcc = 0.95 \tLoss = 2.3333623\n",
      "Iteration = 27001 \tAcc = 0.95 \tLoss = 2.3158655\n",
      "Iteration = 27251 \tAcc = 0.95 \tLoss = 2.3263125\n",
      "Iteration = 27501 \tAcc = 0.95 \tLoss = 2.308796\n",
      "Iteration = 27751 \tAcc = 0.95 \tLoss = 2.2746737\n",
      "Iteration = 28001 \tAcc = 0.95 \tLoss = 2.2579546\n",
      "Iteration = 28251 \tAcc = 0.95 \tLoss = 2.2937293\n",
      "Iteration = 28501 \tAcc = 0.95 \tLoss = 2.2868764\n",
      "Iteration = 28751 \tAcc = 0.95 \tLoss = 2.2159402\n",
      "Iteration = 29001 \tAcc = 0.95 \tLoss = 2.194114\n",
      "Iteration = 29251 \tAcc = 0.95 \tLoss = 2.1924844\n",
      "Iteration = 29501 \tAcc = 0.95 \tLoss = 2.1544647\n",
      "Iteration = 29751 \tAcc = 0.95 \tLoss = 2.1540663\n",
      "Iteration = 30001 \tAcc = 0.95 \tLoss = 2.213316\n",
      "Iteration = 30251 \tAcc = 0.95 \tLoss = 2.1064086\n",
      "Iteration = 30501 \tAcc = 0.95 \tLoss = 2.1847174\n",
      "Iteration = 30751 \tAcc = 0.95 \tLoss = 2.07887\n",
      "Iteration = 31001 \tAcc = 0.95 \tLoss = 2.0502532\n",
      "Iteration = 31251 \tAcc = 0.95 \tLoss = 2.1832588\n",
      "Iteration = 31501 \tAcc = 0.95 \tLoss = 2.0642076\n",
      "Iteration = 31751 \tAcc = 0.95 \tLoss = 2.0087388\n",
      "Iteration = 32001 \tAcc = 0.95 \tLoss = 2.0826957\n",
      "Iteration = 32251 \tAcc = 0.95 \tLoss = 2.0080998\n",
      "Iteration = 32501 \tAcc = 0.95 \tLoss = 1.9717416\n",
      "Iteration = 32751 \tAcc = 0.95 \tLoss = 1.9702325\n",
      "Iteration = 33001 \tAcc = 0.95 \tLoss = 1.8685036\n",
      "Iteration = 33251 \tAcc = 0.95 \tLoss = 1.8325148\n",
      "Iteration = 33501 \tAcc = 0.95 \tLoss = 1.7980864\n",
      "Iteration = 33751 \tAcc = 0.95 \tLoss = 1.7230604\n",
      "Iteration = 34001 \tAcc = 1.0 \tLoss = 1.7130641\n",
      "Iteration = 34251 \tAcc = 1.0 \tLoss = 1.6713516\n",
      "Iteration = 34501 \tAcc = 0.95 \tLoss = 1.9008877\n",
      "Iteration = 34751 \tAcc = 0.95 \tLoss = 1.5857908\n",
      "Iteration = 35001 \tAcc = 0.95 \tLoss = 1.5577447\n",
      "Iteration = 35251 \tAcc = 0.95 \tLoss = 1.5400838\n",
      "Iteration = 35501 \tAcc = 0.95 \tLoss = 1.5241926\n",
      "Iteration = 35751 \tAcc = 1.0 \tLoss = 1.5066144\n",
      "Iteration = 36001 \tAcc = 1.0 \tLoss = 1.4964557\n",
      "Iteration = 36251 \tAcc = 0.95 \tLoss = 1.51128\n",
      "Iteration = 36501 \tAcc = 0.95 \tLoss = 1.6266712\n",
      "Iteration = 36751 \tAcc = 0.95 \tLoss = 1.4300963\n",
      "Iteration = 37001 \tAcc = 0.95 \tLoss = 1.4198142\n",
      "Iteration = 37251 \tAcc = 1.0 \tLoss = 1.3960974\n",
      "Iteration = 37501 \tAcc = 1.0 \tLoss = 1.3782691\n",
      "Iteration = 37751 \tAcc = 0.95 \tLoss = 1.3745816\n",
      "Iteration = 38001 \tAcc = 0.95 \tLoss = 1.3753088\n",
      "Iteration = 38251 \tAcc = 0.95 \tLoss = 1.4075204\n",
      "Iteration = 38501 \tAcc = 0.95 \tLoss = 1.3373584\n",
      "Iteration = 38751 \tAcc = 0.95 \tLoss = 1.3538892\n",
      "Iteration = 39001 \tAcc = 0.95 \tLoss = 1.334621\n",
      "Iteration = 39251 \tAcc = 0.95 \tLoss = 1.3445964\n",
      "Iteration = 39501 \tAcc = 0.95 \tLoss = 1.2906601\n",
      "Iteration = 39751 \tAcc = 0.95 \tLoss = 1.4765397\n",
      "Iteration = 40001 \tAcc = 0.95 \tLoss = 1.4509993\n",
      "Iteration = 40251 \tAcc = 1.0 \tLoss = 1.2522523\n",
      "Iteration = 40501 \tAcc = 1.0 \tLoss = 1.3008189\n",
      "Iteration = 40751 \tAcc = 0.95 \tLoss = 1.2796885\n",
      "Iteration = 41001 \tAcc = 0.95 \tLoss = 1.4751191\n",
      "Iteration = 41251 \tAcc = 1.0 \tLoss = 1.2181777\n",
      "Iteration = 41501 \tAcc = 0.95 \tLoss = 1.3773263\n",
      "Iteration = 41751 \tAcc = 1.0 \tLoss = 1.1992542\n",
      "Iteration = 42001 \tAcc = 1.0 \tLoss = 1.1868038\n",
      "Iteration = 42251 \tAcc = 0.95 \tLoss = 1.2493773\n",
      "Iteration = 42501 \tAcc = 1.0 \tLoss = 1.182608\n",
      "Iteration = 42751 \tAcc = 1.0 \tLoss = 1.1630584\n",
      "Iteration = 43001 \tAcc = 1.0 \tLoss = 1.1805797\n"
     ]
    },
    {
     "name": "stdout",
     "output_type": "stream",
     "text": [
      "Iteration = 43251 \tAcc = 0.95 \tLoss = 1.2000728\n",
      "Iteration = 43501 \tAcc = 0.95 \tLoss = 1.2121378\n",
      "Iteration = 43751 \tAcc = 1.0 \tLoss = 1.1569403\n",
      "Iteration = 44001 \tAcc = 1.0 \tLoss = 1.2106066\n",
      "Iteration = 44251 \tAcc = 1.0 \tLoss = 1.1169077\n",
      "Iteration = 44501 \tAcc = 1.0 \tLoss = 1.1769404\n",
      "Iteration = 44751 \tAcc = 1.0 \tLoss = 1.2065994\n",
      "Iteration = 45001 \tAcc = 1.0 \tLoss = 1.0976676\n",
      "Iteration = 45251 \tAcc = 1.0 \tLoss = 1.0900944\n",
      "Iteration = 45501 \tAcc = 1.0 \tLoss = 1.0873358\n",
      "Iteration = 45751 \tAcc = 0.95 \tLoss = 1.2334521\n",
      "Iteration = 46001 \tAcc = 1.0 \tLoss = 1.0917445\n",
      "Iteration = 46251 \tAcc = 1.0 \tLoss = 1.0666668\n",
      "Iteration = 46501 \tAcc = 1.0 \tLoss = 1.0613105\n",
      "Iteration = 46751 \tAcc = 1.0 \tLoss = 1.0819135\n",
      "Iteration = 47001 \tAcc = 0.95 \tLoss = 1.1822215\n",
      "Iteration = 47251 \tAcc = 1.0 \tLoss = 1.0758762\n",
      "Iteration = 47501 \tAcc = 0.95 \tLoss = 1.2043309\n",
      "Iteration = 47751 \tAcc = 1.0 \tLoss = 1.0780275\n",
      "Iteration = 48001 \tAcc = 1.0 \tLoss = 1.0587723\n",
      "Iteration = 48251 \tAcc = 1.0 \tLoss = 1.0636532\n",
      "Iteration = 48501 \tAcc = 0.95 \tLoss = 1.1074638\n",
      "Iteration = 48751 \tAcc = 0.95 \tLoss = 1.2449052\n",
      "Iteration = 49001 \tAcc = 1.0 \tLoss = 1.0618536\n",
      "Iteration = 49251 \tAcc = 1.0 \tLoss = 1.0092245\n",
      "Iteration = 49501 \tAcc = 1.0 \tLoss = 1.0032823\n",
      "Iteration = 49751 \tAcc = 1.0 \tLoss = 1.0877413\n",
      "Iteration = 50001 \tAcc = 1.0 \tLoss = 1.0185168\n",
      "Iteration = 50251 \tAcc = 1.0 \tLoss = 0.9729132\n",
      "Iteration = 50501 \tAcc = 1.0 \tLoss = 1.0008596\n",
      "Iteration = 50751 \tAcc = 1.0 \tLoss = 0.99185896\n",
      "Iteration = 51001 \tAcc = 1.0 \tLoss = 0.95247704\n",
      "Iteration = 51251 \tAcc = 1.0 \tLoss = 0.9520269\n",
      "Iteration = 51501 \tAcc = 1.0 \tLoss = 0.97955155\n",
      "Iteration = 51751 \tAcc = 0.95 \tLoss = 1.2115538\n",
      "Iteration = 52001 \tAcc = 1.0 \tLoss = 0.9923605\n",
      "Iteration = 52251 \tAcc = 0.95 \tLoss = 1.0260975\n",
      "Iteration = 52501 \tAcc = 0.95 \tLoss = 1.0830553\n",
      "Iteration = 52751 \tAcc = 1.0 \tLoss = 0.9811179\n",
      "Iteration = 53001 \tAcc = 1.0 \tLoss = 0.9858123\n",
      "Iteration = 53251 \tAcc = 1.0 \tLoss = 0.90542716\n",
      "Iteration = 53501 \tAcc = 0.95 \tLoss = 1.0209564\n",
      "Iteration = 53751 \tAcc = 1.0 \tLoss = 0.96885264\n",
      "Iteration = 54001 \tAcc = 1.0 \tLoss = 1.0060863\n",
      "Iteration = 54251 \tAcc = 1.0 \tLoss = 0.9632308\n",
      "Iteration = 54501 \tAcc = 0.95 \tLoss = 0.974989\n",
      "Iteration = 54751 \tAcc = 1.0 \tLoss = 0.9078485\n",
      "Iteration = 55001 \tAcc = 0.95 \tLoss = 1.1421905\n",
      "Iteration = 55251 \tAcc = 1.0 \tLoss = 0.9257466\n",
      "Iteration = 55501 \tAcc = 1.0 \tLoss = 0.84272236\n",
      "Iteration = 55751 \tAcc = 1.0 \tLoss = 0.9001212\n",
      "Iteration = 56001 \tAcc = 1.0 \tLoss = 0.94421893\n",
      "Iteration = 56251 \tAcc = 1.0 \tLoss = 0.9307702\n",
      "Iteration = 56501 \tAcc = 1.0 \tLoss = 0.83800155\n",
      "Iteration = 56751 \tAcc = 1.0 \tLoss = 0.87034106\n",
      "Iteration = 57001 \tAcc = 1.0 \tLoss = 0.80651367\n",
      "Iteration = 57251 \tAcc = 1.0 \tLoss = 0.90768516\n",
      "Iteration = 57501 \tAcc = 1.0 \tLoss = 0.85006416\n",
      "Iteration = 57751 \tAcc = 1.0 \tLoss = 0.8377981\n",
      "Iteration = 58001 \tAcc = 1.0 \tLoss = 0.7837011\n",
      "Iteration = 58251 \tAcc = 1.0 \tLoss = 0.77369946\n",
      "Iteration = 58501 \tAcc = 1.0 \tLoss = 0.8723825\n",
      "Iteration = 58751 \tAcc = 0.95 \tLoss = 1.1206908\n",
      "Iteration = 59001 \tAcc = 1.0 \tLoss = 0.81568855\n",
      "Iteration = 59251 \tAcc = 1.0 \tLoss = 0.86355764\n",
      "Iteration = 59501 \tAcc = 1.0 \tLoss = 0.87811226\n",
      "Iteration = 59751 \tAcc = 1.0 \tLoss = 0.7324013\n",
      "Iteration = 60001 \tAcc = 1.0 \tLoss = 0.7275231\n",
      "Iteration = 60251 \tAcc = 1.0 \tLoss = 0.76343095\n",
      "Iteration = 60501 \tAcc = 1.0 \tLoss = 0.71849537\n",
      "Iteration = 60751 \tAcc = 1.0 \tLoss = 0.7018647\n",
      "Iteration = 61001 \tAcc = 0.95 \tLoss = 1.072467\n",
      "Iteration = 61251 \tAcc = 1.0 \tLoss = 0.7258541\n",
      "Iteration = 61501 \tAcc = 1.0 \tLoss = 0.7470051\n",
      "Iteration = 61751 \tAcc = 1.0 \tLoss = 0.6837812\n",
      "Iteration = 62001 \tAcc = 1.0 \tLoss = 0.6779579\n",
      "Iteration = 62251 \tAcc = 1.0 \tLoss = 0.69989425\n",
      "Iteration = 62501 \tAcc = 1.0 \tLoss = 0.7065434\n",
      "Iteration = 62751 \tAcc = 1.0 \tLoss = 0.65343773\n",
      "Iteration = 63001 \tAcc = 1.0 \tLoss = 0.70034146\n",
      "Iteration = 63251 \tAcc = 1.0 \tLoss = 0.6420466\n",
      "Iteration = 63501 \tAcc = 1.0 \tLoss = 0.6756871\n",
      "Iteration = 63751 \tAcc = 1.0 \tLoss = 0.6398461\n",
      "Iteration = 64001 \tAcc = 1.0 \tLoss = 0.6847166\n",
      "Iteration = 64251 \tAcc = 1.0 \tLoss = 0.69726753\n",
      "Iteration = 64501 \tAcc = 0.95 \tLoss = 0.9196002\n",
      "Iteration = 64751 \tAcc = 1.0 \tLoss = 0.73850846\n",
      "Iteration = 65001 \tAcc = 0.95 \tLoss = 0.99085546\n",
      "Iteration = 65251 \tAcc = 1.0 \tLoss = 0.6421366\n",
      "Iteration = 65501 \tAcc = 1.0 \tLoss = 0.5876964\n",
      "Iteration = 65751 \tAcc = 1.0 \tLoss = 0.59551835\n",
      "Iteration = 66001 \tAcc = 1.0 \tLoss = 0.604582\n",
      "Iteration = 66251 \tAcc = 1.0 \tLoss = 0.67042863\n",
      "Iteration = 66501 \tAcc = 1.0 \tLoss = 0.6293235\n",
      "Iteration = 66751 \tAcc = 1.0 \tLoss = 0.64762074\n",
      "Iteration = 67001 \tAcc = 1.0 \tLoss = 0.5982863\n",
      "Iteration = 67251 \tAcc = 1.0 \tLoss = 0.6108849\n",
      "Iteration = 67501 \tAcc = 1.0 \tLoss = 0.6056465\n",
      "Iteration = 67751 \tAcc = 1.0 \tLoss = 0.60693973\n",
      "Iteration = 68001 \tAcc = 1.0 \tLoss = 0.7328816\n",
      "Iteration = 68251 \tAcc = 1.0 \tLoss = 0.62815994\n",
      "Iteration = 68501 \tAcc = 1.0 \tLoss = 0.53364766\n",
      "Iteration = 68751 \tAcc = 1.0 \tLoss = 0.74241066\n",
      "Iteration = 69001 \tAcc = 1.0 \tLoss = 0.585401\n",
      "Iteration = 69251 \tAcc = 1.0 \tLoss = 0.51070803\n",
      "Iteration = 69501 \tAcc = 1.0 \tLoss = 0.54588014\n",
      "Iteration = 69751 \tAcc = 1.0 \tLoss = 0.7017489\n",
      "Iteration = 70001 \tAcc = 1.0 \tLoss = 0.5103002\n",
      "Iteration = 70251 \tAcc = 1.0 \tLoss = 0.5385363\n",
      "Iteration = 70501 \tAcc = 1.0 \tLoss = 0.48553997\n",
      "Iteration = 70751 \tAcc = 1.0 \tLoss = 0.4751911\n",
      "Iteration = 71001 \tAcc = 1.0 \tLoss = 0.49470493\n",
      "Iteration = 71251 \tAcc = 1.0 \tLoss = 0.46370462\n",
      "Iteration = 71501 \tAcc = 1.0 \tLoss = 0.49392146\n",
      "Iteration = 71751 \tAcc = 1.0 \tLoss = 0.558541\n",
      "Iteration = 72001 \tAcc = 1.0 \tLoss = 0.5112078\n",
      "Iteration = 72251 \tAcc = 1.0 \tLoss = 0.5049035\n",
      "Iteration = 72501 \tAcc = 1.0 \tLoss = 0.51281095\n",
      "Iteration = 72751 \tAcc = 1.0 \tLoss = 0.48935232\n",
      "Iteration = 73001 \tAcc = 1.0 \tLoss = 0.44794366\n",
      "Iteration = 73251 \tAcc = 1.0 \tLoss = 0.4360542\n",
      "Iteration = 73501 \tAcc = 1.0 \tLoss = 0.5022029\n",
      "Iteration = 73751 \tAcc = 1.0 \tLoss = 0.41902652\n",
      "Iteration = 74001 \tAcc = 1.0 \tLoss = 0.4282141\n",
      "Iteration = 74251 \tAcc = 1.0 \tLoss = 0.40435082\n",
      "Iteration = 74501 \tAcc = 1.0 \tLoss = 0.4395704\n",
      "Iteration = 74751 \tAcc = 1.0 \tLoss = 0.39564264\n",
      "Iteration = 75001 \tAcc = 1.0 \tLoss = 0.39793274\n",
      "Iteration = 75251 \tAcc = 1.0 \tLoss = 0.3856025\n",
      "Iteration = 75501 \tAcc = 1.0 \tLoss = 0.3950065\n",
      "Iteration = 75751 \tAcc = 1.0 \tLoss = 0.4280924\n",
      "Iteration = 76001 \tAcc = 1.0 \tLoss = 0.4196494\n",
      "Iteration = 76251 \tAcc = 1.0 \tLoss = 0.41736856\n",
      "Iteration = 76501 \tAcc = 1.0 \tLoss = 0.41630912\n",
      "Iteration = 76751 \tAcc = 1.0 \tLoss = 0.4217367\n",
      "Iteration = 77001 \tAcc = 1.0 \tLoss = 0.4452081\n",
      "Iteration = 77251 \tAcc = 1.0 \tLoss = 0.35081717\n",
      "Iteration = 77501 \tAcc = 1.0 \tLoss = 0.39671773\n",
      "Iteration = 77751 \tAcc = 1.0 \tLoss = 0.41407034\n",
      "Iteration = 78001 \tAcc = 1.0 \tLoss = 0.35760576\n",
      "Iteration = 78251 \tAcc = 1.0 \tLoss = 0.3688244\n",
      "Iteration = 78501 \tAcc = 1.0 \tLoss = 0.38769498\n",
      "Iteration = 78751 \tAcc = 1.0 \tLoss = 0.47164795\n",
      "Iteration = 79001 \tAcc = 1.0 \tLoss = 0.35915998\n",
      "Iteration = 79251 \tAcc = 1.0 \tLoss = 0.3692231\n",
      "Iteration = 79501 \tAcc = 1.0 \tLoss = 0.33718958\n",
      "Iteration = 79751 \tAcc = 1.0 \tLoss = 0.31613523\n",
      "Iteration = 80001 \tAcc = 1.0 \tLoss = 0.34657657\n",
      "Iteration = 80251 \tAcc = 1.0 \tLoss = 0.3623019\n",
      "Iteration = 80501 \tAcc = 1.0 \tLoss = 0.3487543\n",
      "Iteration = 80751 \tAcc = 1.0 \tLoss = 0.3353565\n",
      "Iteration = 81001 \tAcc = 1.0 \tLoss = 0.3996052\n",
      "Iteration = 81251 \tAcc = 1.0 \tLoss = 0.3006551\n",
      "Iteration = 81501 \tAcc = 1.0 \tLoss = 0.29429471\n",
      "Iteration = 81751 \tAcc = 1.0 \tLoss = 0.42739224\n",
      "Iteration = 82001 \tAcc = 1.0 \tLoss = 0.4131782\n",
      "Iteration = 82251 \tAcc = 1.0 \tLoss = 0.35996196\n",
      "Iteration = 82501 \tAcc = 1.0 \tLoss = 0.30912217\n",
      "Iteration = 82751 \tAcc = 1.0 \tLoss = 0.34289294\n",
      "Iteration = 83001 \tAcc = 1.0 \tLoss = 0.3007648\n",
      "Iteration = 83251 \tAcc = 1.0 \tLoss = 0.3051304\n",
      "Iteration = 83501 \tAcc = 1.0 \tLoss = 0.29930472\n",
      "Iteration = 83751 \tAcc = 1.0 \tLoss = 0.5236771\n",
      "Iteration = 84001 \tAcc = 1.0 \tLoss = 0.29436523\n",
      "Iteration = 84251 \tAcc = 1.0 \tLoss = 0.28034616\n",
      "Iteration = 84501 \tAcc = 1.0 \tLoss = 0.28992873\n",
      "Iteration = 84751 \tAcc = 1.0 \tLoss = 0.25285503\n",
      "Iteration = 85001 \tAcc = 1.0 \tLoss = 0.27375263\n",
      "Iteration = 85251 \tAcc = 1.0 \tLoss = 0.2867317\n",
      "Iteration = 85501 \tAcc = 1.0 \tLoss = 0.25284883\n",
      "Iteration = 85751 \tAcc = 1.0 \tLoss = 0.26491553\n",
      "Iteration = 86001 \tAcc = 1.0 \tLoss = 0.2366377\n",
      "Iteration = 86251 \tAcc = 1.0 \tLoss = 0.2722828\n"
     ]
    },
    {
     "name": "stdout",
     "output_type": "stream",
     "text": [
      "Iteration = 86501 \tAcc = 1.0 \tLoss = 0.23371807\n",
      "Iteration = 86751 \tAcc = 1.0 \tLoss = 0.26825958\n",
      "Iteration = 87001 \tAcc = 1.0 \tLoss = 0.22967516\n",
      "Iteration = 87251 \tAcc = 1.0 \tLoss = 0.28164747\n",
      "Iteration = 87501 \tAcc = 1.0 \tLoss = 0.22692965\n",
      "Iteration = 87751 \tAcc = 1.0 \tLoss = 0.2221748\n",
      "Iteration = 88001 \tAcc = 1.0 \tLoss = 0.23148341\n",
      "Iteration = 88251 \tAcc = 1.0 \tLoss = 0.23315668\n",
      "Iteration = 88501 \tAcc = 1.0 \tLoss = 0.22188465\n",
      "Iteration = 88751 \tAcc = 1.0 \tLoss = 0.2116588\n",
      "Iteration = 89001 \tAcc = 1.0 \tLoss = 0.24214983\n",
      "Iteration = 89251 \tAcc = 1.0 \tLoss = 0.21318258\n",
      "Iteration = 89501 \tAcc = 1.0 \tLoss = 0.2612665\n",
      "Iteration = 89751 \tAcc = 1.0 \tLoss = 0.2203569\n",
      "Iteration = 90001 \tAcc = 1.0 \tLoss = 0.20966323\n",
      "Iteration = 90251 \tAcc = 1.0 \tLoss = 0.20505546\n",
      "Iteration = 90501 \tAcc = 1.0 \tLoss = 0.21601273\n",
      "Iteration = 90751 \tAcc = 1.0 \tLoss = 0.21490137\n",
      "Iteration = 91001 \tAcc = 1.0 \tLoss = 0.20764935\n",
      "Iteration = 91251 \tAcc = 1.0 \tLoss = 0.2155894\n",
      "Iteration = 91501 \tAcc = 1.0 \tLoss = 0.19365631\n",
      "Iteration = 91751 \tAcc = 1.0 \tLoss = 0.21272972\n",
      "Iteration = 92001 \tAcc = 1.0 \tLoss = 0.22656475\n",
      "Iteration = 92251 \tAcc = 1.0 \tLoss = 0.28025427\n",
      "Iteration = 92501 \tAcc = 1.0 \tLoss = 0.3828875\n",
      "Iteration = 92751 \tAcc = 1.0 \tLoss = 0.20643584\n",
      "Iteration = 93001 \tAcc = 1.0 \tLoss = 0.18437\n",
      "Iteration = 93251 \tAcc = 1.0 \tLoss = 0.2174199\n",
      "Iteration = 93501 \tAcc = 1.0 \tLoss = 0.21015333\n",
      "Iteration = 93751 \tAcc = 1.0 \tLoss = 0.18665299\n",
      "Iteration = 94001 \tAcc = 1.0 \tLoss = 0.19317639\n",
      "Iteration = 94251 \tAcc = 1.0 \tLoss = 0.18946151\n",
      "Iteration = 94501 \tAcc = 1.0 \tLoss = 0.20651098\n",
      "Iteration = 94751 \tAcc = 1.0 \tLoss = 0.20624648\n",
      "Iteration = 95001 \tAcc = 1.0 \tLoss = 0.19101354\n",
      "Iteration = 95251 \tAcc = 1.0 \tLoss = 0.20900181\n",
      "Iteration = 95501 \tAcc = 1.0 \tLoss = 0.2961795\n",
      "Iteration = 95751 \tAcc = 1.0 \tLoss = 0.19993193\n",
      "Iteration = 96001 \tAcc = 1.0 \tLoss = 0.1958932\n",
      "Iteration = 96251 \tAcc = 1.0 \tLoss = 0.18639849\n",
      "Iteration = 96501 \tAcc = 1.0 \tLoss = 0.1787013\n",
      "Iteration = 96751 \tAcc = 1.0 \tLoss = 0.16606653\n",
      "Iteration = 97001 \tAcc = 1.0 \tLoss = 0.17540637\n",
      "Iteration = 97251 \tAcc = 1.0 \tLoss = 0.18112269\n",
      "Iteration = 97501 \tAcc = 1.0 \tLoss = 0.16605526\n",
      "Iteration = 97751 \tAcc = 1.0 \tLoss = 0.18489636\n",
      "Iteration = 98001 \tAcc = 1.0 \tLoss = 0.18127772\n",
      "Iteration = 98251 \tAcc = 1.0 \tLoss = 0.15800361\n",
      "Iteration = 98501 \tAcc = 1.0 \tLoss = 0.16313916\n",
      "Iteration = 98751 \tAcc = 1.0 \tLoss = 0.15444557\n",
      "Iteration = 99001 \tAcc = 1.0 \tLoss = 0.15707313\n",
      "Iteration = 99251 \tAcc = 1.0 \tLoss = 0.1747392\n",
      "Iteration = 99501 \tAcc = 1.0 \tLoss = 0.16232644\n",
      "Iteration = 99751 \tAcc = 1.0 \tLoss = 0.16508237\n"
     ]
    }
   ],
   "source": [
    "model.sgd(X, Y, 100000)"
   ]
  },
  {
   "cell_type": "markdown",
   "metadata": {},
   "source": [
    "Seems like it has fitted the data 100\\%. Let's see what the decision boundary looks like."
   ]
  },
  {
   "cell_type": "code",
   "execution_count": 41,
   "metadata": {},
   "outputs": [
    {
     "data": {
      "image/png": "[encoded data removed]",
      "text/plain": [
       "<Figure size 432x288 with 1 Axes>"
      ]
     },
     "metadata": {
      "needs_background": "light"
     },
     "output_type": "display_data"
    }
   ],
   "source": [
    "# Create a grid of points to classify\n",
    "xx1, xx2 = np.meshgrid(np.arange(-3, 3, 0.005), np.arange(-3, 3, 0.005))\n",
    "\n",
    "# Flatten the grid to pass into model\n",
    "grid = np.c_[xx1.ravel(), xx2.ravel()].T\n",
    "\n",
    "# Predict classification at every point on the grid\n",
    "Z = model.predict(grid)[1, :].reshape(xx1.shape)\n",
    "\n",
    "# Plot the prediction regions.\n",
    "plt.imshow(Z, interpolation='bicubic', origin='lower', extent=[-3, 3, -3, 3], \n",
    "           cmap=ListedColormap(['#1f77b4', '#ff7f0e']), alpha=0.55, aspect='auto')\n",
    "\n",
    "# Plot the original points.\n",
    "_ = plt.scatter(X[0,:], X[1,:], c=Y[1,:], cmap=ListedColormap(['#1f77b4', '#ff7f0e']))"
   ]
  }
 ],
 "metadata": {
  "kernelspec": {
   "display_name": "Python 3",
   "language": "python",
   "name": "python3"
  },
  "language_info": {
   "codemirror_mode": {
    "name": "ipython",
    "version": 3
   },
   "file_extension": ".py",
   "mimetype": "text/x-python",
   "name": "python",
   "nbconvert_exporter": "python",
   "pygments_lexer": "ipython3",
   "version": "3.6.7"
  }
 },
 "nbformat": 4,
 "nbformat_minor": 2
}
