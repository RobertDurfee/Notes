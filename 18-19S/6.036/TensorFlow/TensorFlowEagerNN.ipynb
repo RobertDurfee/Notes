{
 "cells": [
  {
   "cell_type": "code",
   "execution_count": 1,
   "metadata": {},
   "outputs": [],
   "source": [
    "import tensorflow as tf\n",
    "import numpy as np\n",
    "%matplotlib inline\n",
    "from matplotlib.colors import ListedColormap\n",
    "from matplotlib import pyplot as plt"
   ]
  },
  {
   "cell_type": "markdown",
   "metadata": {},
   "source": [
    "# TensorFlow Eager NN\n",
    "\n",
    "This notebook walks through the process of constructing a feed-forward neural network for multi-class classification using TensorFlow's eager execution. This notebook should look most nearly identical to the NumPy representation. Eager execution is easiest to use from a Python background, but it is painfully slow.\n",
    "\n",
    "## Layers\n",
    "\n",
    "For our neural network, we want to abstract away from individual neurons and focus on layers. Each element of the network will be defined by a certain layer.\n",
    "\n",
    "### Base Layer\n",
    "\n",
    "This layer provides the virtual methods that each layer has to implement. If the layer doesn't implement the method, we default to one of these empty methods."
   ]
  },
  {
   "cell_type": "code",
   "execution_count": 2,
   "metadata": {},
   "outputs": [],
   "source": [
    "class Layer:\n",
    "    \"\"\"Abstract base layer for our neural network.\"\"\""
   ]
  },
  {
   "cell_type": "markdown",
   "metadata": {},
   "source": [
    "The `__init__` method sets up constant information about the layer that is necessary to build the graph later. Typically, only dimensions of input/output data is required."
   ]
  },
  {
   "cell_type": "code",
   "execution_count": 3,
   "metadata": {},
   "outputs": [],
   "source": [
    "    def __init__(self):\n",
    "        \"\"\"Initializes layer constants necessary to construct the graph\n",
    "            for training. Likely: just dimension information or nothing\n",
    "            at all.\"\"\"\n",
    "\n",
    "Layer.__init__ = __init__"
   ]
  },
  {
   "cell_type": "markdown",
   "metadata": {},
   "source": [
    "The forward method computes the forward pass from the network. All layers should implement this method."
   ]
  },
  {
   "cell_type": "code",
   "execution_count": 4,
   "metadata": {},
   "outputs": [],
   "source": [
    "    def forward(self, X):\n",
    "        \"\"\"Executes the forward pass through the layer\n",
    "            \n",
    "        Args:\n",
    "            X (ndarray): A matrix representing the inputs to the layer.\n",
    "                Likely: A or Z depending on the layer.\n",
    "        \n",
    "        Returns:\n",
    "            ndarray: A tensor representing the outputs of the layer. \n",
    "                Likely: Z or A depending on the layer.\n",
    "                \n",
    "        \"\"\"\n",
    "\n",
    "Layer.forward = forward"
   ]
  },
  {
   "cell_type": "markdown",
   "metadata": {},
   "source": [
    "The backward method computes the backward pass step for a single layer. This should be implemented for all layers."
   ]
  },
  {
   "cell_type": "code",
   "execution_count": 5,
   "metadata": {},
   "outputs": [],
   "source": [
    "    def backward(self, dL):\n",
    "        \"\"\"Computes the backward pass for the layer.\n",
    "            \n",
    "        Args:\n",
    "            dL (ndarray): A matrix representing the gradient of the loss\n",
    "                of the network with respect to the outputs of the current\n",
    "                layer. Likely: dLdA or dLdZ depending on the layer.\n",
    "        \n",
    "        Returns:\n",
    "            ndarray: A matrix representing the gradient of the loss of the\n",
    "                network will respect to the inputs of the current layer.\n",
    "                Likely: dLdZ or dLdA depending on the layer.\n",
    "        \n",
    "        \"\"\"\n",
    "\n",
    "Layer.backward = backward"
   ]
  },
  {
   "cell_type": "markdown",
   "metadata": {},
   "source": [
    "Any layer that has any variables needs to update these variables during stochastic gradient descent."
   ]
  },
  {
   "cell_type": "code",
   "execution_count": 6,
   "metadata": {},
   "outputs": [],
   "source": [
    "    def sgd_step(self, eta):\n",
    "        \"\"\"Updates trainable variables based off the results from the\n",
    "            backward pass.\n",
    "            \n",
    "        Args:\n",
    "            eta (float): The learning rate to use for the stochastic\n",
    "                gradient descent update step.\n",
    "                \n",
    "        \"\"\"\n",
    "\n",
    "Layer.sgd_step = sgd_step"
   ]
  },
  {
   "cell_type": "markdown",
   "metadata": {},
   "source": [
    "### Linear Layer\n",
    "\n",
    "This is the simplest possible layer where all inputs are connected to all outputs."
   ]
  },
  {
   "cell_type": "code",
   "execution_count": 7,
   "metadata": {},
   "outputs": [],
   "source": [
    "class Linear(Layer):\n",
    "    \"\"\"Simple layer fully-connecting inputs to outputs linearly.\"\"\""
   ]
  },
  {
   "cell_type": "markdown",
   "metadata": {},
   "source": [
    "To set up this layer, we need to know the input and output dimensions ahead of time. Using this information, we randomly initialize the weight matrices."
   ]
  },
  {
   "cell_type": "code",
   "execution_count": 8,
   "metadata": {},
   "outputs": [],
   "source": [
    "    def __init__(self, m, n):\n",
    "        \"\"\"Initializes the layer based on input and output dimensions. \n",
    "\n",
    "        Note: Kernel is initialized using normal distribution with mean 0 \n",
    "        and variance 1 / m. All biases are initialized to zero.\n",
    "\n",
    "        Args:\n",
    "            m (int): Number of input features to the layer.\n",
    "            n (int): Number of output features of the layer.\n",
    "\n",
    "        \"\"\"\n",
    "        self.m = m\n",
    "        self.n = n\n",
    "\n",
    "        self.W0 = tf.Variable(initial_value=tf.zeros(shape=(self.n, 1)))\n",
    "        self.W = tf.Variable(initial_value=tf.random.normal(shape=(self.m, self.n), mean=0.0, stddev=tf.sqrt(1 / self.m)))\n",
    "        \n",
    "Linear.__init__ = __init__"
   ]
  },
  {
   "cell_type": "markdown",
   "metadata": {},
   "source": [
    "With our variables defined, we can execute the forward pass. We take the activation $A$ from the previous layer and produce the current $Z$ pre-activation."
   ]
  },
  {
   "cell_type": "code",
   "execution_count": 9,
   "metadata": {},
   "outputs": [],
   "source": [
    "    def forward(self, A):\n",
    "        \"\"\"Computes the forward pass of the layer.\n",
    "            \n",
    "        Args:\n",
    "            A (ndarray): An m by b matrix representing the activations from\n",
    "                the previous layer with a batch of size b.\n",
    "                \n",
    "        Returns:\n",
    "            ndarray: An n by b matrix, Z, representing the pre-activations\n",
    "                as the output from this linear layer.\n",
    "        \n",
    "        \"\"\"\n",
    "        # We need this input later when computing the backward path.\n",
    "        self.A = A\n",
    "\n",
    "        return tf.transpose(self.W) @ self.A + self.W0\n",
    "\n",
    "Linear.forward = forward"
   ]
  },
  {
   "cell_type": "markdown",
   "metadata": {},
   "source": [
    "For now, we will compute the gradients by hand using back-propogation. We take the gradient of the loss with respect to the pre-activations of the layer $\\partial \\mathrm{Loss} / \\partial Z$ and compute the gradient of the loss with respect to the activations of the previous layer $\\partial \\mathrm{Loss} / \\partial A$. \n",
    "\n",
    "In addition, we save gradients of the loss with respect to the weights ($\\partial \\mathrm{Loss} / \\partial W$ and $\\partial \\mathrm{Loss} / \\partial W_0$) for the stochastic gradient descent update step."
   ]
  },
  {
   "cell_type": "code",
   "execution_count": 10,
   "metadata": {},
   "outputs": [],
   "source": [
    "    def backward(self, dLdZ):\n",
    "        \"\"\"Computes the backward pass for the layer. Also records gradients\n",
    "            of the loss with respect to weights for later stochastic \n",
    "            gradient descent updates.\n",
    "        \n",
    "        Args:\n",
    "            dLdZ (ndarray): An n by b matrix representing the gradient of\n",
    "                the loss with respect to the current layer's \n",
    "                pre-activations for a batch of size b.\n",
    "                \n",
    "        Returns:\n",
    "            ndarray: An m by b matrix, dLdA, representing the gradient of \n",
    "                the loss with respect to the previous layer's activations.\n",
    "        \n",
    "        \"\"\"\n",
    "        # We store these gradients for use later in the sgd_step\n",
    "        self.dLdW = self.A @ tf.transpose(dLdZ)\n",
    "        self.dLdW0 = tf.reduce_sum(dLdZ, axis=1, keepdims=True)\n",
    "\n",
    "        return self.W @ dLdZ\n",
    "\n",
    "Linear.backward = backward"
   ]
  },
  {
   "cell_type": "markdown",
   "metadata": {},
   "source": [
    "The linear layer has some trainable parameters to update. Using the specified learning rate $\\eta$, we can re-assign our variable values using stochastic gradient descent."
   ]
  },
  {
   "cell_type": "code",
   "execution_count": 11,
   "metadata": {},
   "outputs": [],
   "source": [
    "    def sgd_step(self, eta):\n",
    "        \"\"\"Updates the layer's variables using stochastic gradient\n",
    "            descent.\n",
    "            \n",
    "        Args:\n",
    "            eta (float): The learning rate to use for the stochastic\n",
    "                gradient descent update step.\n",
    "        \n",
    "        \"\"\"\n",
    "        self.W.assign_sub(eta * self.dLdW)\n",
    "        self.W0.assign_sub(eta * self.dLdW0)\n",
    "        \n",
    "Linear.sgd_step = sgd_step"
   ]
  },
  {
   "cell_type": "markdown",
   "metadata": {},
   "source": [
    "### Rectified Linear Unit Activation Layer\n",
    "\n",
    "This layer applies the relu activation function to each of the inputs element-wise."
   ]
  },
  {
   "cell_type": "code",
   "execution_count": 12,
   "metadata": {},
   "outputs": [],
   "source": [
    "class ReLU(Layer):\n",
    "    \"\"\"Applies relu activation function to all inputs.\"\"\""
   ]
  },
  {
   "cell_type": "markdown",
   "metadata": {},
   "source": [
    "We have no variables to consider, we just need to construct the forward and backward passes. With the forward pass we compute the activation $A$ using the previous layer's pre-activation $A$."
   ]
  },
  {
   "cell_type": "code",
   "execution_count": 13,
   "metadata": {},
   "outputs": [],
   "source": [
    "    def forward(self, Z):\n",
    "        \"\"\"Compute the forward pass output for the layer. \n",
    "            \n",
    "        Args:\n",
    "            Z (ndarray): An m by b matrix representing the pre-activations\n",
    "                from the previous layer for a batch of size b.\n",
    "        \n",
    "        Returns:\n",
    "            ndarray: An n by b matrix, A, representing the activations from\n",
    "                the current layer for a batch of size b. (Note: n and m \n",
    "                are equal.)\n",
    "                \n",
    "        \"\"\"\n",
    "        # We need this activation when computing the backward step later\n",
    "        self.A = tf.maximum(0.0, Z)\n",
    "        \n",
    "        return self.A\n",
    "    \n",
    "ReLU.forward = forward"
   ]
  },
  {
   "cell_type": "markdown",
   "metadata": {},
   "source": [
    "In the backward pass, we use the gradient of the loss with respect to the layer's activations $\\partial \\mathrm{Loss} / \\partial A$ to compute the gradient of the loss with respect to the previous layer's pre-activations $\\partial \\mathrm{Loss} / \\partial Z$."
   ]
  },
  {
   "cell_type": "code",
   "execution_count": 14,
   "metadata": {},
   "outputs": [],
   "source": [
    "    def backward(self, dLdA):\n",
    "        \"\"\"Computes the backward pass for the layer.\n",
    "        \n",
    "        Args:\n",
    "            dLdA (ndarray): An n by b matrix representing the gradient of\n",
    "                the loss with respect to the current layer's activations\n",
    "                for a batch of size b.\n",
    "        \n",
    "        Returns:\n",
    "            ndarray: An m by b matrix, dLdZ, representing the gradient of\n",
    "                the loss with respect to the previous layer's activations\n",
    "                for a batch of size b. (Note: n and m are equal.)\n",
    "        \n",
    "        \"\"\"\n",
    "        return tf.sign(self.A) * dLdA\n",
    "    \n",
    "ReLU.backward = backward"
   ]
  },
  {
   "cell_type": "markdown",
   "metadata": {},
   "source": [
    "### Hyperbolic Tangent Activation Layer\n",
    "\n",
    "This layer applies the hyperbolic tangent activation function to each input element-wise."
   ]
  },
  {
   "cell_type": "code",
   "execution_count": 15,
   "metadata": {},
   "outputs": [],
   "source": [
    "class Tanh(Layer):\n",
    "    \"\"\"Applies hyperbolic tangent activation function to all inputs.\"\"\""
   ]
  },
  {
   "cell_type": "markdown",
   "metadata": {},
   "source": [
    "There are no variables in this layer, thus we only need to worry about forward and backward passes. The forward pass takes the previous layer's pre-activation $Z$ and produces the activation $A$."
   ]
  },
  {
   "cell_type": "code",
   "execution_count": 16,
   "metadata": {},
   "outputs": [],
   "source": [
    "    def forward(self, Z):\n",
    "        \"\"\"Computes the forward pass activation for the layer.\n",
    "        \n",
    "        Args:\n",
    "            Z (ndarray): An m by b matrix representing the previous layer's\n",
    "                pre-activation for a batch of size b.\n",
    "        \n",
    "        Returns:\n",
    "            ndarray: An n by b matrix, A, representing the layer's \n",
    "                activation for a batch of size b. (Note: m and n are\n",
    "                equal.)\n",
    "                \n",
    "        \"\"\"\n",
    "        # We need this activation when computing the backward step later\n",
    "        self.A = tf.tanh(Z)\n",
    "\n",
    "        return self.A\n",
    "\n",
    "Tanh.forward = forward"
   ]
  },
  {
   "cell_type": "markdown",
   "metadata": {},
   "source": [
    "The backward pass uses the gradient of the loss with respect to the layer's activation $\\partial \\mathrm{Loss} / \\partial A$ to compute the gradient of the loss with respect to the previous layer's pre-activation $\\partial \\mathrm{Loss} / \\partial Z$."
   ]
  },
  {
   "cell_type": "code",
   "execution_count": 17,
   "metadata": {},
   "outputs": [],
   "source": [
    "    def backward(self, dLdA):\n",
    "        \"\"\"Computes the backward pass for the layer.\n",
    "        \n",
    "        Args:\n",
    "            dLdA (ndarray): An n by b matrix representing the gradient of\n",
    "                the loss with respect to this layer's activation for a \n",
    "                batch of size b.\n",
    "                \n",
    "        Returns:\n",
    "            ndarray: An m by b matrix, dLdZ, representing the gradient of \n",
    "                the loss with respect to the previous layer's \n",
    "                pre-activation for a batch of size b. (Note: n and m are \n",
    "                equal.)\n",
    "                \n",
    "        \"\"\"\n",
    "        return (1.0 - self.A ** 2.0) * dLdA\n",
    "\n",
    "Tanh.backward = backward"
   ]
  },
  {
   "cell_type": "markdown",
   "metadata": {},
   "source": [
    "### Softmax Activation Layer\n",
    "\n",
    "This layer applies the softmax activation function to the inputs."
   ]
  },
  {
   "cell_type": "code",
   "execution_count": 18,
   "metadata": {},
   "outputs": [],
   "source": [
    "class SoftMax(Layer):\n",
    "    \"\"\"Applies the softmax activation function to layer inputs.\"\"\""
   ]
  },
  {
   "cell_type": "markdown",
   "metadata": {},
   "source": [
    "As with the other activation layers, there are no variables to consider. The forward pass takes the previous layer's pre-activations $Z$ and computes the current layer's activation $A$."
   ]
  },
  {
   "cell_type": "code",
   "execution_count": 19,
   "metadata": {},
   "outputs": [],
   "source": [
    "    def forward(self, Z):\n",
    "        \"\"\"Computes the forward pass activations for the layer.\n",
    "            \n",
    "        Args:\n",
    "            Z (ndarray): An m by b matrix representing the previous layer's\n",
    "                pre-activation for a batch of size b.\n",
    "        \n",
    "        Returns:\n",
    "            ndarray: An n by b matrix, A, representing the current layer's\n",
    "                activation for a batch of size b. (Note: m and n are\n",
    "                equal.)\n",
    "                \n",
    "        \"\"\"\n",
    "        # We need this activation when computing the backward step later\n",
    "        self.A = tf.exp(Z) / tf.reduce_sum(tf.exp(Z), axis=0, keepdims=True)\n",
    "        \n",
    "        return self.A\n",
    "\n",
    "SoftMax.forward = forward"
   ]
  },
  {
   "cell_type": "markdown",
   "metadata": {},
   "source": [
    "In the backward pass, we use the gradient of the loss with respect to the current layer's activations $\\partial \\mathrm{Loss} / \\partial A$ to compute the gradient of the loss with respect to the previous layer's pre-activations $\\partial \\mathrm{Loss} / \\partial Z$."
   ]
  },
  {
   "cell_type": "code",
   "execution_count": 20,
   "metadata": {},
   "outputs": [],
   "source": [
    "    def backward(self, dLdA):\n",
    "        \"\"\"Computes the backward pass for the layer.\n",
    "            \n",
    "        Args:\n",
    "            dLdA (ndarray): An n by b matrix representing the gradient of\n",
    "                the loss with respect to the current layer's activation.\n",
    "                \n",
    "        Returns:\n",
    "            ndarray: An m by b tensor, dLdZ, representing the gradient of \n",
    "                the loss with respect to the previous layer's \n",
    "                pre-activation. (Note: n and m are equal.)\n",
    "            \n",
    "        \"\"\"\n",
    "        n = dLdA.shape[0]\n",
    "        \n",
    "        # This is just a way to compute dLdZ by using the provided dLdA\n",
    "        # and softmax's dAdZ tensor. Or you can assume dLdZ is passed in.\n",
    "        return tf.einsum('ikj,kj->ij', tf.einsum('jk,jk,ji->ijk', self.A, 1.0 - self.A, tf.eye(n)) + tf.einsum('jk,ik,ji->ijk', -self.A, self.A, 1.0 - tf.eye(n)), dLdA)\n",
    "\n",
    "SoftMax.backward = backward"
   ]
  },
  {
   "cell_type": "markdown",
   "metadata": {},
   "source": [
    "### Negative Log-Likelihood Multi-Class Loss Layer\n",
    "\n",
    "This layer computes the loss of the output of the network compared with the expected results."
   ]
  },
  {
   "cell_type": "code",
   "execution_count": 21,
   "metadata": {},
   "outputs": [],
   "source": [
    "class NLLM(Layer):\n",
    "    \"\"\"Computes the negative log-likelihood multi-class loss for neural\n",
    "        network outputs and expected outputs.\"\"\""
   ]
  },
  {
   "cell_type": "markdown",
   "metadata": {},
   "source": [
    "Like the activation layers, there are no variables to consider. The forward pass takes the neural network's final activations $A$ and the expected outputs\n",
    "$Y$ and computes the loss scalar."
   ]
  },
  {
   "cell_type": "code",
   "execution_count": 22,
   "metadata": {},
   "outputs": [],
   "source": [
    "    def forward(self, A, Y):\n",
    "        \"\"\"Computes the loss of predictions vs expected outputs.\n",
    "            \n",
    "        Args:\n",
    "            A (ndarray): An n by b matrix representing the neural network's\n",
    "                outputs for a batch of size b.\n",
    "            Y (ndarray): An n by b matrix representing the expected outputs\n",
    "                from the neural network for a batch of size b.\n",
    "        \n",
    "        Returns:\n",
    "            float: A scalar, L, which represents the loss of the neural\n",
    "                network for a batch of size b.\n",
    "        \n",
    "        \"\"\"\n",
    "        # We will need both of these later to compute the backward pass.\n",
    "        self.A = A\n",
    "        self.Y = Y\n",
    "\n",
    "        return -tf.reduce_sum(self.Y * tf.math.log(self.A))\n",
    "\n",
    "NLLM.forward = forward"
   ]
  },
  {
   "cell_type": "markdown",
   "metadata": {},
   "source": [
    "The backward pass computes the gradient of the loss with respect to the neural network's final activations $\\partial \\mathrm{Loss} / \\partial A$. Note, this is not immediately computing $\\partial \\mathrm{Loss} / \\partial Z$ by assuming softmax activations."
   ]
  },
  {
   "cell_type": "code",
   "execution_count": 23,
   "metadata": {},
   "outputs": [],
   "source": [
    "    def backward(self):\n",
    "        \"\"\"Computes the backward step for the loss.\n",
    "        \n",
    "        Returns:\n",
    "            Tensor: An n by b tensor, dLdA, representing the gradient of\n",
    "                the loss with respect to the neural network's outputs.\n",
    "                \n",
    "        \"\"\"\n",
    "        return -self.Y / self.A\n",
    "\n",
    "NLLM.backward = backward"
   ]
  },
  {
   "cell_type": "markdown",
   "metadata": {},
   "source": [
    "## Model\n",
    "\n",
    "Now we have all the components to construct our neural network, but we need a model to connect them together.\n",
    "\n",
    "### Sequential Model\n",
    "\n",
    "The sequential model simply connects all the layer linearly."
   ]
  },
  {
   "cell_type": "code",
   "execution_count": 24,
   "metadata": {},
   "outputs": [],
   "source": [
    "class Sequential:\n",
    "    \"\"\"A standard neural network model with linearly stacked layers.\"\"\""
   ]
  },
  {
   "cell_type": "markdown",
   "metadata": {},
   "source": [
    "The first step to construct the model is to provide a list of layers."
   ]
  },
  {
   "cell_type": "code",
   "execution_count": 25,
   "metadata": {},
   "outputs": [],
   "source": [
    "    def __init__(self, layers, loss):\n",
    "        \"\"\"Initialize the layers and the loss for the network.\n",
    "        \n",
    "        Args:\n",
    "            layers (list of Layer): A list of layers in sequential order\n",
    "                to construct the model from.\n",
    "            loss (Layer): A layer used to construct the objective for\n",
    "                stochastic gradient descent.\n",
    "        \n",
    "        \"\"\"\n",
    "        self.layers = layers\n",
    "        self.loss = loss\n",
    "\n",
    "Sequential.__init__ = __init__"
   ]
  },
  {
   "cell_type": "markdown",
   "metadata": {},
   "source": [
    "To make predictions with the network, we use the `forward` method. This passes the data through every layer and returns the result."
   ]
  },
  {
   "cell_type": "code",
   "execution_count": 26,
   "metadata": {},
   "outputs": [],
   "source": [
    "    def forward(self, X):\n",
    "        \"\"\"Predicts the output for a training input batch.\n",
    "        \n",
    "        Args:\n",
    "            X (ndarray): A d by b matrix of points to predict with \n",
    "                dimension d and batch size b.\n",
    "        \n",
    "        Returns:\n",
    "            ndarray: A c by b matrix representing the predicted outputs \n",
    "                with c features of the neural network for a batch size b.\n",
    "        \n",
    "        \"\"\"\n",
    "        for layer in self.layers:\n",
    "            X = layer.forward(X)\n",
    "            \n",
    "        return X\n",
    "\n",
    "Sequential.forward = forward"
   ]
  },
  {
   "cell_type": "markdown",
   "metadata": {},
   "source": [
    "To train the network, we will use stochastic gradient descent. Before we define the stochastic gradient descent training loop, we have to back-propogate the error throughout the layers of the network. To do this, we use the `backward` method."
   ]
  },
  {
   "cell_type": "code",
   "execution_count": 27,
   "metadata": {},
   "outputs": [],
   "source": [
    "    def backward(self, dL):\n",
    "        \"\"\"Computes the gradients of the loss with respect to each weight\n",
    "        in the neural network to prepare for stochastic gradient descent.\n",
    "        \n",
    "        Args:\n",
    "            dL (ndarray): An n by b tensor representing the gradient of the\n",
    "                loss with respect to the output of the neural network.\n",
    "        \n",
    "        \"\"\"\n",
    "        for layer in self.layers[::-1]:\n",
    "            dL = layer.backward(dL)\n",
    "\n",
    "Sequential.backward = backward"
   ]
  },
  {
   "cell_type": "markdown",
   "metadata": {},
   "source": [
    "Once the error is propogated through all the layers, each layer can update their weight matrices. For a single step, this is achieved through the `sgd_step` method."
   ]
  },
  {
   "cell_type": "code",
   "execution_count": 28,
   "metadata": {},
   "outputs": [],
   "source": [
    "    def sgd_step(self, eta):\n",
    "        \"\"\"Runs a single update step on the weight matrices throughout the\n",
    "        neural network using stochastic gradient descent.\n",
    "        \n",
    "        Args:\n",
    "            eta (float): A learning rate for stochastic gradient descent.\n",
    "        \n",
    "        \"\"\"\n",
    "        for layer in self.layers:\n",
    "            layer.sgd_step(eta)\n",
    "\n",
    "Sequential.sgd_step = sgd_step"
   ]
  },
  {
   "cell_type": "markdown",
   "metadata": {},
   "source": [
    "Now we loop over the data applying many stochastic gradient descent update steps."
   ]
  },
  {
   "cell_type": "code",
   "execution_count": 29,
   "metadata": {},
   "outputs": [],
   "source": [
    "    def sgd(self, X_train, Y_train, epochs, eta):\n",
    "        \"\"\"Trains the neural network by running stochastic gradient descent.\n",
    "        \n",
    "        Args:\n",
    "            X_train (ndarray): A d by n NumPy array representing n input\n",
    "                training points each with d features.\n",
    "            Y_train (ndarray): A c by n NumPy array representing n output\n",
    "                training points each with c features.\n",
    "            epochs (int): Number of iterations to run stochastic gradient\n",
    "                descent.\n",
    "            eta (float): A learning rate for stochastic gradient descent.\n",
    "        \n",
    "        \"\"\"\n",
    "        _, n = X.shape\n",
    "        \n",
    "        for epoch in range(epochs):\n",
    "            \n",
    "            t = np.random.randint(n)\n",
    "            \n",
    "            Xt = X[:, t:t + 1]\n",
    "            Yt = Y[:, t:t + 1]\n",
    "            \n",
    "            loss = self.loss.forward(self.forward(Xt), Yt)\n",
    "            self.backward(self.loss.backward())            \n",
    "            self.sgd_step(eta)\n",
    "            \n",
    "            if epoch % 250 == 1:\n",
    "                \n",
    "                acc = tf.reduce_mean(tf.cast(tf.equal(tf.argmax(self.forward(X_train), axis=0), tf.argmax(Y_train, axis=0)), tf.float32))\n",
    "                print('Iteration =', epoch, '\\tAcc =', acc.numpy(), '\\tLoss =', loss.numpy(), flush=True)\n",
    "\n",
    "Sequential.sgd = sgd"
   ]
  },
  {
   "cell_type": "markdown",
   "metadata": {},
   "source": [
    "## Training\n",
    "\n",
    "Our model is complete! Let's train it on some data and see how will it can classify. We will use the standard 'hard' data set used previously."
   ]
  },
  {
   "cell_type": "code",
   "execution_count": 30,
   "metadata": {
    "scrolled": true
   },
   "outputs": [],
   "source": [
    "X = np.array([[-0.23390341,  1.18151883, -2.46493986,  1.55322202,  1.27621763,\n",
    "                2.39710997, -1.34403040, -0.46903436, -0.64673502, -1.44029872,\n",
    "               -1.37537243,  1.05994811, -0.93311512,  1.02735575, -0.84138778,\n",
    "               -2.22585412, -0.42591102,  1.03561105,  0.91125595, -2.26550369],\n",
    "              [-0.92254932, -1.10309630, -2.41956036, -1.15509002, -1.04805327,\n",
    "                0.08717325,  0.81847250, -0.75171045,  0.60664705,  0.80410947,\n",
    "               -0.11600488,  1.03747218, -0.67210575,  0.99944446, -0.65559838,\n",
    "               -0.40744784, -0.58367642,  1.05972780, -0.95991874, -1.41720255]], dtype=np.float32)\n",
    "\n",
    "Y = np.array([[0., 0., 1., 0., 0., 0., 1., 1., 1., 1., 1., 0., 0., 0., 1., 1., 1., 0., 0., 1.],\n",
    "              [1., 1., 0., 1., 1., 1., 0., 0., 0., 0., 0., 1., 1., 1., 0., 0., 0., 1., 1., 0.]], dtype=np.float32)"
   ]
  },
  {
   "cell_type": "markdown",
   "metadata": {},
   "source": [
    "Let's start by taking a look at our data."
   ]
  },
  {
   "cell_type": "code",
   "execution_count": 31,
   "metadata": {},
   "outputs": [
    {
     "data": {
      "image/png": "[encoded data removed]",
      "text/plain": [
       "<Figure size 432x288 with 1 Axes>"
      ]
     },
     "metadata": {
      "needs_background": "light"
     },
     "output_type": "display_data"
    }
   ],
   "source": [
    "_ = plt.scatter(X[0,:], X[1,:], c=Y[1,:], cmap=ListedColormap(['#1f77b4', '#ff7f0e']))"
   ]
  },
  {
   "cell_type": "markdown",
   "metadata": {},
   "source": [
    "Now we can construct a neural network we think might be able to classify these points."
   ]
  },
  {
   "cell_type": "code",
   "execution_count": 32,
   "metadata": {},
   "outputs": [],
   "source": [
    "model = Sequential([Linear(2, 10), ReLU(), \n",
    "                    Linear(10, 10), ReLU(), \n",
    "                    Linear(10, 2), SoftMax()], NLLM())"
   ]
  },
  {
   "cell_type": "markdown",
   "metadata": {},
   "source": [
    "Let's try training the model on the data for a few thousand iterations."
   ]
  },
  {
   "cell_type": "code",
   "execution_count": 33,
   "metadata": {
    "scrolled": true
   },
   "outputs": [
    {
     "name": "stdout",
     "output_type": "stream",
     "text": [
      "Iteration = 1 \tAcc = 0.35 \tLoss = 0.9750121\n",
      "Iteration = 251 \tAcc = 0.8 \tLoss = 0.11858298\n",
      "Iteration = 501 \tAcc = 0.95 \tLoss = 0.047342308\n",
      "Iteration = 751 \tAcc = 0.95 \tLoss = 0.26085496\n",
      "Iteration = 1001 \tAcc = 0.95 \tLoss = 0.37966323\n",
      "Iteration = 1251 \tAcc = 0.95 \tLoss = 0.36379474\n",
      "Iteration = 1501 \tAcc = 0.95 \tLoss = 0.019325\n",
      "Iteration = 1751 \tAcc = 0.95 \tLoss = 0.00916598\n",
      "Iteration = 2001 \tAcc = 0.95 \tLoss = 0.00036550287\n",
      "Iteration = 2251 \tAcc = 0.95 \tLoss = 0.0003729562\n",
      "Iteration = 2501 \tAcc = 0.95 \tLoss = 0.3631293\n",
      "Iteration = 2751 \tAcc = 0.95 \tLoss = 0.025542533\n",
      "Iteration = 3001 \tAcc = 0.95 \tLoss = 0.039606757\n",
      "Iteration = 3251 \tAcc = 0.95 \tLoss = 0.008659977\n",
      "Iteration = 3501 \tAcc = 0.95 \tLoss = 0.0004107007\n",
      "Iteration = 3751 \tAcc = 0.95 \tLoss = 6.568647e-05\n",
      "Iteration = 4001 \tAcc = 0.95 \tLoss = 0.14806664\n",
      "Iteration = 4251 \tAcc = 0.95 \tLoss = 0.3567464\n",
      "Iteration = 4501 \tAcc = 0.95 \tLoss = 0.0049979207\n",
      "Iteration = 4751 \tAcc = 0.95 \tLoss = 0.3514765\n",
      "Iteration = 5001 \tAcc = 0.95 \tLoss = 0.003289262\n",
      "Iteration = 5251 \tAcc = 0.95 \tLoss = 0.10871694\n",
      "Iteration = 5501 \tAcc = 0.95 \tLoss = 0.37928683\n",
      "Iteration = 5751 \tAcc = 0.95 \tLoss = 0.035954066\n",
      "Iteration = 6001 \tAcc = 0.95 \tLoss = 0.05571324\n",
      "Iteration = 6251 \tAcc = 0.95 \tLoss = 0.0021375597\n",
      "Iteration = 6501 \tAcc = 0.95 \tLoss = 0.019528836\n",
      "Iteration = 6751 \tAcc = 0.95 \tLoss = -0.0\n",
      "Iteration = 7001 \tAcc = 0.95 \tLoss = 2.9802328e-07\n",
      "Iteration = 7251 \tAcc = 0.95 \tLoss = 0.016474927\n",
      "Iteration = 7501 \tAcc = 0.95 \tLoss = 0.2907872\n",
      "Iteration = 7751 \tAcc = 0.95 \tLoss = 0.09970999\n",
      "Iteration = 8001 \tAcc = 0.95 \tLoss = 0.37284052\n",
      "Iteration = 8251 \tAcc = 0.95 \tLoss = 0.0055134613\n",
      "Iteration = 8501 \tAcc = 0.95 \tLoss = 0.096\n",
      "Iteration = 8751 \tAcc = 0.95 \tLoss = 0.2654396\n",
      "Iteration = 9001 \tAcc = 0.95 \tLoss = 0.08673966\n",
      "Iteration = 9251 \tAcc = 0.95 \tLoss = 1.2819434\n",
      "Iteration = 9501 \tAcc = 0.95 \tLoss = 0.0017558244\n",
      "Iteration = 9751 \tAcc = 0.95 \tLoss = 0.0015500274\n",
      "Iteration = 10001 \tAcc = 0.95 \tLoss = 0.0011672034\n",
      "Iteration = 10251 \tAcc = 0.95 \tLoss = -0.0\n",
      "Iteration = 10501 \tAcc = 0.95 \tLoss = 0.00040557265\n",
      "Iteration = 10751 \tAcc = 0.95 \tLoss = 0.0004030086\n",
      "Iteration = 11001 \tAcc = 0.95 \tLoss = 0.0003541739\n",
      "Iteration = 11251 \tAcc = 0.95 \tLoss = 0.00038690897\n",
      "Iteration = 11501 \tAcc = 0.95 \tLoss = 0.062284544\n",
      "Iteration = 11751 \tAcc = 0.95 \tLoss = 0.001296705\n",
      "Iteration = 12001 \tAcc = 0.95 \tLoss = -0.0\n",
      "Iteration = 12251 \tAcc = 0.95 \tLoss = 0.068439655\n",
      "Iteration = 12501 \tAcc = 0.95 \tLoss = 0.047563188\n",
      "Iteration = 12751 \tAcc = 0.95 \tLoss = 0.0110488115\n",
      "Iteration = 13001 \tAcc = 0.95 \tLoss = 0.00027213222\n",
      "Iteration = 13251 \tAcc = 0.95 \tLoss = 0.00088927936\n",
      "Iteration = 13501 \tAcc = 0.95 \tLoss = 0.0119008655\n",
      "Iteration = 13751 \tAcc = 0.95 \tLoss = 0.055062145\n",
      "Iteration = 14001 \tAcc = 0.95 \tLoss = 0.2930781\n",
      "Iteration = 14251 \tAcc = 0.95 \tLoss = 0.09055887\n",
      "Iteration = 14501 \tAcc = 0.95 \tLoss = -0.0\n",
      "Iteration = 14751 \tAcc = 0.95 \tLoss = 0.22523308\n",
      "Iteration = 15001 \tAcc = 0.95 \tLoss = 0.00010985739\n",
      "Iteration = 15251 \tAcc = 0.95 \tLoss = 0.000119097174\n",
      "Iteration = 15501 \tAcc = 0.95 \tLoss = -0.0\n",
      "Iteration = 15751 \tAcc = 0.95 \tLoss = 0.24112695\n",
      "Iteration = 16001 \tAcc = 0.95 \tLoss = -0.0\n",
      "Iteration = 16251 \tAcc = 0.95 \tLoss = 0.010364414\n",
      "Iteration = 16501 \tAcc = 0.95 \tLoss = 0.04247499\n",
      "Iteration = 16751 \tAcc = 0.95 \tLoss = 0.06963048\n",
      "Iteration = 17001 \tAcc = 0.95 \tLoss = 0.02911934\n",
      "Iteration = 17251 \tAcc = 0.95 \tLoss = 0.0030863776\n",
      "Iteration = 17501 \tAcc = 0.95 \tLoss = 5.2334246e-05\n",
      "Iteration = 17751 \tAcc = 0.95 \tLoss = -0.0\n",
      "Iteration = 18001 \tAcc = 0.95 \tLoss = 0.85341626\n",
      "Iteration = 18251 \tAcc = 0.95 \tLoss = -0.0\n",
      "Iteration = 18501 \tAcc = 0.95 \tLoss = 5.805661e-05\n",
      "Iteration = 18751 \tAcc = 0.95 \tLoss = 0.0016862057\n",
      "Iteration = 19001 \tAcc = 0.95 \tLoss = -0.0\n",
      "Iteration = 19251 \tAcc = 0.95 \tLoss = 9.978315e-05\n",
      "Iteration = 19501 \tAcc = 0.95 \tLoss = 0.0062710764\n",
      "Iteration = 19751 \tAcc = 0.95 \tLoss = -0.0\n",
      "Iteration = 20001 \tAcc = 0.95 \tLoss = 9.9663936e-05\n",
      "Iteration = 20251 \tAcc = 0.95 \tLoss = 2.6882057e-05\n",
      "Iteration = 20501 \tAcc = 0.95 \tLoss = -0.0\n",
      "Iteration = 20751 \tAcc = 0.95 \tLoss = 0.08434175\n",
      "Iteration = 21001 \tAcc = 0.95 \tLoss = 0.07185223\n",
      "Iteration = 21251 \tAcc = 1.0 \tLoss = -0.0\n",
      "Iteration = 21501 \tAcc = 0.95 \tLoss = 0.091235004\n",
      "Iteration = 21751 \tAcc = 1.0 \tLoss = -0.0\n",
      "Iteration = 22001 \tAcc = 0.95 \tLoss = 3.6180674e-05\n",
      "Iteration = 22251 \tAcc = 0.95 \tLoss = -0.0\n",
      "Iteration = 22501 \tAcc = 0.95 \tLoss = 1.7583525e-05\n",
      "Iteration = 22751 \tAcc = 1.0 \tLoss = 0.6091998\n",
      "Iteration = 23001 \tAcc = 1.0 \tLoss = 0.04199462\n",
      "Iteration = 23251 \tAcc = 0.95 \tLoss = 0.006477128\n",
      "Iteration = 23501 \tAcc = 0.95 \tLoss = 1.9371697e-05\n",
      "Iteration = 23751 \tAcc = 1.0 \tLoss = 0.07204445\n",
      "Iteration = 24001 \tAcc = 0.95 \tLoss = 0.016196048\n",
      "Iteration = 24251 \tAcc = 0.95 \tLoss = 0.00097005913\n",
      "Iteration = 24501 \tAcc = 0.95 \tLoss = -0.0\n",
      "Iteration = 24751 \tAcc = 0.95 \tLoss = -0.0\n",
      "Iteration = 25001 \tAcc = 0.95 \tLoss = -0.0\n",
      "Iteration = 25251 \tAcc = 1.0 \tLoss = 0.7591434\n",
      "Iteration = 25501 \tAcc = 0.95 \tLoss = 0.009044657\n",
      "Iteration = 25751 \tAcc = 0.95 \tLoss = 0.00010639995\n",
      "Iteration = 26001 \tAcc = 0.95 \tLoss = 0.07128181\n",
      "Iteration = 26251 \tAcc = 1.0 \tLoss = -0.0\n",
      "Iteration = 26501 \tAcc = 1.0 \tLoss = 0.021857355\n",
      "Iteration = 26751 \tAcc = 1.0 \tLoss = 0.012462586\n",
      "Iteration = 27001 \tAcc = 0.95 \tLoss = -0.0\n",
      "Iteration = 27251 \tAcc = 1.0 \tLoss = 0.00421158\n",
      "Iteration = 27501 \tAcc = 1.0 \tLoss = -0.0\n",
      "Iteration = 27751 \tAcc = 0.95 \tLoss = 5.424037e-06\n",
      "Iteration = 28001 \tAcc = 0.95 \tLoss = 4.5121735e-05\n",
      "Iteration = 28251 \tAcc = 1.0 \tLoss = 0.079540394\n",
      "Iteration = 28501 \tAcc = 0.95 \tLoss = 0.024413913\n",
      "Iteration = 28751 \tAcc = 1.0 \tLoss = 0.012661647\n",
      "Iteration = 29001 \tAcc = 1.0 \tLoss = -0.0\n",
      "Iteration = 29251 \tAcc = 1.0 \tLoss = 2.2053744e-06\n",
      "Iteration = 29501 \tAcc = 0.95 \tLoss = 0.010296602\n",
      "Iteration = 29751 \tAcc = 0.95 \tLoss = 1.9073505e-06\n",
      "Iteration = 30001 \tAcc = 1.0 \tLoss = 2.3245839e-06\n",
      "Iteration = 30251 \tAcc = 1.0 \tLoss = 0.0061754137\n",
      "Iteration = 30501 \tAcc = 0.95 \tLoss = 0.0053418847\n",
      "Iteration = 30751 \tAcc = 1.0 \tLoss = 1.7285362e-06\n",
      "Iteration = 31001 \tAcc = 1.0 \tLoss = 0.013475143\n",
      "Iteration = 31251 \tAcc = 0.95 \tLoss = 0.041919343\n",
      "Iteration = 31501 \tAcc = 0.95 \tLoss = 1.7881409e-06\n",
      "Iteration = 31751 \tAcc = 1.0 \tLoss = 6.836886e-05\n",
      "Iteration = 32001 \tAcc = 1.0 \tLoss = 0.02673181\n",
      "Iteration = 32251 \tAcc = 0.95 \tLoss = 0.024616895\n",
      "Iteration = 32501 \tAcc = 0.95 \tLoss = -0.0\n",
      "Iteration = 32751 \tAcc = 0.95 \tLoss = -0.0\n",
      "Iteration = 33001 \tAcc = 1.0 \tLoss = 9.536748e-07\n",
      "Iteration = 33251 \tAcc = 1.0 \tLoss = -0.0\n",
      "Iteration = 33501 \tAcc = 0.95 \tLoss = 6.544804e-05\n",
      "Iteration = 33751 \tAcc = 0.95 \tLoss = -0.0\n",
      "Iteration = 34001 \tAcc = 0.95 \tLoss = 0.0310495\n",
      "Iteration = 34251 \tAcc = 0.95 \tLoss = 0.030065373\n",
      "Iteration = 34501 \tAcc = 0.95 \tLoss = -0.0\n",
      "Iteration = 34751 \tAcc = 1.0 \tLoss = 1.2516983e-06\n",
      "Iteration = 35001 \tAcc = 1.0 \tLoss = 0.004426367\n",
      "Iteration = 35251 \tAcc = 0.95 \tLoss = 0.002424136\n",
      "Iteration = 35501 \tAcc = 0.95 \tLoss = 0.32257038\n",
      "Iteration = 35751 \tAcc = 1.0 \tLoss = -0.0\n",
      "Iteration = 36001 \tAcc = 1.0 \tLoss = 0.0040997746\n",
      "Iteration = 36251 \tAcc = 0.95 \tLoss = 0.01136074\n",
      "Iteration = 36501 \tAcc = 0.95 \tLoss = 0.017286863\n",
      "Iteration = 36751 \tAcc = 0.95 \tLoss = 2.9802328e-07\n",
      "Iteration = 37001 \tAcc = 0.95 \tLoss = -0.0\n",
      "Iteration = 37251 \tAcc = 1.0 \tLoss = 4.172326e-07\n",
      "Iteration = 37501 \tAcc = 1.0 \tLoss = 5.36442e-07\n",
      "Iteration = 37751 \tAcc = 0.95 \tLoss = 0.0018485575\n",
      "Iteration = 38001 \tAcc = 1.0 \tLoss = 0.6356284\n",
      "Iteration = 38251 \tAcc = 0.95 \tLoss = 0.01867937\n",
      "Iteration = 38501 \tAcc = 0.95 \tLoss = 0.01631588\n",
      "Iteration = 38751 \tAcc = 1.0 \tLoss = 0.003842754\n",
      "Iteration = 39001 \tAcc = 1.0 \tLoss = 0.0023826112\n",
      "Iteration = 39251 \tAcc = 1.0 \tLoss = 2.384186e-07\n",
      "Iteration = 39501 \tAcc = 1.0 \tLoss = 0.85317415\n",
      "Iteration = 39751 \tAcc = 1.0 \tLoss = -0.0\n",
      "Iteration = 40001 \tAcc = 1.0 \tLoss = -0.0\n",
      "Iteration = 40251 \tAcc = 1.0 \tLoss = 2.384186e-07\n",
      "Iteration = 40501 \tAcc = 0.95 \tLoss = -0.0\n",
      "Iteration = 40751 \tAcc = 1.0 \tLoss = 0.008718959\n",
      "Iteration = 41001 \tAcc = 0.95 \tLoss = 1.43052175e-05\n",
      "Iteration = 41251 \tAcc = 1.0 \tLoss = -0.0\n",
      "Iteration = 41501 \tAcc = 1.0 \tLoss = 0.4410623\n",
      "Iteration = 41751 \tAcc = 0.95 \tLoss = 1.7881395e-07\n",
      "Iteration = 42001 \tAcc = 0.95 \tLoss = 2.384186e-07\n",
      "Iteration = 42251 \tAcc = 1.0 \tLoss = -0.0\n"
     ]
    },
    {
     "name": "stdout",
     "output_type": "stream",
     "text": [
      "Iteration = 42501 \tAcc = 1.0 \tLoss = 0.0027021286\n",
      "Iteration = 42751 \tAcc = 1.0 \tLoss = 0.013500819\n",
      "Iteration = 43001 \tAcc = 0.95 \tLoss = 0.25465006\n",
      "Iteration = 43251 \tAcc = 1.0 \tLoss = -0.0\n",
      "Iteration = 43501 \tAcc = 0.95 \tLoss = -0.0\n",
      "Iteration = 43751 \tAcc = 0.95 \tLoss = 5.9604645e-08\n",
      "Iteration = 44001 \tAcc = 1.0 \tLoss = 0.0033920652\n",
      "Iteration = 44251 \tAcc = 0.95 \tLoss = 0.36122024\n",
      "Iteration = 44501 \tAcc = 0.95 \tLoss = 4.768373e-07\n",
      "Iteration = 44751 \tAcc = 0.95 \tLoss = 0.0016362336\n",
      "Iteration = 45001 \tAcc = 1.0 \tLoss = 2.384186e-07\n",
      "Iteration = 45251 \tAcc = 0.95 \tLoss = 0.008446382\n",
      "Iteration = 45501 \tAcc = 0.95 \tLoss = -0.0\n",
      "Iteration = 45751 \tAcc = 0.95 \tLoss = -0.0\n",
      "Iteration = 46001 \tAcc = 1.0 \tLoss = 0.0062130177\n",
      "Iteration = 46251 \tAcc = 1.0 \tLoss = 0.0052505047\n",
      "Iteration = 46501 \tAcc = 0.95 \tLoss = 0.016279953\n",
      "Iteration = 46751 \tAcc = 1.0 \tLoss = -0.0\n",
      "Iteration = 47001 \tAcc = 1.0 \tLoss = -0.0\n",
      "Iteration = 47251 \tAcc = 1.0 \tLoss = 0.004084094\n",
      "Iteration = 47501 \tAcc = 1.0 \tLoss = 1.7881395e-07\n",
      "Iteration = 47751 \tAcc = 1.0 \tLoss = -0.0\n",
      "Iteration = 48001 \tAcc = 1.0 \tLoss = 0.0065006446\n",
      "Iteration = 48251 \tAcc = 1.0 \tLoss = 0.4073082\n",
      "Iteration = 48501 \tAcc = 0.95 \tLoss = 0.0031660197\n",
      "Iteration = 48751 \tAcc = 1.0 \tLoss = 5.9604645e-08\n",
      "Iteration = 49001 \tAcc = 1.0 \tLoss = 0.0016893104\n",
      "Iteration = 49251 \tAcc = 0.95 \tLoss = -0.0\n",
      "Iteration = 49501 \tAcc = 1.0 \tLoss = -0.0\n",
      "Iteration = 49751 \tAcc = 0.95 \tLoss = 0.0013541207\n",
      "Iteration = 50001 \tAcc = 1.0 \tLoss = -0.0\n",
      "Iteration = 50251 \tAcc = 1.0 \tLoss = 0.00060224783\n",
      "Iteration = 50501 \tAcc = 0.95 \tLoss = 0.006320261\n",
      "Iteration = 50751 \tAcc = 1.0 \tLoss = -0.0\n",
      "Iteration = 51001 \tAcc = 0.95 \tLoss = 0.16769847\n",
      "Iteration = 51251 \tAcc = 0.95 \tLoss = 0.00074873574\n",
      "Iteration = 51501 \tAcc = 1.0 \tLoss = -0.0\n",
      "Iteration = 51751 \tAcc = 1.0 \tLoss = 2.920632e-06\n",
      "Iteration = 52001 \tAcc = 0.95 \tLoss = -0.0\n",
      "Iteration = 52251 \tAcc = 1.0 \tLoss = 0.0028988374\n",
      "Iteration = 52501 \tAcc = 1.0 \tLoss = 0.0020140412\n",
      "Iteration = 52751 \tAcc = 1.0 \tLoss = 0.004627308\n",
      "Iteration = 53001 \tAcc = 1.0 \tLoss = 0.010148047\n",
      "Iteration = 53251 \tAcc = 0.95 \tLoss = -0.0\n",
      "Iteration = 53501 \tAcc = 1.0 \tLoss = -0.0\n",
      "Iteration = 53751 \tAcc = 1.0 \tLoss = -0.0\n",
      "Iteration = 54001 \tAcc = 0.95 \tLoss = -0.0\n",
      "Iteration = 54251 \tAcc = 0.95 \tLoss = -0.0\n",
      "Iteration = 54501 \tAcc = 1.0 \tLoss = 0.009479609\n",
      "Iteration = 54751 \tAcc = 1.0 \tLoss = 0.41636458\n",
      "Iteration = 55001 \tAcc = 1.0 \tLoss = -0.0\n",
      "Iteration = 55251 \tAcc = 1.0 \tLoss = -0.0\n",
      "Iteration = 55501 \tAcc = 1.0 \tLoss = 1.4305125e-06\n",
      "Iteration = 55751 \tAcc = 1.0 \tLoss = -0.0\n",
      "Iteration = 56001 \tAcc = 1.0 \tLoss = -0.0\n",
      "Iteration = 56251 \tAcc = 1.0 \tLoss = -0.0\n",
      "Iteration = 56501 \tAcc = 1.0 \tLoss = -0.0\n",
      "Iteration = 56751 \tAcc = 1.0 \tLoss = 0.0035857994\n",
      "Iteration = 57001 \tAcc = 1.0 \tLoss = 0.001609786\n",
      "Iteration = 57251 \tAcc = 1.0 \tLoss = -0.0\n",
      "Iteration = 57501 \tAcc = 1.0 \tLoss = 0.0037678445\n",
      "Iteration = 57751 \tAcc = 1.0 \tLoss = 0.51526314\n",
      "Iteration = 58001 \tAcc = 1.0 \tLoss = -0.0\n",
      "Iteration = 58251 \tAcc = 1.0 \tLoss = 0.00031929344\n",
      "Iteration = 58501 \tAcc = 1.0 \tLoss = -0.0\n",
      "Iteration = 58751 \tAcc = 1.0 \tLoss = 0.0017008933\n",
      "Iteration = 59001 \tAcc = 1.0 \tLoss = 0.18956144\n",
      "Iteration = 59251 \tAcc = 1.0 \tLoss = 0.39937332\n",
      "Iteration = 59501 \tAcc = 1.0 \tLoss = 0.005405825\n",
      "Iteration = 59751 \tAcc = 1.0 \tLoss = -0.0\n",
      "Iteration = 60001 \tAcc = 0.95 \tLoss = -0.0\n",
      "Iteration = 60251 \tAcc = 1.0 \tLoss = 0.0016572492\n",
      "Iteration = 60501 \tAcc = 1.0 \tLoss = -0.0\n",
      "Iteration = 60751 \tAcc = 1.0 \tLoss = 0.62819105\n",
      "Iteration = 61001 \tAcc = 1.0 \tLoss = -0.0\n",
      "Iteration = 61251 \tAcc = 1.0 \tLoss = -0.0\n",
      "Iteration = 61501 \tAcc = 1.0 \tLoss = -0.0\n",
      "Iteration = 61751 \tAcc = 1.0 \tLoss = 0.37523806\n",
      "Iteration = 62001 \tAcc = 1.0 \tLoss = -0.0\n",
      "Iteration = 62251 \tAcc = 1.0 \tLoss = -0.0\n",
      "Iteration = 62501 \tAcc = 1.0 \tLoss = -0.0\n",
      "Iteration = 62751 \tAcc = 1.0 \tLoss = -0.0\n",
      "Iteration = 63001 \tAcc = 1.0 \tLoss = 0.008164625\n",
      "Iteration = 63251 \tAcc = 1.0 \tLoss = 0.0008822398\n",
      "Iteration = 63501 \tAcc = 1.0 \tLoss = 5.9604645e-08\n",
      "Iteration = 63751 \tAcc = 1.0 \tLoss = 0.00824275\n",
      "Iteration = 64001 \tAcc = 1.0 \tLoss = -0.0\n",
      "Iteration = 64251 \tAcc = 1.0 \tLoss = -0.0\n",
      "Iteration = 64501 \tAcc = 1.0 \tLoss = 0.0035431497\n",
      "Iteration = 64751 \tAcc = 1.0 \tLoss = -0.0\n",
      "Iteration = 65001 \tAcc = 1.0 \tLoss = -0.0\n",
      "Iteration = 65251 \tAcc = 1.0 \tLoss = 0.0070942156\n",
      "Iteration = 65501 \tAcc = 1.0 \tLoss = 0.43969864\n",
      "Iteration = 65751 \tAcc = 1.0 \tLoss = 0.0005946735\n",
      "Iteration = 66001 \tAcc = 1.0 \tLoss = -0.0\n",
      "Iteration = 66251 \tAcc = 1.0 \tLoss = -0.0\n",
      "Iteration = 66501 \tAcc = 1.0 \tLoss = 5.9604645e-08\n",
      "Iteration = 66751 \tAcc = 1.0 \tLoss = 0.0016409502\n",
      "Iteration = 67001 \tAcc = 1.0 \tLoss = -0.0\n",
      "Iteration = 67251 \tAcc = 1.0 \tLoss = 0.0012359505\n",
      "Iteration = 67501 \tAcc = 1.0 \tLoss = -0.0\n",
      "Iteration = 67751 \tAcc = 1.0 \tLoss = 0.0020449194\n",
      "Iteration = 68001 \tAcc = 1.0 \tLoss = 0.0015725931\n",
      "Iteration = 68251 \tAcc = 1.0 \tLoss = 0.008713247\n",
      "Iteration = 68501 \tAcc = 1.0 \tLoss = 0.0027374509\n",
      "Iteration = 68751 \tAcc = 1.0 \tLoss = 4.768373e-07\n",
      "Iteration = 69001 \tAcc = 1.0 \tLoss = 0.0005579955\n",
      "Iteration = 69251 \tAcc = 1.0 \tLoss = 0.0026260493\n",
      "Iteration = 69501 \tAcc = 1.0 \tLoss = 0.18354169\n",
      "Iteration = 69751 \tAcc = 1.0 \tLoss = 0.0017613177\n",
      "Iteration = 70001 \tAcc = 1.0 \tLoss = -0.0\n",
      "Iteration = 70251 \tAcc = 1.0 \tLoss = -0.0\n",
      "Iteration = 70501 \tAcc = 1.0 \tLoss = 1.1920929e-07\n",
      "Iteration = 70751 \tAcc = 1.0 \tLoss = -0.0\n",
      "Iteration = 71001 \tAcc = 1.0 \tLoss = -0.0\n",
      "Iteration = 71251 \tAcc = 1.0 \tLoss = -0.0\n",
      "Iteration = 71501 \tAcc = 1.0 \tLoss = 0.0007017332\n",
      "Iteration = 71751 \tAcc = 1.0 \tLoss = -0.0\n",
      "Iteration = 72001 \tAcc = 1.0 \tLoss = -0.0\n",
      "Iteration = 72251 \tAcc = 1.0 \tLoss = 0.0029177873\n",
      "Iteration = 72501 \tAcc = 1.0 \tLoss = -0.0\n",
      "Iteration = 72751 \tAcc = 1.0 \tLoss = -0.0\n",
      "Iteration = 73001 \tAcc = 1.0 \tLoss = -0.0\n",
      "Iteration = 73251 \tAcc = 1.0 \tLoss = -0.0\n",
      "Iteration = 73501 \tAcc = 1.0 \tLoss = -0.0\n",
      "Iteration = 73751 \tAcc = 1.0 \tLoss = 0.38435808\n",
      "Iteration = 74001 \tAcc = 1.0 \tLoss = -0.0\n",
      "Iteration = 74251 \tAcc = 1.0 \tLoss = 0.0006977966\n",
      "Iteration = 74501 \tAcc = 1.0 \tLoss = 0.003273415\n",
      "Iteration = 74751 \tAcc = 1.0 \tLoss = -0.0\n",
      "Iteration = 75001 \tAcc = 1.0 \tLoss = -0.0\n",
      "Iteration = 75251 \tAcc = 1.0 \tLoss = -0.0\n",
      "Iteration = 75501 \tAcc = 1.0 \tLoss = -0.0\n",
      "Iteration = 75751 \tAcc = 1.0 \tLoss = 0.0010939857\n",
      "Iteration = 76001 \tAcc = 1.0 \tLoss = -0.0\n",
      "Iteration = 76251 \tAcc = 1.0 \tLoss = -0.0\n",
      "Iteration = 76501 \tAcc = 1.0 \tLoss = 0.08982601\n",
      "Iteration = 76751 \tAcc = 1.0 \tLoss = -0.0\n",
      "Iteration = 77001 \tAcc = 1.0 \tLoss = 0.0016247709\n",
      "Iteration = 77251 \tAcc = 1.0 \tLoss = -0.0\n",
      "Iteration = 77501 \tAcc = 1.0 \tLoss = 0.00039340844\n",
      "Iteration = 77751 \tAcc = 1.0 \tLoss = 8.9407007e-07\n",
      "Iteration = 78001 \tAcc = 1.0 \tLoss = 0.0028528695\n",
      "Iteration = 78251 \tAcc = 1.0 \tLoss = -0.0\n",
      "Iteration = 78501 \tAcc = 1.0 \tLoss = -0.0\n",
      "Iteration = 78751 \tAcc = 1.0 \tLoss = -0.0\n",
      "Iteration = 79001 \tAcc = 1.0 \tLoss = 0.0048636864\n",
      "Iteration = 79251 \tAcc = 1.0 \tLoss = 0.0017195218\n",
      "Iteration = 79501 \tAcc = 1.0 \tLoss = -0.0\n",
      "Iteration = 79751 \tAcc = 1.0 \tLoss = -0.0\n",
      "Iteration = 80001 \tAcc = 1.0 \tLoss = 0.003240047\n",
      "Iteration = 80251 \tAcc = 1.0 \tLoss = -0.0\n",
      "Iteration = 80501 \tAcc = 1.0 \tLoss = -0.0\n",
      "Iteration = 80751 \tAcc = 1.0 \tLoss = 0.0008945889\n",
      "Iteration = 81001 \tAcc = 1.0 \tLoss = -0.0\n",
      "Iteration = 81251 \tAcc = 1.0 \tLoss = 0.0008512185\n",
      "Iteration = 81501 \tAcc = 1.0 \tLoss = 7.1525596e-07\n",
      "Iteration = 81751 \tAcc = 1.0 \tLoss = -0.0\n",
      "Iteration = 82001 \tAcc = 1.0 \tLoss = -0.0\n",
      "Iteration = 82251 \tAcc = 1.0 \tLoss = 0.00666216\n",
      "Iteration = 82501 \tAcc = 1.0 \tLoss = -0.0\n",
      "Iteration = 82751 \tAcc = 1.0 \tLoss = -0.0\n",
      "Iteration = 83001 \tAcc = 1.0 \tLoss = -0.0\n",
      "Iteration = 83251 \tAcc = 1.0 \tLoss = 0.0047182115\n",
      "Iteration = 83501 \tAcc = 1.0 \tLoss = 0.00058107567\n",
      "Iteration = 83751 \tAcc = 1.0 \tLoss = 4.768373e-07\n",
      "Iteration = 84001 \tAcc = 1.0 \tLoss = 1.7881395e-07\n",
      "Iteration = 84251 \tAcc = 1.0 \tLoss = 0.0017873516\n",
      "Iteration = 84501 \tAcc = 1.0 \tLoss = 3.5762793e-07\n",
      "Iteration = 84751 \tAcc = 1.0 \tLoss = -0.0\n",
      "Iteration = 85001 \tAcc = 1.0 \tLoss = -0.0\n",
      "Iteration = 85251 \tAcc = 1.0 \tLoss = 0.002436086\n",
      "Iteration = 85501 \tAcc = 1.0 \tLoss = -0.0\n",
      "Iteration = 85751 \tAcc = 1.0 \tLoss = 0.00454234\n",
      "Iteration = 86001 \tAcc = 1.0 \tLoss = 0.0028425884\n",
      "Iteration = 86251 \tAcc = 1.0 \tLoss = -0.0\n",
      "Iteration = 86501 \tAcc = 1.0 \tLoss = 0.0873442\n",
      "Iteration = 86751 \tAcc = 1.0 \tLoss = 0.0009021058\n"
     ]
    },
    {
     "name": "stdout",
     "output_type": "stream",
     "text": [
      "Iteration = 87001 \tAcc = 1.0 \tLoss = -0.0\n",
      "Iteration = 87251 \tAcc = 1.0 \tLoss = -0.0\n",
      "Iteration = 87501 \tAcc = 1.0 \tLoss = 0.0026772663\n",
      "Iteration = 87751 \tAcc = 1.0 \tLoss = 0.00018723571\n",
      "Iteration = 88001 \tAcc = 1.0 \tLoss = 1.7881395e-07\n",
      "Iteration = 88251 \tAcc = 1.0 \tLoss = 0.0038257015\n",
      "Iteration = 88501 \tAcc = 1.0 \tLoss = 5.9604645e-08\n",
      "Iteration = 88751 \tAcc = 1.0 \tLoss = -0.0\n",
      "Iteration = 89001 \tAcc = 1.0 \tLoss = -0.0\n",
      "Iteration = 89251 \tAcc = 1.0 \tLoss = 0.12175056\n",
      "Iteration = 89501 \tAcc = 1.0 \tLoss = -0.0\n",
      "Iteration = 89751 \tAcc = 1.0 \tLoss = 0.002514959\n",
      "Iteration = 90001 \tAcc = 1.0 \tLoss = 0.058066577\n",
      "Iteration = 90251 \tAcc = 1.0 \tLoss = -0.0\n",
      "Iteration = 90501 \tAcc = 1.0 \tLoss = 0.0004087926\n",
      "Iteration = 90751 \tAcc = 1.0 \tLoss = 0.0014508157\n",
      "Iteration = 91001 \tAcc = 1.0 \tLoss = 0.0017726626\n",
      "Iteration = 91251 \tAcc = 1.0 \tLoss = -0.0\n",
      "Iteration = 91501 \tAcc = 1.0 \tLoss = 0.0021606763\n",
      "Iteration = 91751 \tAcc = 1.0 \tLoss = -0.0\n",
      "Iteration = 92001 \tAcc = 1.0 \tLoss = -0.0\n",
      "Iteration = 92251 \tAcc = 1.0 \tLoss = 0.0007297078\n",
      "Iteration = 92501 \tAcc = 1.0 \tLoss = -0.0\n",
      "Iteration = 92751 \tAcc = 1.0 \tLoss = 1.7881395e-07\n",
      "Iteration = 93001 \tAcc = 1.0 \tLoss = 0.0025878625\n",
      "Iteration = 93251 \tAcc = 1.0 \tLoss = -0.0\n",
      "Iteration = 93501 \tAcc = 1.0 \tLoss = 0.00353005\n",
      "Iteration = 93751 \tAcc = 1.0 \tLoss = 0.08447658\n",
      "Iteration = 94001 \tAcc = 1.0 \tLoss = 0.09896749\n",
      "Iteration = 94251 \tAcc = 1.0 \tLoss = -0.0\n",
      "Iteration = 94501 \tAcc = 1.0 \tLoss = -0.0\n",
      "Iteration = 94751 \tAcc = 1.0 \tLoss = -0.0\n",
      "Iteration = 95001 \tAcc = 1.0 \tLoss = 0.12418344\n",
      "Iteration = 95251 \tAcc = 1.0 \tLoss = -0.0\n",
      "Iteration = 95501 \tAcc = 1.0 \tLoss = -0.0\n",
      "Iteration = 95751 \tAcc = 1.0 \tLoss = 0.004414573\n",
      "Iteration = 96001 \tAcc = 1.0 \tLoss = 0.0013751301\n",
      "Iteration = 96251 \tAcc = 1.0 \tLoss = -0.0\n",
      "Iteration = 96501 \tAcc = 1.0 \tLoss = 0.054564737\n",
      "Iteration = 96751 \tAcc = 1.0 \tLoss = 0.00010371746\n",
      "Iteration = 97001 \tAcc = 1.0 \tLoss = 0.00046281793\n",
      "Iteration = 97251 \tAcc = 1.0 \tLoss = -0.0\n",
      "Iteration = 97501 \tAcc = 1.0 \tLoss = 0.0017694383\n",
      "Iteration = 97751 \tAcc = 1.0 \tLoss = -0.0\n",
      "Iteration = 98001 \tAcc = 1.0 \tLoss = -0.0\n",
      "Iteration = 98251 \tAcc = 1.0 \tLoss = 0.00014520745\n",
      "Iteration = 98501 \tAcc = 1.0 \tLoss = 0.00089250086\n",
      "Iteration = 98751 \tAcc = 1.0 \tLoss = -0.0\n",
      "Iteration = 99001 \tAcc = 1.0 \tLoss = -0.0\n",
      "Iteration = 99251 \tAcc = 1.0 \tLoss = 0.002944688\n",
      "Iteration = 99501 \tAcc = 1.0 \tLoss = -0.0\n",
      "Iteration = 99751 \tAcc = 1.0 \tLoss = -0.0\n"
     ]
    }
   ],
   "source": [
    "model.sgd(X, Y, 100000, 0.005)"
   ]
  },
  {
   "cell_type": "markdown",
   "metadata": {},
   "source": [
    "Seems like it has fitted the data 100\\%. Let's see what the decision boundary looks like."
   ]
  },
  {
   "cell_type": "code",
   "execution_count": 35,
   "metadata": {},
   "outputs": [
    {
     "data": {
      "image/png": "[encoded data removed]",
      "text/plain": [
       "<Figure size 432x288 with 1 Axes>"
      ]
     },
     "metadata": {
      "needs_background": "light"
     },
     "output_type": "display_data"
    }
   ],
   "source": [
    "# Create a grid of points to classify\n",
    "xx1, xx2 = np.meshgrid(np.arange(-3, 3, 0.005), np.arange(-3, 3, 0.005))\n",
    "\n",
    "# Flatten the grid to pass into model\n",
    "grid = np.c_[xx1.ravel(), xx2.ravel()].T\n",
    "\n",
    "# Predict classification at every point on the grid\n",
    "Z = model.forward(grid)[1,:].numpy().reshape(xx1.shape)\n",
    "\n",
    "# Plot the prediction regions.\n",
    "plt.imshow(Z, interpolation='bicubic', origin='lower', extent=[-3, 3, -3, 3], \n",
    "           cmap=ListedColormap(['#1f77b4', '#ff7f0e']), alpha=0.55, aspect='auto')\n",
    "\n",
    "# Plot the original points.\n",
    "_ = plt.scatter(X[0,:], X[1,:], c=Y[1,:], cmap=ListedColormap(['#1f77b4', '#ff7f0e']))"
   ]
  }
 ],
 "metadata": {
  "kernelspec": {
   "display_name": "Python 3",
   "language": "python",
   "name": "python3"
  },
  "language_info": {
   "codemirror_mode": {
    "name": "ipython",
    "version": 3
   },
   "file_extension": ".py",
   "mimetype": "text/x-python",
   "name": "python",
   "nbconvert_exporter": "python",
   "pygments_lexer": "ipython3",
   "version": "3.6.7"
  }
 },
 "nbformat": 4,
 "nbformat_minor": 2
}
