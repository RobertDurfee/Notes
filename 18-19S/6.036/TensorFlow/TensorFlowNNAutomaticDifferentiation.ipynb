{
 "cells": [
  {
   "cell_type": "code",
   "execution_count": 1,
   "metadata": {},
   "outputs": [],
   "source": [
    "# IMPORTANT! I am using TensorFlow 2.0 Alpha release, but this guide is\n",
    "# for TensorFlow 1.X so I use the backwards compatible API \n",
    "import tensorflow.compat.v1 as tf\n",
    "tf.disable_eager_execution()\n",
    "# IMPORTANT! If you are using TensorFlow 1.X (which is probably most\n",
    "# likely), you should use this import statement instead:\n",
    "# import tensorflow as tf\n",
    "import numpy as np\n",
    "%matplotlib inline\n",
    "from matplotlib.colors import ListedColormap\n",
    "from matplotlib import pyplot as plt"
   ]
  },
  {
   "cell_type": "markdown",
   "metadata": {},
   "source": [
    "# TensorFlow NN Automatic Differentiation\n",
    "\n",
    "This notebook walks through how to build a feed-forward neural network using TensorFlow. Instead of computing the gradients by hand, we use TensorFlow's automatic differentiation.\n",
    "\n",
    "## Layers\n",
    "\n",
    "Instead of unrolling the network as shown in the detailed notebook, we encapsulate the common, repeated behavior into layer classes.\n",
    "\n",
    "### Base Layer\n",
    "\n",
    "This layer provides the virtual methods that each layer has to implement. If the layer doesn't implement the method, we default to one of these empty methods."
   ]
  },
  {
   "cell_type": "code",
   "execution_count": 2,
   "metadata": {},
   "outputs": [],
   "source": [
    "class Layer:\n",
    "    \"\"\"Abstract base layer for our neural network.\"\"\""
   ]
  },
  {
   "cell_type": "markdown",
   "metadata": {},
   "source": [
    "The `__init__` method sets up constant information about the layer that is necessary to build the graph later. Typically, only dimensions of input/output data is required."
   ]
  },
  {
   "cell_type": "code",
   "execution_count": 3,
   "metadata": {},
   "outputs": [],
   "source": [
    "    def __init__(self):\n",
    "        \"\"\"Initializes layer constants necessary to construct the graph\n",
    "            for training. Likely: just dimension information or nothing\n",
    "            at all.\"\"\"\n",
    "        \n",
    "Layer.__init__ = __init__"
   ]
  },
  {
   "cell_type": "markdown",
   "metadata": {},
   "source": [
    "Once the information about the layer is obtained from `__init__`, we can construct any variables in the graph needed by the layer using the `build` method. In the NumPy version, this is accomplished within `__init__`. We split this operation into two because at the time of initialization, we do not have a graph defined. Without a graph, we cannot create variables."
   ]
  },
  {
   "cell_type": "code",
   "execution_count": 4,
   "metadata": {},
   "outputs": [],
   "source": [
    "    def build(self):\n",
    "        \"\"\"Adds any variables to the graph required by the layer. (Such\n",
    "            as weight matrices.)\"\"\"\n",
    "        \n",
    "Layer.build = build"
   ]
  },
  {
   "cell_type": "markdown",
   "metadata": {},
   "source": [
    "Each of the layers need to be connected to each other for the forward pass. This is accomplished through the `build_forward` method. Note that this is not the same as a `forward` method in the NumPy version as nothing is being computed yet. In the `build_forward` method, we are constructing operations within the graph to be executed at a later time."
   ]
  },
  {
   "cell_type": "code",
   "execution_count": 5,
   "metadata": {},
   "outputs": [],
   "source": [
    "    def build_forward(self, X):\n",
    "        \"\"\"Connects the layer to the previous layer through a new \n",
    "            operation in the forward pass process.\n",
    "            \n",
    "        Args:\n",
    "            X (Tensor): A tensor representing the inputs to the layer.\n",
    "                Likely: A or Z depending on the layer.\n",
    "        \n",
    "        Returns:\n",
    "            Tensor: A tensor representing the outputs of the layer. Likely:\n",
    "                Z or A depending on the layer.\n",
    "                \n",
    "        \"\"\"\n",
    "\n",
    "Layer.build_forward = build_forward"
   ]
  },
  {
   "cell_type": "markdown",
   "metadata": {},
   "source": [
    "The layers also need to be connected to form the backward pass. We do this using the `build_backward` method. Again, this is not the same as the `backward` method as nothing is executed, only the operation is defined."
   ]
  },
  {
   "cell_type": "code",
   "execution_count": 6,
   "metadata": {},
   "outputs": [],
   "source": [
    "    def build_backward(self, dL):\n",
    "        \"\"\"Connects the layer to the next layer through a new operation\n",
    "            in the backward pass process.\n",
    "            \n",
    "        Args:\n",
    "            dL (Tensor): A tensor representing the gradient of the loss\n",
    "                of the network with respect to the outputs of the current\n",
    "                layer. Likely: dLdA or dLdZ depending on the layer.\n",
    "        \n",
    "        Returns:\n",
    "            Tensor: A tensor representing the gradient of the loss of the\n",
    "                network will respect to the inputs of the current layer.\n",
    "                Likely: dLdZ or dLdA depending on the layer.\n",
    "        \n",
    "        \"\"\"\n",
    "\n",
    "Layer.build_backward = build_backward"
   ]
  },
  {
   "cell_type": "markdown",
   "metadata": {},
   "source": [
    "Some layers need to update variables when they go through the training process. These variables are updated in the `build_sgd_step` method."
   ]
  },
  {
   "cell_type": "code",
   "execution_count": 7,
   "metadata": {},
   "outputs": [],
   "source": [
    "    def build_sgd_step(self, eta):\n",
    "        \"\"\"Updates trainable variables based off the results from the\n",
    "            backward pass.\n",
    "            \n",
    "        Args:\n",
    "            eta (float): The learning rate to use for the stochastic\n",
    "                gradient descent update step.\n",
    "        \n",
    "        \"\"\"\n",
    "\n",
    "Layer.build_sgd_step = build_sgd_step"
   ]
  },
  {
   "cell_type": "markdown",
   "metadata": {},
   "source": [
    "### Linear Layer\n",
    "\n",
    "This is the simplest possible layer where all inputs are connected to all outputs."
   ]
  },
  {
   "cell_type": "code",
   "execution_count": 8,
   "metadata": {},
   "outputs": [],
   "source": [
    "class Linear(Layer):\n",
    "    \"\"\"Simple layer fully-connecting inputs to outputs linearly.\"\"\""
   ]
  },
  {
   "cell_type": "markdown",
   "metadata": {},
   "source": [
    "To initialize this network, we just need to know the input dimensions and the output dimensions."
   ]
  },
  {
   "cell_type": "code",
   "execution_count": 9,
   "metadata": {},
   "outputs": [],
   "source": [
    "    def __init__(self, m, n):\n",
    "        \"\"\"Initializes the dimensions of the layer.\n",
    "        \n",
    "        Args:\n",
    "            m (int): Number of input features to the layer.\n",
    "            n (int): Number of output features of the layer.\n",
    "        \n",
    "        \"\"\"\n",
    "        self.m = m\n",
    "        self.n = n\n",
    "        \n",
    "Linear.__init__ = __init__"
   ]
  },
  {
   "cell_type": "markdown",
   "metadata": {},
   "source": [
    "With the dimensions known, we can construct the variables on the graph. Here are a few notes to consider:\n",
    "\n",
    "- We add new variables to our graph using the `get_variable`. This the standard preferred method to introduce trainable parameters.\n",
    "- Since we will likely have many of these `Linear` layers, we need to scope our variables as duplicate variable names are not allowed. By using `default_name`, TensorFlow will ensure our variable scopes are unique.\n",
    "- The variables need to be initialized to some values when the graph is constructed. To tell TensorFlow what these should be initialized to later, we use `zeros_initializer` for $W_0$ and `random_normal_initializer` for $W$.\n",
    "- This method assumes that the graph we wish to add the variables to is the default graph. This is only important to consider when training multiple different graphs at one time."
   ]
  },
  {
   "cell_type": "code",
   "execution_count": 10,
   "metadata": {},
   "outputs": [],
   "source": [
    "    def build(self):\n",
    "        \"\"\"Creates the trainable variables on the default graph for \n",
    "            the Linear layer.\"\"\"\n",
    "        with tf.variable_scope(name_or_scope=None, default_name='Linear'):\n",
    "            \n",
    "            self.W = tf.get_variable(name='W', shape=(self.m, self.n), initializer=tf.random_normal_initializer(0.0, tf.sqrt(1 / self.m)))\n",
    "            self.W0 = tf.get_variable(name='W0', shape=(self.n, 1), initializer=tf.zeros_initializer)\n",
    "\n",
    "Linear.build = build"
   ]
  },
  {
   "cell_type": "markdown",
   "metadata": {},
   "source": [
    "With our variables defined, we can build the forward pass. We take the activation $A$ from the previous layer and produce the current $Z$ pre-activation."
   ]
  },
  {
   "cell_type": "code",
   "execution_count": 11,
   "metadata": {},
   "outputs": [],
   "source": [
    "    def build_forward(self, A):\n",
    "        \"\"\"Connects the linear layer to the previous layer by operating\n",
    "            on the previous activation.\n",
    "            \n",
    "        Args:\n",
    "            A (Tensor): An m by b tensor representing the activations from\n",
    "                the previous layer with a batch of size b.\n",
    "                \n",
    "        Returns:\n",
    "            Tensor: An n by b tensor, Z, representing the pre-activations\n",
    "                as the output from this linear layer.\n",
    "        \n",
    "        \"\"\"\n",
    "        # We need these later when computing the backward path.\n",
    "        self.A = A\n",
    "        self.Z = tf.transpose(self.W) @ self.A + self.W0\n",
    "        \n",
    "        return self.Z\n",
    "    \n",
    "Linear.build_forward = build_forward"
   ]
  },
  {
   "cell_type": "markdown",
   "metadata": {},
   "source": [
    "For now, we will compute the gradients by hand using back-propogation. We take the gradient of the loss with respect to the pre-activations of the layer $\\partial \\mathrm{Loss} / \\partial Z$ and compute the gradient of the loss with respect to the activations of the previous layer $\\partial \\mathrm{Loss} / \\partial A$. \n",
    "\n",
    "In addition, we save gradients of the loss with respect to the weights ($\\partial \\mathrm{Loss} / \\partial W$ and $\\partial \\mathrm{Loss} / \\partial W_0$) for the stochastic gradient descent update step."
   ]
  },
  {
   "cell_type": "code",
   "execution_count": 12,
   "metadata": {},
   "outputs": [],
   "source": [
    "    def build_backward(self, dLdZ):\n",
    "        \"\"\"Connects the next layer to the current layer using backward \n",
    "            process. Also records gradients of the loss with respect to\n",
    "            weights for later stochastic gradient descent updates.\n",
    "        \n",
    "        Args:\n",
    "            dLdZ (Tensor): An n by b tensor representing the gradient of\n",
    "                the loss with respect to the current layer's \n",
    "                pre-activations for a batch of size b.\n",
    "                \n",
    "        Returns:\n",
    "            Tensor: An m by b tensor, dLdA, representing the gradient of \n",
    "                the loss with respect to the previous layer's activations.\n",
    "        \n",
    "        \"\"\"\n",
    "        # We store these gradients for use later in the sgd_step\n",
    "        self.dLdW, self.dLdW0 = tf.gradients(self.Z, [self.W, self.W0], dLdZ)\n",
    "\n",
    "        return tf.gradients(self.Z, self.A, dLdZ)\n",
    "    \n",
    "Linear.build_backward = build_backward"
   ]
  },
  {
   "cell_type": "markdown",
   "metadata": {},
   "source": [
    "The linear layer has some trainable parameters to update. Using the specified learning rate $\\eta$, we can re-assign our variable values using stochastic gradient descent. Note that these are not executed when this method is called!Since these are isolated operations, we need to return handles to them to be executed later. To execute in parallel, we use `tf.group`."
   ]
  },
  {
   "cell_type": "code",
   "execution_count": 13,
   "metadata": {},
   "outputs": [],
   "source": [
    "    def build_sgd_step(self, eta):\n",
    "        \"\"\"Constructs the training update operations for the Linear layer\n",
    "            weight parameters.\n",
    "            \n",
    "        Args:\n",
    "            eta (float): The learning rate to use for the stochastic\n",
    "                gradient descent update step.\n",
    "        \n",
    "        Returns:\n",
    "            Operation: An operation that executes the stochastic gradient\n",
    "                descent step for all weights.\n",
    "        \n",
    "        \"\"\"\n",
    "        return tf.group(self.W.assign_sub(eta * self.dLdW),\n",
    "                        self.W0.assign_sub(eta * self.dLdW0))\n",
    "\n",
    "Linear.build_sgd_step = build_sgd_step"
   ]
  },
  {
   "cell_type": "markdown",
   "metadata": {},
   "source": [
    "### Rectified Linear Unit Activation Layer\n",
    "\n",
    "This layer applies the relu activation function to each of the inputs element-wise."
   ]
  },
  {
   "cell_type": "code",
   "execution_count": 14,
   "metadata": {},
   "outputs": [],
   "source": [
    "class ReLU(Layer):\n",
    "    \"\"\"Applies relu activation function to all inputs.\"\"\""
   ]
  },
  {
   "cell_type": "markdown",
   "metadata": {},
   "source": [
    "We have no variables to consider, we just need to construct the forward and backward passes. With the forward pass we compute the activation $A$ using the previous layer's pre-activation $A$."
   ]
  },
  {
   "cell_type": "code",
   "execution_count": 15,
   "metadata": {},
   "outputs": [],
   "source": [
    "    def build_forward(self, Z):\n",
    "        \"\"\"Connects the previous later to the current layer using the\n",
    "            ReLU operation forward pass.\n",
    "            \n",
    "        Args:\n",
    "            Z (Tensor): An m by b tensor representing the pre-activations\n",
    "                from the previous layer for a batch of size b.\n",
    "        \n",
    "        Returns:\n",
    "            Tensor: An n by b tensor, A, representing the activations from\n",
    "                the current layer for a batch of size b. (Note: n and m \n",
    "                are equal.)\n",
    "                \n",
    "        \"\"\"\n",
    "        # We need these when computing the backward step later\n",
    "        self.Z = Z\n",
    "        self.A = tf.maximum(0.0, self.Z)\n",
    "        \n",
    "        return self.A\n",
    "    \n",
    "ReLU.build_forward = build_forward"
   ]
  },
  {
   "cell_type": "markdown",
   "metadata": {},
   "source": [
    "In the backward pass, we use the gradient of the loss with respect to the layer's activations $\\partial \\mathrm{Loss} / \\partial A$ to compute the gradient of the loss with respect to the previous layer's pre-activations $\\partial \\mathrm{Loss} / \\partial Z$."
   ]
  },
  {
   "cell_type": "code",
   "execution_count": 16,
   "metadata": {},
   "outputs": [],
   "source": [
    "    def build_backward(self, dLdA):\n",
    "        \"\"\"Connects the current layer to the next using the backward pass \n",
    "            process.\n",
    "            \n",
    "        Args:\n",
    "            dLdA (Tensor): An n by b tensor representing the gradient of\n",
    "                the loss with respect to the current layer's activations\n",
    "                for a batch of size b.\n",
    "        \n",
    "        Returns:\n",
    "            Tensor: An m by b tensor, dLdZ, representing the gradient of\n",
    "                the loss with respect to the previous layer's activations\n",
    "                for a batch of size b. (Note: n and m are equal.)\n",
    "        \n",
    "        \"\"\"\n",
    "        return tf.gradients(self.A, self.Z, dLdA)\n",
    "    \n",
    "ReLU.build_backward = build_backward"
   ]
  },
  {
   "cell_type": "markdown",
   "metadata": {},
   "source": [
    "### Hyperbolic Tangent Activation Layer\n",
    "\n",
    "This layer applies the hyperbolic tangent activation function to each input element-wise."
   ]
  },
  {
   "cell_type": "code",
   "execution_count": 17,
   "metadata": {},
   "outputs": [],
   "source": [
    "class Tanh(Layer):\n",
    "    \"\"\"Applies hyperbolic tangent activation function to all inputs.\"\"\""
   ]
  },
  {
   "cell_type": "markdown",
   "metadata": {},
   "source": [
    "There are no variables in this layer, thus we only need to worry about forward and backward passes. The forward pass takes the previous layer's pre-activation $Z$ and produces the activation $A$."
   ]
  },
  {
   "cell_type": "code",
   "execution_count": 18,
   "metadata": {},
   "outputs": [],
   "source": [
    "    def build_forward(self, Z):\n",
    "        \"\"\"Connects the previous layer to the current layer using the\n",
    "            backward pass process.\n",
    "        \n",
    "        Args:\n",
    "            Z (Tensor): An m by b tensor representing the previous layer's\n",
    "                pre-activation for a batch of size b.\n",
    "        \n",
    "        Returns:\n",
    "            Tensor: An n by b tensor, A, representing the layer's \n",
    "                activation for a batch of size b. (Note: m and n are\n",
    "                equal.)\n",
    "                \n",
    "        \"\"\"\n",
    "        # We need these when computing the backward step later\n",
    "        self.Z = Z\n",
    "        self.A = tf.tanh(self.Z)\n",
    "        \n",
    "        return self.A\n",
    "    \n",
    "Tanh.build_forward = build_forward"
   ]
  },
  {
   "cell_type": "markdown",
   "metadata": {},
   "source": [
    "The backward pass uses the gradient of the loss with respect to the layer's activation $\\partial \\mathrm{Loss} / \\partial A$ to compute the gradient of the loss with respect to the previous layer's pre-activation $\\partial \\mathrm{Loss} / \\partial Z$."
   ]
  },
  {
   "cell_type": "code",
   "execution_count": 19,
   "metadata": {},
   "outputs": [],
   "source": [
    "    def build_backward(self, dLdA):\n",
    "        \"\"\"Connects the next layer to the current layer using the\n",
    "            backward pass process.\n",
    "            \n",
    "        Args:\n",
    "            dLdA (Tensor): An n by b tensor representing the gradient of\n",
    "                the loss with respect to this layer's activation for a \n",
    "                batch of size b.\n",
    "                \n",
    "        Returns:\n",
    "            Tensor: An m by b tensor, dLdZ, representing the gradient of \n",
    "                the loss with respect to the previous layer's \n",
    "                pre-activation for a batch of size b. (Note: n and m are \n",
    "                equal.)\n",
    "                \n",
    "        \"\"\"\n",
    "        return tf.gradients(self.A, self.Z, dLdA)\n",
    "\n",
    "Tanh.build_backward = build_backward"
   ]
  },
  {
   "cell_type": "markdown",
   "metadata": {},
   "source": [
    "### Softmax Activation Layer\n",
    "\n",
    "This layer applies the softmax activation function to the inputs."
   ]
  },
  {
   "cell_type": "code",
   "execution_count": 20,
   "metadata": {},
   "outputs": [],
   "source": [
    "class Softmax(Layer):\n",
    "    \"\"\"Applies the softmax activation function to layer inputs.\"\"\""
   ]
  },
  {
   "cell_type": "markdown",
   "metadata": {},
   "source": [
    "As with the other activation layers, there are no variables to consider. The forward pass takes the previous layer's pre-activations $Z$ and computes the current layer's activation $A$."
   ]
  },
  {
   "cell_type": "code",
   "execution_count": 21,
   "metadata": {},
   "outputs": [],
   "source": [
    "    def build_forward(self, Z):\n",
    "        \"\"\"Connects the previous layer to the current layer using the\n",
    "            forward pass process.\n",
    "            \n",
    "        Args:\n",
    "            Z (Tensor): An m by b tensor representing the previous layer's\n",
    "                pre-activation for a batch of size b.\n",
    "        \n",
    "        Returns:\n",
    "            Tensor: An n by b tensor, A, representing the current layer's\n",
    "                activation for a batch of size b. (Note: m and n are\n",
    "                equal.)\n",
    "                \n",
    "        \"\"\"\n",
    "        # We need this activation when computing the backward step later\n",
    "        self.Z = Z\n",
    "        self.A = tf.exp(self.Z) / tf.reduce_sum(tf.exp(self.Z), axis=0, keepdims=True)\n",
    "        \n",
    "        return self.A\n",
    "    \n",
    "Softmax.build_forward = build_forward"
   ]
  },
  {
   "cell_type": "markdown",
   "metadata": {},
   "source": [
    "In the backward pass, we use the gradient of the loss with respect to the current layer's activations $\\partial \\mathrm{Loss} / \\partial A$ to compute the gradient of the loss with respect to the previous layer's pre-activations $\\partial \\mathrm{Loss} / \\partial Z$."
   ]
  },
  {
   "cell_type": "code",
   "execution_count": 22,
   "metadata": {},
   "outputs": [],
   "source": [
    "    def build_backward(self, dLdA):\n",
    "        \"\"\"Connects the next layer to the current layer using the\n",
    "            backward pass process.\n",
    "            \n",
    "        Args:\n",
    "            dLdA (Tensor): An n by b tensor representing the gradient of\n",
    "                the loss with respect to the current layer's activation.\n",
    "                \n",
    "        Returns:\n",
    "            Tensor: An m by b tensor, dLdZ, representing the gradient of \n",
    "                the loss with respect to the previous layer's \n",
    "                pre-activation. (Note: n and m are equal.)\n",
    "            \n",
    "        \"\"\"\n",
    "        return tf.gradients(self.A, self.Z, dLdA)\n",
    "    \n",
    "Softmax.build_backward = build_backward"
   ]
  },
  {
   "cell_type": "markdown",
   "metadata": {},
   "source": [
    "### Negative Log-Likelihood Multi-Class Loss Layer\n",
    "\n",
    "This layer computes the loss of the output of the network compared with the expected results."
   ]
  },
  {
   "cell_type": "code",
   "execution_count": 23,
   "metadata": {},
   "outputs": [],
   "source": [
    "class NLLM(Layer):\n",
    "    \"\"\"Computes the negative log-likelihood multi-class loss for neural\n",
    "        network outputs and expected outputs.\"\"\""
   ]
  },
  {
   "cell_type": "markdown",
   "metadata": {},
   "source": [
    "Like the activation layers, there are no variables to consider. The forward pass takes the neural network's final activations $A$ and the expected outputs\n",
    "$Y$ and computes the loss scalar."
   ]
  },
  {
   "cell_type": "code",
   "execution_count": 24,
   "metadata": {},
   "outputs": [],
   "source": [
    "    def build_forward(self, A, Y):\n",
    "        \"\"\"Connects the neural network to the loss layer using the forward \n",
    "            pass process.\n",
    "            \n",
    "        Args:\n",
    "            A (Tensor): An n by b tensor representing the neural network's\n",
    "                outputs for a batch of size b.\n",
    "            Y (Tensor): An n by b tensor representing the expected outputs\n",
    "                from the neural network for a batch of size b.\n",
    "        \n",
    "        Returns:\n",
    "            float: A scalar, L, which represents the loss of the neural\n",
    "                network for a batch of size b.\n",
    "        \n",
    "        \"\"\"\n",
    "        # We will need these later to compute the backward pass.\n",
    "        self.A = A\n",
    "        self.Y = Y\n",
    "        self.L = -tf.reduce_sum(self.Y * tf.log(self.A))\n",
    "        \n",
    "        return self.L\n",
    "    \n",
    "NLLM.build_forward = build_forward"
   ]
  },
  {
   "cell_type": "markdown",
   "metadata": {},
   "source": [
    "The backward pass computes the gradient of the loss with respect to the neural network's final activations $\\partial \\mathrm{Loss} / \\partial A$. Note, this is not immediately computing $\\partial \\mathrm{Loss} / \\partial Z$ by assuming softmax activations."
   ]
  },
  {
   "cell_type": "code",
   "execution_count": 25,
   "metadata": {},
   "outputs": [],
   "source": [
    "    def build_backward(self):\n",
    "        \"\"\"Starts off the whole backward pass process.\n",
    "        \n",
    "        Returns:\n",
    "            Tensor: An n by b tensor, dLdA, representing the gradient of\n",
    "                the loss with respect to the neural network's outputs.\n",
    "                \n",
    "        \"\"\"\n",
    "        return tf.gradients(self.L, self.A)\n",
    "\n",
    "NLLM.build_backward = build_backward"
   ]
  },
  {
   "cell_type": "markdown",
   "metadata": {},
   "source": [
    "### Accuracy Layer\n",
    "\n",
    "Unlike the NumPy implementation, we need to explicitly provide a layer that computes the accuracy (quite similar to the loss layer above). Any value we wish to compute from the neural network must be implemented in the graph."
   ]
  },
  {
   "cell_type": "code",
   "execution_count": 26,
   "metadata": {},
   "outputs": [],
   "source": [
    "class Accuracy(Layer):\n",
    "    \"\"\"Computes the accuracy of the current neural network outputs and\n",
    "        expected outputs.\"\"\""
   ]
  },
  {
   "cell_type": "markdown",
   "metadata": {},
   "source": [
    "We only care about the forward pass as nothing uses the gradient of the accuracy. The forward pass uses the network's current outputs $A$ and the expected outputs $Y$ to compute the accuracy."
   ]
  },
  {
   "cell_type": "code",
   "execution_count": 27,
   "metadata": {},
   "outputs": [],
   "source": [
    "    def build_forward(self, A, Y):\n",
    "        \"\"\"Connects the neural network to the accuracy layer using the forward\n",
    "            pass process.\n",
    "            \n",
    "        Args:\n",
    "            A (Tensor): An n by b tensor representing the neural network's\n",
    "                outputs for a batch of size b.\n",
    "            Y (Tensor): An n by b tensor representing the expected outputs\n",
    "                from the neural network for a batch of size b.\n",
    "        \n",
    "        Returns:\n",
    "            float: A scalar, acc, which represents the accuracy of the neural\n",
    "                network for a batch of size b.\n",
    "        \n",
    "        \"\"\"        \n",
    "        return tf.reduce_mean(tf.cast(tf.equal(tf.argmax(A, axis=0), tf.argmax(Y, axis=0)), tf.float32))\n",
    "    \n",
    "Accuracy.build_forward = build_forward"
   ]
  },
  {
   "cell_type": "markdown",
   "metadata": {},
   "source": [
    "## Model\n",
    "\n",
    "Now we have all the components to construct our neural network, but we need a model to connect them together.\n",
    "\n",
    "### Sequential Model\n",
    "\n",
    "The sequential model simply connects all the layer linearly."
   ]
  },
  {
   "cell_type": "code",
   "execution_count": 28,
   "metadata": {},
   "outputs": [],
   "source": [
    "class Sequential:\n",
    "    \"\"\"A standard neural network model with linearly stacked layers.\"\"\""
   ]
  },
  {
   "cell_type": "markdown",
   "metadata": {},
   "source": [
    "The first step to construct the model is to provide a list of layers. This is a little different from the NumPy implementation. From this list of layers, a graph is initialized for the model construction, and a graph session is initialized for training the model."
   ]
  },
  {
   "cell_type": "code",
   "execution_count": 29,
   "metadata": {},
   "outputs": [],
   "source": [
    "    def __init__(self, layers):\n",
    "        \"\"\"Initializes the model by saving the layers provided. Note the\n",
    "            model is not ready for training yet. Please call the build\n",
    "            method.\n",
    "            \n",
    "        Args:\n",
    "            layers (list of Layer): A list of layers in sequential order\n",
    "                to construct the model from.\n",
    "        \n",
    "        \"\"\"\n",
    "        self.layers = layers\n",
    "        \n",
    "        # When we build layer, we need to know input and output dimensions.\n",
    "        self.m = self.layers[0].m\n",
    "        self.n = self.layers[0].n\n",
    "        for layer in self.layers[1:]:\n",
    "            self.n = getattr(layer, 'n', self.n)\n",
    "        \n",
    "        # This is the static graph representing our model\n",
    "        self.graph = tf.Graph()\n",
    "        \n",
    "        # This is the runtime instance of our model\n",
    "        self.sess = tf.Session(graph=self.graph)\n",
    "\n",
    "Sequential.__init__ = __init__"
   ]
  },
  {
   "cell_type": "markdown",
   "metadata": {},
   "source": [
    "Before we can train, we need to construct the entire model graph from the provided layers. This is accomplished through a build method (similar to the compile method used in `tf.keras`)."
   ]
  },
  {
   "cell_type": "code",
   "execution_count": 30,
   "metadata": {},
   "outputs": [],
   "source": [
    "    def build(self, eta, loss, metrics):\n",
    "        \"\"\"Constructs the model's graph from the provided layers with the\n",
    "            specified loss and metrics.\n",
    "            \n",
    "        Args:\n",
    "            eta (float): A scalar representing the learning rate for\n",
    "                stochastic gradient descent.\n",
    "            loss (Layer): A layer used to construct the objective for\n",
    "                stochastic gradient descent.\n",
    "            metrics (list of Layers): A list of layers to use when\n",
    "                evaluating model performance.\n",
    "                \n",
    "        \"\"\"\n",
    "        # This ensures that the graph we add our variables to the graph\n",
    "        # unique to the model.\n",
    "        with self.graph.as_default():\n",
    "        \n",
    "            self.X = tf.placeholder(name='X', shape=(self.m, None), dtype=tf.float32)\n",
    "            self.Y = tf.placeholder(name='Y', shape=(self.n, None), dtype=tf.float32)\n",
    "\n",
    "            for layer in self.layers + [loss] + metrics:\n",
    "                layer.build()\n",
    "\n",
    "            self.forward = self.build_forward(self.X)\n",
    "            self.loss_forward = loss.build_forward(self.forward, self.Y)\n",
    "            self.metrics_forward = tf.tuple([metric.build_forward(self.forward, self.Y) for metric in metrics])\n",
    "\n",
    "            loss_backward = loss.build_backward()\n",
    "            self.build_backward(loss_backward)\n",
    "\n",
    "            self.build_sgd_step(eta)\n",
    "            \n",
    "            initializer = tf.global_variables_initializer()\n",
    "        \n",
    "        # This initializes the variables in our graph using the current \n",
    "        # instance session\n",
    "        self.sess.run(initializer)\n",
    "        \n",
    "Sequential.build = build"
   ]
  },
  {
   "cell_type": "markdown",
   "metadata": {},
   "source": [
    "There are various helper methods called by the build method similar to those used in training in the NumPy implementation. The first is `build_forward`. This method constructs the entire forward pass and saves a handle to the operation in `self.forward`. Note that this does not return a value!"
   ]
  },
  {
   "cell_type": "code",
   "execution_count": 31,
   "metadata": {},
   "outputs": [],
   "source": [
    "    def build_forward(self, X):\n",
    "        \"\"\"Constructs the entire forward pass for the network by \n",
    "            connecting each layer together.\n",
    "        \n",
    "        Args:\n",
    "            X (Tensor): An m by b tensor representing the placeholder \n",
    "                inputs to the neural network for a batch of size b.\n",
    "                \n",
    "        Returns:\n",
    "            Tensor: An n by b tensor representing the final output of the \n",
    "                neural network for a batch of size b to be evaluated in a \n",
    "                graph session.\n",
    "                \n",
    "        \"\"\"        \n",
    "        self.forward = X\n",
    "        for layer in self.layers:\n",
    "            self.forward = layer.build_forward(self.forward)\n",
    "        \n",
    "        return self.forward\n",
    "\n",
    "Sequential.build_forward = build_forward"
   ]
  },
  {
   "cell_type": "markdown",
   "metadata": {},
   "source": [
    "The `build_backward` method constructs the entire backward pass of the network to compute the gradients for the training step later on."
   ]
  },
  {
   "cell_type": "code",
   "execution_count": 32,
   "metadata": {},
   "outputs": [],
   "source": [
    "    def build_backward(self, dL):\n",
    "        \"\"\"Constructs the neural network's backward pass by connecting \n",
    "            each layer together.\n",
    "            \n",
    "        Args:\n",
    "            dL (Tensor): An n by b tensor representing the gradient of the\n",
    "                loss with respect to the output of the neural network.\n",
    "                \n",
    "        \"\"\"        \n",
    "        for layer in self.layers[::-1]:\n",
    "            dL = layer.build_backward(dL)\n",
    "    \n",
    "Sequential.build_backward = build_backward"
   ]
  },
  {
   "cell_type": "markdown",
   "metadata": {},
   "source": [
    "To train the model, we need to construct an operation that updates all the weights within the model. This is accomplished by the `build_sgd_step` method which iterates all `sgd_step` methods in the layers and groups together the ones which have weights to update. When `self.sgd_step` is called later, these updates will take place in parallel."
   ]
  },
  {
   "cell_type": "code",
   "execution_count": 33,
   "metadata": {},
   "outputs": [],
   "source": [
    "    def build_sgd_step(self, eta):\n",
    "        \"\"\"Constructs the stochastic gradient descent training update step \n",
    "            for the entire neural network.\n",
    "            \n",
    "        Args:\n",
    "            eta (float): A learning rate for stochastic gradient descent.\n",
    "            \n",
    "        Returns:\n",
    "            Operation: An operation that executes each layer's stochastic\n",
    "                gradient descent update step in parallel.\n",
    "                \n",
    "        \"\"\"        \n",
    "        sgd_steps = [layer.build_sgd_step(eta) for layer in self.layers]\n",
    "        self.sgd_step = tf.group(*[sgd_step for sgd_step in sgd_steps if sgd_step is not None])\n",
    "        \n",
    "        return self.sgd_step\n",
    "    \n",
    "Sequential.build_sgd_step = build_sgd_step"
   ]
  },
  {
   "cell_type": "markdown",
   "metadata": {},
   "source": [
    "Now our entire graph is constructed. To train the model, we use the `sgd` method. In this method, since the logic is saved in the graph from the `build` method, we just need to execute the training operation."
   ]
  },
  {
   "cell_type": "code",
   "execution_count": 34,
   "metadata": {},
   "outputs": [],
   "source": [
    "    def sgd(self, X_train, Y_train, epochs=100):\n",
    "        \"\"\"Performs stochastic gradient descent on the model.\n",
    "        \n",
    "        Args:\n",
    "            X_train (ndarray): A d by n NumPy array representing n input\n",
    "                training points each with d features.\n",
    "            Y_train (ndarray): A c by n NumPy array representing n output\n",
    "                training points each with c features.\n",
    "            epochs (int): Number of iterations to run stochastic gradient\n",
    "                descent.\n",
    "                \n",
    "        \"\"\"\n",
    "        _, n = X_train.shape\n",
    "        \n",
    "        for epoch in range(epochs):\n",
    "\n",
    "            t = np.random.randint(n)\n",
    "            \n",
    "            Xt = X_train[:, t:t + 1]\n",
    "            Yt = Y_train[:, t:t + 1]\n",
    "\n",
    "            self.sess.run(self.sgd_step, feed_dict={ self.X: Xt, self.Y: Yt })\n",
    "            \n",
    "            if epoch % 250 == 1:\n",
    "                \n",
    "                metrics_eval = self.sess.run(self.metrics_forward, feed_dict={ self.X: X_train, self.Y: Y_train })\n",
    "                print('Iteration =', epoch, '\\tAcc =', metrics_eval[1], '\\tLoss =', metrics_eval[0], flush=True)\n",
    "\n",
    "Sequential.sgd = sgd"
   ]
  },
  {
   "cell_type": "markdown",
   "metadata": {},
   "source": [
    "Unlike the NumPy implementation where the `forward` method could be used for prediction, the TensorFlow implementation needs the execution to take place within a graph session. So, we wrap the forward result in a prediction method."
   ]
  },
  {
   "cell_type": "code",
   "execution_count": 35,
   "metadata": {},
   "outputs": [],
   "source": [
    "    def predict(self, X):\n",
    "        \"\"\"Returns the output from the forward pass.\n",
    "        \n",
    "        Args:\n",
    "            X (ndarray): A d by n NumPy array representing n points each\n",
    "                with d features to predict outputs.\n",
    "                \n",
    "        Returns:\n",
    "            ndarray: A c by n NumPy array representing the outputs from\n",
    "                n points each with c features.\n",
    "                \n",
    "        \"\"\"\n",
    "        return self.sess.run(self.forward, feed_dict={ self.X: X })\n",
    "    \n",
    "Sequential.predict = predict"
   ]
  },
  {
   "cell_type": "markdown",
   "metadata": {},
   "source": [
    "## Training\n",
    "\n",
    "Our model is complete! Let's train it on some data and see how will it can classify. We will use the standard 'hard' data set used previously."
   ]
  },
  {
   "cell_type": "code",
   "execution_count": 36,
   "metadata": {},
   "outputs": [],
   "source": [
    "X = np.array([[-0.23390341,  1.18151883, -2.46493986,  1.55322202,  1.27621763,\n",
    "                2.39710997, -1.34403040, -0.46903436, -0.64673502, -1.44029872,\n",
    "               -1.37537243,  1.05994811, -0.93311512,  1.02735575, -0.84138778,\n",
    "               -2.22585412, -0.42591102,  1.03561105,  0.91125595, -2.26550369],\n",
    "              [-0.92254932, -1.10309630, -2.41956036, -1.15509002, -1.04805327,\n",
    "                0.08717325,  0.81847250, -0.75171045,  0.60664705,  0.80410947,\n",
    "               -0.11600488,  1.03747218, -0.67210575,  0.99944446, -0.65559838,\n",
    "               -0.40744784, -0.58367642,  1.05972780, -0.95991874, -1.41720255]])\n",
    "\n",
    "Y = np.array([[0., 0., 1., 0., 0., 0., 1., 1., 1., 1., 1., 0., 0., 0., 1., 1., 1., 0., 0., 1.],\n",
    "              [1., 1., 0., 1., 1., 1., 0., 0., 0., 0., 0., 1., 1., 1., 0., 0., 0., 1., 1., 0.]])"
   ]
  },
  {
   "cell_type": "markdown",
   "metadata": {},
   "source": [
    "Let's start by taking a look at our data."
   ]
  },
  {
   "cell_type": "code",
   "execution_count": 37,
   "metadata": {},
   "outputs": [
    {
     "data": {
      "image/png": "[encoded data removed]",
      "text/plain": [
       "<Figure size 432x288 with 1 Axes>"
      ]
     },
     "metadata": {
      "needs_background": "light"
     },
     "output_type": "display_data"
    }
   ],
   "source": [
    "_ = plt.scatter(X[0,:], X[1,:], c=Y[1,:], cmap=ListedColormap(['#1f77b4', '#ff7f0e']))"
   ]
  },
  {
   "cell_type": "markdown",
   "metadata": {},
   "source": [
    "Now we can construct a neural network we think might be able to classify these points."
   ]
  },
  {
   "cell_type": "code",
   "execution_count": 38,
   "metadata": {},
   "outputs": [],
   "source": [
    "model = Sequential([Linear(2, 10), ReLU(),\n",
    "                    Linear(10, 10), ReLU(),\n",
    "                    Linear(10, 2), Softmax()])"
   ]
  },
  {
   "cell_type": "markdown",
   "metadata": {},
   "source": [
    "Don't forget that we need to build the model before we use it!"
   ]
  },
  {
   "cell_type": "code",
   "execution_count": 39,
   "metadata": {},
   "outputs": [
    {
     "name": "stderr",
     "output_type": "stream",
     "text": [
      "WARNING: Logging before flag parsing goes to stderr.\n",
      "W0329 15:23:48.359951 140358685783872 deprecation.py:506] From /usr/local/lib/python3.6/dist-packages/tensorflow/python/ops/variable_scope.py:883: calling Zeros.__init__ (from tensorflow.python.ops.init_ops) with dtype is deprecated and will be removed in a future version.\n",
      "Instructions for updating:\n",
      "Call initializer instance with the dtype argument instead of passing it to the constructor\n"
     ]
    }
   ],
   "source": [
    "model.build(0.005, NLLM(), [NLLM(), Accuracy()])"
   ]
  },
  {
   "cell_type": "markdown",
   "metadata": {},
   "source": [
    "Let's try training the model on the data for a few thousand iterations."
   ]
  },
  {
   "cell_type": "code",
   "execution_count": 40,
   "metadata": {
    "scrolled": true
   },
   "outputs": [
    {
     "name": "stdout",
     "output_type": "stream",
     "text": [
      "Iteration = 1 \tAcc = 0.5 \tLoss = 16.80885\n",
      "Iteration = 251 \tAcc = 0.9 \tLoss = 8.106577\n",
      "Iteration = 501 \tAcc = 0.95 \tLoss = 5.964357\n",
      "Iteration = 751 \tAcc = 0.95 \tLoss = 5.0750427\n",
      "Iteration = 1001 \tAcc = 0.95 \tLoss = 4.6154084\n",
      "Iteration = 1251 \tAcc = 0.95 \tLoss = 4.238059\n",
      "Iteration = 1501 \tAcc = 0.95 \tLoss = 4.0719414\n",
      "Iteration = 1751 \tAcc = 0.95 \tLoss = 3.9164119\n",
      "Iteration = 2001 \tAcc = 0.95 \tLoss = 3.741921\n",
      "Iteration = 2251 \tAcc = 0.95 \tLoss = 3.6161017\n",
      "Iteration = 2501 \tAcc = 0.95 \tLoss = 3.4974232\n",
      "Iteration = 2751 \tAcc = 0.95 \tLoss = 3.4058862\n",
      "Iteration = 3001 \tAcc = 0.95 \tLoss = 3.3578956\n",
      "Iteration = 3251 \tAcc = 0.95 \tLoss = 3.3180401\n",
      "Iteration = 3501 \tAcc = 0.95 \tLoss = 3.2581716\n",
      "Iteration = 3751 \tAcc = 0.95 \tLoss = 3.2173119\n",
      "Iteration = 4001 \tAcc = 0.95 \tLoss = 3.2245126\n",
      "Iteration = 4251 \tAcc = 0.95 \tLoss = 3.4760594\n",
      "Iteration = 4501 \tAcc = 0.95 \tLoss = 3.1802528\n",
      "Iteration = 4751 \tAcc = 0.95 \tLoss = 3.1406689\n",
      "Iteration = 5001 \tAcc = 0.95 \tLoss = 3.0777516\n",
      "Iteration = 5251 \tAcc = 0.95 \tLoss = 3.1645842\n",
      "Iteration = 5501 \tAcc = 0.95 \tLoss = 3.0160925\n",
      "Iteration = 5751 \tAcc = 0.95 \tLoss = 3.0152292\n",
      "Iteration = 6001 \tAcc = 0.95 \tLoss = 3.0181127\n",
      "Iteration = 6251 \tAcc = 0.95 \tLoss = 2.9311974\n",
      "Iteration = 6501 \tAcc = 0.95 \tLoss = 3.0718079\n",
      "Iteration = 6751 \tAcc = 0.95 \tLoss = 2.8439867\n",
      "Iteration = 7001 \tAcc = 0.95 \tLoss = 2.8115764\n",
      "Iteration = 7251 \tAcc = 0.95 \tLoss = 2.775648\n",
      "Iteration = 7501 \tAcc = 0.95 \tLoss = 2.8583283\n",
      "Iteration = 7751 \tAcc = 0.95 \tLoss = 2.7037458\n",
      "Iteration = 8001 \tAcc = 0.95 \tLoss = 2.678185\n",
      "Iteration = 8251 \tAcc = 0.95 \tLoss = 2.8514748\n",
      "Iteration = 8501 \tAcc = 0.95 \tLoss = 2.6425729\n",
      "Iteration = 8751 \tAcc = 0.95 \tLoss = 2.6070955\n",
      "Iteration = 9001 \tAcc = 0.95 \tLoss = 2.7275536\n",
      "Iteration = 9251 \tAcc = 0.95 \tLoss = 2.6676733\n",
      "Iteration = 9501 \tAcc = 0.95 \tLoss = 2.4895086\n",
      "Iteration = 9751 \tAcc = 0.95 \tLoss = 2.5591638\n",
      "Iteration = 10001 \tAcc = 0.95 \tLoss = 2.459353\n",
      "Iteration = 10251 \tAcc = 0.95 \tLoss = 2.421443\n",
      "Iteration = 10501 \tAcc = 0.95 \tLoss = 2.4502184\n",
      "Iteration = 10751 \tAcc = 0.95 \tLoss = 2.4535842\n",
      "Iteration = 11001 \tAcc = 0.95 \tLoss = 2.3300724\n",
      "Iteration = 11251 \tAcc = 0.95 \tLoss = 2.301009\n",
      "Iteration = 11501 \tAcc = 0.95 \tLoss = 2.275131\n",
      "Iteration = 11751 \tAcc = 0.95 \tLoss = 2.27663\n",
      "Iteration = 12001 \tAcc = 0.95 \tLoss = 2.20142\n",
      "Iteration = 12251 \tAcc = 0.95 \tLoss = 2.2266107\n",
      "Iteration = 12501 \tAcc = 0.95 \tLoss = 2.1525526\n",
      "Iteration = 12751 \tAcc = 0.95 \tLoss = 2.117722\n",
      "Iteration = 13001 \tAcc = 0.95 \tLoss = 2.0708961\n",
      "Iteration = 13251 \tAcc = 0.95 \tLoss = 2.0319033\n",
      "Iteration = 13501 \tAcc = 0.95 \tLoss = 2.0427408\n",
      "Iteration = 13751 \tAcc = 0.95 \tLoss = 1.9813011\n",
      "Iteration = 14001 \tAcc = 0.95 \tLoss = 1.9562446\n",
      "Iteration = 14251 \tAcc = 0.95 \tLoss = 1.923716\n",
      "Iteration = 14501 \tAcc = 0.95 \tLoss = 1.9316293\n",
      "Iteration = 14751 \tAcc = 0.95 \tLoss = 1.9336188\n",
      "Iteration = 15001 \tAcc = 0.95 \tLoss = 1.8372194\n",
      "Iteration = 15251 \tAcc = 0.95 \tLoss = 1.8544244\n",
      "Iteration = 15501 \tAcc = 0.95 \tLoss = 1.9748416\n",
      "Iteration = 15751 \tAcc = 0.95 \tLoss = 1.7749302\n",
      "Iteration = 16001 \tAcc = 0.95 \tLoss = 1.794237\n",
      "Iteration = 16251 \tAcc = 0.95 \tLoss = 1.7895548\n",
      "Iteration = 16501 \tAcc = 1.0 \tLoss = 1.8055584\n",
      "Iteration = 16751 \tAcc = 0.95 \tLoss = 1.6825157\n",
      "Iteration = 17001 \tAcc = 0.95 \tLoss = 1.7907956\n",
      "Iteration = 17251 \tAcc = 0.95 \tLoss = 1.6428363\n",
      "Iteration = 17501 \tAcc = 0.95 \tLoss = 1.7185409\n",
      "Iteration = 17751 \tAcc = 0.95 \tLoss = 1.7383183\n",
      "Iteration = 18001 \tAcc = 0.95 \tLoss = 1.5775203\n",
      "Iteration = 18251 \tAcc = 0.95 \tLoss = 1.708508\n",
      "Iteration = 18501 \tAcc = 0.95 \tLoss = 1.5548327\n",
      "Iteration = 18751 \tAcc = 0.95 \tLoss = 1.6266851\n",
      "Iteration = 19001 \tAcc = 0.95 \tLoss = 1.536576\n",
      "Iteration = 19251 \tAcc = 1.0 \tLoss = 1.4978918\n",
      "Iteration = 19501 \tAcc = 0.95 \tLoss = 1.6335714\n",
      "Iteration = 19751 \tAcc = 0.95 \tLoss = 1.5628197\n",
      "Iteration = 20001 \tAcc = 0.95 \tLoss = 1.8249158\n",
      "Iteration = 20251 \tAcc = 0.95 \tLoss = 1.8284293\n",
      "Iteration = 20501 \tAcc = 0.95 \tLoss = 1.4543415\n",
      "Iteration = 20751 \tAcc = 1.0 \tLoss = 1.3912796\n",
      "Iteration = 21001 \tAcc = 0.95 \tLoss = 1.3948351\n",
      "Iteration = 21251 \tAcc = 0.95 \tLoss = 1.4042717\n",
      "Iteration = 21501 \tAcc = 0.95 \tLoss = 1.3856244\n",
      "Iteration = 21751 \tAcc = 0.95 \tLoss = 1.6468982\n",
      "Iteration = 22001 \tAcc = 0.95 \tLoss = 1.396341\n",
      "Iteration = 22251 \tAcc = 1.0 \tLoss = 1.3115096\n",
      "Iteration = 22501 \tAcc = 0.95 \tLoss = 1.4116309\n",
      "Iteration = 22751 \tAcc = 1.0 \tLoss = 1.2854788\n",
      "Iteration = 23001 \tAcc = 0.95 \tLoss = 1.3162661\n",
      "Iteration = 23251 \tAcc = 0.95 \tLoss = 1.4590614\n",
      "Iteration = 23501 \tAcc = 0.95 \tLoss = 1.3492926\n",
      "Iteration = 23751 \tAcc = 0.95 \tLoss = 1.4126143\n",
      "Iteration = 24001 \tAcc = 1.0 \tLoss = 1.2465429\n",
      "Iteration = 24251 \tAcc = 1.0 \tLoss = 1.2307115\n",
      "Iteration = 24501 \tAcc = 1.0 \tLoss = 1.2246065\n",
      "Iteration = 24751 \tAcc = 0.95 \tLoss = 1.2759799\n",
      "Iteration = 25001 \tAcc = 0.95 \tLoss = 1.6450528\n",
      "Iteration = 25251 \tAcc = 1.0 \tLoss = 1.1968982\n",
      "Iteration = 25501 \tAcc = 1.0 \tLoss = 1.2223614\n",
      "Iteration = 25751 \tAcc = 0.95 \tLoss = 1.3285441\n",
      "Iteration = 26001 \tAcc = 1.0 \tLoss = 1.1820364\n",
      "Iteration = 26251 \tAcc = 0.95 \tLoss = 1.3819294\n",
      "Iteration = 26501 \tAcc = 1.0 \tLoss = 1.1808382\n",
      "Iteration = 26751 \tAcc = 1.0 \tLoss = 1.173673\n",
      "Iteration = 27001 \tAcc = 0.95 \tLoss = 1.2502309\n",
      "Iteration = 27251 \tAcc = 1.0 \tLoss = 1.124046\n",
      "Iteration = 27501 \tAcc = 1.0 \tLoss = 1.1160746\n",
      "Iteration = 27751 \tAcc = 0.95 \tLoss = 1.1636277\n",
      "Iteration = 28001 \tAcc = 0.95 \tLoss = 1.163046\n",
      "Iteration = 28251 \tAcc = 1.0 \tLoss = 1.0980406\n",
      "Iteration = 28501 \tAcc = 1.0 \tLoss = 1.1008714\n",
      "Iteration = 28751 \tAcc = 1.0 \tLoss = 1.0874966\n",
      "Iteration = 29001 \tAcc = 0.95 \tLoss = 1.3032815\n",
      "Iteration = 29251 \tAcc = 0.95 \tLoss = 1.4355252\n",
      "Iteration = 29501 \tAcc = 1.0 \tLoss = 1.0930008\n",
      "Iteration = 29751 \tAcc = 0.95 \tLoss = 1.1009765\n",
      "Iteration = 30001 \tAcc = 1.0 \tLoss = 1.0688583\n",
      "Iteration = 30251 \tAcc = 0.95 \tLoss = 1.1373509\n",
      "Iteration = 30501 \tAcc = 1.0 \tLoss = 1.0418922\n",
      "Iteration = 30751 \tAcc = 0.95 \tLoss = 1.1003124\n",
      "Iteration = 31001 \tAcc = 1.0 \tLoss = 1.0208737\n",
      "Iteration = 31251 \tAcc = 1.0 \tLoss = 1.0535704\n",
      "Iteration = 31501 \tAcc = 1.0 \tLoss = 0.99749696\n",
      "Iteration = 31751 \tAcc = 1.0 \tLoss = 1.012509\n",
      "Iteration = 32001 \tAcc = 1.0 \tLoss = 0.9913898\n",
      "Iteration = 32251 \tAcc = 0.95 \tLoss = 1.2038702\n",
      "Iteration = 32501 \tAcc = 1.0 \tLoss = 0.9978819\n",
      "Iteration = 32751 \tAcc = 1.0 \tLoss = 0.99803084\n",
      "Iteration = 33001 \tAcc = 1.0 \tLoss = 0.98362887\n",
      "Iteration = 33251 \tAcc = 1.0 \tLoss = 0.95376617\n",
      "Iteration = 33501 \tAcc = 1.0 \tLoss = 0.9482417\n",
      "Iteration = 33751 \tAcc = 1.0 \tLoss = 0.9563088\n",
      "Iteration = 34001 \tAcc = 0.95 \tLoss = 1.169764\n",
      "Iteration = 34251 \tAcc = 1.0 \tLoss = 0.99569255\n",
      "Iteration = 34501 \tAcc = 0.95 \tLoss = 1.0212737\n",
      "Iteration = 34751 \tAcc = 0.95 \tLoss = 1.037912\n",
      "Iteration = 35001 \tAcc = 0.95 \tLoss = 1.0393901\n",
      "Iteration = 35251 \tAcc = 0.95 \tLoss = 1.0632148\n",
      "Iteration = 35501 \tAcc = 0.95 \tLoss = 1.0361444\n",
      "Iteration = 35751 \tAcc = 0.95 \tLoss = 1.6097554\n",
      "Iteration = 36001 \tAcc = 0.95 \tLoss = 1.0512143\n",
      "Iteration = 36251 \tAcc = 1.0 \tLoss = 0.8719379\n",
      "Iteration = 36501 \tAcc = 1.0 \tLoss = 0.8876509\n",
      "Iteration = 36751 \tAcc = 1.0 \tLoss = 0.8979771\n",
      "Iteration = 37001 \tAcc = 1.0 \tLoss = 0.85845554\n",
      "Iteration = 37251 \tAcc = 1.0 \tLoss = 0.8510735\n",
      "Iteration = 37501 \tAcc = 1.0 \tLoss = 0.83834195\n",
      "Iteration = 37751 \tAcc = 1.0 \tLoss = 0.8403548\n",
      "Iteration = 38001 \tAcc = 1.0 \tLoss = 0.8844849\n",
      "Iteration = 38251 \tAcc = 1.0 \tLoss = 0.8192713\n",
      "Iteration = 38501 \tAcc = 1.0 \tLoss = 0.8231427\n",
      "Iteration = 38751 \tAcc = 1.0 \tLoss = 0.84119344\n",
      "Iteration = 39001 \tAcc = 0.95 \tLoss = 1.0060354\n",
      "Iteration = 39251 \tAcc = 0.95 \tLoss = 0.98021173\n",
      "Iteration = 39501 \tAcc = 1.0 \tLoss = 0.8372174\n",
      "Iteration = 39751 \tAcc = 1.0 \tLoss = 0.7733441\n",
      "Iteration = 40001 \tAcc = 1.0 \tLoss = 0.7853753\n",
      "Iteration = 40251 \tAcc = 1.0 \tLoss = 0.8207557\n",
      "Iteration = 40501 \tAcc = 1.0 \tLoss = 0.7966478\n",
      "Iteration = 40751 \tAcc = 1.0 \tLoss = 0.8307925\n",
      "Iteration = 41001 \tAcc = 1.0 \tLoss = 0.8208803\n",
      "Iteration = 41251 \tAcc = 0.95 \tLoss = 1.128186\n",
      "Iteration = 41501 \tAcc = 1.0 \tLoss = 0.77666277\n",
      "Iteration = 41751 \tAcc = 1.0 \tLoss = 0.7254032\n",
      "Iteration = 42001 \tAcc = 1.0 \tLoss = 0.726385\n",
      "Iteration = 42251 \tAcc = 0.95 \tLoss = 0.9324345\n",
      "Iteration = 42501 \tAcc = 1.0 \tLoss = 0.70633787\n",
      "Iteration = 42751 \tAcc = 1.0 \tLoss = 0.8392246\n",
      "Iteration = 43001 \tAcc = 1.0 \tLoss = 0.71423894\n",
      "Iteration = 43251 \tAcc = 1.0 \tLoss = 0.7492435\n"
     ]
    },
    {
     "name": "stdout",
     "output_type": "stream",
     "text": [
      "Iteration = 43501 \tAcc = 1.0 \tLoss = 0.6841589\n",
      "Iteration = 43751 \tAcc = 0.95 \tLoss = 0.88006616\n",
      "Iteration = 44001 \tAcc = 1.0 \tLoss = 0.83676684\n",
      "Iteration = 44251 \tAcc = 1.0 \tLoss = 0.6559353\n",
      "Iteration = 44501 \tAcc = 1.0 \tLoss = 0.7259043\n",
      "Iteration = 44751 \tAcc = 1.0 \tLoss = 0.70780957\n",
      "Iteration = 45001 \tAcc = 1.0 \tLoss = 0.6682442\n",
      "Iteration = 45251 \tAcc = 1.0 \tLoss = 0.8413788\n",
      "Iteration = 45501 \tAcc = 0.95 \tLoss = 0.9053521\n",
      "Iteration = 45751 \tAcc = 1.0 \tLoss = 0.63975817\n",
      "Iteration = 46001 \tAcc = 1.0 \tLoss = 0.6091696\n",
      "Iteration = 46251 \tAcc = 1.0 \tLoss = 0.63857436\n",
      "Iteration = 46501 \tAcc = 1.0 \tLoss = 0.7043293\n",
      "Iteration = 46751 \tAcc = 1.0 \tLoss = 0.8184035\n",
      "Iteration = 47001 \tAcc = 1.0 \tLoss = 0.80500966\n",
      "Iteration = 47251 \tAcc = 1.0 \tLoss = 0.6176406\n",
      "Iteration = 47501 \tAcc = 0.95 \tLoss = 0.87942064\n",
      "Iteration = 47751 \tAcc = 1.0 \tLoss = 0.58522874\n",
      "Iteration = 48001 \tAcc = 1.0 \tLoss = 0.5904225\n",
      "Iteration = 48251 \tAcc = 1.0 \tLoss = 0.5562307\n",
      "Iteration = 48501 \tAcc = 0.95 \tLoss = 0.86717296\n",
      "Iteration = 48751 \tAcc = 1.0 \tLoss = 0.54283917\n",
      "Iteration = 49001 \tAcc = 1.0 \tLoss = 0.62291944\n",
      "Iteration = 49251 \tAcc = 1.0 \tLoss = 0.5882184\n",
      "Iteration = 49501 \tAcc = 1.0 \tLoss = 0.5350394\n",
      "Iteration = 49751 \tAcc = 1.0 \tLoss = 0.7513954\n",
      "Iteration = 50001 \tAcc = 1.0 \tLoss = 0.7264262\n",
      "Iteration = 50251 \tAcc = 1.0 \tLoss = 0.53142834\n",
      "Iteration = 50501 \tAcc = 1.0 \tLoss = 0.6765505\n",
      "Iteration = 50751 \tAcc = 1.0 \tLoss = 0.5227746\n",
      "Iteration = 51001 \tAcc = 0.95 \tLoss = 0.9137712\n",
      "Iteration = 51251 \tAcc = 1.0 \tLoss = 0.5339562\n",
      "Iteration = 51501 \tAcc = 1.0 \tLoss = 0.6099497\n",
      "Iteration = 51751 \tAcc = 1.0 \tLoss = 0.7846712\n",
      "Iteration = 52001 \tAcc = 1.0 \tLoss = 0.5474162\n",
      "Iteration = 52251 \tAcc = 1.0 \tLoss = 0.48149163\n",
      "Iteration = 52501 \tAcc = 1.0 \tLoss = 0.4641979\n",
      "Iteration = 52751 \tAcc = 1.0 \tLoss = 0.63605225\n",
      "Iteration = 53001 \tAcc = 1.0 \tLoss = 0.48547417\n",
      "Iteration = 53251 \tAcc = 1.0 \tLoss = 0.51606005\n",
      "Iteration = 53501 \tAcc = 1.0 \tLoss = 0.4534154\n",
      "Iteration = 53751 \tAcc = 1.0 \tLoss = 0.4522344\n",
      "Iteration = 54001 \tAcc = 1.0 \tLoss = 0.43979973\n",
      "Iteration = 54251 \tAcc = 1.0 \tLoss = 0.5844468\n",
      "Iteration = 54501 \tAcc = 1.0 \tLoss = 0.41961777\n",
      "Iteration = 54751 \tAcc = 1.0 \tLoss = 0.42950067\n",
      "Iteration = 55001 \tAcc = 1.0 \tLoss = 0.4595258\n",
      "Iteration = 55251 \tAcc = 1.0 \tLoss = 0.46259874\n",
      "Iteration = 55501 \tAcc = 1.0 \tLoss = 0.40090474\n",
      "Iteration = 55751 \tAcc = 1.0 \tLoss = 0.5787946\n",
      "Iteration = 56001 \tAcc = 1.0 \tLoss = 0.38935924\n",
      "Iteration = 56251 \tAcc = 1.0 \tLoss = 0.42186692\n",
      "Iteration = 56501 \tAcc = 1.0 \tLoss = 0.49795866\n",
      "Iteration = 56751 \tAcc = 1.0 \tLoss = 0.39645898\n",
      "Iteration = 57001 \tAcc = 1.0 \tLoss = 0.37947547\n",
      "Iteration = 57251 \tAcc = 1.0 \tLoss = 0.5140275\n",
      "Iteration = 57501 \tAcc = 1.0 \tLoss = 0.5600209\n",
      "Iteration = 57751 \tAcc = 1.0 \tLoss = 0.44132793\n",
      "Iteration = 58001 \tAcc = 1.0 \tLoss = 0.41369668\n",
      "Iteration = 58251 \tAcc = 1.0 \tLoss = 0.43037972\n",
      "Iteration = 58501 \tAcc = 1.0 \tLoss = 0.4433318\n",
      "Iteration = 58751 \tAcc = 1.0 \tLoss = 0.5704219\n",
      "Iteration = 59001 \tAcc = 1.0 \tLoss = 0.4900237\n",
      "Iteration = 59251 \tAcc = 1.0 \tLoss = 0.42393285\n",
      "Iteration = 59501 \tAcc = 1.0 \tLoss = 0.40396148\n",
      "Iteration = 59751 \tAcc = 1.0 \tLoss = 0.33052757\n",
      "Iteration = 60001 \tAcc = 1.0 \tLoss = 0.39815706\n",
      "Iteration = 60251 \tAcc = 1.0 \tLoss = 0.33644223\n",
      "Iteration = 60501 \tAcc = 1.0 \tLoss = 0.35153306\n",
      "Iteration = 60751 \tAcc = 1.0 \tLoss = 0.33043396\n",
      "Iteration = 61001 \tAcc = 1.0 \tLoss = 0.3705209\n",
      "Iteration = 61251 \tAcc = 1.0 \tLoss = 0.31095365\n",
      "Iteration = 61501 \tAcc = 1.0 \tLoss = 0.32239923\n",
      "Iteration = 61751 \tAcc = 1.0 \tLoss = 0.38902625\n",
      "Iteration = 62001 \tAcc = 1.0 \tLoss = 0.43806586\n",
      "Iteration = 62251 \tAcc = 1.0 \tLoss = 0.3044486\n",
      "Iteration = 62501 \tAcc = 1.0 \tLoss = 0.29100454\n",
      "Iteration = 62751 \tAcc = 1.0 \tLoss = 0.35797977\n",
      "Iteration = 63001 \tAcc = 1.0 \tLoss = 0.33944812\n",
      "Iteration = 63251 \tAcc = 1.0 \tLoss = 0.32298183\n",
      "Iteration = 63501 \tAcc = 1.0 \tLoss = 0.3748222\n",
      "Iteration = 63751 \tAcc = 1.0 \tLoss = 0.2771552\n",
      "Iteration = 64001 \tAcc = 1.0 \tLoss = 0.3306625\n",
      "Iteration = 64251 \tAcc = 1.0 \tLoss = 0.27425206\n",
      "Iteration = 64501 \tAcc = 1.0 \tLoss = 0.2865693\n",
      "Iteration = 64751 \tAcc = 1.0 \tLoss = 0.26969808\n",
      "Iteration = 65001 \tAcc = 1.0 \tLoss = 0.27113557\n",
      "Iteration = 65251 \tAcc = 1.0 \tLoss = 0.27457845\n",
      "Iteration = 65501 \tAcc = 1.0 \tLoss = 0.26190284\n",
      "Iteration = 65751 \tAcc = 1.0 \tLoss = 0.34103882\n",
      "Iteration = 66001 \tAcc = 1.0 \tLoss = 0.24660128\n",
      "Iteration = 66251 \tAcc = 1.0 \tLoss = 0.41391796\n",
      "Iteration = 66501 \tAcc = 1.0 \tLoss = 0.259452\n",
      "Iteration = 66751 \tAcc = 1.0 \tLoss = 0.34192926\n",
      "Iteration = 67001 \tAcc = 1.0 \tLoss = 0.25858602\n",
      "Iteration = 67251 \tAcc = 1.0 \tLoss = 0.3268989\n",
      "Iteration = 67501 \tAcc = 1.0 \tLoss = 0.28808966\n",
      "Iteration = 67751 \tAcc = 1.0 \tLoss = 0.2576856\n",
      "Iteration = 68001 \tAcc = 1.0 \tLoss = 0.22597112\n",
      "Iteration = 68251 \tAcc = 1.0 \tLoss = 0.27711892\n",
      "Iteration = 68501 \tAcc = 1.0 \tLoss = 0.26685432\n",
      "Iteration = 68751 \tAcc = 1.0 \tLoss = 0.25356948\n",
      "Iteration = 69001 \tAcc = 1.0 \tLoss = 0.27030566\n",
      "Iteration = 69251 \tAcc = 1.0 \tLoss = 0.3278331\n",
      "Iteration = 69501 \tAcc = 1.0 \tLoss = 0.2101175\n",
      "Iteration = 69751 \tAcc = 1.0 \tLoss = 0.22603692\n",
      "Iteration = 70001 \tAcc = 1.0 \tLoss = 0.2135907\n",
      "Iteration = 70251 \tAcc = 1.0 \tLoss = 0.21399836\n",
      "Iteration = 70501 \tAcc = 1.0 \tLoss = 0.21958427\n",
      "Iteration = 70751 \tAcc = 1.0 \tLoss = 0.3662045\n",
      "Iteration = 71001 \tAcc = 1.0 \tLoss = 0.2122929\n",
      "Iteration = 71251 \tAcc = 1.0 \tLoss = 0.23207512\n",
      "Iteration = 71501 \tAcc = 1.0 \tLoss = 0.23099843\n",
      "Iteration = 71751 \tAcc = 1.0 \tLoss = 0.2591532\n",
      "Iteration = 72001 \tAcc = 1.0 \tLoss = 0.18875024\n",
      "Iteration = 72251 \tAcc = 1.0 \tLoss = 0.18801427\n",
      "Iteration = 72501 \tAcc = 1.0 \tLoss = 0.22361436\n",
      "Iteration = 72751 \tAcc = 1.0 \tLoss = 0.35917887\n",
      "Iteration = 73001 \tAcc = 1.0 \tLoss = 0.1797632\n",
      "Iteration = 73251 \tAcc = 1.0 \tLoss = 0.2776089\n",
      "Iteration = 73501 \tAcc = 1.0 \tLoss = 0.17626637\n",
      "Iteration = 73751 \tAcc = 1.0 \tLoss = 0.18622528\n",
      "Iteration = 74001 \tAcc = 1.0 \tLoss = 0.1815287\n",
      "Iteration = 74251 \tAcc = 1.0 \tLoss = 0.18075143\n",
      "Iteration = 74501 \tAcc = 1.0 \tLoss = 0.1693485\n",
      "Iteration = 74751 \tAcc = 1.0 \tLoss = 0.16836746\n",
      "Iteration = 75001 \tAcc = 1.0 \tLoss = 0.16547123\n",
      "Iteration = 75251 \tAcc = 1.0 \tLoss = 0.17735367\n",
      "Iteration = 75501 \tAcc = 1.0 \tLoss = 0.16229194\n",
      "Iteration = 75751 \tAcc = 1.0 \tLoss = 0.16066681\n",
      "Iteration = 76001 \tAcc = 1.0 \tLoss = 0.16015328\n",
      "Iteration = 76251 \tAcc = 1.0 \tLoss = 0.17449069\n",
      "Iteration = 76501 \tAcc = 1.0 \tLoss = 0.1644389\n",
      "Iteration = 76751 \tAcc = 1.0 \tLoss = 0.16362058\n",
      "Iteration = 77001 \tAcc = 1.0 \tLoss = 0.165228\n",
      "Iteration = 77251 \tAcc = 1.0 \tLoss = 0.17437217\n",
      "Iteration = 77501 \tAcc = 1.0 \tLoss = 0.1538432\n",
      "Iteration = 77751 \tAcc = 1.0 \tLoss = 0.19062187\n",
      "Iteration = 78001 \tAcc = 1.0 \tLoss = 0.17114815\n",
      "Iteration = 78251 \tAcc = 1.0 \tLoss = 0.14416777\n",
      "Iteration = 78501 \tAcc = 1.0 \tLoss = 0.15522696\n",
      "Iteration = 78751 \tAcc = 1.0 \tLoss = 0.14220062\n",
      "Iteration = 79001 \tAcc = 1.0 \tLoss = 0.15804735\n",
      "Iteration = 79251 \tAcc = 1.0 \tLoss = 0.14359912\n",
      "Iteration = 79501 \tAcc = 1.0 \tLoss = 0.14231987\n",
      "Iteration = 79751 \tAcc = 1.0 \tLoss = 0.14691189\n",
      "Iteration = 80001 \tAcc = 1.0 \tLoss = 0.13761298\n",
      "Iteration = 80251 \tAcc = 1.0 \tLoss = 0.13926059\n",
      "Iteration = 80501 \tAcc = 1.0 \tLoss = 0.14760603\n",
      "Iteration = 80751 \tAcc = 1.0 \tLoss = 0.15274131\n",
      "Iteration = 81001 \tAcc = 1.0 \tLoss = 0.17762439\n",
      "Iteration = 81251 \tAcc = 1.0 \tLoss = 0.13359043\n",
      "Iteration = 81501 \tAcc = 1.0 \tLoss = 0.13969766\n",
      "Iteration = 81751 \tAcc = 1.0 \tLoss = 0.12619624\n",
      "Iteration = 82001 \tAcc = 1.0 \tLoss = 0.17157342\n",
      "Iteration = 82251 \tAcc = 1.0 \tLoss = 0.1253649\n",
      "Iteration = 82501 \tAcc = 1.0 \tLoss = 0.12312306\n",
      "Iteration = 82751 \tAcc = 1.0 \tLoss = 0.12479843\n",
      "Iteration = 83001 \tAcc = 1.0 \tLoss = 0.12074028\n",
      "Iteration = 83251 \tAcc = 1.0 \tLoss = 0.14571111\n",
      "Iteration = 83501 \tAcc = 1.0 \tLoss = 0.11799698\n",
      "Iteration = 83751 \tAcc = 1.0 \tLoss = 0.11674813\n",
      "Iteration = 84001 \tAcc = 1.0 \tLoss = 0.12457376\n",
      "Iteration = 84251 \tAcc = 1.0 \tLoss = 0.12548283\n",
      "Iteration = 84501 \tAcc = 1.0 \tLoss = 0.118511036\n",
      "Iteration = 84751 \tAcc = 1.0 \tLoss = 0.113469854\n",
      "Iteration = 85001 \tAcc = 1.0 \tLoss = 0.11572605\n",
      "Iteration = 85251 \tAcc = 1.0 \tLoss = 0.1207304\n",
      "Iteration = 85501 \tAcc = 1.0 \tLoss = 0.1113032\n",
      "Iteration = 85751 \tAcc = 1.0 \tLoss = 0.13375923\n",
      "Iteration = 86001 \tAcc = 1.0 \tLoss = 0.10754092\n",
      "Iteration = 86251 \tAcc = 1.0 \tLoss = 0.109302625\n"
     ]
    },
    {
     "name": "stdout",
     "output_type": "stream",
     "text": [
      "Iteration = 86501 \tAcc = 1.0 \tLoss = 0.10604576\n",
      "Iteration = 86751 \tAcc = 1.0 \tLoss = 0.108595654\n",
      "Iteration = 87001 \tAcc = 1.0 \tLoss = 0.10403463\n",
      "Iteration = 87251 \tAcc = 1.0 \tLoss = 0.11846101\n",
      "Iteration = 87501 \tAcc = 1.0 \tLoss = 0.103341214\n",
      "Iteration = 87751 \tAcc = 1.0 \tLoss = 0.112052366\n",
      "Iteration = 88001 \tAcc = 1.0 \tLoss = 0.10124495\n",
      "Iteration = 88251 \tAcc = 1.0 \tLoss = 0.11954291\n",
      "Iteration = 88501 \tAcc = 1.0 \tLoss = 0.11533509\n",
      "Iteration = 88751 \tAcc = 1.0 \tLoss = 0.10564336\n",
      "Iteration = 89001 \tAcc = 1.0 \tLoss = 0.12751864\n",
      "Iteration = 89251 \tAcc = 1.0 \tLoss = 0.09805829\n",
      "Iteration = 89501 \tAcc = 1.0 \tLoss = 0.13368705\n",
      "Iteration = 89751 \tAcc = 1.0 \tLoss = 0.09562585\n",
      "Iteration = 90001 \tAcc = 1.0 \tLoss = 0.10082438\n",
      "Iteration = 90251 \tAcc = 1.0 \tLoss = 0.09496968\n",
      "Iteration = 90501 \tAcc = 1.0 \tLoss = 0.094858676\n",
      "Iteration = 90751 \tAcc = 1.0 \tLoss = 0.10021967\n",
      "Iteration = 91001 \tAcc = 1.0 \tLoss = 0.10947617\n",
      "Iteration = 91251 \tAcc = 1.0 \tLoss = 0.09781744\n",
      "Iteration = 91501 \tAcc = 1.0 \tLoss = 0.09602236\n",
      "Iteration = 91751 \tAcc = 1.0 \tLoss = 0.10217389\n",
      "Iteration = 92001 \tAcc = 1.0 \tLoss = 0.09008216\n",
      "Iteration = 92251 \tAcc = 1.0 \tLoss = 0.112469584\n",
      "Iteration = 92501 \tAcc = 1.0 \tLoss = 0.124295205\n",
      "Iteration = 92751 \tAcc = 1.0 \tLoss = 0.094088465\n",
      "Iteration = 93001 \tAcc = 1.0 \tLoss = 0.08906151\n",
      "Iteration = 93251 \tAcc = 1.0 \tLoss = 0.09021222\n",
      "Iteration = 93501 \tAcc = 1.0 \tLoss = 0.12015406\n",
      "Iteration = 93751 \tAcc = 1.0 \tLoss = 0.10324989\n",
      "Iteration = 94001 \tAcc = 1.0 \tLoss = 0.102486014\n",
      "Iteration = 94251 \tAcc = 1.0 \tLoss = 0.086955205\n",
      "Iteration = 94501 \tAcc = 1.0 \tLoss = 0.08632369\n",
      "Iteration = 94751 \tAcc = 1.0 \tLoss = 0.08285598\n",
      "Iteration = 95001 \tAcc = 1.0 \tLoss = 0.0939356\n",
      "Iteration = 95251 \tAcc = 1.0 \tLoss = 0.09842416\n",
      "Iteration = 95501 \tAcc = 1.0 \tLoss = 0.09330995\n",
      "Iteration = 95751 \tAcc = 1.0 \tLoss = 0.12608546\n",
      "Iteration = 96001 \tAcc = 1.0 \tLoss = 0.08141953\n",
      "Iteration = 96251 \tAcc = 1.0 \tLoss = 0.08173491\n",
      "Iteration = 96501 \tAcc = 1.0 \tLoss = 0.07922848\n",
      "Iteration = 96751 \tAcc = 1.0 \tLoss = 0.116781995\n",
      "Iteration = 97001 \tAcc = 1.0 \tLoss = 0.08197069\n",
      "Iteration = 97251 \tAcc = 1.0 \tLoss = 0.07825169\n",
      "Iteration = 97501 \tAcc = 1.0 \tLoss = 0.08046259\n",
      "Iteration = 97751 \tAcc = 1.0 \tLoss = 0.07917023\n",
      "Iteration = 98001 \tAcc = 1.0 \tLoss = 0.07535887\n",
      "Iteration = 98251 \tAcc = 1.0 \tLoss = 0.08295162\n",
      "Iteration = 98501 \tAcc = 1.0 \tLoss = 0.0741825\n",
      "Iteration = 98751 \tAcc = 1.0 \tLoss = 0.09342819\n",
      "Iteration = 99001 \tAcc = 1.0 \tLoss = 0.0736109\n",
      "Iteration = 99251 \tAcc = 1.0 \tLoss = 0.075428195\n",
      "Iteration = 99501 \tAcc = 1.0 \tLoss = 0.07268599\n",
      "Iteration = 99751 \tAcc = 1.0 \tLoss = 0.07333742\n"
     ]
    }
   ],
   "source": [
    "model.sgd(X, Y, 100000)"
   ]
  },
  {
   "cell_type": "markdown",
   "metadata": {},
   "source": [
    "Seems like it has fitted the data 100\\%. Let's see what the decision boundary looks like."
   ]
  },
  {
   "cell_type": "code",
   "execution_count": 41,
   "metadata": {},
   "outputs": [
    {
     "data": {
      "image/png": "[encoded data removed]",
      "text/plain": [
       "<Figure size 432x288 with 1 Axes>"
      ]
     },
     "metadata": {
      "needs_background": "light"
     },
     "output_type": "display_data"
    }
   ],
   "source": [
    "# Create a grid of points to classify\n",
    "xx1, xx2 = np.meshgrid(np.arange(-3, 3, 0.005), np.arange(-3, 3, 0.005))\n",
    "\n",
    "# Flatten the grid to pass into model\n",
    "grid = np.c_[xx1.ravel(), xx2.ravel()].T\n",
    "\n",
    "# Predict classification at every point on the grid\n",
    "Z = model.predict(grid)[1, :].reshape(xx1.shape)\n",
    "\n",
    "# Plot the prediction regions.\n",
    "plt.imshow(Z, interpolation='bicubic', origin='lower', extent=[-3, 3, -3, 3], \n",
    "           cmap=ListedColormap(['#1f77b4', '#ff7f0e']), alpha=0.55, aspect='auto')\n",
    "\n",
    "# Plot the original points.\n",
    "_ = plt.scatter(X[0,:], X[1,:], c=Y[1,:], cmap=ListedColormap(['#1f77b4', '#ff7f0e']))"
   ]
  }
 ],
 "metadata": {
  "kernelspec": {
   "display_name": "Python 3",
   "language": "python",
   "name": "python3"
  },
  "language_info": {
   "codemirror_mode": {
    "name": "ipython",
    "version": 3
   },
   "file_extension": ".py",
   "mimetype": "text/x-python",
   "name": "python",
   "nbconvert_exporter": "python",
   "pygments_lexer": "ipython3",
   "version": "3.6.7"
  }
 },
 "nbformat": 4,
 "nbformat_minor": 2
}
