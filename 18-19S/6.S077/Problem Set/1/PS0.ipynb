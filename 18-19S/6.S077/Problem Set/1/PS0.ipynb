{
 "cells": [
  {
   "cell_type": "markdown",
   "metadata": {},
   "source": [
    "# Problem Set 0\n",
    "# Due Date: Not Due. \n",
    "\n",
    "\n",
    "Welcome to 6.s077! <br> \n",
    "We provide Problem Set 0 for you to get comfortable with data analysis in Python. <br>\n",
    "\n",
    "\n",
    "We recommend you step through all the instructions below (line by line) even though you may already be familiar with data analysis in Python and/or Jupyter notebooks."
   ]
  },
  {
   "cell_type": "markdown",
   "metadata": {},
   "source": [
    "Please familiarize yourself with the following common data analysis and machine learning libraries (in Python), which we will be using extensively throughout this course: <br> \n",
    "\n",
    "<b>Numpy</b>: http://www.numpy.org/ <br>\n",
    "<b>Pandas</b>: https://pandas.pydata.org/ <br>\n",
    "<b>Scipy</b>: https://www.scipy.org/ <br>\n",
    "<b>Scikit-Learn</b>: http://scikit-learn.org/stable/ <br>\n",
    "<b>Statsmodels</b>: http://scikit-learn.org/stable/ <br>\n",
    "<b>Matplotlib</b>: https://matplotlib.org/ <br>"
   ]
  },
  {
   "cell_type": "markdown",
   "metadata": {},
   "source": [
    "<b>0.</b> We start by printing a quick \"Hello, World!\". <br>\n",
    "Please execute the Run command (from the menu above this notebook) on the cell below to ensure you see no errors. You can 'select' a cell by clicking on it and then hit the Run button in the menu above. Errors, or any expected output should show up immediately below the cell. In the case below, you should see a \"Hello, World!\" printed below the cell."
   ]
  },
  {
   "cell_type": "code",
   "execution_count": 1,
   "metadata": {
    "scrolled": false
   },
   "outputs": [
    {
     "name": "stdout",
     "output_type": "stream",
     "text": [
      "Hello, World!\n"
     ]
    }
   ],
   "source": [
    "print(\"Hello, World!\")"
   ]
  },
  {
   "cell_type": "markdown",
   "metadata": {},
   "source": [
    "<b>1.</b> You can import the libraries as shown below. Hit Run to ensure the libraries are imported successfully and without errros."
   ]
  },
  {
   "cell_type": "code",
   "execution_count": 2,
   "metadata": {},
   "outputs": [
    {
     "name": "stdout",
     "output_type": "stream",
     "text": [
      "Libraries imported successfully!\n"
     ]
    }
   ],
   "source": [
    "%matplotlib inline\n",
    "from matplotlib import pyplot as plt\n",
    "import numpy as np\n",
    "import pandas as pd\n",
    "from scipy import stats\n",
    "\n",
    "print(\"Libraries imported successfully!\")"
   ]
  },
  {
   "cell_type": "markdown",
   "metadata": {},
   "source": [
    "<b>2.</b> Print what versions of the pandas (pd) and numpy (np) are installed on this system. For numpy, see the example below and repeat for pandas."
   ]
  },
  {
   "cell_type": "code",
   "execution_count": 3,
   "metadata": {},
   "outputs": [
    {
     "name": "stdout",
     "output_type": "stream",
     "text": [
      "Numpy 1.15.4\n",
      "Pandas 0.23.4\n"
     ]
    }
   ],
   "source": [
    "print(\"Numpy {}\".format(np.__version__))  \n",
    "print(\"Pandas {}\".format(pd.__version__))\n",
    "\n",
    "# For those unfamiliar with Python features, .format replaces {} instances\n",
    "# with the provided arguments and is very useful for easy to read formatting\n",
    "# of strings"
   ]
  },
  {
   "cell_type": "markdown",
   "metadata": {},
   "source": [
    "<b>3a.</b> You are provided with a csv file with 100 observations of daily commute times (in minutes) for an individual. <br>\n",
    "The data file is called \"<b>data.csv</b>\". Read the csv as a pandas dataframe object by using the <b>read_csv()</b> function in pandas: https://pandas.pydata.org/pandas-docs/stable/generated/pandas.read_csv.html"
   ]
  },
  {
   "cell_type": "code",
   "execution_count": 4,
   "metadata": {},
   "outputs": [],
   "source": [
    "df = pd.read_csv(\"data.csv\")"
   ]
  },
  {
   "cell_type": "markdown",
   "metadata": {},
   "source": [
    "<b>3b.</b> Print the total total number of observations in the dataframe. Confirm that it is 100."
   ]
  },
  {
   "cell_type": "code",
   "execution_count": 5,
   "metadata": {},
   "outputs": [
    {
     "data": {
      "text/plain": [
       "100"
      ]
     },
     "execution_count": 5,
     "metadata": {},
     "output_type": "execute_result"
    }
   ],
   "source": [
    "len(df)"
   ]
  },
  {
   "cell_type": "markdown",
   "metadata": {},
   "source": [
    "<b>3c.</b> Print the column names in the dataframe. Confirm that there is only one column."
   ]
  },
  {
   "cell_type": "code",
   "execution_count": 6,
   "metadata": {},
   "outputs": [
    {
     "data": {
      "text/plain": [
       "['commute_time']"
      ]
     },
     "execution_count": 6,
     "metadata": {},
     "output_type": "execute_result"
    }
   ],
   "source": [
    "list(df.columns)"
   ]
  },
  {
   "cell_type": "markdown",
   "metadata": {},
   "source": [
    "##### <b>3d.</b> Write a function called <b>mean(np_array)</b> which computes and then returns the sample average of a numpy array. <br>\n",
    "Call this function on the array of observations for commute_time and print the mean."
   ]
  },
  {
   "cell_type": "code",
   "execution_count": 7,
   "metadata": {},
   "outputs": [],
   "source": [
    "def mean(sample):\n",
    "    \"\"\"Computes the sample average of an ndarray.\n",
    "    \n",
    "    Args:\n",
    "        sample (ndarray): NumPy array of which to determine the mean. \n",
    "            This function assumes there is only a single column.\n",
    "        \n",
    "    Returns:\n",
    "        float: Mean of the provided sample.\n",
    "        \n",
    "    \"\"\"\n",
    "    return np.sum(sample) / sample.shape[0]"
   ]
  },
  {
   "cell_type": "code",
   "execution_count": 8,
   "metadata": {},
   "outputs": [
    {
     "data": {
      "text/plain": [
       "15.066961950150128"
      ]
     },
     "execution_count": 8,
     "metadata": {},
     "output_type": "execute_result"
    }
   ],
   "source": [
    "mean(df['commute_time'].values)"
   ]
  },
  {
   "cell_type": "markdown",
   "metadata": {},
   "source": [
    "<b>3e.</b> Now, print the sample average of the commute_time observations using numpy's <b>mean()</b> function. <br> Verify that your own <b>mean()</b> function produces the same sample average as numpy's <b>mean()</b>."
   ]
  },
  {
   "cell_type": "code",
   "execution_count": 9,
   "metadata": {},
   "outputs": [
    {
     "data": {
      "text/plain": [
       "15.066961950150128"
      ]
     },
     "execution_count": 9,
     "metadata": {},
     "output_type": "execute_result"
    }
   ],
   "source": [
    "df['commute_time'].values.mean()"
   ]
  },
  {
   "cell_type": "markdown",
   "metadata": {},
   "source": [
    "<b>3f.</b> Write a function called <b>sd(np_array)</b> which computes and then returns the population standard deviation of a numpy array. <br>\n",
    "Call this function on the array of observations for commute_time and print the population standard deviation."
   ]
  },
  {
   "cell_type": "code",
   "execution_count": 10,
   "metadata": {},
   "outputs": [],
   "source": [
    "def sd(sample):\n",
    "    \"\"\"Computes the samples standard deviation of an ndarray.\n",
    "    \n",
    "    Args:\n",
    "        sample (ndarray): NumPy array of which to determine the standard\n",
    "            deviation. This function assumes there is only a single column.\n",
    "            \n",
    "    Returns:\n",
    "        float: Standard deviation of the provided sample.\n",
    "        \n",
    "    \"\"\"\n",
    "    return np.sqrt(np.sum((sample - mean(sample)) ** 2) / sample.shape[0])"
   ]
  },
  {
   "cell_type": "code",
   "execution_count": 11,
   "metadata": {},
   "outputs": [
    {
     "data": {
      "text/plain": [
       "4.148359733799694"
      ]
     },
     "execution_count": 11,
     "metadata": {},
     "output_type": "execute_result"
    }
   ],
   "source": [
    "sd(df['commute_time'].values)"
   ]
  },
  {
   "cell_type": "markdown",
   "metadata": {},
   "source": [
    "<b>3g.</b> Now, print the population standard deviation of the commute_time observations using numpy's <b>std()</b> function. <br>\n",
    "Confirm that your own std() function produces the same population average as numpy's <b>std()</b>. <br>\n",
    "Note: even though we do not require it here, you should read the <b>np.std()</b> documentation to understand how to compute the <b>sample</b> (unbiased) standard deviation (instead of the population standard deviation)."
   ]
  },
  {
   "cell_type": "code",
   "execution_count": 12,
   "metadata": {},
   "outputs": [
    {
     "data": {
      "text/plain": [
       "4.148359733799694"
      ]
     },
     "execution_count": 12,
     "metadata": {},
     "output_type": "execute_result"
    }
   ],
   "source": [
    "df['commute_time'].values.std()"
   ]
  },
  {
   "cell_type": "markdown",
   "metadata": {},
   "source": [
    "<b>3h.</b> Produce a histogram of the commute_time observations using the <b>hist()</b> function provided by matplotlib.pyplot: https://matplotlib.org/devdocs/api/_as_gen/matplotlib.pyplot.hist.html <br>\n",
    "Produce two histograms: one with 100 bins and 20 bins. Title your histograms appropriately."
   ]
  },
  {
   "cell_type": "code",
   "execution_count": 13,
   "metadata": {},
   "outputs": [
    {
     "data": {
      "image/png": "[encoded data removed]",
      "text/plain": [
       "<Figure size 432x288 with 2 Axes>"
      ]
     },
     "metadata": {
      "needs_background": "light"
     },
     "output_type": "display_data"
    }
   ],
   "source": [
    "ax1 = plt.subplot(2, 1, 1)\n",
    "ax1.hist(df['commute_time'], 100)\n",
    "ax1.set_title('Commute Time 100 Bins')\n",
    "\n",
    "ax2 = plt.subplot(2, 1, 2)\n",
    "ax2.hist(df['commute_time'], 20)\n",
    "ax2.set_title('Commute Time 20 Bins')\n",
    "\n",
    "plt.tight_layout()"
   ]
  },
  {
   "cell_type": "markdown",
   "metadata": {},
   "source": [
    "<b>4a.</b> We wish to generate a sample consisting of <b>n</b> randomly drawn records from our data set. <br>\n",
    "Write a function <b>sample_n(np_array, n)</b> which  produces a random sample of length <b>n</b> (</b>with replacement</b>) of from the numpy array (<b>np_array</b>). <br>\n",
    "In each step of the iteration you draw an index at random, and all records in <b>np_array</b> are equally likely to be picked. This is called 'sampling with replacement': each record may get selected more than once. <br>\n",
    "At each drawing, you need to pick a random index (in the range 0: n-1, both inclusive) and pull the corresponding entry from the data array. You may find numpy's random.randint(n) to be useful in randomly selecting indices between 0 and n-1. For more info check: https://docs.scipy.org/doc/numpy-1.13.0/reference/generated/numpy.random.randint.html<br>\n",
    "Produce a random sample of size <b>N=50</b> and then report the mean and population standard deviation of the selected sample. <br>\n",
    "Use the <b>commute_time</b> array for input data"
   ]
  },
  {
   "cell_type": "code",
   "execution_count": 14,
   "metadata": {},
   "outputs": [],
   "source": [
    "def sample_n(population, n):\n",
    "    \"\"\"Produces a random sample from the population using replacement.\n",
    "    \n",
    "    Args:\n",
    "        population (ndarray): NumPy array of values to sample.\n",
    "            This function assumes a single column.\n",
    "        n (int): Size of sample to produce.\n",
    "        \n",
    "    Returns:\n",
    "        ndarray: NumPy array representing the sample.\n",
    "        \n",
    "    \"\"\"\n",
    "    sample = np.zeros(n)\n",
    "    \n",
    "    for i in range(n):\n",
    "        \n",
    "        rand_ind = np.random.randint(population.shape[0])\n",
    "        sample[i] += population[rand_ind]\n",
    "    \n",
    "    return sample"
   ]
  },
  {
   "cell_type": "code",
   "execution_count": 15,
   "metadata": {},
   "outputs": [
    {
     "name": "stdout",
     "output_type": "stream",
     "text": [
      "Mean: 15.50207281197203\n",
      "Std Dev: 4.542066049227872\n"
     ]
    }
   ],
   "source": [
    "sample = sample_n(df['commute_time'], 50)\n",
    "\n",
    "print(f'Mean: {mean(sample)}')\n",
    "print(f'Std Dev: {sd(sample)}')"
   ]
  },
  {
   "cell_type": "markdown",
   "metadata": {},
   "source": [
    "<b>4b.</b> Now write a function <b>repeat(np_array, N, n)</b> which will do the following: <br>\n",
    "It calls <b>sample_n()</b> <b>N</b> times, each producing a sample (<b>with replacement</b>) of length <b>n</b> from <b>np_array</b>. <br>\n",
    "For each of the <b>N</b> samples, compute the <b>mean</b> and <b>population standard deviation</b> and store them in two arrays. Return both the mean and standard deviation arrays (each of length = N). <br>\n",
    "Call the function <b>repeat()</b> with <b>N = 500</b> and <b>n = 100</b>, and <b>np_array = commute_time</b> array. Store the array of means as <b>mean_samples</b> and the array of standard deviations as <b>sd_samples</b>.<br>"
   ]
  },
  {
   "cell_type": "code",
   "execution_count": 16,
   "metadata": {},
   "outputs": [],
   "source": [
    "def repeat(population, N, n):\n",
    "    \"\"\"Produces N samples from the population of size n and \n",
    "    returns the mean and standard deviation of each sample.\n",
    "    \n",
    "    Args:\n",
    "        population (ndarray): NumPy array of values to sample.\n",
    "            This function assumes a single column.\n",
    "        N (int): Number of samples to draw.\n",
    "        n (int): Size of the samples to draw.\n",
    "    \n",
    "    Returns:\n",
    "        ndarray: Means of each sample.\n",
    "        ndarray: Standard deviations of each sample.\n",
    "            \n",
    "    \"\"\"\n",
    "    mean_samples = np.zeros(N)\n",
    "    sd_samples = np.zeros(N)\n",
    "    \n",
    "    for i in range(N):\n",
    "        \n",
    "        sample = sample_n(population, n)\n",
    "        \n",
    "        mean_samples[i] = mean(sample)\n",
    "        sd_samples[i] = sd(sample)\n",
    "        \n",
    "    return mean_samples, sd_samples"
   ]
  },
  {
   "cell_type": "code",
   "execution_count": 17,
   "metadata": {},
   "outputs": [],
   "source": [
    "mean_samples, sd_samples = repeat(df['commute_time'], 500, 100)"
   ]
  },
  {
   "cell_type": "markdown",
   "metadata": {},
   "source": [
    "<b>4c.</b> Print the mean of <b>mean_samples</b> and <b>sd_samples</b>."
   ]
  },
  {
   "cell_type": "code",
   "execution_count": 18,
   "metadata": {},
   "outputs": [
    {
     "name": "stdout",
     "output_type": "stream",
     "text": [
      "Mean of `mean_samples`: 15.0663493525106\n",
      "Mean of `sd_samples`: 4.118038626013807\n"
     ]
    }
   ],
   "source": [
    "print(f'Mean of `mean_samples`: {mean(mean_samples)}')\n",
    "print(f'Mean of `sd_samples`: {mean(sd_samples)}')"
   ]
  },
  {
   "cell_type": "markdown",
   "metadata": {},
   "source": [
    "<b>4d.</b> Produce separate histograms of the <b>mean_samples</b> and <b>sd_samples</b>. Title your plots appropriately. <br>\n",
    "Set the number of <b>bins = 10</b>."
   ]
  },
  {
   "cell_type": "code",
   "execution_count": 19,
   "metadata": {},
   "outputs": [
    {
     "data": {
      "image/png": "[encoded data removed]",
      "text/plain": [
       "<Figure size 432x288 with 2 Axes>"
      ]
     },
     "metadata": {
      "needs_background": "light"
     },
     "output_type": "display_data"
    }
   ],
   "source": [
    "ax1 = plt.subplot(2, 1, 1)\n",
    "ax1.hist(mean_samples, 10)\n",
    "ax1.set_title('Mean of Samples')\n",
    "\n",
    "ax2 = plt.subplot(2, 1, 2)\n",
    "ax2.hist(sd_samples, 10)\n",
    "ax2.set_title('Standard Deviation of Samples')\n",
    "\n",
    "plt.tight_layout()"
   ]
  },
  {
   "cell_type": "markdown",
   "metadata": {},
   "source": [
    "<b>4e.</b> Repeat the same exercise (plot histograms of means and standard deviations) as above for <b>N=10000</b> and <b>n= 100</b>. What do you notice?"
   ]
  },
  {
   "cell_type": "code",
   "execution_count": 20,
   "metadata": {},
   "outputs": [],
   "source": [
    "mean_samples, sd_samples = repeat(df['commute_time'], 10000, 100)"
   ]
  },
  {
   "cell_type": "code",
   "execution_count": 21,
   "metadata": {},
   "outputs": [
    {
     "name": "stdout",
     "output_type": "stream",
     "text": [
      "Mean of `mean_samples`: 15.070839183271335\n",
      "Mean of `sd_samples`: 4.1220100762585234\n"
     ]
    }
   ],
   "source": [
    "print(f'Mean of `mean_samples`: {mean(mean_samples)}')\n",
    "print(f'Mean of `sd_samples`: {mean(sd_samples)}')"
   ]
  },
  {
   "cell_type": "code",
   "execution_count": 22,
   "metadata": {},
   "outputs": [
    {
     "data": {
      "image/png": "[encoded data removed]",
      "text/plain": [
       "<Figure size 432x288 with 2 Axes>"
      ]
     },
     "metadata": {
      "needs_background": "light"
     },
     "output_type": "display_data"
    }
   ],
   "source": [
    "ax1 = plt.subplot(2, 1, 1)\n",
    "ax1.hist(mean_samples, 10)\n",
    "ax1.set_title('Mean of Samples')\n",
    "\n",
    "ax2 = plt.subplot(2, 1, 2)\n",
    "ax2.hist(sd_samples, 10)\n",
    "ax2.set_title('Standard Deviation of Samples')\n",
    "\n",
    "plt.tight_layout()"
   ]
  },
  {
   "cell_type": "markdown",
   "metadata": {},
   "source": [
    "The distributions start to localize around the true mean and standard deviation as the number of sampling procedures increase. Furthermore, the shape of the distribution is increasingly Normal."
   ]
  },
  {
   "cell_type": "markdown",
   "metadata": {},
   "source": [
    "<b>4f.</b> Now write a function <b>sample_n2(np_array, n, with_replacement)</b> which can produce a sample of length n <b>np_array</b> but produces a sample <b>without replacement</b> when <b>with_replacement = False</b>. It should default to <b>with_replacement = True</b> (where you can just call <b>sample_n(np_array, n)</b> from earlier).<br>\n",
    "Call the <b>sample_n2()</b> function on the with <b>n = 50</b> and <b>with_replacement=True</b> and separately for <b>with_replacement=False</b>. <br>\n",
    "Print the mean and standard deviation for both cases. Use the <b>commute_time array</b> for input data."
   ]
  },
  {
   "cell_type": "code",
   "execution_count": 23,
   "metadata": {},
   "outputs": [],
   "source": [
    "def sample_n2(population, n, with_replacement=True):\n",
    "    \"\"\"Produces a random sample from the population with or \n",
    "    without replacement.\n",
    "    \n",
    "    Args:\n",
    "        population (ndarray): NumPy array of values to sample.\n",
    "            This function assumes a single column.\n",
    "        n (int): Size of sample to produce.\n",
    "        with_replacement (bool): Whether to replace during \n",
    "            sampling or not.\n",
    "        \n",
    "    Returns:\n",
    "        ndarray: NumPy array representing the sample.\n",
    "        \n",
    "    \"\"\"\n",
    "    \n",
    "    if with_replacement:\n",
    "        return sample_n(population, n)\n",
    "    else:        \n",
    "        return np.random.choice(population, n, False)"
   ]
  },
  {
   "cell_type": "code",
   "execution_count": 24,
   "metadata": {},
   "outputs": [
    {
     "name": "stdout",
     "output_type": "stream",
     "text": [
      "Mean w/Replacement: 15.35687074379774\n",
      "Std Dev w/Replacement: 4.664781160340138\n",
      "\n",
      "Mean w/o Replacement: 14.785198892589172\n",
      "Std Dev w/o Replacement: 4.496186698678474\n"
     ]
    }
   ],
   "source": [
    "sample = sample_n2(df['commute_time'], 50, True)\n",
    "\n",
    "print(f'Mean w/Replacement: {mean(sample)}')\n",
    "print(f'Std Dev w/Replacement: {sd(sample)}', end='\\n\\n')\n",
    "\n",
    "sample = sample_n2(df['commute_time'], 50, False)\n",
    "\n",
    "print(f'Mean w/o Replacement: {mean(sample)}')\n",
    "print(f'Std Dev w/o Replacement: {sd(sample)}')"
   ]
  }
 ],
 "metadata": {
  "kernelspec": {
   "display_name": "Python 3",
   "language": "python",
   "name": "python3"
  },
  "language_info": {
   "codemirror_mode": {
    "name": "ipython",
    "version": 3
   },
   "file_extension": ".py",
   "mimetype": "text/x-python",
   "name": "python",
   "nbconvert_exporter": "python",
   "pygments_lexer": "ipython3",
   "version": "3.6.7"
  }
 },
 "nbformat": 4,
 "nbformat_minor": 2
}
