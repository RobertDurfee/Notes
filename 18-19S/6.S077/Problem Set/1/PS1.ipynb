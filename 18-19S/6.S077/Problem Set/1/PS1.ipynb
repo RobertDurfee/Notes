{
 "cells": [
  {
   "cell_type": "code",
   "execution_count": 1,
   "metadata": {},
   "outputs": [],
   "source": [
    "import numpy as np\n",
    "import pandas as pd\n",
    "%matplotlib inline\n",
    "import matplotlib.pyplot as plt"
   ]
  },
  {
   "cell_type": "markdown",
   "metadata": {},
   "source": [
    "# 6.S077 Problem Set 1\n",
    "\n",
    "## Problem 1-2."
   ]
  },
  {
   "cell_type": "code",
   "execution_count": 2,
   "metadata": {},
   "outputs": [],
   "source": [
    "df = pd.read_csv('data_2d.csv', header=None)"
   ]
  },
  {
   "cell_type": "markdown",
   "metadata": {},
   "source": [
    "### Part D\n",
    "\n",
    "The maximum likelihood estimate has the form,\n",
    "\n",
    "$$ \\hat{\\theta}_{ML} = \\frac{n}{x_1 + x_2 + \\ldots + x_n} $$"
   ]
  },
  {
   "cell_type": "code",
   "execution_count": 3,
   "metadata": {},
   "outputs": [],
   "source": [
    "hat_theta_ml = len(df[0]) / np.sum(df[0])"
   ]
  },
  {
   "cell_type": "code",
   "execution_count": 4,
   "metadata": {},
   "outputs": [
    {
     "data": {
      "text/plain": [
       "2.623542901104986"
      ]
     },
     "execution_count": 4,
     "metadata": {},
     "output_type": "execute_result"
    }
   ],
   "source": [
    "hat_theta_ml"
   ]
  },
  {
   "cell_type": "markdown",
   "metadata": {},
   "source": [
    "The estimate from the first moment has the same form as the maximum likelihood estimate,\n",
    "\n",
    "$$ \\hat{\\theta}_1 = \\frac{n}{x_1 + x_2 + \\ldots + x_n} $$"
   ]
  },
  {
   "cell_type": "code",
   "execution_count": 5,
   "metadata": {},
   "outputs": [],
   "source": [
    "hat_theta_1 = len(df[0]) / np.sum(df[0])"
   ]
  },
  {
   "cell_type": "code",
   "execution_count": 6,
   "metadata": {},
   "outputs": [
    {
     "data": {
      "text/plain": [
       "2.623542901104986"
      ]
     },
     "execution_count": 6,
     "metadata": {},
     "output_type": "execute_result"
    }
   ],
   "source": [
    "hat_theta_1"
   ]
  },
  {
   "cell_type": "markdown",
   "metadata": {},
   "source": [
    "The estimate from the second moment has the form,\n",
    "\n",
    "$$ \\hat{\\theta}_2 = \\sqrt{\\frac{2n}{x_1^2 + x_2^2 + \\ldots + x_n^2}} $$"
   ]
  },
  {
   "cell_type": "code",
   "execution_count": 7,
   "metadata": {},
   "outputs": [],
   "source": [
    "hat_theta_2 = np.sqrt((2 * len(df[0])) / np.sum(df[0] ** 2))"
   ]
  },
  {
   "cell_type": "code",
   "execution_count": 8,
   "metadata": {},
   "outputs": [
    {
     "data": {
      "text/plain": [
       "2.8650511519588524"
      ]
     },
     "execution_count": 8,
     "metadata": {},
     "output_type": "execute_result"
    }
   ],
   "source": [
    "hat_theta_2"
   ]
  },
  {
   "cell_type": "markdown",
   "metadata": {},
   "source": [
    "The estimate from the median feature matching has the form,\n",
    "\n",
    "$$ \\hat{\\theta}_m = \\frac{\\ln 2}{\\hat{a}} $$"
   ]
  },
  {
   "cell_type": "code",
   "execution_count": 9,
   "metadata": {},
   "outputs": [],
   "source": [
    "hat_theta_m = np.log(2) / np.median(df[0])"
   ]
  },
  {
   "cell_type": "code",
   "execution_count": 10,
   "metadata": {},
   "outputs": [
    {
     "data": {
      "text/plain": [
       "2.4866175374041273"
      ]
     },
     "execution_count": 10,
     "metadata": {},
     "output_type": "execute_result"
    }
   ],
   "source": [
    "hat_theta_m"
   ]
  },
  {
   "cell_type": "markdown",
   "metadata": {},
   "source": [
    "## Problem 1-3."
   ]
  },
  {
   "cell_type": "code",
   "execution_count": 11,
   "metadata": {},
   "outputs": [],
   "source": [
    "df = pd.read_csv('crab_data.csv')"
   ]
  },
  {
   "cell_type": "markdown",
   "metadata": {},
   "source": [
    "### Part B\n",
    "\n",
    "The maximum likelihood estimate for $\\mu$ is of the form,\n",
    "\n",
    "$$ \\hat{\\mu} = \\frac{1}{n} \\sum_{i = 1}^n x_i $$"
   ]
  },
  {
   "cell_type": "code",
   "execution_count": 12,
   "metadata": {},
   "outputs": [],
   "source": [
    "hat_mu = np.sum(df['ratio']) / len(df['ratio'])"
   ]
  },
  {
   "cell_type": "code",
   "execution_count": 13,
   "metadata": {},
   "outputs": [
    {
     "data": {
      "text/plain": [
       "0.6467528146897313"
      ]
     },
     "execution_count": 13,
     "metadata": {},
     "output_type": "execute_result"
    }
   ],
   "source": [
    "hat_mu"
   ]
  },
  {
   "cell_type": "markdown",
   "metadata": {},
   "source": [
    "The maximum likelihood estimate for $v$ is of the form,\n",
    "\n",
    "$$ \\hat{v} = \\frac{1}{n} \\sum_{i = 1}^n (x_i - \\hat{\\mu})^2 $$"
   ]
  },
  {
   "cell_type": "code",
   "execution_count": 14,
   "metadata": {},
   "outputs": [],
   "source": [
    "hat_v = np.sum((df['ratio'] - hat_mu) ** 2) / len(df['ratio'])"
   ]
  },
  {
   "cell_type": "code",
   "execution_count": 15,
   "metadata": {},
   "outputs": [
    {
     "data": {
      "text/plain": [
       "0.00036264831635595573"
      ]
     },
     "execution_count": 15,
     "metadata": {},
     "output_type": "execute_result"
    }
   ],
   "source": [
    "hat_v"
   ]
  },
  {
   "cell_type": "markdown",
   "metadata": {},
   "source": [
    "Now we generate a sample from the estimated normal distribution."
   ]
  },
  {
   "cell_type": "code",
   "execution_count": 16,
   "metadata": {},
   "outputs": [],
   "source": [
    "sample = np.random.normal(hat_mu, np.sqrt(hat_v), len(df['ratio']))"
   ]
  },
  {
   "cell_type": "markdown",
   "metadata": {},
   "source": [
    "We can now compare the histograms of the synthetic sample distribution and the original distribution."
   ]
  },
  {
   "cell_type": "code",
   "execution_count": 17,
   "metadata": {},
   "outputs": [
    {
     "data": {
      "image/png": "[encoded data removed]",
      "text/plain": [
       "<Figure size 432x288 with 1 Axes>"
      ]
     },
     "metadata": {},
     "output_type": "display_data"
    }
   ],
   "source": [
    "_ = plt.hist(sample, 20, color='red', alpha=0.5)\n",
    "_ = plt.hist(df['ratio'], 20, color='grey', alpha=0.5)"
   ]
  },
  {
   "cell_type": "markdown",
   "metadata": {},
   "source": [
    "The plots seem to line up--for the most part. However, there is a slight lack of symmetry in the original data that is not accurately accounted for in the simulated distribution. This hints that the original data might not be normally distributed."
   ]
  },
  {
   "cell_type": "markdown",
   "metadata": {},
   "source": [
    "### Part E\n",
    "\n",
    "The provided parameters given from the EM-algorithm are,\n",
    "\n",
    "$$ \\hat{\\lambda} = 0.648536,\\quad \\hat{\\mu}_1 = 0.656405,\\quad \\hat{v}_1 = 0.000156 $$\n",
    "\n",
    "$$ \\hat{\\mu}_2 = 0.628942,\\quad \\hat{v}_2 = 0.000256 $$"
   ]
  },
  {
   "cell_type": "code",
   "execution_count": 18,
   "metadata": {},
   "outputs": [],
   "source": [
    "hat_lambda = 0.648536\n",
    "hat_mu_1 = 0.656405\n",
    "hat_v_1 = 0.000156\n",
    "hat_mu_2 = 0.628942\n",
    "hat_v_2 = 0.000256"
   ]
  },
  {
   "cell_type": "markdown",
   "metadata": {},
   "source": [
    "The mixture of models is defined by,\n",
    "\n",
    "$$ f_{X_i}^\\theta(x_i) = \\frac{\\lambda}{\\sqrt{2 \\pi v_1}} e^{-(x_i - \\mu_1)^2 \n",
    "/ 2 v_1} + \\frac{1 - \\lambda}{\\sqrt{2 \\pi v_2}} e^{-(x_i - \\mu_2)^2 / 2 v_2} $$"
   ]
  },
  {
   "cell_type": "code",
   "execution_count": 19,
   "metadata": {},
   "outputs": [],
   "source": [
    "sample_a = np.random.normal(hat_mu_1, np.sqrt(hat_v_1), len(df['ratio']))\n",
    "sample_b = np.random.normal(hat_mu_2, np.sqrt(hat_v_2), len(df['ratio']))\n",
    "\n",
    "sample = np.zeros(len(df['ratio']))\n",
    "\n",
    "for i in range(len(df['ratio'])):\n",
    "    \n",
    "    which = np.random.binomial(1, 1 - hat_lambda)\n",
    "    \n",
    "    if which == 0:\n",
    "        sample[i] = sample_a[i]\n",
    "    elif which == 1:\n",
    "        sample[i] = sample_b[i]"
   ]
  },
  {
   "cell_type": "markdown",
   "metadata": {},
   "source": [
    "We can now plot the mixure model against the original data."
   ]
  },
  {
   "cell_type": "code",
   "execution_count": 20,
   "metadata": {},
   "outputs": [
    {
     "data": {
      "image/png": "[encoded data removed]",
      "text/plain": [
       "<Figure size 432x288 with 1 Axes>"
      ]
     },
     "metadata": {},
     "output_type": "display_data"
    }
   ],
   "source": [
    "_ = plt.hist(sample, 20, color='red', alpha=0.5)\n",
    "_ = plt.hist(df['ratio'], 20, color='grey', alpha=0.5)"
   ]
  },
  {
   "cell_type": "markdown",
   "metadata": {},
   "source": [
    "This model appears to work significantly better. It has the appropriate shape including the spread, but, most importantly, it has the slightly skewed maximum."
   ]
  },
  {
   "cell_type": "markdown",
   "metadata": {},
   "source": [
    "### Part F\n",
    "\n",
    "We can use the data to calculate the first five moments according to the formula,\n",
    "\n",
    "$$ \\hat{\\mathbb{E}}[X^k] = \\frac{1}{n} \\sum_{i = 1}^n x_i^k $$"
   ]
  },
  {
   "cell_type": "code",
   "execution_count": 21,
   "metadata": {},
   "outputs": [],
   "source": [
    "hat_m_1 = np.sum(df['ratio'] ** 1) / len(df['ratio'])\n",
    "hat_m_2 = np.sum(df['ratio'] ** 2) / len(df['ratio'])\n",
    "hat_m_3 = np.sum(df['ratio'] ** 3) / len(df['ratio'])\n",
    "hat_m_4 = np.sum(df['ratio'] ** 4) / len(df['ratio'])\n",
    "hat_m_5 = np.sum(df['ratio'] ** 5) / len(df['ratio'])"
   ]
  },
  {
   "cell_type": "code",
   "execution_count": 22,
   "metadata": {},
   "outputs": [
    {
     "data": {
      "text/plain": [
       "(0.6467528146897313,\n",
       " 0.4186518516254458,\n",
       " 0.2712299083593256,\n",
       " 0.17586750292761982,\n",
       " 0.11412761692520867)"
      ]
     },
     "execution_count": 22,
     "metadata": {},
     "output_type": "execute_result"
    }
   ],
   "source": [
    "hat_m_1, hat_m_2, hat_m_3, hat_m_4, hat_m_5"
   ]
  }
 ],
 "metadata": {
  "celltoolbar": "Raw Cell Format",
  "kernelspec": {
   "display_name": "Python 3",
   "language": "python",
   "name": "python3"
  },
  "language_info": {
   "codemirror_mode": {
    "name": "ipython",
    "version": 3
   },
   "file_extension": ".py",
   "mimetype": "text/x-python",
   "name": "python",
   "nbconvert_exporter": "python",
   "pygments_lexer": "ipython3",
   "version": "3.6.5"
  }
 },
 "nbformat": 4,
 "nbformat_minor": 2
}
