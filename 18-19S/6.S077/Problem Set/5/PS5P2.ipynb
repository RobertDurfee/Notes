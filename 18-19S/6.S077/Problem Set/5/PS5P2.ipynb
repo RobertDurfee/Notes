{
 "cells": [
  {
   "cell_type": "code",
   "execution_count": 45,
   "metadata": {},
   "outputs": [],
   "source": [
    "import sympy as sp\n",
    "\n",
    "x_11, x_12, x_21, x_22 = sp.symbols('x_11 x_12 x_21 x_22')\n",
    "beta_1, beta_2 = sp.symbols('beta_1 beta_2')\n",
    "y_1, y_2 = sp.symbols('y_1 y_2')\n",
    "lam = sp.symbols('lambda')"
   ]
  },
  {
   "cell_type": "markdown",
   "metadata": {},
   "source": [
    "## Part B"
   ]
  },
  {
   "cell_type": "code",
   "execution_count": 13,
   "metadata": {},
   "outputs": [],
   "source": [
    "A = sp.Matrix([[x_12 ** 2 + x_22 ** 2 + lam, x_12 ** 2 + x_22 ** 2],\n",
    "               [x_12 ** 2 + x_22 ** 2, x_12 ** 2 + x_22 ** 2 + lam]])"
   ]
  },
  {
   "cell_type": "code",
   "execution_count": 14,
   "metadata": {},
   "outputs": [],
   "source": [
    "b = sp.Matrix([[x_12 * y_1 + x_22 * y_2],\n",
    "               [x_12 * y_1 + x_22 * y_2]])"
   ]
  },
  {
   "cell_type": "code",
   "execution_count": 46,
   "metadata": {},
   "outputs": [],
   "source": [
    "x, _ = A.gauss_jordan_solve(b)\n",
    "x = sp.simplify(x)"
   ]
  },
  {
   "cell_type": "code",
   "execution_count": 47,
   "metadata": {},
   "outputs": [
    {
     "data": {
      "text/plain": [
       "Matrix([\n",
       "[(x_12*y_1 + x_22*y_2)/(lambda + 2*x_12**2 + 2*x_22**2)],\n",
       "[(x_12*y_1 + x_22*y_2)/(lambda + 2*x_12**2 + 2*x_22**2)]])"
      ]
     },
     "execution_count": 47,
     "metadata": {},
     "output_type": "execute_result"
    }
   ],
   "source": [
    "x"
   ]
  },
  {
   "cell_type": "code",
   "execution_count": 48,
   "metadata": {},
   "outputs": [
    {
     "data": {
      "text/plain": [
       "True"
      ]
     },
     "execution_count": 48,
     "metadata": {},
     "output_type": "execute_result"
    }
   ],
   "source": [
    "sp.simplify(x[0] - x[1]) == 0"
   ]
  },
  {
   "cell_type": "markdown",
   "metadata": {},
   "source": [
    "## Part D"
   ]
  },
  {
   "cell_type": "code",
   "execution_count": 105,
   "metadata": {},
   "outputs": [],
   "source": [
    "A = sp.Matrix([[x_12 ** 2 + x_22 ** 2, x_12 ** 2 + x_22 ** 2],\n",
    "               [x_12 ** 2 + x_22 ** 2, x_12 ** 2 + x_22 ** 2]])"
   ]
  },
  {
   "cell_type": "markdown",
   "metadata": {},
   "source": [
    "If $\\beta_1 = 0$ and $\\beta_2 = 0$."
   ]
  },
  {
   "cell_type": "code",
   "execution_count": 106,
   "metadata": {},
   "outputs": [],
   "source": [
    "b = sp.Matrix([[x_12 * y_1 + x_22 * y_2 - 0],\n",
    "               [x_12 * y_1 + x_22 * y_2 - 0]])"
   ]
  },
  {
   "cell_type": "code",
   "execution_count": 109,
   "metadata": {},
   "outputs": [],
   "source": [
    "x, params = A.gauss_jordan_solve(b)\n",
    "#x = sp.simplify(x)"
   ]
  },
  {
   "cell_type": "code",
   "execution_count": 110,
   "metadata": {},
   "outputs": [
    {
     "data": {
      "text/plain": [
       "Matrix([\n",
       "[-tau0 + (x_12*y_1 + x_22*y_2)/(x_12**2 + x_22**2)],\n",
       "[                                             tau0]])"
      ]
     },
     "execution_count": 110,
     "metadata": {},
     "output_type": "execute_result"
    }
   ],
   "source": [
    "x"
   ]
  },
  {
   "cell_type": "markdown",
   "metadata": {},
   "source": [
    "If $\\beta_1 > 0$ and $\\beta_2 > 0$."
   ]
  },
  {
   "cell_type": "code",
   "execution_count": 112,
   "metadata": {},
   "outputs": [],
   "source": [
    "b = sp.Matrix([[x_12 * y_1 + x_22 * y_2 - 2 * lam],\n",
    "               [x_12 * y_1 + x_22 * y_2 - 2 * lam]])"
   ]
  },
  {
   "cell_type": "code",
   "execution_count": 113,
   "metadata": {},
   "outputs": [],
   "source": [
    "x, params = A.gauss_jordan_solve(b)\n",
    "#x = sp.simplify(x)"
   ]
  },
  {
   "cell_type": "code",
   "execution_count": 114,
   "metadata": {},
   "outputs": [
    {
     "data": {
      "text/plain": [
       "Matrix([\n",
       "[-tau0 + (-2*lambda + x_12*y_1 + x_22*y_2)/(x_12**2 + x_22**2)],\n",
       "[                                                         tau0]])"
      ]
     },
     "execution_count": 114,
     "metadata": {},
     "output_type": "execute_result"
    }
   ],
   "source": [
    "x"
   ]
  },
  {
   "cell_type": "markdown",
   "metadata": {},
   "source": [
    "If $\\beta_1 < 0$ and $\\beta_2 < 0$."
   ]
  },
  {
   "cell_type": "code",
   "execution_count": 116,
   "metadata": {},
   "outputs": [],
   "source": [
    "b = sp.Matrix([[x_12 * y_1 + x_22 * y_2 + 2 * lam],\n",
    "               [x_12 * y_1 + x_22 * y_2 + 2 * lam]])"
   ]
  },
  {
   "cell_type": "code",
   "execution_count": 117,
   "metadata": {},
   "outputs": [],
   "source": [
    "x, params = A.gauss_jordan_solve(b)\n",
    "#x = sp.simplify(x)"
   ]
  },
  {
   "cell_type": "code",
   "execution_count": 118,
   "metadata": {},
   "outputs": [
    {
     "data": {
      "text/plain": [
       "Matrix([\n",
       "[-tau0 + (2*lambda + x_12*y_1 + x_22*y_2)/(x_12**2 + x_22**2)],\n",
       "[                                                        tau0]])"
      ]
     },
     "execution_count": 118,
     "metadata": {},
     "output_type": "execute_result"
    }
   ],
   "source": [
    "x"
   ]
  }
 ],
 "metadata": {
  "kernelspec": {
   "display_name": "Python 3",
   "language": "python",
   "name": "python3"
  },
  "language_info": {
   "codemirror_mode": {
    "name": "ipython",
    "version": 3
   },
   "file_extension": ".py",
   "mimetype": "text/x-python",
   "name": "python",
   "nbconvert_exporter": "python",
   "pygments_lexer": "ipython3",
   "version": "3.6.7"
  }
 },
 "nbformat": 4,
 "nbformat_minor": 2
}
