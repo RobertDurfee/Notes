{
 "cells": [
  {
   "cell_type": "code",
   "execution_count": 1,
   "metadata": {},
   "outputs": [],
   "source": [
    "import sympy as sp\n",
    "\n",
    "x_11, x_12, x_21, x_22 = sp.symbols('x_11 x_12 x_21 x_22')\n",
    "beta_1, beta_2 = sp.symbols('beta_1 beta_2')\n",
    "y_1, y_2 = sp.symbols('y_1 y_2')\n",
    "lam = sp.symbols('lambda')"
   ]
  },
  {
   "cell_type": "markdown",
   "metadata": {},
   "source": [
    "## Part B"
   ]
  },
  {
   "cell_type": "code",
   "execution_count": 2,
   "metadata": {},
   "outputs": [],
   "source": [
    "A = sp.Matrix([[x_12 ** 2 + x_22 ** 2 + lam, x_12 ** 2 + x_22 ** 2],\n",
    "               [x_12 ** 2 + x_22 ** 2, x_12 ** 2 + x_22 ** 2 + lam]])"
   ]
  },
  {
   "cell_type": "code",
   "execution_count": 3,
   "metadata": {},
   "outputs": [],
   "source": [
    "b = sp.Matrix([[x_12 * y_1 + x_22 * y_2],\n",
    "               [x_12 * y_1 + x_22 * y_2]])"
   ]
  },
  {
   "cell_type": "code",
   "execution_count": 4,
   "metadata": {},
   "outputs": [],
   "source": [
    "x, _ = A.gauss_jordan_solve(b)\n",
    "x = sp.simplify(x)"
   ]
  },
  {
   "cell_type": "code",
   "execution_count": 5,
   "metadata": {},
   "outputs": [
    {
     "data": {
      "text/plain": [
       "Matrix([\n",
       "[(x_12*y_1 + x_22*y_2)/(lambda + 2*x_12**2 + 2*x_22**2)],\n",
       "[(x_12*y_1 + x_22*y_2)/(lambda + 2*x_12**2 + 2*x_22**2)]])"
      ]
     },
     "execution_count": 5,
     "metadata": {},
     "output_type": "execute_result"
    }
   ],
   "source": [
    "x"
   ]
  },
  {
   "cell_type": "code",
   "execution_count": 6,
   "metadata": {},
   "outputs": [
    {
     "data": {
      "text/plain": [
       "True"
      ]
     },
     "execution_count": 6,
     "metadata": {},
     "output_type": "execute_result"
    }
   ],
   "source": [
    "sp.simplify(x[0] - x[1]) == 0"
   ]
  },
  {
   "cell_type": "markdown",
   "metadata": {},
   "source": [
    "## Part D"
   ]
  },
  {
   "cell_type": "code",
   "execution_count": 7,
   "metadata": {},
   "outputs": [],
   "source": [
    "A = sp.Matrix([[x_12 ** 2 + x_22 ** 2, x_12 ** 2 + x_22 ** 2],\n",
    "               [x_12 ** 2 + x_22 ** 2, x_12 ** 2 + x_22 ** 2]])"
   ]
  },
  {
   "cell_type": "markdown",
   "metadata": {},
   "source": [
    "If $\\beta_1 = 0$ and $\\beta_2 = 0$."
   ]
  },
  {
   "cell_type": "code",
   "execution_count": 8,
   "metadata": {},
   "outputs": [],
   "source": [
    "b = sp.Matrix([[x_12 * y_1 + x_22 * y_2 - 0],\n",
    "               [x_12 * y_1 + x_22 * y_2 - 0]])"
   ]
  },
  {
   "cell_type": "code",
   "execution_count": 9,
   "metadata": {},
   "outputs": [],
   "source": [
    "x, params = A.gauss_jordan_solve(b)\n",
    "#x = sp.simplify(x)"
   ]
  },
  {
   "cell_type": "code",
   "execution_count": 10,
   "metadata": {},
   "outputs": [
    {
     "data": {
      "text/plain": [
       "Matrix([\n",
       "[-tau0 + (x_12*y_1 + x_22*y_2)/(x_12**2 + x_22**2)],\n",
       "[                                             tau0]])"
      ]
     },
     "execution_count": 10,
     "metadata": {},
     "output_type": "execute_result"
    }
   ],
   "source": [
    "x"
   ]
  },
  {
   "cell_type": "markdown",
   "metadata": {},
   "source": [
    "If $\\beta_1 > 0$ and $\\beta_2 > 0$."
   ]
  },
  {
   "cell_type": "code",
   "execution_count": 11,
   "metadata": {},
   "outputs": [],
   "source": [
    "b = sp.Matrix([[x_12 * y_1 + x_22 * y_2 - 2 * lam],\n",
    "               [x_12 * y_1 + x_22 * y_2 - 2 * lam]])"
   ]
  },
  {
   "cell_type": "code",
   "execution_count": 12,
   "metadata": {},
   "outputs": [],
   "source": [
    "x, params = A.gauss_jordan_solve(b)\n",
    "#x = sp.simplify(x)"
   ]
  },
  {
   "cell_type": "code",
   "execution_count": 13,
   "metadata": {},
   "outputs": [
    {
     "data": {
      "text/plain": [
       "Matrix([\n",
       "[-tau0 + (-2*lambda + x_12*y_1 + x_22*y_2)/(x_12**2 + x_22**2)],\n",
       "[                                                         tau0]])"
      ]
     },
     "execution_count": 13,
     "metadata": {},
     "output_type": "execute_result"
    }
   ],
   "source": [
    "x"
   ]
  },
  {
   "cell_type": "markdown",
   "metadata": {},
   "source": [
    "If $\\beta_1 < 0$ and $\\beta_2 < 0$."
   ]
  },
  {
   "cell_type": "code",
   "execution_count": 14,
   "metadata": {},
   "outputs": [],
   "source": [
    "b = sp.Matrix([[x_12 * y_1 + x_22 * y_2 + 2 * lam],\n",
    "               [x_12 * y_1 + x_22 * y_2 + 2 * lam]])"
   ]
  },
  {
   "cell_type": "code",
   "execution_count": 15,
   "metadata": {},
   "outputs": [],
   "source": [
    "x, params = A.gauss_jordan_solve(b)\n",
    "#x = sp.simplify(x)"
   ]
  },
  {
   "cell_type": "code",
   "execution_count": 16,
   "metadata": {},
   "outputs": [
    {
     "data": {
      "text/plain": [
       "Matrix([\n",
       "[-tau0 + (2*lambda + x_12*y_1 + x_22*y_2)/(x_12**2 + x_22**2)],\n",
       "[                                                        tau0]])"
      ]
     },
     "execution_count": 16,
     "metadata": {},
     "output_type": "execute_result"
    }
   ],
   "source": [
    "x"
   ]
  },
  {
   "cell_type": "markdown",
   "metadata": {},
   "source": [
    "## Part B"
   ]
  },
  {
   "cell_type": "code",
   "execution_count": 20,
   "metadata": {},
   "outputs": [],
   "source": [
    "expr = sp.simplify((y_1 - (beta_1 + beta_2) * x_12) ** 2 + (-y_1 + (beta_1 + beta_2) * x_12) ** 2 + lam * (beta_1 ** 2 + beta_2 ** 2))"
   ]
  },
  {
   "cell_type": "code",
   "execution_count": 21,
   "metadata": {},
   "outputs": [
    {
     "data": {
      "text/plain": [
       "2*beta_1*lambda + 4*x_12*(x_12*(beta_1 + beta_2) - y_1)"
      ]
     },
     "execution_count": 21,
     "metadata": {},
     "output_type": "execute_result"
    }
   ],
   "source": [
    "sp.diff(expr, beta_1)"
   ]
  },
  {
   "cell_type": "code",
   "execution_count": 22,
   "metadata": {},
   "outputs": [
    {
     "data": {
      "text/plain": [
       "2*beta_2*lambda + 4*x_12*(x_12*(beta_1 + beta_2) - y_1)"
      ]
     },
     "execution_count": 22,
     "metadata": {},
     "output_type": "execute_result"
    }
   ],
   "source": [
    "sp.diff(expr, beta_2)"
   ]
  },
  {
   "cell_type": "code",
   "execution_count": 24,
   "metadata": {},
   "outputs": [
    {
     "data": {
      "text/plain": [
       "2*beta_1*lambda + 4*beta_1*x_12**2 + 4*beta_2*x_12**2 - 4*x_12*y_1"
      ]
     },
     "execution_count": 24,
     "metadata": {},
     "output_type": "execute_result"
    }
   ],
   "source": [
    "sp.expand(2*beta_1*lam + 4*x_12*(x_12*(beta_1 + beta_2) - y_1))"
   ]
  },
  {
   "cell_type": "code",
   "execution_count": 25,
   "metadata": {},
   "outputs": [
    {
     "data": {
      "text/plain": [
       "4*beta_1*x_12**2 + 2*beta_2*lambda + 4*beta_2*x_12**2 - 4*x_12*y_1"
      ]
     },
     "execution_count": 25,
     "metadata": {},
     "output_type": "execute_result"
    }
   ],
   "source": [
    "sp.expand(2*beta_2*lam + 4*x_12*(x_12*(beta_1 + beta_2) - y_1))"
   ]
  },
  {
   "cell_type": "code",
   "execution_count": 29,
   "metadata": {},
   "outputs": [
    {
     "data": {
      "text/plain": [
       "(Matrix([\n",
       "[2*x_12*y_1/(lambda + 4*x_12**2)],\n",
       "[2*x_12*y_1/(lambda + 4*x_12**2)]]), Matrix(0, 1, []))"
      ]
     },
     "execution_count": 29,
     "metadata": {},
     "output_type": "execute_result"
    }
   ],
   "source": [
    "sp.simplify(sp.Matrix([[2*lam+4*x_12 ** 2, 4*x_12 ** 2],[4*x_12 ** 2, 2 * lam + 4 * x_12 ** 2]]).gauss_jordan_solve(sp.Matrix([[4 * x_12 * y_1],[4 * x_12 * y_1]])))"
   ]
  },
  {
   "cell_type": "code",
   "execution_count": null,
   "metadata": {},
   "outputs": [],
   "source": []
  }
 ],
 "metadata": {
  "kernelspec": {
   "display_name": "Python 3",
   "language": "python",
   "name": "python3"
  },
  "language_info": {
   "codemirror_mode": {
    "name": "ipython",
    "version": 3
   },
   "file_extension": ".py",
   "mimetype": "text/x-python",
   "name": "python",
   "nbconvert_exporter": "python",
   "pygments_lexer": "ipython3",
   "version": "3.6.7"
  }
 },
 "nbformat": 4,
 "nbformat_minor": 2
}
