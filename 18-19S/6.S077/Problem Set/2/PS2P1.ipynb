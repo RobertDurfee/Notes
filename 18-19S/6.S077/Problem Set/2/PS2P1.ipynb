{
 "cells": [
  {
   "cell_type": "code",
   "execution_count": 1,
   "metadata": {},
   "outputs": [],
   "source": [
    "import numpy as np"
   ]
  },
  {
   "cell_type": "code",
   "execution_count": 118,
   "metadata": {},
   "outputs": [],
   "source": [
    "sigma = np.abs(np.random.randn())\n",
    "mu = np.abs(np.random.randn())\n",
    "n = np.random.randint(10, 20 + 1)"
   ]
  },
  {
   "cell_type": "code",
   "execution_count": 119,
   "metadata": {},
   "outputs": [],
   "source": [
    "M_hat_sum = 0\n",
    "\n",
    "for _ in range(100000):\n",
    "    \n",
    "    X = [sigma * np.random.randn() + mu for _ in range(n)]\n",
    "    \n",
    "    M_hat_sum += (1 + sum(X)) / (n + 1)\n",
    "    \n",
    "M_hat_expected = M_hat_sum / 100000    "
   ]
  },
  {
   "cell_type": "code",
   "execution_count": 120,
   "metadata": {},
   "outputs": [
    {
     "data": {
      "text/plain": [
       "1.149262029400053"
      ]
     },
     "execution_count": 120,
     "metadata": {},
     "output_type": "execute_result"
    }
   ],
   "source": [
    "M_hat_expected"
   ]
  },
  {
   "cell_type": "code",
   "execution_count": 121,
   "metadata": {},
   "outputs": [
    {
     "data": {
      "text/plain": [
       "1.1492595158417482"
      ]
     },
     "execution_count": 121,
     "metadata": {},
     "output_type": "execute_result"
    }
   ],
   "source": [
    "(1 + n * mu) / (n + 1)"
   ]
  },
  {
   "cell_type": "code",
   "execution_count": 125,
   "metadata": {},
   "outputs": [],
   "source": [
    "M_hat_sum = 0\n",
    "M_hat_squared_sum = 0\n",
    "\n",
    "for _ in range(100000):\n",
    "    \n",
    "    X = [sigma * np.random.randn() + mu for _ in range(n)]\n",
    "    \n",
    "    M_hat_sum += (1 + sum(X)) / (n + 1)\n",
    "    M_hat_squared_sum += ((1 + sum(X)) / (n + 1)) ** 2\n",
    "    \n",
    "M_hat_variance = M_hat_squared_sum / 100000 - (M_hat_sum / 100000) ** 2"
   ]
  },
  {
   "cell_type": "code",
   "execution_count": 126,
   "metadata": {},
   "outputs": [
    {
     "data": {
      "text/plain": [
       "0.021296092902215014"
      ]
     },
     "execution_count": 126,
     "metadata": {},
     "output_type": "execute_result"
    }
   ],
   "source": [
    "M_hat_variance"
   ]
  },
  {
   "cell_type": "code",
   "execution_count": 129,
   "metadata": {},
   "outputs": [
    {
     "data": {
      "text/plain": [
       "0.021380508032301866"
      ]
     },
     "execution_count": 129,
     "metadata": {},
     "output_type": "execute_result"
    }
   ],
   "source": [
    "(n * sigma ** 2) / (n + 1) ** 2"
   ]
  }
 ],
 "metadata": {
  "kernelspec": {
   "display_name": "Python 3",
   "language": "python",
   "name": "python3"
  },
  "language_info": {
   "codemirror_mode": {
    "name": "ipython",
    "version": 3
   },
   "file_extension": ".py",
   "mimetype": "text/x-python",
   "name": "python",
   "nbconvert_exporter": "python",
   "pygments_lexer": "ipython3",
   "version": "3.7.0"
  }
 },
 "nbformat": 4,
 "nbformat_minor": 2
}
