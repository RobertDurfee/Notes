{
 "cells": [
  {
   "cell_type": "code",
   "execution_count": 6,
   "metadata": {},
   "outputs": [],
   "source": [
    "import numpy as np"
   ]
  },
  {
   "cell_type": "markdown",
   "metadata": {},
   "source": [
    "## Problem 4"
   ]
  },
  {
   "cell_type": "code",
   "execution_count": 70,
   "metadata": {},
   "outputs": [],
   "source": [
    "n = np.random.randint(10, 20 + 1)\n",
    "p = np.asscalar(np.random.uniform(0, 1, 1))"
   ]
  },
  {
   "cell_type": "markdown",
   "metadata": {},
   "source": [
    "### Part A"
   ]
  },
  {
   "cell_type": "code",
   "execution_count": 27,
   "metadata": {},
   "outputs": [],
   "source": [
    "A_hat_sum = 0\n",
    "\n",
    "for _ in range(100000):\n",
    "    \n",
    "    K = np.random.binomial(n, p)\n",
    "    \n",
    "    A_hat_sum += (K / n) ** 2\n",
    "    \n",
    "A_hat_expected = A_hat_sum / 100000"
   ]
  },
  {
   "cell_type": "code",
   "execution_count": 28,
   "metadata": {},
   "outputs": [
    {
     "data": {
      "text/plain": [
       "0.17968193877557798"
      ]
     },
     "execution_count": 28,
     "metadata": {},
     "output_type": "execute_result"
    }
   ],
   "source": [
    "A_hat_expected"
   ]
  },
  {
   "cell_type": "code",
   "execution_count": 29,
   "metadata": {
    "scrolled": true
   },
   "outputs": [
    {
     "data": {
      "text/plain": [
       "0.17946088118379763"
      ]
     },
     "execution_count": 29,
     "metadata": {},
     "output_type": "execute_result"
    }
   ],
   "source": [
    "p / n * (1 + p * (n - 1))"
   ]
  },
  {
   "cell_type": "markdown",
   "metadata": {},
   "source": [
    "### Part B"
   ]
  },
  {
   "cell_type": "code",
   "execution_count": 30,
   "metadata": {},
   "outputs": [],
   "source": [
    "A_hat_b_sum = 0\n",
    "\n",
    "for _ in range(100000):\n",
    "    \n",
    "    K = np.random.binomial(n, p)\n",
    "    \n",
    "    A_hat_b_sum += (K / n) ** 2 - (K * (1 - K / n)) / n ** 2\n",
    "    \n",
    "A_hat_b_expected = A_hat_b_sum / 100000"
   ]
  },
  {
   "cell_type": "code",
   "execution_count": 31,
   "metadata": {},
   "outputs": [
    {
     "data": {
      "text/plain": [
       "0.16305325072879448"
      ]
     },
     "execution_count": 31,
     "metadata": {},
     "output_type": "execute_result"
    }
   ],
   "source": [
    "A_hat_b_expected"
   ]
  },
  {
   "cell_type": "code",
   "execution_count": 32,
   "metadata": {},
   "outputs": [
    {
     "data": {
      "text/plain": [
       "0.1635054073635312"
      ]
     },
     "execution_count": 32,
     "metadata": {},
     "output_type": "execute_result"
    }
   ],
   "source": [
    "p * (n ** 2 * p - p + 1) / n ** 2"
   ]
  },
  {
   "cell_type": "markdown",
   "metadata": {},
   "source": [
    "### Part C"
   ]
  },
  {
   "cell_type": "code",
   "execution_count": 61,
   "metadata": {},
   "outputs": [],
   "source": [
    "A_hat_c_sum = 0\n",
    "\n",
    "for _ in range(100000):\n",
    "    \n",
    "    X = np.random.binomial(1, p, n)\n",
    "    \n",
    "    A_hat_c = 0\n",
    "    \n",
    "    for i in range(0, n - 1, 2):\n",
    "        A_hat_c += X[i] * X[i + 1]\n",
    "    \n",
    "    A_hat_c_sum += A_hat_c / (n / 2)\n",
    "    \n",
    "A_hat_c_expected = A_hat_c_sum / 100000"
   ]
  },
  {
   "cell_type": "code",
   "execution_count": 62,
   "metadata": {},
   "outputs": [
    {
     "data": {
      "text/plain": [
       "0.1239975"
      ]
     },
     "execution_count": 62,
     "metadata": {},
     "output_type": "execute_result"
    }
   ],
   "source": [
    "A_hat_c_expected"
   ]
  },
  {
   "cell_type": "code",
   "execution_count": 63,
   "metadata": {},
   "outputs": [
    {
     "data": {
      "text/plain": [
       "0.1235435739382475"
      ]
     },
     "execution_count": 63,
     "metadata": {},
     "output_type": "execute_result"
    }
   ],
   "source": [
    "p ** 2"
   ]
  },
  {
   "cell_type": "code",
   "execution_count": 64,
   "metadata": {},
   "outputs": [],
   "source": [
    "A_hat_c_sum = 0\n",
    "A_hat_c_squared_sum = 0\n",
    "\n",
    "for _ in range(100000):\n",
    "    \n",
    "    X = np.random.binomial(1, p, n)\n",
    "    \n",
    "    A_hat_c = 0\n",
    "    \n",
    "    for i in range(0, n - 1, 2):\n",
    "        A_hat_c += X[i] * X[i + 1]\n",
    "    \n",
    "    A_hat_c_sum += A_hat_c / (n / 2)\n",
    "    A_hat_c_squared_sum += (A_hat_c / (n / 2)) ** 2\n",
    "    \n",
    "A_hat_c_variance = A_hat_c_squared_sum / 100000 - (A_hat_c_sum / 100000) ** 2"
   ]
  },
  {
   "cell_type": "code",
   "execution_count": 65,
   "metadata": {},
   "outputs": [
    {
     "data": {
      "text/plain": [
       "0.0134804099984375"
      ]
     },
     "execution_count": 65,
     "metadata": {},
     "output_type": "execute_result"
    }
   ],
   "source": [
    "A_hat_c_variance"
   ]
  },
  {
   "cell_type": "code",
   "execution_count": 66,
   "metadata": {},
   "outputs": [
    {
     "data": {
      "text/plain": [
       "0.013535069909601533"
      ]
     },
     "execution_count": 66,
     "metadata": {},
     "output_type": "execute_result"
    }
   ],
   "source": [
    "2 / n * (p ** 2 - p ** 4)"
   ]
  },
  {
   "cell_type": "markdown",
   "metadata": {},
   "source": [
    "### Part D"
   ]
  },
  {
   "cell_type": "code",
   "execution_count": 125,
   "metadata": {},
   "outputs": [],
   "source": [
    "A_hat_d_sum = 0\n",
    "\n",
    "for _ in range(100000):\n",
    "    \n",
    "    X = np.random.binomial(1, p, n)\n",
    "    \n",
    "    K_1 = sum(X[:(X.shape[0] // 2)])\n",
    "    K_2 = sum(X[(X.shape[0] // 2):])\n",
    "    \n",
    "    A_hat_d_sum += (K_1 / (n / 2)) * (K_2 / (n / 2))\n",
    "    \n",
    "A_hat_d_expected = A_hat_d_sum / 100000"
   ]
  },
  {
   "cell_type": "code",
   "execution_count": 126,
   "metadata": {},
   "outputs": [
    {
     "data": {
      "text/plain": [
       "0.11939142857154998"
      ]
     },
     "execution_count": 126,
     "metadata": {},
     "output_type": "execute_result"
    }
   ],
   "source": [
    "A_hat_d_expected"
   ]
  },
  {
   "cell_type": "code",
   "execution_count": 127,
   "metadata": {
    "scrolled": true
   },
   "outputs": [
    {
     "data": {
      "text/plain": [
       "0.11934142636033115"
      ]
     },
     "execution_count": 127,
     "metadata": {},
     "output_type": "execute_result"
    }
   ],
   "source": [
    "p ** 2"
   ]
  },
  {
   "cell_type": "markdown",
   "metadata": {},
   "source": [
    "### Part E"
   ]
  },
  {
   "cell_type": "code",
   "execution_count": 71,
   "metadata": {},
   "outputs": [],
   "source": [
    "A_hat_e_sum = 0\n",
    "\n",
    "for _ in range(100000):\n",
    "    \n",
    "    K = np.random.binomial(n, p)\n",
    "    \n",
    "    A_hat_e_sum += - K / (n * (n - 1)) + K ** 2 / (n * (n - 1))\n",
    "    \n",
    "A_hat_e_expected = A_hat_e_sum / 100000"
   ]
  },
  {
   "cell_type": "code",
   "execution_count": 72,
   "metadata": {},
   "outputs": [
    {
     "data": {
      "text/plain": [
       "0.703102397660958"
      ]
     },
     "execution_count": 72,
     "metadata": {},
     "output_type": "execute_result"
    }
   ],
   "source": [
    "A_hat_e_expected"
   ]
  },
  {
   "cell_type": "code",
   "execution_count": 73,
   "metadata": {},
   "outputs": [
    {
     "data": {
      "text/plain": [
       "0.703015419759094"
      ]
     },
     "execution_count": 73,
     "metadata": {},
     "output_type": "execute_result"
    }
   ],
   "source": [
    "p ** 2"
   ]
  },
  {
   "cell_type": "code",
   "execution_count": null,
   "metadata": {},
   "outputs": [],
   "source": []
  }
 ],
 "metadata": {
  "kernelspec": {
   "display_name": "Python 3",
   "language": "python",
   "name": "python3"
  },
  "language_info": {
   "codemirror_mode": {
    "name": "ipython",
    "version": 3
   },
   "file_extension": ".py",
   "mimetype": "text/x-python",
   "name": "python",
   "nbconvert_exporter": "python",
   "pygments_lexer": "ipython3",
   "version": "3.7.0"
  }
 },
 "nbformat": 4,
 "nbformat_minor": 2
}
