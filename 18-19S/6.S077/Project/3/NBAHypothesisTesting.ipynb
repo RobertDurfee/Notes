{
 "cells": [
  {
   "cell_type": "code",
   "execution_count": 1,
   "metadata": {},
   "outputs": [],
   "source": [
    "import pandas as pd\n",
    "import matplotlib.pyplot as plt\n",
    "import scipy.stats as stats"
   ]
  },
  {
   "cell_type": "markdown",
   "metadata": {},
   "source": [
    "# NBA Hypothesis Testing\n",
    "\n",
    "## Problem 1\n",
    "\n",
    "First we load the NBA data set into a Pandas dataframe."
   ]
  },
  {
   "cell_type": "code",
   "execution_count": 2,
   "metadata": {},
   "outputs": [],
   "source": [
    "df = pd.read_csv('nba_data.csv')"
   ]
  },
  {
   "cell_type": "markdown",
   "metadata": {},
   "source": [
    "The `date` column is read as a string. We need to convert it to a `datetime` data type."
   ]
  },
  {
   "cell_type": "code",
   "execution_count": 3,
   "metadata": {},
   "outputs": [],
   "source": [
    "df['date'] = pd.to_datetime(df['date'], format='%A, %B %d, %Y')"
   ]
  },
  {
   "cell_type": "markdown",
   "metadata": {},
   "source": [
    "### Part A\n",
    "\n",
    "We can count the number of games in the dataset."
   ]
  },
  {
   "cell_type": "code",
   "execution_count": 4,
   "metadata": {},
   "outputs": [
    {
     "name": "stdout",
     "output_type": "stream",
     "text": [
      "Number of games: 60688\n"
     ]
    }
   ],
   "source": [
    "print(f\"Number of games: {len(df)}\")"
   ]
  },
  {
   "cell_type": "markdown",
   "metadata": {},
   "source": [
    "### Part B\n",
    "\n",
    "We can look at the columns in the dataset."
   ]
  },
  {
   "cell_type": "code",
   "execution_count": 5,
   "metadata": {},
   "outputs": [
    {
     "name": "stdout",
     "output_type": "stream",
     "text": [
      "Columns:\n",
      "  season\n",
      "  date\n",
      "  home_pt\n",
      "  home_team\n",
      "  away_pt\n",
      "  away_team\n",
      "  finished_in\n",
      "  winner_pt\n",
      "  margin\n"
     ]
    }
   ],
   "source": [
    "print('Columns:')\n",
    "for col in df.columns: \n",
    "    print(f\"  {col}\")"
   ]
  },
  {
   "cell_type": "markdown",
   "metadata": {},
   "source": [
    "### Part C\n",
    "\n",
    "We will create a column for the difference between home and away score for each game."
   ]
  },
  {
   "cell_type": "code",
   "execution_count": 6,
   "metadata": {},
   "outputs": [],
   "source": [
    "df['pt_diff'] = df['home_pt'] - df['away_pt']"
   ]
  },
  {
   "cell_type": "markdown",
   "metadata": {},
   "source": [
    "### Part D\n",
    "\n",
    "We will also create a column for the total number of points scored in each game."
   ]
  },
  {
   "cell_type": "code",
   "execution_count": 7,
   "metadata": {},
   "outputs": [],
   "source": [
    "df['total_pt'] = df['home_pt'] + df['away_pt']"
   ]
  },
  {
   "cell_type": "markdown",
   "metadata": {},
   "source": [
    "### Part E\n",
    "\n",
    "We create a function `weekend_new_column()` to add two new columns to the dataframe: \n",
    "- `day_of_week` for the day of the week the game was held ($\\{0, \\ldots, 6\\}$) \n",
    "- `weekend` for if the game was on a weekend ($\\{0, 1\\}$)."
   ]
  },
  {
   "cell_type": "code",
   "execution_count": 8,
   "metadata": {},
   "outputs": [],
   "source": [
    "def weekend_new_column(df):\n",
    "    \"\"\"Adds two columns to the dataframe:\n",
    "        - `day_of_week` for the day of the week the game was held.\n",
    "        - `weekend` for if the game was on a weekend.\n",
    "        \n",
    "    Args:\n",
    "        df (DataFrame): A dataframe containing the existing NBA \n",
    "            historical data of games with a column `date`.\n",
    "    \n",
    "    Returns:\n",
    "        DataFrame: New dataframe with the additional two columns.\n",
    "        \n",
    "    \"\"\"\n",
    "    df['day_of_week'] = df['date'].apply(lambda date: date.weekday())\n",
    "    df['weekend'] = df['day_of_week'] >= 5\n",
    "    \n",
    "    return df"
   ]
  },
  {
   "cell_type": "markdown",
   "metadata": {},
   "source": [
    "### Part F\n",
    "\n",
    "We use the function defined in the previous part and create the new columns specified above."
   ]
  },
  {
   "cell_type": "code",
   "execution_count": 9,
   "metadata": {},
   "outputs": [],
   "source": [
    "df = weekend_new_column(df)"
   ]
  },
  {
   "cell_type": "markdown",
   "metadata": {},
   "source": [
    "## Problem 2\n",
    "\n",
    "### Part A\n",
    "\n",
    "We can plot the average total score for each season."
   ]
  },
  {
   "cell_type": "code",
   "execution_count": 10,
   "metadata": {},
   "outputs": [
    {
     "data": {
      "image/png": "[encoded data removed]",
      "text/plain": [
       "<Figure size 432x288 with 1 Axes>"
      ]
     },
     "metadata": {
      "needs_background": "light"
     },
     "output_type": "display_data"
    }
   ],
   "source": [
    "plt.plot(df.groupby('season').mean()['total_pt'])\n",
    "\n",
    "plt.title('Average Total Points Over Seasons')\n",
    "plt.ylabel('Points')\n",
    "_ = plt.xlabel('Season')"
   ]
  },
  {
   "cell_type": "markdown",
   "metadata": {},
   "source": [
    "It seems that when this data was first recorded, around the 1950s, there was significantly fewer total points scored than in the 1960s and beyond. Once the 1960s arrived, there was a drastic increase in the number of total points scored. After the 1960s, the total points begins to generally decrease (particularly in the mid-1970s and mid-1990s) until the mid 2000s. Now the total points are trending upwards."
   ]
  },
  {
   "cell_type": "markdown",
   "metadata": {},
   "source": [
    "### Part B\n",
    "\n",
    "For every game, we can plot a histogram of the number of total points scored."
   ]
  },
  {
   "cell_type": "code",
   "execution_count": 11,
   "metadata": {},
   "outputs": [
    {
     "data": {
      "image/png": "[encoded data removed]",
      "text/plain": [
       "<Figure size 432x288 with 1 Axes>"
      ]
     },
     "metadata": {
      "needs_background": "light"
     },
     "output_type": "display_data"
    }
   ],
   "source": [
    "plt.hist(df['total_pt'], bins=120)\n",
    "\n",
    "plt.title('Total Points Scored Per Game')\n",
    "plt.ylabel('Frequency')\n",
    "_ = plt.xlabel('Points')"
   ]
  },
  {
   "cell_type": "markdown",
   "metadata": {},
   "source": [
    "### Part C\n",
    "\n",
    "There appears to be strong evidence for normality. The distribution is largely bell-shaped and symmetric. However, there appear to a few bins that have significantly lower frequencies than their surrounding bins."
   ]
  },
  {
   "cell_type": "markdown",
   "metadata": {},
   "source": [
    "### Part D\n",
    "\n",
    "We can plot a quantile-quantile plot to test our visual evidence for normality."
   ]
  },
  {
   "cell_type": "code",
   "execution_count": 12,
   "metadata": {},
   "outputs": [
    {
     "data": {
      "image/png": "[encoded data removed]",
      "text/plain": [
       "<Figure size 432x288 with 1 Axes>"
      ]
     },
     "metadata": {
      "needs_background": "light"
     },
     "output_type": "display_data"
    }
   ],
   "source": [
    "_, ax = plt.subplots()\n",
    "\n",
    "stats.probplot(df['total_pt'], plot=ax)\n",
    "\n",
    "ax.get_lines()[0].set_color('#1f77b4')\n",
    "ax.get_lines()[1].set_color('#ff7f0e')\n",
    "\n",
    "ax.get_lines()[0].set_label('Observed')\n",
    "ax.get_lines()[1].set_label('Normal')\n",
    "\n",
    "_ = plt.legend()"
   ]
  },
  {
   "cell_type": "markdown",
   "metadata": {},
   "source": [
    "It appears that the distribution closely resembles a normal distribution. The evidence against is located at the right tail. It appears the right tail might be a little more heavily-weighted than a normal distribution."
   ]
  },
  {
   "cell_type": "markdown",
   "metadata": {},
   "source": [
    "## Problem 3\n",
    "\n",
    "In this problem we test whether or not scoring became more conservative in the NBA during the 1990s.\n",
    "\n",
    "### Part A\n",
    "\n",
    "We partition our dataset to just include seasons between $1970$ and $2000$."
   ]
  },
  {
   "cell_type": "code",
   "execution_count": 13,
   "metadata": {},
   "outputs": [],
   "source": [
    "df_subset = df[(df['season'] >= 1970) & (df['season'] < 2000)]"
   ]
  },
  {
   "cell_type": "markdown",
   "metadata": {},
   "source": [
    "### Part B\n",
    "\n",
    "Now we split the data subset into groups before and after $1990$."
   ]
  },
  {
   "cell_type": "code",
   "execution_count": 14,
   "metadata": {},
   "outputs": [],
   "source": [
    "df_subset_before = df_subset[df_subset['season'] < 1990]\n",
    "df_subset_after = df_subset[df_subset['season'] >= 1990]"
   ]
  },
  {
   "cell_type": "markdown",
   "metadata": {},
   "source": [
    "### Part C\n",
    "\n",
    "The null hypothesis we wish to test is that average total points scored in games between the two periods is equivalent. The alternative hypothesis is that the two means are not equal. Mathematically,\n",
    "$$ H_0 : \\mu_{\\mathrm{before}} = \\mu_{\\mathrm{after}} $$\n",
    "$$ H_1 : \\mu_{\\mathrm{before}} \\neq \\mu_{\\mathrm{after}} $$"
   ]
  },
  {
   "cell_type": "markdown",
   "metadata": {},
   "source": [
    "### Part D\n",
    "\n",
    "We can evaluate the mean total scores of each period."
   ]
  },
  {
   "cell_type": "code",
   "execution_count": 15,
   "metadata": {},
   "outputs": [
    {
     "name": "stdout",
     "output_type": "stream",
     "text": [
      "Mean Before: 217.3702106485321\n",
      "Mean After: 202.07596566523605\n"
     ]
    }
   ],
   "source": [
    "hat_mu_before = df_subset_before['total_pt'].mean()\n",
    "hat_mu_after = df_subset_after['total_pt'].mean()\n",
    "\n",
    "print(f\"Mean Before: {hat_mu_before}\")\n",
    "print(f\"Mean After: {hat_mu_after}\")"
   ]
  },
  {
   "cell_type": "markdown",
   "metadata": {},
   "source": [
    "### Part E\n",
    "\n",
    "We run a two-sample $t$-test for the two means without assuming equal variance."
   ]
  },
  {
   "cell_type": "code",
   "execution_count": 16,
   "metadata": {},
   "outputs": [
    {
     "name": "stdout",
     "output_type": "stream",
     "text": [
      "t: 58.56557673842027\n",
      "p-value: 0.0\n"
     ]
    }
   ],
   "source": [
    "results = stats.ttest_ind(df_subset_before['total_pt'],\n",
    "                          df_subset_after['total_pt'], \n",
    "                          equal_var=False)\n",
    "\n",
    "print(f\"t: {results.statistic}\")\n",
    "print(f\"p-value: {results.pvalue}\")"
   ]
  },
  {
   "cell_type": "markdown",
   "metadata": {},
   "source": [
    "### Part F\n",
    "\n",
    "From the last part, we see that the $p$-value is zero and the $t$-statistic is quite high. Therefore, we can reject the null that the means are equivalent with low $\\alpha$-level ($\\alpha$ less than $0.05$)."
   ]
  },
  {
   "cell_type": "markdown",
   "metadata": {},
   "source": [
    "## Problem 4\n",
    "\n",
    "In this problem we test whether there is a home-court advantage.\n",
    "\n",
    "### Part A\n",
    "\n",
    "First we create a subset of data only including years in the inclusive range $[2000, 2017]$."
   ]
  },
  {
   "cell_type": "code",
   "execution_count": 17,
   "metadata": {},
   "outputs": [],
   "source": [
    "df_subset = df[(df['season'] >= 2000) & (df['season'] <= 2017)]"
   ]
  },
  {
   "cell_type": "markdown",
   "metadata": {},
   "source": [
    "### Part B\n",
    "\n",
    "We can check the mean difference between the points scored by the home team and the away team in this subset."
   ]
  },
  {
   "cell_type": "code",
   "execution_count": 18,
   "metadata": {},
   "outputs": [
    {
     "data": {
      "text/plain": [
       "3.204781839368176"
      ]
     },
     "execution_count": 18,
     "metadata": {},
     "output_type": "execute_result"
    }
   ],
   "source": [
    "df_subset['pt_diff'].mean()"
   ]
  },
  {
   "cell_type": "markdown",
   "metadata": {},
   "source": [
    "### Part C\n",
    "\n",
    "The null hypothesis we wish to test is that average difference of points scored by the home and away team is zero. The alternative hypothesis is that the home team has an advantage, therefore the difference should be positive. Mathematically,\n",
    "$$ H_0 : \\mu_{\\mathrm{home}} - \\mu_{\\mathrm{away}} = 0 $$\n",
    "$$ H_1 : \\mu_{\\mathrm{home}} - \\mu_{\\mathrm{away}} > 0 $$"
   ]
  },
  {
   "cell_type": "markdown",
   "metadata": {},
   "source": [
    "### Part D\n",
    "\n",
    "We run a one-sample $t$-test for the mean difference. Note we are doing a one-sided $t$-test so we divide the $p$-value by $2$."
   ]
  },
  {
   "cell_type": "code",
   "execution_count": 19,
   "metadata": {},
   "outputs": [
    {
     "name": "stdout",
     "output_type": "stream",
     "text": [
      "t: 37.492696922047486\n",
      "p-value: 4.968793905787681e-299\n"
     ]
    }
   ],
   "source": [
    "results = stats.ttest_1samp(df_subset['pt_diff'], 0)\n",
    "\n",
    "print(f\"t: {results.statistic}\")\n",
    "print(f\"p-value: {results.pvalue / 2}\")"
   ]
  },
  {
   "cell_type": "markdown",
   "metadata": {},
   "source": [
    "### Part E\n",
    "\n",
    "From the last part, we see that the $p$-value is nearly zero and the $t$-statistic is high. Therefore, we can reject the null that the difference is zero with low $\\alpha$-level ($\\alpha$ less than $0.05$)."
   ]
  },
  {
   "cell_type": "markdown",
   "metadata": {},
   "source": [
    "## Problem 5\n",
    "\n",
    "In this problem we test if there is a difference between scoring on weekday vs weekend games.\n",
    "\n",
    "### Part A\n",
    "\n",
    "We again restrict the data to just include seasons $[2000, 2017]$."
   ]
  },
  {
   "cell_type": "code",
   "execution_count": 20,
   "metadata": {},
   "outputs": [],
   "source": [
    "df_subset = df[(df['season'] >= 2000) & (df['season'] <= 2017)]"
   ]
  },
  {
   "cell_type": "markdown",
   "metadata": {},
   "source": [
    "### Part B\n",
    "\n",
    "We can compute two histograms for weekend and weekday game total scores."
   ]
  },
  {
   "cell_type": "code",
   "execution_count": 21,
   "metadata": {},
   "outputs": [],
   "source": [
    "df_subset_weekday = df_subset[df_subset['weekend'] == False]\n",
    "df_subset_weekend = df_subset[df_subset['weekend'] == True]"
   ]
  },
  {
   "cell_type": "code",
   "execution_count": 22,
   "metadata": {},
   "outputs": [
    {
     "data": {
      "image/png": "[encoded data removed]",
      "text/plain": [
       "<Figure size 432x288 with 1 Axes>"
      ]
     },
     "metadata": {
      "needs_background": "light"
     },
     "output_type": "display_data"
    }
   ],
   "source": [
    "plt.hist(df_subset_weekday['total_pt'], bins=100, label='Weekday')\n",
    "plt.hist(df_subset_weekend['total_pt'], bins=100, label='Weekend')\n",
    "\n",
    "plt.legend()\n",
    "plt.title('Weekday vs Weekend Total Points')\n",
    "plt.ylabel('Frequency')\n",
    "_ = plt.xlabel('Points')"
   ]
  },
  {
   "cell_type": "markdown",
   "metadata": {},
   "source": [
    "### Part C\n",
    "\n",
    "We can compute the average total points for weekday and weekend games."
   ]
  },
  {
   "cell_type": "code",
   "execution_count": 23,
   "metadata": {},
   "outputs": [
    {
     "name": "stdout",
     "output_type": "stream",
     "text": [
      "Mean Weekday: 196.9075830797685\n",
      "Mean Weekend: 202.07596566523605\n"
     ]
    }
   ],
   "source": [
    "hat_mu_weekday = df_subset_weekday['total_pt'].mean()\n",
    "hat_mu_weekend = df_subset_weekend['total_pt'].mean()\n",
    "\n",
    "print(f\"Mean Weekday: {hat_mu_weekday}\")\n",
    "print(f\"Mean Weekend: {hat_mu_after}\")"
   ]
  },
  {
   "cell_type": "markdown",
   "metadata": {},
   "source": [
    "### Part D\n",
    "\n",
    "The null hypothesis we wish to test is that average total points scored in weekday games is equal in weekend games. The alternative hypothesis is that the two means are not equal. Mathematically,\n",
    "$$ H_0 : \\mu_{\\mathrm{weekday}} = \\mu_{\\mathrm{weekend}} $$\n",
    "$$ H_1 : \\mu_{\\mathrm{weekday}} \\neq \\mu_{\\mathrm{weekend}} $$"
   ]
  },
  {
   "cell_type": "markdown",
   "metadata": {},
   "source": [
    "### Part E\n",
    "\n",
    "We run a two-sample $t$-test for the two means without assuming equal variance."
   ]
  },
  {
   "cell_type": "code",
   "execution_count": 24,
   "metadata": {},
   "outputs": [
    {
     "name": "stdout",
     "output_type": "stream",
     "text": [
      "t: 1.5318301686986437\n",
      "p-value: 0.12559161393965187\n"
     ]
    }
   ],
   "source": [
    "results = stats.ttest_ind(df_subset_weekday['total_pt'],\n",
    "                          df_subset_weekend['total_pt'], \n",
    "                          equal_var=False)\n",
    "\n",
    "print(f\"t: {results.statistic}\")\n",
    "print(f\"p-value: {results.pvalue}\")"
   ]
  },
  {
   "cell_type": "markdown",
   "metadata": {},
   "source": [
    "### Part F\n",
    "\n",
    "From the last part, we see that the $p$-value is roughly 13\\% and the $t$-statistic is relatively low. Therefore, we cannot reject the null that the means are equal with low $\\alpha$-level ($\\alpha$ less than $0.13$)."
   ]
  },
  {
   "cell_type": "markdown",
   "metadata": {},
   "source": [
    "## Problem 6\n",
    "\n",
    "In this problem, we consider if teams are more conservative (lower scoring) in the playoffs than they are in the regular season.\n",
    "\n",
    "### Part A\n",
    "\n",
    "We produce two datasets, one for games between April and June for playoffs and one for games between September and February for regular season."
   ]
  },
  {
   "cell_type": "code",
   "execution_count": 25,
   "metadata": {},
   "outputs": [],
   "source": [
    "df_subset_playoffs = df[df['date'].apply(lambda d: (d.month >= 4) \n",
    "                                         & (d.month <= 6))]\n",
    "df_subset_regular = df[df['date'].apply(lambda d: (d.month >= 9) \n",
    "                                        | (d.month <= 2))]"
   ]
  },
  {
   "cell_type": "markdown",
   "metadata": {},
   "source": [
    "### Part B\n",
    "\n",
    "We can check the number of playoff vs regular season games."
   ]
  },
  {
   "cell_type": "code",
   "execution_count": 26,
   "metadata": {},
   "outputs": [
    {
     "name": "stdout",
     "output_type": "stream",
     "text": [
      "Playoff Games: 8595\n",
      "Regular Games: 41352\n"
     ]
    }
   ],
   "source": [
    "print(f\"Playoff Games: {len(df_subset_playoffs)}\")\n",
    "print(f\"Regular Games: {len(df_subset_regular)}\")"
   ]
  },
  {
   "cell_type": "markdown",
   "metadata": {},
   "source": [
    "### Part C\n",
    "\n",
    "We can calculate the mean total points between the subsets."
   ]
  },
  {
   "cell_type": "code",
   "execution_count": 27,
   "metadata": {},
   "outputs": [
    {
     "name": "stdout",
     "output_type": "stream",
     "text": [
      "Mean Playoffs: 202.49680046538685\n",
      "Mean Regular: 205.5076175275682\n"
     ]
    }
   ],
   "source": [
    "hat_mu_playoffs = df_subset_playoffs['total_pt'].mean()\n",
    "hat_mu_regular = df_subset_regular['total_pt'].mean()\n",
    "\n",
    "print(f\"Mean Playoffs: {hat_mu_playoffs}\")\n",
    "print(f\"Mean Regular: {hat_mu_regular}\")"
   ]
  },
  {
   "cell_type": "markdown",
   "metadata": {},
   "source": [
    "### Part D\n",
    "\n",
    "We can plot the total scores throughout the seasons for both playoff and regular season."
   ]
  },
  {
   "cell_type": "code",
   "execution_count": 28,
   "metadata": {},
   "outputs": [
    {
     "data": {
      "image/png": "[encoded data removed]",
      "text/plain": [
       "<Figure size 432x288 with 1 Axes>"
      ]
     },
     "metadata": {
      "needs_background": "light"
     },
     "output_type": "display_data"
    }
   ],
   "source": [
    "plt.plot(df_subset_playoffs.groupby('season').mean()['total_pt'], \n",
    "         label='Playoffs')\n",
    "plt.plot(df_subset_regular.groupby('season').mean()['total_pt'], \n",
    "         label='Regular')\n",
    "\n",
    "plt.legend()\n",
    "plt.title('Total Points in Playoffs and Regular Seasons')\n",
    "plt.ylabel('Points')\n",
    "_ = plt.xlabel('Season')"
   ]
  },
  {
   "cell_type": "markdown",
   "metadata": {},
   "source": [
    "It seems that, for the most part, the total points in playoffs and regular season are closely related. However, in the 1960s and 1970s (and a little bit of the 1980s), it seems that the average scores in the playoffs was often lower than the average scores in the regular season."
   ]
  },
  {
   "cell_type": "markdown",
   "metadata": {},
   "source": [
    "### Part E\n",
    "\n",
    "The null hypothesis we wish to test is that average total points scored in playoff games is equal in regular games. The alternative hypothesis is that the two means are not equal. Mathematically,\n",
    "$$ H_0 : \\mu_{\\mathrm{playoffs}} = \\mu_{\\mathrm{regular}} $$\n",
    "$$ H_1 : \\mu_{\\mathrm{playoffs}} < \\mu_{\\mathrm{regular}} $$"
   ]
  },
  {
   "cell_type": "markdown",
   "metadata": {},
   "source": [
    "### Part F\n",
    "\n",
    "Given the differences over the complete time period, we consider two time periods independently: $[1960, 1980]$ and $[2000, 2017]$. We first consider the $[1960, 1980]$ time period."
   ]
  },
  {
   "cell_type": "code",
   "execution_count": 29,
   "metadata": {},
   "outputs": [],
   "source": [
    "df_subset_playoffs_19 = df_subset_playoffs[(df_subset_playoffs['season'] >= 1960) \n",
    "                                        & (df_subset_playoffs['season'] <= 1980)]\n",
    "df_subset_regular_19 = df_subset_regular[(df_subset_regular['season'] >= 1960) \n",
    "                                         & (df_subset_regular['season'] <= 1980)]"
   ]
  },
  {
   "cell_type": "markdown",
   "metadata": {},
   "source": [
    "### Part G\n",
    "\n",
    "We can compare the means of the total points scored between the playoffs and regular season for the subset."
   ]
  },
  {
   "cell_type": "code",
   "execution_count": 30,
   "metadata": {},
   "outputs": [
    {
     "name": "stdout",
     "output_type": "stream",
     "text": [
      "Mean Playoffs: 213.3367935409458\n",
      "Mean Regular: 220.84210004952948\n"
     ]
    }
   ],
   "source": [
    "hat_mu_playoffs_19 = df_subset_playoffs_19['total_pt'].mean()\n",
    "hat_mu_regular_19 = df_subset_regular_19['total_pt'].mean()\n",
    "\n",
    "print(f\"Mean Playoffs: {hat_mu_playoffs_19}\")\n",
    "print(f\"Mean Regular: {hat_mu_regular_19}\")"
   ]
  },
  {
   "cell_type": "markdown",
   "metadata": {},
   "source": [
    "### Part H\n",
    "\n",
    "We run a two-sample $t$-test for the two means without assuming equal variance."
   ]
  },
  {
   "cell_type": "code",
   "execution_count": 31,
   "metadata": {},
   "outputs": [
    {
     "name": "stdout",
     "output_type": "stream",
     "text": [
      "t: -10.064931585735033\n",
      "p-value: 8.557608405175591e-23\n"
     ]
    }
   ],
   "source": [
    "results = stats.ttest_ind(df_subset_playoffs_19['total_pt'],\n",
    "                          df_subset_regular_19['total_pt'], \n",
    "                          equal_var=False)\n",
    "\n",
    "print(f\"t: {results.statistic}\")\n",
    "print(f\"p-value: {results.pvalue}\")"
   ]
  },
  {
   "cell_type": "markdown",
   "metadata": {},
   "source": [
    "### Part I\n",
    "\n",
    "From the last part, we see that the $p$-value is nearly zero and the $t$-statistic is high (in magnitude). Therefore, we can reject the null that the difference is zero in favor of the alternative that the average total score for playoffs is lower than regular season with low $\\alpha$-level ($\\alpha$ less than $0.05$). \n"
   ]
  },
  {
   "cell_type": "markdown",
   "metadata": {},
   "source": [
    "### Part J\n",
    "\n",
    "We now consider the $[2000, 2017]$ time period."
   ]
  },
  {
   "cell_type": "code",
   "execution_count": 32,
   "metadata": {},
   "outputs": [],
   "source": [
    "df_subset_playoffs_20 = df_subset_playoffs[(df_subset_playoffs['season'] >= 2000) \n",
    "                                        & (df_subset_playoffs['season'] <= 2017)]\n",
    "df_subset_regular_20 = df_subset_regular[(df_subset_regular['season'] >= 2000) \n",
    "                                         & (df_subset_regular['season'] <= 2017)]"
   ]
  },
  {
   "cell_type": "markdown",
   "metadata": {},
   "source": [
    "### Part K\n",
    "\n",
    "We can compare the means of the total points scored between the playoffs and regular season for the subset."
   ]
  },
  {
   "cell_type": "code",
   "execution_count": 33,
   "metadata": {},
   "outputs": [
    {
     "name": "stdout",
     "output_type": "stream",
     "text": [
      "Mean Playoffs: 196.16927490871151\n",
      "Mean Regular: 196.49699610483924\n"
     ]
    }
   ],
   "source": [
    "hat_mu_playoffs_20 = df_subset_playoffs_20['total_pt'].mean()\n",
    "hat_mu_regular_20 = df_subset_regular_20['total_pt'].mean()\n",
    "\n",
    "print(f\"Mean Playoffs: {hat_mu_playoffs_20}\")\n",
    "print(f\"Mean Regular: {hat_mu_regular_20}\")"
   ]
  },
  {
   "cell_type": "markdown",
   "metadata": {},
   "source": [
    "### Part L\n",
    "\n",
    "We run a two-sample $t$-test for the two means without assuming equal variance."
   ]
  },
  {
   "cell_type": "code",
   "execution_count": 34,
   "metadata": {},
   "outputs": [
    {
     "name": "stdout",
     "output_type": "stream",
     "text": [
      "t: -0.8505001514109403\n",
      "p-value: 0.3950826083683683\n"
     ]
    }
   ],
   "source": [
    "results = stats.ttest_ind(df_subset_playoffs_20['total_pt'],\n",
    "                          df_subset_regular_20['total_pt'], \n",
    "                          equal_var=False)\n",
    "\n",
    "print(f\"t: {results.statistic}\")\n",
    "print(f\"p-value: {results.pvalue}\")"
   ]
  },
  {
   "cell_type": "markdown",
   "metadata": {},
   "source": [
    "### Part M\n",
    "\n",
    "From the last part, we see that the $p$-value is roughly 40\\% and the $t$-statistic is low (in magnitude). Therefore, we cannot reject the null that the difference is zero in favor of the alternative that the average total score for playoffs is lower than regular season with low $\\alpha$-level ($\\alpha$ less than $0.05$).\n",
    "\n",
    "I do not necessarily believe this is direct evidence that differences in scoring are no long as different as they used to be. Although the difference was statistically significant before and it is no longer, we should probably run a hypothesis test on whether the difference between the two periods is statistically significant."
   ]
  },
  {
   "cell_type": "markdown",
   "metadata": {},
   "source": [
    "## Problem 7\n",
    "\n",
    "In this problem we consider the significance of the Michael Jordan effect.\n",
    "\n",
    "### Part A\n",
    "\n",
    "We consider only the years $[1992, 1997]$ and games featuring the Chicago Bulls."
   ]
  },
  {
   "cell_type": "code",
   "execution_count": 35,
   "metadata": {},
   "outputs": [],
   "source": [
    "df_subset = df[(df['season'] >= 1992) & (df['season'] <= 1997) \n",
    "               & ((df['home_team'] == 'Chicago Bulls') \n",
    "                  | (df['away_team'] == 'Chicago Bulls'))].copy()"
   ]
  },
  {
   "cell_type": "markdown",
   "metadata": {},
   "source": [
    "### Part B\n",
    "\n",
    "We create three new columns:\n",
    "- `for_score`: points scored by the Chicago Bulls (home or away) in the seasons 1992-1997.\n",
    "- `against_score`: points scored against the Chicago Bulls (home or away) in the seasons 1992-1997.\n",
    "- `net_score`: net score by the Chicago Bulls (home or away) in the seasons 1992-1997."
   ]
  },
  {
   "cell_type": "code",
   "execution_count": 36,
   "metadata": {},
   "outputs": [],
   "source": [
    "df_subset['for_score'] = df_subset['home_pt'].where(\n",
    "                                df_subset['home_team'] == 'Chicago Bulls', \n",
    "                                df_subset['away_pt'])\n",
    "df_subset['against_score'] = df_subset['away_pt'].where(\n",
    "                                df_subset['home_team'] == 'Chicago Bulls', \n",
    "                                df_subset['home_pt'])\n",
    "df_subset['net_score'] = df_subset['for_score'] - df_subset['against_score']"
   ]
  },
  {
   "cell_type": "markdown",
   "metadata": {},
   "source": [
    "### Part C\n",
    "\n",
    "We now construct two disjoint set with and without Michael Jordan playing."
   ]
  },
  {
   "cell_type": "code",
   "execution_count": 37,
   "metadata": {},
   "outputs": [],
   "source": [
    "df_subset_jordan = df_subset[(df_subset['season'] <= 1993) \n",
    "                             | (df_subset['season'] >= 1996)]\n",
    "df_subset_no_jordan = df_subset[(df_subset['season'] >= 1994) \n",
    "                                & (df_subset['season'] <= 1995)]"
   ]
  },
  {
   "cell_type": "markdown",
   "metadata": {},
   "source": [
    "### Part D\n",
    "\n",
    "The null hypothesis we wish to test is that average for points scored with Michael Jordan games is equal in no Michael Jordan games. The alternative hypothesis is that the average for points with Michael Jordan is greater than without Michael Jordan. Mathematically,\n",
    "$$ H_0 : \\mu_{\\mathrm{jordan}} = \\mu_{\\mathrm{no\\ jordan}} $$\n",
    "$$ H_1 : \\mu_{\\mathrm{jordan}} > \\mu_{\\mathrm{no\\ jordan}} $$\n",
    "\n",
    "Or, the null hypothesis we wish to test is that average against points scored with Michael Jordan games is equal in no Michael Jordan games. The alternative hypothesis is that the average against points with Michael Jordan is less than without Michael Jordan. Mathematically,\n",
    "$$ H_0 : \\mu_{\\mathrm{jordan}} = \\mu_{\\mathrm{no\\ jordan}} $$\n",
    "$$ H_1 : \\mu_{\\mathrm{jordan}} < \\mu_{\\mathrm{no\\ jordan}} $$\n",
    "\n",
    "Or, the null hypothesis we wish to test is that average net points scored with Michael Jordan games is equal in no Michael Jordan games. The alternative hypothesis is that the average net points with Michael Jordan is greater than without Michael Jordan. Mathematically,\n",
    "$$ H_0 : \\mu_{\\mathrm{jordan}} = \\mu_{\\mathrm{no\\ jordan}} $$\n",
    "$$ H_1 : \\mu_{\\mathrm{jordan}} > \\mu_{\\mathrm{no\\ jordan}} $$"
   ]
  },
  {
   "cell_type": "markdown",
   "metadata": {},
   "source": [
    "### Part E\n",
    "\n",
    "We compute the mean for score with and without Michael Jordan."
   ]
  },
  {
   "cell_type": "code",
   "execution_count": 38,
   "metadata": {},
   "outputs": [
    {
     "name": "stdout",
     "output_type": "stream",
     "text": [
      "Mean Jordan: 104.39162561576354\n",
      "Mean No Jordan: 99.33695652173913\n"
     ]
    }
   ],
   "source": [
    "hat_mu_jordan = df_subset_jordan['for_score'].mean()\n",
    "hat_mu_no_jordan = df_subset_no_jordan['for_score'].mean()\n",
    "\n",
    "print(f\"Mean Jordan: {hat_mu_jordan}\")\n",
    "print(f\"Mean No Jordan: {hat_mu_no_jordan}\")"
   ]
  },
  {
   "cell_type": "markdown",
   "metadata": {},
   "source": [
    "### Part F\n",
    "\n",
    "We run a two-sample $t$-test for the two means without assuming equal variance."
   ]
  },
  {
   "cell_type": "code",
   "execution_count": 39,
   "metadata": {},
   "outputs": [
    {
     "name": "stdout",
     "output_type": "stream",
     "text": [
      "t: 4.572966583169566\n",
      "p-value: 3.4316212038540005e-06\n"
     ]
    }
   ],
   "source": [
    "results = stats.ttest_ind(df_subset_jordan['for_score'],\n",
    "                          df_subset_no_jordan['for_score'], \n",
    "                          equal_var=False)\n",
    "\n",
    "print(f\"t: {results.statistic}\")\n",
    "print(f\"p-value: {results.pvalue / 2}\")"
   ]
  },
  {
   "cell_type": "markdown",
   "metadata": {},
   "source": [
    "### Part G\n",
    "\n",
    "We compute the mean against score with and without Michael Jordan."
   ]
  },
  {
   "cell_type": "code",
   "execution_count": 40,
   "metadata": {},
   "outputs": [
    {
     "name": "stdout",
     "output_type": "stream",
     "text": [
      "Mean Jordan: 95.02216748768473\n",
      "Mean No Jordan: 95.60326086956522\n"
     ]
    }
   ],
   "source": [
    "hat_mu_jordan = df_subset_jordan['against_score'].mean()\n",
    "hat_mu_no_jordan = df_subset_no_jordan['against_score'].mean()\n",
    "\n",
    "print(f\"Mean Jordan: {hat_mu_jordan}\")\n",
    "print(f\"Mean No Jordan: {hat_mu_no_jordan}\")"
   ]
  },
  {
   "cell_type": "markdown",
   "metadata": {},
   "source": [
    "We run a two-sample $t$-test for the two means without assuming equal variance."
   ]
  },
  {
   "cell_type": "code",
   "execution_count": 41,
   "metadata": {},
   "outputs": [
    {
     "name": "stdout",
     "output_type": "stream",
     "text": [
      "t: -0.5863766703116524\n",
      "p-value: 0.2789993668005224\n"
     ]
    }
   ],
   "source": [
    "results = stats.ttest_ind(df_subset_jordan['against_score'],\n",
    "                          df_subset_no_jordan['against_score'], \n",
    "                          equal_var=False)\n",
    "\n",
    "print(f\"t: {results.statistic}\")\n",
    "print(f\"p-value: {results.pvalue / 2}\")"
   ]
  },
  {
   "cell_type": "markdown",
   "metadata": {},
   "source": [
    "### Part H\n",
    "\n",
    "From Part F, we see that the $p$-value is approximately zero and the $t$-statistic is relatively high. Therefore, we can reject the null that the difference is zero in favor of the alternative that the average for score with Jordan is higher than without Jordan with low $\\alpha$-level ($\\alpha$ less than $0.05$).\n",
    "\n",
    "From Part G, we see that the $p$-value is roughly 28\\% and the $t$-statistic is relatively low (in magnitude). Therefore, we cannot reject the null that the difference is zero in favor of the alternative that the average against score with Jordan is lows than without Jordan with low $\\alpha$-level ($\\alpha$ less than $0.28$).\n",
    "\n",
    "From this, Jordan's presence statistically significantly increases the Chicago Bulls' score, but does not statistically reduce the opponent's score."
   ]
  },
  {
   "cell_type": "markdown",
   "metadata": {},
   "source": [
    "### Part I\n",
    "\n",
    "We compute the mean net score with and without Michael Jordan."
   ]
  },
  {
   "cell_type": "code",
   "execution_count": 42,
   "metadata": {},
   "outputs": [
    {
     "name": "stdout",
     "output_type": "stream",
     "text": [
      "Mean Jordan: 9.369458128078819\n",
      "Mean No Jordan: 3.733695652173913\n"
     ]
    }
   ],
   "source": [
    "hat_mu_jordan = df_subset_jordan['net_score'].mean()\n",
    "hat_mu_no_jordan = df_subset_no_jordan['net_score'].mean()\n",
    "\n",
    "print(f\"Mean Jordan: {hat_mu_jordan}\")\n",
    "print(f\"Mean No Jordan: {hat_mu_no_jordan}\")"
   ]
  },
  {
   "cell_type": "markdown",
   "metadata": {},
   "source": [
    "We run a two-sample $t$-test for the two means without assuming equal variance."
   ]
  },
  {
   "cell_type": "code",
   "execution_count": 43,
   "metadata": {},
   "outputs": [
    {
     "name": "stdout",
     "output_type": "stream",
     "text": [
      "t: 4.808760080098417\n",
      "p-value: 1.1737130782218827e-06\n"
     ]
    }
   ],
   "source": [
    "results = stats.ttest_ind(df_subset_jordan['net_score'],\n",
    "                          df_subset_no_jordan['net_score'], \n",
    "                          equal_var=False)\n",
    "\n",
    "print(f\"t: {results.statistic}\")\n",
    "print(f\"p-value: {results.pvalue / 2}\")"
   ]
  },
  {
   "cell_type": "markdown",
   "metadata": {},
   "source": [
    "### Part J\n",
    "\n",
    "From Part F, we see that the $p$-value is approximately zero and the $t$-statistic is relatively high. Therefore, we can reject the null that the difference is zero in favor of the alternative that the average net score with Jordan is higher than without Jordan with low $\\alpha$-level ($\\alpha$ less than $0.05$).\n",
    "\n",
    "This confirms the observations from the test in the previous parts as Jordan's presence increases the Chicago Bulls' scores and doesn't statistically significantly affect the opponent's score."
   ]
  },
  {
   "cell_type": "markdown",
   "metadata": {},
   "source": [
    "### Part K\n",
    "\n",
    "Although Scottie Pipen and Phil Jackson were constant, we also need to consider other players (and coaches) on the Chicago Bulls' team. For example, other players likely retired during this period and new rookies were added as well. These players likely also had an impact on the scoring ability of the Chicago Bulls."
   ]
  },
  {
   "cell_type": "markdown",
   "metadata": {},
   "source": [
    "## Problem 8\n",
    "\n",
    "In this problem we test if back-to-back games has an effect on total points scored.\n",
    "\n",
    "### Part A\n",
    "\n",
    "First we create a function to compute the number of combined rest days for the two teams."
   ]
  },
  {
   "cell_type": "code",
   "execution_count": 44,
   "metadata": {},
   "outputs": [],
   "source": [
    "def rest_days(df):\n",
    "    \"\"\"Adds a column `test_days` which counts the number of days from \n",
    "        the last played game.\n",
    "        \n",
    "    Args:\n",
    "        df (DataFrame): A dataframe containing the existing NBA \n",
    "            historical data of games with a column `date`.\n",
    "    \n",
    "    Returns:\n",
    "        DataFrame: New dataframe with the additional column.\n",
    "        \n",
    "    \"\"\"\n",
    "    last_game = { team: pd.to_datetime('1948-01-01', format='%Y-%m-%d') \n",
    "             for team in df['home_team'].unique() }\n",
    "\n",
    "    def calc_rest(row):    \n",
    "\n",
    "        days = min((row['date'] - last_game[row['home_team']]).days, 8) \\\n",
    "               + min((row['date'] - last_game[row['away_team']]).days, 8)\n",
    "\n",
    "        last_game[row['home_team']] = row['date']\n",
    "        last_game[row['away_team']] = row['date']\n",
    "\n",
    "        return days\n",
    "\n",
    "    df['rest_days'] = df.apply(calc_rest, axis=1)\n",
    "    \n",
    "    return df"
   ]
  },
  {
   "cell_type": "markdown",
   "metadata": {},
   "source": [
    "### Part B\n",
    "\n",
    "We can then apply this function to the dataframe."
   ]
  },
  {
   "cell_type": "code",
   "execution_count": 45,
   "metadata": {},
   "outputs": [],
   "source": [
    "df = rest_days(df)"
   ]
  },
  {
   "cell_type": "markdown",
   "metadata": {},
   "source": [
    "### Part C\n",
    "\n",
    "We plot a histogram of these rest days."
   ]
  },
  {
   "cell_type": "code",
   "execution_count": 46,
   "metadata": {},
   "outputs": [
    {
     "data": {
      "image/png": "[encoded data removed]",
      "text/plain": [
       "<Figure size 432x288 with 1 Axes>"
      ]
     },
     "metadata": {
      "needs_background": "light"
     },
     "output_type": "display_data"
    }
   ],
   "source": [
    "plt.hist(df['rest_days'], bins=16)\n",
    "\n",
    "plt.title('Rest Days')\n",
    "plt.ylabel('Frequency')\n",
    "_ = plt.xlabel('Rest Days')"
   ]
  },
  {
   "cell_type": "markdown",
   "metadata": {},
   "source": [
    "### Part D\n",
    "\n",
    "The histogram suggests most teams probably have more than one day of rest each, but typically less six days of rest total."
   ]
  },
  {
   "cell_type": "markdown",
   "metadata": {},
   "source": [
    "### Part E\n",
    "\n",
    "We create two subsets one for back-to-back games and longer than back-to-back."
   ]
  },
  {
   "cell_type": "code",
   "execution_count": 47,
   "metadata": {},
   "outputs": [],
   "source": [
    "df_subset = df[(df['season'] >= 2000) & (df['season'] <= 2017)]\n",
    "\n",
    "df_subset_back_to_back = df_subset[df_subset['rest_days'] <= 3]\n",
    "df_subset_longer = df_subset[(df_subset['rest_days'] >= 4) \n",
    "                             & (df_subset['rest_days'] <= 5)]"
   ]
  },
  {
   "cell_type": "markdown",
   "metadata": {},
   "source": [
    "### Part F\n",
    "\n",
    "The null hypothesis test we would like to test is if the mean total score for back-to-back games is equal to the mean total score for non-back-to-back games. The alternative is that the means are different. Mathematically,\n",
    "$$ H_0 : \\mu_{\\mathrm{back\\ to\\ back}} = \\mu_{\\mathrm{longer}} $$\n",
    "$$ H_1 : \\mu_{\\mathrm{back\\ to\\ back}} \\neq \\mu_{\\mathrm{longer}} $$"
   ]
  },
  {
   "cell_type": "markdown",
   "metadata": {},
   "source": [
    "### Part G\n",
    "\n",
    "We compute the mean net score with and without rest days."
   ]
  },
  {
   "cell_type": "code",
   "execution_count": 48,
   "metadata": {},
   "outputs": [
    {
     "name": "stdout",
     "output_type": "stream",
     "text": [
      "Mean Back to Back: 196.54280821917808\n",
      "Mean Longer: 197.18168168168168\n"
     ]
    }
   ],
   "source": [
    "hat_mu_back_to_back = df_subset_back_to_back['total_pt'].mean()\n",
    "hat_mu_longer = df_subset_longer['total_pt'].mean()\n",
    "\n",
    "print(f\"Mean Back to Back: {hat_mu_back_to_back}\")\n",
    "print(f\"Mean Longer: {hat_mu_longer}\")"
   ]
  },
  {
   "cell_type": "markdown",
   "metadata": {},
   "source": [
    "### Part H\n",
    "\n",
    "We run a two-sample $t$-test for the two means without assuming equal variance."
   ]
  },
  {
   "cell_type": "code",
   "execution_count": 49,
   "metadata": {},
   "outputs": [
    {
     "name": "stdout",
     "output_type": "stream",
     "text": [
      "t: -2.0251625604004104\n",
      "p-value: 0.042871485628645116\n"
     ]
    }
   ],
   "source": [
    "results = stats.ttest_ind(df_subset_back_to_back['total_pt'],\n",
    "                          df_subset_longer['total_pt'], \n",
    "                          equal_var=False)\n",
    "\n",
    "print(f\"t: {results.statistic}\")\n",
    "print(f\"p-value: {results.pvalue}\")"
   ]
  },
  {
   "cell_type": "markdown",
   "metadata": {},
   "source": [
    "### Part I\n",
    "\n",
    "From the previous part, we see that the $p$-value is relatively close to zero and the $t$-statistic is moderately high (in magnitude). Therefore, we can reject the null that the means are equal in favor of the alternative that the average total score of back-to-back games is different than longer games with relatively low $\\alpha$-level ($\\alpha$ less than $0.05$)."
   ]
  },
  {
   "cell_type": "markdown",
   "metadata": {},
   "source": [
    "### Part J\n",
    "\n",
    "A possible confounding variable in determining if the difference between the back-to-back games and non-back-to-back games would be regular vs playoff season. I would expect games would be played more frequently during the playoffs than in the regular season. We already identified that there was a difference between regular season and playoffs season in terms of total points scored."
   ]
  }
 ],
 "metadata": {
  "kernelspec": {
   "display_name": "Python 3",
   "language": "python",
   "name": "python3"
  },
  "language_info": {
   "codemirror_mode": {
    "name": "ipython",
    "version": 3
   },
   "file_extension": ".py",
   "mimetype": "text/x-python",
   "name": "python",
   "nbconvert_exporter": "python",
   "pygments_lexer": "ipython3",
   "version": "3.6.7"
  }
 },
 "nbformat": 4,
 "nbformat_minor": 2
}
