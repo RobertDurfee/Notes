{
 "cells": [
  {
   "cell_type": "code",
   "execution_count": 28,
   "metadata": {},
   "outputs": [],
   "source": [
    "import sympy as sp\n",
    "import numpy as np\n",
    "\n",
    "n = sp.symbols('n')"
   ]
  },
  {
   "cell_type": "markdown",
   "metadata": {},
   "source": [
    "# Part 1"
   ]
  },
  {
   "cell_type": "code",
   "execution_count": 70,
   "metadata": {},
   "outputs": [],
   "source": [
    "expressions = [\n",
    "    sp.log(n, 2),\n",
    "    n ** (1/3),\n",
    "    sp.log(n, 7),\n",
    "    sp.log(n ** 3, 2),\n",
    "    sp.log(sp.log(n ** 10, 2), 2),\n",
    "    sp.log(n, 2) ** 3\n",
    "]"
   ]
  },
  {
   "cell_type": "code",
   "execution_count": 71,
   "metadata": {},
   "outputs": [],
   "source": [
    "def is_little_o(f, g):\n",
    "    \n",
    "    result = sp.limit(f / g, n, sp.oo)\n",
    "    \n",
    "    return result == 0."
   ]
  },
  {
   "cell_type": "code",
   "execution_count": 72,
   "metadata": {},
   "outputs": [],
   "source": [
    "def is_theta(f, g):\n",
    "    \n",
    "    result = sp.limit(f / g, n, sp.oo)\n",
    "    \n",
    "    return 0 < result < sp.oo"
   ]
  },
  {
   "cell_type": "code",
   "execution_count": 73,
   "metadata": {},
   "outputs": [
    {
     "name": "stdout",
     "output_type": "stream",
     "text": [
      "log(n)/log(2) < n**0.333333333333333\n",
      "log(n)/log(2) = log(n)/log(7)\n",
      "log(n)/log(2) = log(n**3)/log(2)\n",
      "log(n)/log(2) < log(n)**3/log(2)**3\n",
      "log(n)/log(7) = log(n)/log(2)\n",
      "log(n)/log(7) < n**0.333333333333333\n",
      "log(n)/log(7) = log(n**3)/log(2)\n",
      "log(n)/log(7) < log(n)**3/log(2)**3\n",
      "log(n**3)/log(2) = log(n)/log(2)\n",
      "log(n**3)/log(2) < n**0.333333333333333\n",
      "log(n**3)/log(2) = log(n)/log(7)\n",
      "log(n**3)/log(2) < log(n)**3/log(2)**3\n",
      "log(log(n**10)/log(2))/log(2) < log(n)/log(2)\n",
      "log(log(n**10)/log(2))/log(2) < n**0.333333333333333\n",
      "log(log(n**10)/log(2))/log(2) < log(n)/log(7)\n",
      "log(log(n**10)/log(2))/log(2) < log(n**3)/log(2)\n",
      "log(log(n**10)/log(2))/log(2) < log(n)**3/log(2)**3\n",
      "log(n)**3/log(2)**3 < n**0.333333333333333\n"
     ]
    }
   ],
   "source": [
    "for i in range(len(expressions)):\n",
    "\n",
    "    for j in range(len(expressions)):\n",
    "        \n",
    "        if i == j:\n",
    "            continue\n",
    "\n",
    "        if is_little_o(expressions[i], expressions[j]):\n",
    "            print('{} < {}'.format(expressions[i], expressions[j]))\n",
    "        \n",
    "        if is_theta(expressions[i], expressions[j]):\n",
    "            print('{} = {}'.format(expressions[i], expressions[j]))"
   ]
  },
  {
   "cell_type": "code",
   "execution_count": 74,
   "metadata": {},
   "outputs": [
    {
     "name": "stdout",
     "output_type": "stream",
     "text": [
      "lim log(n)/log(2) / n**0.333333333333333 = 0\n",
      "lim log(n)/log(2) / log(n)/log(7) = log(7)/log(2)\n",
      "lim log(n)/log(2) / log(n**3)/log(2) = 1/3\n",
      "lim log(n)/log(2) / log(log(n**10)/log(2))/log(2) = oo\n",
      "lim log(n)/log(2) / log(n)**3/log(2)**3 = 0\n",
      "lim n**0.333333333333333 / log(n)/log(2) = oo\n",
      "lim n**0.333333333333333 / log(n)/log(7) = oo\n",
      "lim n**0.333333333333333 / log(n**3)/log(2) = oo\n",
      "lim n**0.333333333333333 / log(log(n**10)/log(2))/log(2) = oo\n",
      "lim n**0.333333333333333 / log(n)**3/log(2)**3 = oo\n",
      "lim log(n)/log(7) / log(n)/log(2) = log(2)/log(7)\n",
      "lim log(n)/log(7) / n**0.333333333333333 = 0\n",
      "lim log(n)/log(7) / log(n**3)/log(2) = log(2)/(3*log(7))\n",
      "lim log(n)/log(7) / log(log(n**10)/log(2))/log(2) = oo\n",
      "lim log(n)/log(7) / log(n)**3/log(2)**3 = 0\n",
      "lim log(n**3)/log(2) / log(n)/log(2) = 3\n",
      "lim log(n**3)/log(2) / n**0.333333333333333 = 0\n",
      "lim log(n**3)/log(2) / log(n)/log(7) = 3*log(7)/log(2)\n",
      "lim log(n**3)/log(2) / log(log(n**10)/log(2))/log(2) = oo\n",
      "lim log(n**3)/log(2) / log(n)**3/log(2)**3 = 0\n",
      "lim log(log(n**10)/log(2))/log(2) / log(n)/log(2) = 0\n",
      "lim log(log(n**10)/log(2))/log(2) / n**0.333333333333333 = 0\n",
      "lim log(log(n**10)/log(2))/log(2) / log(n)/log(7) = 0\n",
      "lim log(log(n**10)/log(2))/log(2) / log(n**3)/log(2) = 0\n",
      "lim log(log(n**10)/log(2))/log(2) / log(n)**3/log(2)**3 = 0\n",
      "lim log(n)**3/log(2)**3 / log(n)/log(2) = oo\n",
      "lim log(n)**3/log(2)**3 / n**0.333333333333333 = 0\n",
      "lim log(n)**3/log(2)**3 / log(n)/log(7) = oo\n",
      "lim log(n)**3/log(2)**3 / log(n**3)/log(2) = oo\n",
      "lim log(n)**3/log(2)**3 / log(log(n**10)/log(2))/log(2) = oo\n"
     ]
    }
   ],
   "source": [
    "for i in range(len(expressions)):\n",
    "    \n",
    "    for j in range(len(expressions)):\n",
    "        \n",
    "        if i == j:\n",
    "            continue\n",
    "            \n",
    "        print('lim {} / {} = {}'.format(expressions[i], expressions[j], sp.limit(expressions[i] / expressions[j], n, sp.oo)))"
   ]
  },
  {
   "cell_type": "markdown",
   "metadata": {},
   "source": [
    "# Part 2"
   ]
  },
  {
   "cell_type": "code",
   "execution_count": 75,
   "metadata": {},
   "outputs": [],
   "source": [
    "expressions = [\n",
    "    n ** (5/3),\n",
    "    n * sp.log(n ** 2, 2),\n",
    "    n ** 2 * sp.log(n, 2),\n",
    "    2 ** n,\n",
    "    sp.log(sp.factorial(n), 2)\n",
    "]"
   ]
  },
  {
   "cell_type": "code",
   "execution_count": 76,
   "metadata": {},
   "outputs": [
    {
     "name": "stdout",
     "output_type": "stream",
     "text": [
      "n**1.66666666666667 < n**2*log(n)/log(2)\n",
      "n**1.66666666666667 < 2**n\n",
      "n*log(n**2)/log(2) < n**1.66666666666667\n",
      "n*log(n**2)/log(2) < n**2*log(n)/log(2)\n",
      "n*log(n**2)/log(2) < 2**n\n",
      "n*log(n**2)/log(2) = log(factorial(n))/log(2)\n",
      "n**2*log(n)/log(2) < 2**n\n",
      "log(factorial(n))/log(2) < n**1.66666666666667\n",
      "log(factorial(n))/log(2) = n*log(n**2)/log(2)\n",
      "log(factorial(n))/log(2) < n**2*log(n)/log(2)\n",
      "log(factorial(n))/log(2) < 2**n\n"
     ]
    }
   ],
   "source": [
    "for i in range(len(expressions)):\n",
    "\n",
    "    for j in range(len(expressions)):\n",
    "        \n",
    "        if i == j:\n",
    "            continue\n",
    "\n",
    "        if is_little_o(expressions[i], expressions[j]):\n",
    "            print('{} < {}'.format(expressions[i], expressions[j]))\n",
    "        \n",
    "        if is_theta(expressions[i], expressions[j]):\n",
    "            print('{} = {}'.format(expressions[i], expressions[j]))"
   ]
  },
  {
   "cell_type": "code",
   "execution_count": 77,
   "metadata": {},
   "outputs": [
    {
     "name": "stdout",
     "output_type": "stream",
     "text": [
      "lim n**1.66666666666667 / n*log(n**2)/log(2) = oo\n",
      "lim n**1.66666666666667 / n**2*log(n)/log(2) = 0\n",
      "lim n**1.66666666666667 / 2**n = 0\n",
      "lim n**1.66666666666667 / log(factorial(n))/log(2) = oo\n",
      "lim n*log(n**2)/log(2) / n**1.66666666666667 = 0\n",
      "lim n*log(n**2)/log(2) / n**2*log(n)/log(2) = 0\n",
      "lim n*log(n**2)/log(2) / 2**n = 0\n",
      "lim n*log(n**2)/log(2) / log(factorial(n))/log(2) = 2\n",
      "lim n**2*log(n)/log(2) / n**1.66666666666667 = oo\n",
      "lim n**2*log(n)/log(2) / n*log(n**2)/log(2) = oo\n",
      "lim n**2*log(n)/log(2) / 2**n = 0\n",
      "lim n**2*log(n)/log(2) / log(factorial(n))/log(2) = oo\n",
      "lim 2**n / n**1.66666666666667 = oo\n",
      "lim 2**n / n*log(n**2)/log(2) = oo\n",
      "lim 2**n / n**2*log(n)/log(2) = oo\n",
      "lim 2**n / log(factorial(n))/log(2) = oo\n",
      "lim log(factorial(n))/log(2) / n**1.66666666666667 = 0\n",
      "lim log(factorial(n))/log(2) / n*log(n**2)/log(2) = 1/2\n",
      "lim log(factorial(n))/log(2) / n**2*log(n)/log(2) = 0\n",
      "lim log(factorial(n))/log(2) / 2**n = 0\n"
     ]
    }
   ],
   "source": [
    "for i in range(len(expressions)):\n",
    "    \n",
    "    for j in range(len(expressions)):\n",
    "        \n",
    "        if i == j:\n",
    "            continue\n",
    "            \n",
    "        print('lim {} / {} = {}'.format(expressions[i], expressions[j], sp.limit(expressions[i] / expressions[j], n, sp.oo)))"
   ]
  },
  {
   "cell_type": "markdown",
   "metadata": {},
   "source": [
    "# Part 3"
   ]
  },
  {
   "cell_type": "code",
   "execution_count": 78,
   "metadata": {},
   "outputs": [],
   "source": [
    "expressions = [\n",
    "    sp.log(n, 2) ** n,\n",
    "    sp.log(n, 2) ** (n - 5),\n",
    "    sp.E ** n,\n",
    "    n ** (10 * sp.log(n, 2))\n",
    "]"
   ]
  },
  {
   "cell_type": "code",
   "execution_count": 79,
   "metadata": {},
   "outputs": [
    {
     "name": "stdout",
     "output_type": "stream",
     "text": [
      "(log(n)/log(2))**(n - 5) < (log(n)/log(2))**n\n",
      "exp(n) < (log(n)/log(2))**n\n",
      "exp(n) < (log(n)/log(2))**(n - 5)\n",
      "n**(10*log(n)/log(2)) < (log(n)/log(2))**n\n",
      "n**(10*log(n)/log(2)) < (log(n)/log(2))**(n - 5)\n",
      "n**(10*log(n)/log(2)) < exp(n)\n"
     ]
    }
   ],
   "source": [
    "for i in range(len(expressions)):\n",
    "\n",
    "    for j in range(len(expressions)):\n",
    "        \n",
    "        if i == j:\n",
    "            continue\n",
    "\n",
    "        if is_little_o(expressions[i], expressions[j]):\n",
    "            print('{} < {}'.format(expressions[i], expressions[j]))\n",
    "        \n",
    "        if is_theta(expressions[i], expressions[j]):\n",
    "            print('{} = {}'.format(expressions[i], expressions[j]))"
   ]
  },
  {
   "cell_type": "code",
   "execution_count": 80,
   "metadata": {},
   "outputs": [
    {
     "name": "stdout",
     "output_type": "stream",
     "text": [
      "lim (log(n)/log(2))**n / (log(n)/log(2))**(n - 5) = oo\n",
      "lim (log(n)/log(2))**n / exp(n) = oo\n",
      "lim (log(n)/log(2))**n / n**(10*log(n)/log(2)) = oo\n",
      "lim (log(n)/log(2))**(n - 5) / (log(n)/log(2))**n = 0\n",
      "lim (log(n)/log(2))**(n - 5) / exp(n) = oo\n",
      "lim (log(n)/log(2))**(n - 5) / n**(10*log(n)/log(2)) = oo\n",
      "lim exp(n) / (log(n)/log(2))**n = 0\n",
      "lim exp(n) / (log(n)/log(2))**(n - 5) = 0\n",
      "lim exp(n) / n**(10*log(n)/log(2)) = oo\n",
      "lim n**(10*log(n)/log(2)) / (log(n)/log(2))**n = 0\n",
      "lim n**(10*log(n)/log(2)) / (log(n)/log(2))**(n - 5) = 0\n",
      "lim n**(10*log(n)/log(2)) / exp(n) = 0\n"
     ]
    }
   ],
   "source": [
    "for i in range(len(expressions)):\n",
    "    \n",
    "    for j in range(len(expressions)):\n",
    "        \n",
    "        if i == j:\n",
    "            continue\n",
    "            \n",
    "        print('lim {} / {} = {}'.format(expressions[i], expressions[j], sp.limit(expressions[i] / expressions[j], n, sp.oo)))"
   ]
  },
  {
   "cell_type": "code",
   "execution_count": null,
   "metadata": {},
   "outputs": [],
   "source": []
  }
 ],
 "metadata": {
  "kernelspec": {
   "display_name": "Python 3",
   "language": "python",
   "name": "python3"
  },
  "language_info": {
   "codemirror_mode": {
    "name": "ipython",
    "version": 3
   },
   "file_extension": ".py",
   "mimetype": "text/x-python",
   "name": "python",
   "nbconvert_exporter": "python",
   "pygments_lexer": "ipython3",
   "version": "3.6.5"
  }
 },
 "nbformat": 4,
 "nbformat_minor": 2
}
