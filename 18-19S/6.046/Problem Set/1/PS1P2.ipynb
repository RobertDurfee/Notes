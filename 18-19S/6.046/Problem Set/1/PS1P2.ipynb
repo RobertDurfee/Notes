{
 "cells": [
  {
   "cell_type": "code",
   "execution_count": 24,
   "metadata": {},
   "outputs": [],
   "source": [
    "import numpy as np\n",
    "from math import floor, ceil"
   ]
  },
  {
   "cell_type": "markdown",
   "metadata": {},
   "source": [
    "# Part A"
   ]
  },
  {
   "cell_type": "code",
   "execution_count": 3,
   "metadata": {},
   "outputs": [],
   "source": [
    "def query(votes, guess):\n",
    "    return np.sum(np.logical_xor(votes, guess))"
   ]
  },
  {
   "cell_type": "code",
   "execution_count": 4,
   "metadata": {},
   "outputs": [],
   "source": [
    "members = 20\n",
    "\n",
    "for i in range(1000):\n",
    "    \n",
    "    votes = np.random.randint(low=0, high=2, size=members)\n",
    "    partition = np.random.randint(low=0, high=members + 1)\n",
    "\n",
    "    actual_no_votes_partition = partition - np.sum(votes[:partition])\n",
    "    \n",
    "    ones = np.ones((members,))\n",
    "    first = query(votes, ones)\n",
    "\n",
    "    ones[:partition] = 0\n",
    "    second = query(votes, ones)\n",
    "\n",
    "    guess_no_votes_partition = (partition - (second - first)) // 2\n",
    "    \n",
    "    assert guess_no_votes_partition == actual_no_votes_partition"
   ]
  },
  {
   "cell_type": "markdown",
   "metadata": {},
   "source": [
    "# Part B"
   ]
  },
  {
   "cell_type": "code",
   "execution_count": 5,
   "metadata": {},
   "outputs": [],
   "source": [
    "def find_no_voter(votes, i, j):\n",
    "    \n",
    "    num_no_voters = query(votes[i:j], np.ones(j - i))\n",
    "    \n",
    "    # If there are no no-voters in this subsequence\n",
    "    if num_no_voters == 0:\n",
    "        return None\n",
    "    \n",
    "    # If the subsequence only has a single person...\n",
    "    if (j - i) == 1:\n",
    "        \n",
    "        # ... and that person votes no\n",
    "        if num_no_voters == 1:\n",
    "            return i\n",
    "    \n",
    "        # ... and that person votes yes\n",
    "        if num_no_voters == 0:\n",
    "            return None\n",
    "    \n",
    "    m = (i + j) // 2\n",
    "    \n",
    "    left_num_no_voters = query(votes[i:m], np.ones(m - i))\n",
    "    right_num_no_voters = query(votes[m:j], np.ones(j - m))\n",
    "    \n",
    "    if left_num_no_voters > right_num_no_voters:\n",
    "        return find_no_voter(votes, i, m)\n",
    "    else:\n",
    "        return find_no_voter(votes, m, j)    "
   ]
  },
  {
   "cell_type": "code",
   "execution_count": 6,
   "metadata": {},
   "outputs": [],
   "source": [
    "members = 8\n",
    "\n",
    "for i in range(1000):\n",
    "        \n",
    "    votes = np.random.randint(low=0, high=2, size=members)\n",
    "    \n",
    "    no_voter = find_no_voter(votes, 0, len(votes))\n",
    "    \n",
    "    if no_voter is not None:\n",
    "        assert votes[no_voter] == 0\n",
    "    else:\n",
    "        assert members - np.sum(votes) == 0"
   ]
  },
  {
   "cell_type": "markdown",
   "metadata": {},
   "source": [
    "# Part C"
   ]
  },
  {
   "cell_type": "code",
   "execution_count": 119,
   "metadata": {},
   "outputs": [],
   "source": [
    "def group(A, n=5):\n",
    "        \n",
    "    for i in range(0, len(A), n):\n",
    "        yield A[i:i+n]"
   ]
  },
  {
   "cell_type": "code",
   "execution_count": 91,
   "metadata": {},
   "outputs": [],
   "source": [
    "def simple_median(A):\n",
    "    \n",
    "    n = len(A) \n",
    "    A_sorted = np.sort(A)\n",
    "    \n",
    "    return A_sorted[(n - 1) // 2]"
   ]
  },
  {
   "cell_type": "code",
   "execution_count": 97,
   "metadata": {},
   "outputs": [],
   "source": [
    "def partition(A, p, r):\n",
    "    \n",
    "    x = A[r]\n",
    "    i = p - 1\n",
    "    \n",
    "    for j in range(p, r):\n",
    "        \n",
    "        if A[j] <= x:\n",
    "            i = i + 1\n",
    "            A[i], A[j] = A[j], A[i]\n",
    "    \n",
    "    A[i + 1], A[r] = A[r], A[i + 1]\n",
    "\n",
    "    return i + 1"
   ]
  },
  {
   "cell_type": "code",
   "execution_count": 98,
   "metadata": {},
   "outputs": [],
   "source": [
    "def randomized_partition(A, p, r):\n",
    "    \n",
    "    i = np.random.randint(p, r)\n",
    "    A[i], A[r] = A[r], A[i]\n",
    "    \n",
    "    return partition(A, p, r)"
   ]
  },
  {
   "cell_type": "code",
   "execution_count": 99,
   "metadata": {},
   "outputs": [],
   "source": [
    "def modified_partition(A, p, r, i):\n",
    "    \n",
    "    A[i], A[r] = A[r], A[i]\n",
    "    \n",
    "    return partition(A, p, r)"
   ]
  },
  {
   "cell_type": "code",
   "execution_count": 116,
   "metadata": {},
   "outputs": [],
   "source": [
    "def index_of(A, x):\n",
    "    \n",
    "    for i in range(len(A)):\n",
    "        \n",
    "        if A[i] == x:\n",
    "            return i\n",
    "    \n",
    "    return -1"
   ]
  },
  {
   "cell_type": "code",
   "execution_count": 101,
   "metadata": {},
   "outputs": [],
   "source": [
    "def randomized_select(A, p, r, i):\n",
    "    \n",
    "    if p == r:\n",
    "        return A[p]\n",
    "    \n",
    "    q = randomized_partition(A, p, r)\n",
    "    k = q - p + 1\n",
    "    \n",
    "    if i == k:\n",
    "        return A[q]\n",
    "    elif i < k:\n",
    "        return randomized_select(A, p, q - 1, i)\n",
    "    else:\n",
    "        return randomized_select(A, q + 1, r, i - k)"
   ]
  },
  {
   "cell_type": "code",
   "execution_count": 124,
   "metadata": {},
   "outputs": [],
   "source": [
    "def select(A, p, r, i):\n",
    "    \n",
    "    if p == r:\n",
    "        return A[p]\n",
    "    \n",
    "    groups = group(A[p:r + 1], 5)    \n",
    "    group_medians = []\n",
    "    \n",
    "    for a_group in groups:\n",
    "        group_medians.append(simple_median(a_group))\n",
    "        \n",
    "    median_of_medians = select(np.array(group_medians), 0, len(group_medians) - 1, (len(group_medians) - 1) // 2)\n",
    "    \n",
    "    x_index = index_of(A, median_of_medians)\n",
    "    \n",
    "    q = modified_partition(A, p, r, x_index)\n",
    "    k = q - p + 1\n",
    "    \n",
    "    if i == k:\n",
    "        return A[q]\n",
    "    elif i < k:\n",
    "        return select(A, p, q - 1, i)\n",
    "    else:\n",
    "        return select(A, q + 1, r, i - k)    "
   ]
  },
  {
   "cell_type": "code",
   "execution_count": null,
   "metadata": {},
   "outputs": [],
   "source": [
    "def randomized_weighted_select(A, W, p, r, i):\n",
    "    \n",
    "    if p == r:\n",
    "        return A[p]\n",
    "    \n",
    "    q = randomized_partition(A, p, r)\n",
    "    "
   ]
  },
  {
   "cell_type": "code",
   "execution_count": 152,
   "metadata": {},
   "outputs": [],
   "source": [
    "A = [2, 1, 16, 18, 12, 11, 15, 8, 9, 20]\n",
    "\n",
    "W = np.abs(np.random.randn(10))\n",
    "tot = np.sum(W)\n",
    "W = W / tot\n",
    "W = np.around(W, 2)"
   ]
  },
  {
   "cell_type": "code",
   "execution_count": 153,
   "metadata": {},
   "outputs": [],
   "source": [
    "def naive_weighted_median(A, W):\n",
    "    \n",
    "    inds = np.argsort(A)\n",
    "    \n",
    "    A = np.array(A)[inds]\n",
    "    W = np.array(W)[inds]\n",
    "    \n",
    "    sm, i = 0, 0\n",
    "    while sm < 1/2:\n",
    "        \n",
    "        sm += W[i]\n",
    "        i += 1\n",
    "    \n",
    "    return A[i - 1]"
   ]
  },
  {
   "cell_type": "code",
   "execution_count": 154,
   "metadata": {},
   "outputs": [
    {
     "data": {
      "text/plain": [
       "12"
      ]
     },
     "execution_count": 154,
     "metadata": {},
     "output_type": "execute_result"
    }
   ],
   "source": [
    "naive_weighted_median(A, W)"
   ]
  },
  {
   "cell_type": "code",
   "execution_count": 155,
   "metadata": {},
   "outputs": [
    {
     "name": "stdout",
     "output_type": "stream",
     "text": [
      "[2, 1, 16, 18, 12, 11, 15, 8, 9, 20]\n",
      "[0.31 0.07 0.28 0.05 0.07 0.02 0.06 0.05 0.01 0.08]\n"
     ]
    }
   ],
   "source": [
    "print(A)\n",
    "print(W)"
   ]
  },
  {
   "cell_type": "code",
   "execution_count": null,
   "metadata": {},
   "outputs": [],
   "source": [
    "def weighted_select(A, p, r, i)"
   ]
  }
 ],
 "metadata": {
  "kernelspec": {
   "display_name": "Python 3",
   "language": "python",
   "name": "python3"
  },
  "language_info": {
   "codemirror_mode": {
    "name": "ipython",
    "version": 3
   },
   "file_extension": ".py",
   "mimetype": "text/x-python",
   "name": "python",
   "nbconvert_exporter": "python",
   "pygments_lexer": "ipython3",
   "version": "3.6.5"
  }
 },
 "nbformat": 4,
 "nbformat_minor": 2
}
