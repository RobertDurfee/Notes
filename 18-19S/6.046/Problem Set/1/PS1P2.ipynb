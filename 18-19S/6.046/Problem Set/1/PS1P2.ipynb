{
 "cells": [
  {
   "cell_type": "code",
   "execution_count": 194,
   "metadata": {},
   "outputs": [],
   "source": [
    "import numpy as np"
   ]
  },
  {
   "cell_type": "markdown",
   "metadata": {},
   "source": [
    "# Part A"
   ]
  },
  {
   "cell_type": "code",
   "execution_count": 210,
   "metadata": {},
   "outputs": [],
   "source": [
    "def query(votes, guess):\n",
    "    return np.sum(np.logical_xor(votes, guess))"
   ]
  },
  {
   "cell_type": "code",
   "execution_count": 211,
   "metadata": {},
   "outputs": [],
   "source": [
    "members = 20\n",
    "\n",
    "for i in range(1000):\n",
    "    \n",
    "    votes = np.random.randint(low=0, high=2, size=members)\n",
    "    partition = np.random.randint(low=0, high=members + 1)\n",
    "\n",
    "    actual_no_votes_partition = partition - np.sum(votes[:partition])\n",
    "    \n",
    "    ones = np.ones((members,))\n",
    "    first = query(votes, ones)\n",
    "\n",
    "    ones[:partition] = 0\n",
    "    second = query(votes, ones)\n",
    "\n",
    "    guess_no_votes_partition = (partition - (second - first)) // 2\n",
    "    \n",
    "    assert guess_no_votes_partition == actual_no_votes_partition"
   ]
  },
  {
   "cell_type": "markdown",
   "metadata": {},
   "source": [
    "# Part B"
   ]
  },
  {
   "cell_type": "code",
   "execution_count": 220,
   "metadata": {},
   "outputs": [],
   "source": [
    "def find_no_voter(votes, i, j):\n",
    "    \n",
    "    num_no_voters = query(votes[i:j], np.ones(j - i))\n",
    "    \n",
    "    # If there are no no-voters in this subsequence\n",
    "    if num_no_voters == 0:\n",
    "        return None\n",
    "    \n",
    "    # If the subsequence only has a single person...\n",
    "    if (j - i) == 1:\n",
    "        \n",
    "        # ... and that person votes no\n",
    "        if num_no_voters == 1:\n",
    "            return i\n",
    "    \n",
    "        # ... and that person votes yes\n",
    "        if num_no_voters == 0:\n",
    "            return None\n",
    "    \n",
    "    m = (i + j) // 2\n",
    "    \n",
    "    left_num_no_voters = query(votes[i:m], np.ones(m - i))\n",
    "    right_num_no_voters = query(votes[m:j], np.ones(j - m))\n",
    "    \n",
    "    if left_num_no_voters > right_num_no_voters:\n",
    "        return find_no_voter(votes, i, m)\n",
    "    else:\n",
    "        return find_no_voter(votes, m, j)    "
   ]
  },
  {
   "cell_type": "code",
   "execution_count": 264,
   "metadata": {},
   "outputs": [],
   "source": [
    "members = 8\n",
    "\n",
    "for i in range(1000):\n",
    "        \n",
    "    votes = np.random.randint(low=0, high=2, size=members)\n",
    "    \n",
    "    no_voter = find_no_voter(votes, 0, len(votes))\n",
    "    \n",
    "    if no_voter is not None:\n",
    "        assert votes[no_voter] == 0\n",
    "    else:\n",
    "        assert members - np.sum(votes) == 0"
   ]
  },
  {
   "cell_type": "markdown",
   "metadata": {},
   "source": [
    "# Part C"
   ]
  },
  {
   "cell_type": "code",
   "execution_count": null,
   "metadata": {},
   "outputs": [],
   "source": []
  }
 ],
 "metadata": {
  "kernelspec": {
   "display_name": "Python 3",
   "language": "python",
   "name": "python3"
  },
  "language_info": {
   "codemirror_mode": {
    "name": "ipython",
    "version": 3
   },
   "file_extension": ".py",
   "mimetype": "text/x-python",
   "name": "python",
   "nbconvert_exporter": "python",
   "pygments_lexer": "ipython3",
   "version": "3.6.5"
  }
 },
 "nbformat": 4,
 "nbformat_minor": 2
}
