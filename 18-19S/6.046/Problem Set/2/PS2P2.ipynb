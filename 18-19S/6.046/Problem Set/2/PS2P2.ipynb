{
 "cells": [
  {
   "cell_type": "code",
   "execution_count": 1,
   "metadata": {},
   "outputs": [],
   "source": [
    "import sympy as sp\n",
    "import numpy as np"
   ]
  },
  {
   "cell_type": "code",
   "execution_count": 2,
   "metadata": {},
   "outputs": [],
   "source": [
    "def hamming_naive(A, B, d):\n",
    "    \n",
    "    n = len(B)\n",
    "    \n",
    "    for i in range(n + 1):\n",
    "        if np.sum(np.logical_xor(A[i:i + n], np.array(B))) <= d:\n",
    "            yield i"
   ]
  },
  {
   "cell_type": "code",
   "execution_count": 3,
   "metadata": {},
   "outputs": [],
   "source": [
    "def hamming_fft(A, B, d):\n",
    "    \n",
    "    n = len(B)\n",
    "    \n",
    "    A = np.array(A)\n",
    "    B = np.array(B)\n",
    "    \n",
    "    A[A == 0] = -1\n",
    "    B[B == 0] = -1\n",
    "    \n",
    "    x = sp.symbols('x')    \n",
    "    A = sp.Poly(reversed(A), x)\n",
    "    B = sp.Poly(B, x)\n",
    "    \n",
    "    C = sp.Poly.mul(A, B)\n",
    "    \n",
    "    for k, c in enumerate(reversed(C.all_coeffs())):\n",
    "        \n",
    "        if k < (n - 1) or k > (2 * n - 1):\n",
    "            continue\n",
    "                    \n",
    "        if c >= (n - 2 * d):\n",
    "            yield (k - n + 1)"
   ]
  },
  {
   "cell_type": "code",
   "execution_count": 4,
   "metadata": {},
   "outputs": [],
   "source": [
    "for _ in range(10000):\n",
    "    \n",
    "    n = np.random.randint(4, 5)\n",
    "    \n",
    "    A = np.random.binomial(1, 0.5, 2 * n)\n",
    "    B = np.random.binomial(1, 0.5, n)\n",
    "    \n",
    "    for d in range(n + 1):\n",
    "        \n",
    "        assert list(hamming_naive(A, B, d)) == list(hamming_fft(A, B, d))"
   ]
  }
 ],
 "metadata": {
  "kernelspec": {
   "display_name": "Python 3",
   "language": "python",
   "name": "python3"
  },
  "language_info": {
   "codemirror_mode": {
    "name": "ipython",
    "version": 3
   },
   "file_extension": ".py",
   "mimetype": "text/x-python",
   "name": "python",
   "nbconvert_exporter": "python",
   "pygments_lexer": "ipython3",
   "version": "3.6.5"
  }
 },
 "nbformat": 4,
 "nbformat_minor": 2
}
