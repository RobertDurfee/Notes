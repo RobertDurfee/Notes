{
 "cells": [
  {
   "cell_type": "code",
   "execution_count": 1,
   "metadata": {},
   "outputs": [],
   "source": [
    "import numpy as np"
   ]
  },
  {
   "cell_type": "markdown",
   "metadata": {},
   "source": [
    "# Problem 1\n",
    "\n",
    "## Part A\n",
    "\n",
    "We first create a list of MIT class members. Let $n$ be the number of members. Let $1$ represent a member of the Xers and a $0$ be an Earthling. We generate using a Bernoulli distribution and ensure more that 50% of the members are Xers."
   ]
  },
  {
   "cell_type": "code",
   "execution_count": 99,
   "metadata": {},
   "outputs": [],
   "source": [
    "def get_members(n, p):\n",
    "    \n",
    "    A = [0] * n\n",
    "    \n",
    "    while sum(A) <= (n / 2):\n",
    "        A = list(np.random.binomial(1, p, n))\n",
    "    \n",
    "    return A"
   ]
  },
  {
   "cell_type": "markdown",
   "metadata": {},
   "source": [
    "We are limited to queries that check if two members are from the same universe."
   ]
  },
  {
   "cell_type": "code",
   "execution_count": 100,
   "metadata": {},
   "outputs": [],
   "source": [
    "def query(A, i, j):    \n",
    "    return (A[i] == A[j])"
   ]
  },
  {
   "cell_type": "markdown",
   "metadata": {},
   "source": [
    "Our find method makes use of the fact that more than 50% must be Xers."
   ]
  },
  {
   "cell_type": "code",
   "execution_count": 101,
   "metadata": {},
   "outputs": [],
   "source": [
    "def find_xer(A):\n",
    "    \n",
    "    n = len(A)    \n",
    "    num_same = 1\n",
    "    last_different = -1\n",
    "    \n",
    "    for i in range(1, n):\n",
    "        \n",
    "        if query(A, 0, i):\n",
    "            num_same += 1\n",
    "        else:\n",
    "            last_different = i\n",
    "    \n",
    "    if num_same > (n / 2):\n",
    "        return 0\n",
    "    else:\n",
    "        return last_different"
   ]
  },
  {
   "cell_type": "markdown",
   "metadata": {},
   "source": [
    "We will now test for 1000's of sequences."
   ]
  },
  {
   "cell_type": "code",
   "execution_count": 110,
   "metadata": {},
   "outputs": [],
   "source": [
    "for _ in range(10000):\n",
    "    \n",
    "    n = np.random.randint(20, 50 + 1)\n",
    "    p = np.random.randint(51, 100 + 1) / 100\n",
    "    \n",
    "    A = get_members(n, p)\n",
    "    \n",
    "    ind = find_xer(A)\n",
    "    \n",
    "    assert A[ind] == 1    "
   ]
  }
 ],
 "metadata": {
  "kernelspec": {
   "display_name": "Python 3",
   "language": "python",
   "name": "python3"
  },
  "language_info": {
   "codemirror_mode": {
    "name": "ipython",
    "version": 3
   },
   "file_extension": ".py",
   "mimetype": "text/x-python",
   "name": "python",
   "nbconvert_exporter": "python",
   "pygments_lexer": "ipython3",
   "version": "3.6.5"
  }
 },
 "nbformat": 4,
 "nbformat_minor": 2
}
