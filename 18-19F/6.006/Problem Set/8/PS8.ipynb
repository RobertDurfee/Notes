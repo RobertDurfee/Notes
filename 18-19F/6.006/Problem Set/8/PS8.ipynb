{
 "cells": [
  {
   "cell_type": "markdown",
   "metadata": {},
   "source": [
    "## Problem 3"
   ]
  },
  {
   "cell_type": "code",
   "execution_count": 20,
   "metadata": {},
   "outputs": [],
   "source": [
    "A = (5, -3, -5, 1, 2, 9, -4)"
   ]
  },
  {
   "cell_type": "markdown",
   "metadata": {},
   "source": [
    "Brute Force"
   ]
  },
  {
   "cell_type": "code",
   "execution_count": 41,
   "metadata": {},
   "outputs": [],
   "source": [
    "def max_score_seq(A):\n",
    "\n",
    "    if len(A) == 2:\n",
    "\n",
    "        score = A[0] * A[1]\n",
    "\n",
    "        if score > 0:\n",
    "            return score, [(A[0], A[1])]\n",
    "        else:\n",
    "            return 0, []\n",
    "\n",
    "    else:\n",
    "\n",
    "        max_score = 0\n",
    "        max_seq = []\n",
    "\n",
    "        for i in range(1, len(A)):\n",
    "\n",
    "            score_a, seq_a = max_score_seq(A[:i])\n",
    "            score_b, seq_b = max_score_seq(A[i:])\n",
    "\n",
    "            if score_a + score_b >= max_score:\n",
    "                max_score = score_a + score_b\n",
    "                max_seq = seq_a + seq_b\n",
    "\n",
    "        return max_score, max_seq"
   ]
  },
  {
   "cell_type": "code",
   "execution_count": 42,
   "metadata": {},
   "outputs": [
    {
     "data": {
      "text/plain": [
       "(33, [(-3, -5), (2, 9)])"
      ]
     },
     "execution_count": 42,
     "metadata": {},
     "output_type": "execute_result"
    }
   ],
   "source": [
    "max_score_seq(A)"
   ]
  },
  {
   "cell_type": "markdown",
   "metadata": {},
   "source": [
    "Memoized"
   ]
  },
  {
   "cell_type": "code",
   "execution_count": 54,
   "metadata": {},
   "outputs": [],
   "source": [
    "def max_score_seq_memoized(A, cache):\n",
    "    \n",
    "    if len(A) == 2:\n",
    "        \n",
    "        score = A[0] * A[1]\n",
    "        \n",
    "        if score > 0:\n",
    "            return score, [(A[0], A[1])]\n",
    "        else:\n",
    "            return 0, []\n",
    "        \n",
    "    else:\n",
    "        \n",
    "        max_score = 0\n",
    "        max_seq = []\n",
    "        \n",
    "        for i in range(1, len(A)):\n",
    "            \n",
    "            if A[:i] not in cache:\n",
    "                cache[A[:i]] = max_score_seq_memoized(A[:i], cache)\n",
    "            \n",
    "            if A[i:] not in cache:\n",
    "                cache[A[i:]] = max_score_seq_memoized(A[i:], cache)\n",
    "\n",
    "            score_a, seq_a = cache[A[:i]]\n",
    "            score_b, seq_b = cache[A[i:]]\n",
    "                \n",
    "            if score_a + score_b >= max_score:\n",
    "                \n",
    "                max_score = score_a + score_b\n",
    "                max_seq = seq_a + seq_b\n",
    "\n",
    "        return max_score, max_seq"
   ]
  },
  {
   "cell_type": "code",
   "execution_count": 55,
   "metadata": {},
   "outputs": [
    {
     "data": {
      "text/plain": [
       "(33, [(-3, -5), (2, 9)])"
      ]
     },
     "execution_count": 55,
     "metadata": {},
     "output_type": "execute_result"
    }
   ],
   "source": [
    "max_score_seq_memoized(A, {})"
   ]
  },
  {
   "cell_type": "code",
   "execution_count": null,
   "metadata": {},
   "outputs": [],
   "source": []
  }
 ],
 "metadata": {
  "kernelspec": {
   "display_name": "Python 3",
   "language": "python",
   "name": "python3"
  },
  "language_info": {
   "codemirror_mode": {
    "name": "ipython",
    "version": 3
   },
   "file_extension": ".py",
   "mimetype": "text/x-python",
   "name": "python",
   "nbconvert_exporter": "python",
   "pygments_lexer": "ipython3",
   "version": "3.6.6"
  }
 },
 "nbformat": 4,
 "nbformat_minor": 2
}
