{
 "cells": [
  {
   "cell_type": "code",
   "execution_count": 133,
   "metadata": {},
   "outputs": [],
   "source": [
    "import code_for_hw12 as hw12\n",
    "import numpy as np\n",
    "import scipy.spatial.distance as dist"
   ]
  },
  {
   "cell_type": "code",
   "execution_count": 216,
   "metadata": {},
   "outputs": [
    {
     "name": "stdout",
     "output_type": "stream",
     "text": [
      "Loading from ratings.csv users 13366 items 2000\n",
      "Iteration 1 finished. Total Elapsed Time: 5.66\n",
      "Iteration 2 finished. Total Elapsed Time: 11.27\n",
      "Iteration 3 finished. Total Elapsed Time: 16.86\n",
      "Iteration 4 finished. Total Elapsed Time: 22.56\n",
      "Iteration 5 finished. Total Elapsed Time: 28.16\n",
      "Iteration 6 finished. Total Elapsed Time: 34.15\n",
      "Iteration 7 finished. Total Elapsed Time: 39.78\n",
      "Iteration 8 finished. Total Elapsed Time: 45.37\n",
      "Iteration 9 finished. Total Elapsed Time: 51.11\n",
      "Iteration 10 finished. Total Elapsed Time: 56.70\n",
      "Iteration 11 finished. Total Elapsed Time: 62.27\n",
      "Iteration 12 finished. Total Elapsed Time: 67.84\n",
      "Iteration 13 finished. Total Elapsed Time: 73.43\n",
      "Iteration 14 finished. Total Elapsed Time: 79.00\n",
      "Iteration 15 finished. Total Elapsed Time: 84.75\n",
      "Iteration 16 finished. Total Elapsed Time: 90.34\n",
      "Iteration 17 finished. Total Elapsed Time: 95.92\n",
      "Iteration 18 finished. Total Elapsed Time: 101.52\n",
      "Iteration 19 finished. Total Elapsed Time: 108.54\n",
      "Iteration 20 finished. Total Elapsed Time: 115.36\n"
     ]
    }
   ],
   "source": [
    "data = hw12.load_ratings_data()\n",
    "movies_dict, genres_dict = hw12.load_movies()\n",
    "model = hw12.mf_als(data, None, k=10, lam=1, max_iter=20)\n",
    "hw12.save_model(model)"
   ]
  },
  {
   "cell_type": "code",
   "execution_count": 217,
   "metadata": {},
   "outputs": [
    {
     "name": "stdout",
     "output_type": "stream",
     "text": [
      "Loading from ratings.csv users 13366 items 2000\n"
     ]
    }
   ],
   "source": [
    "data = hw12.load_ratings_data()\n",
    "movies_dict, genres_dict = hw12.load_movies()"
   ]
  },
  {
   "cell_type": "code",
   "execution_count": 218,
   "metadata": {},
   "outputs": [],
   "source": [
    "users_favorite_movies = [data[i][1] for i in range(len(data)) \n",
    "                         if data[i][0] == 270894 and data[i][2] == 5.0]"
   ]
  },
  {
   "cell_type": "code",
   "execution_count": 219,
   "metadata": {},
   "outputs": [],
   "source": [
    "users_favorite_genres_raw = [genres_dict[i] for i in users_favorite_movies]"
   ]
  },
  {
   "cell_type": "code",
   "execution_count": 220,
   "metadata": {},
   "outputs": [],
   "source": [
    "users_favorite_genres = {}\n",
    "\n",
    "for genres in users_favorite_genres_raw:\n",
    "    \n",
    "    for genre in genres:\n",
    "        \n",
    "        if genre not in users_favorite_genres:\n",
    "            users_favorite_genres[genre] = 0\n",
    "        \n",
    "        users_favorite_genres[genre] += 1    "
   ]
  },
  {
   "cell_type": "code",
   "execution_count": 221,
   "metadata": {},
   "outputs": [
    {
     "data": {
      "text/plain": [
       "{'Animation': 74,\n",
       " 'Children': 58,\n",
       " 'Comedy': 42,\n",
       " 'Crime': 6,\n",
       " 'Adventure': 46,\n",
       " 'Fantasy': 31,\n",
       " 'Musical': 23,\n",
       " 'Sci-Fi': 15,\n",
       " 'IMAX': 12,\n",
       " 'Drama': 27,\n",
       " 'Romance': 16,\n",
       " 'Action': 20,\n",
       " 'War': 2,\n",
       " 'Mystery': 4,\n",
       " 'Thriller': 8,\n",
       " 'Horror': 3}"
      ]
     },
     "execution_count": 221,
     "metadata": {},
     "output_type": "execute_result"
    }
   ],
   "source": [
    "users_favorite_genres"
   ]
  },
  {
   "cell_type": "code",
   "execution_count": 222,
   "metadata": {},
   "outputs": [],
   "source": [
    "model = hw12.load_model()"
   ]
  },
  {
   "cell_type": "code",
   "execution_count": 223,
   "metadata": {},
   "outputs": [],
   "source": [
    "seen_movies = {data[i][1]: 0 for i in range(len(data)) if data[i][0] == 270894}"
   ]
  },
  {
   "cell_type": "code",
   "execution_count": 224,
   "metadata": {},
   "outputs": [],
   "source": [
    "predicted_ratings = [(i, np.asscalar(hw12.pred((270894, i, 0), model))) for i in movies_dict if i not in seen_movies]\n",
    "predicted_ratings = reversed(sorted(predicted_ratings, key=lambda x: x[1]))\n",
    "predicted_ratings = list(predicted_ratings)"
   ]
  },
  {
   "cell_type": "code",
   "execution_count": 225,
   "metadata": {},
   "outputs": [],
   "source": [
    "top_50_predicted_movies = [predicted_ratings[i][0] for i in range(50)]"
   ]
  },
  {
   "cell_type": "code",
   "execution_count": 226,
   "metadata": {},
   "outputs": [],
   "source": [
    "top_predicted_genres_raw = [genres_dict[i] for i in top_50_predicted_movies]"
   ]
  },
  {
   "cell_type": "code",
   "execution_count": 227,
   "metadata": {},
   "outputs": [],
   "source": [
    "top_predicted_genres = {}\n",
    "\n",
    "for genres in top_predicted_genres_raw:\n",
    "    \n",
    "    for genre in genres:\n",
    "        \n",
    "        if genre not in top_predicted_genres:\n",
    "            top_predicted_genres[genre] = 0\n",
    "        \n",
    "        top_predicted_genres[genre] += 1    "
   ]
  },
  {
   "cell_type": "code",
   "execution_count": 228,
   "metadata": {},
   "outputs": [
    {
     "data": {
      "text/plain": [
       "{'Adventure': 30,\n",
       " 'Animation': 25,\n",
       " 'Children': 21,\n",
       " 'Comedy': 22,\n",
       " 'Fantasy': 16,\n",
       " 'IMAX': 1,\n",
       " 'Musical': 14,\n",
       " 'Action': 10,\n",
       " 'Sci-Fi': 12,\n",
       " 'Drama': 8,\n",
       " 'Crime': 1,\n",
       " 'Thriller': 2,\n",
       " 'Romance': 5,\n",
       " 'War': 1,\n",
       " 'Documentary': 1,\n",
       " 'Horror': 2}"
      ]
     },
     "execution_count": 228,
     "metadata": {},
     "output_type": "execute_result"
    }
   ],
   "source": [
    "top_predicted_genres"
   ]
  },
  {
   "cell_type": "code",
   "execution_count": 229,
   "metadata": {},
   "outputs": [],
   "source": [
    "def similarity(vA, vB):\n",
    "    \n",
    "    return (vA.T @ vB) / (np.linalg.norm(vA) * np.linalg.norm(vB))"
   ]
  },
  {
   "cell_type": "code",
   "execution_count": 230,
   "metadata": {},
   "outputs": [],
   "source": [
    "(u, b_u, v, b_v) = model\n",
    "\n",
    "similarity_260 = [(i, similarity(v[260], v[i])) for i in movies_dict]\n",
    "similarity_260 = list(reversed(sorted(similarity_260, key=lambda x: np.abs(x[1]))))"
   ]
  },
  {
   "cell_type": "code",
   "execution_count": 231,
   "metadata": {},
   "outputs": [
    {
     "data": {
      "text/plain": [
       "['Star Wars: Episode IV - A New Hope (1977)',\n",
       " 'Star Wars: Episode V - The Empire Strikes Back (1980)',\n",
       " 'Star Wars: Episode VI - Return of the Jedi (1983)',\n",
       " 'Raiders of the Lost Ark (Indiana Jones and the Raiders of the Lost Ark) (1981)',\n",
       " 'Indiana Jones and the Last Crusade (1989)',\n",
       " 'Star Wars: Episode VII - The Force Awakens (2015)',\n",
       " 'Another Stakeout (1993)',\n",
       " 'Batman (1989)',\n",
       " 'Threesome (1994)',\n",
       " '\"Juror, The (1996)\"',\n",
       " 'Battlestar Galactica (2003)']"
      ]
     },
     "execution_count": 231,
     "metadata": {},
     "output_type": "execute_result"
    }
   ],
   "source": [
    "[movies_dict[similarity_260[i][0]] for i in range(0, 11)]"
   ]
  },
  {
   "cell_type": "code",
   "execution_count": 232,
   "metadata": {},
   "outputs": [],
   "source": [
    "(u, b_u, v, b_v) = model\n",
    "\n",
    "similarity_2628 = [(i, similarity(v[2628], v[i])) for i in movies_dict]\n",
    "similarity_2628 = list(reversed(sorted(similarity_2628, key=lambda x: np.abs(x[1]))))"
   ]
  },
  {
   "cell_type": "code",
   "execution_count": 236,
   "metadata": {},
   "outputs": [
    {
     "data": {
      "text/plain": [
       "['Star Wars: Episode I - The Phantom Menace (1999)',\n",
       " 'Star Wars: Episode III - Revenge of the Sith (2005)',\n",
       " 'Star Wars: Episode II - Attack of the Clones (2002)',\n",
       " '\"Matrix Reloaded, The (2003)\"',\n",
       " 'Indiana Jones and the Kingdom of the Crystal Skull (2008)',\n",
       " 'State and Main (2000)',\n",
       " '\"Hard Day\\'s Night, A (1964)\"',\n",
       " '\"Matrix Revolutions, The (2003)\"',\n",
       " 'Wag the Dog (1997)',\n",
       " '\"Dark Knight Rises, The (2012)\"',\n",
       " '\"Ref, The (1994)\"']"
      ]
     },
     "execution_count": 236,
     "metadata": {},
     "output_type": "execute_result"
    }
   ],
   "source": [
    "[movies_dict[similarity_2628[i][0]] for i in range(0, 11)]"
   ]
  },
  {
   "cell_type": "code",
   "execution_count": 203,
   "metadata": {},
   "outputs": [
    {
     "data": {
      "text/plain": [
       "array([[0.98213317]])"
      ]
     },
     "execution_count": 203,
     "metadata": {},
     "output_type": "execute_result"
    }
   ],
   "source": [
    "similarity(v[2628], v[33493])"
   ]
  },
  {
   "cell_type": "code",
   "execution_count": 239,
   "metadata": {},
   "outputs": [
    {
     "data": {
      "text/plain": [
       "0.0033906829235349763"
      ]
     },
     "execution_count": 239,
     "metadata": {},
     "output_type": "execute_result"
    }
   ],
   "source": [
    "np.mean([similarity(v[i], v[j]) for i in movies_dict for j in movies_dict if i != j])"
   ]
  },
  {
   "cell_type": "code",
   "execution_count": 242,
   "metadata": {},
   "outputs": [],
   "source": [
    "genre_similarities = []\n",
    "\n",
    "for genre in hw12.genres:\n",
    "    \n",
    "    movies_same_genre = []\n",
    "    \n",
    "    for movie, genres in genres_dict.items():\n",
    "    \n",
    "        if genre in genres:\n",
    "            movies_same_genre.append(movie)\n",
    "    \n",
    "    mean = np.mean([similarity(v[i], v[j]) for i in movies_same_genre for j in movies_same_genre if i != j])\n",
    "    genre_similarities.append((genre, mean))"
   ]
  },
  {
   "cell_type": "code",
   "execution_count": 244,
   "metadata": {},
   "outputs": [
    {
     "data": {
      "text/plain": [
       "[('Crime', 0.0478018985278635),\n",
       " ('Drama', 0.05640458822504264),\n",
       " ('Mystery', 0.061131866728382014),\n",
       " ('Thriller', 0.07558245350611818),\n",
       " ('Adventure', 0.07602538522957676),\n",
       " ('Comedy', 0.07945292957559967),\n",
       " ('Romance', 0.08449906364727004),\n",
       " ('Fantasy', 0.09522018778285715),\n",
       " ('War', 0.10288046810178295),\n",
       " ('Action', 0.11844986903190609),\n",
       " ('Western', 0.12552996595815366),\n",
       " ('Sci-Fi', 0.14433745039290163),\n",
       " ('Horror', 0.23770689822654634),\n",
       " ('Musical', 0.2573167530286519),\n",
       " ('Children', 0.28099931396246525),\n",
       " ('IMAX', 0.31228193242362234),\n",
       " ('Animation', 0.36053878623523145),\n",
       " ('Documentary', 0.4194852334967673),\n",
       " ('Film-Noir', 0.4215194836150668)]"
      ]
     },
     "execution_count": 244,
     "metadata": {},
     "output_type": "execute_result"
    }
   ],
   "source": [
    "sorted(genre_similarities, key=lambda x: x[1])"
   ]
  },
  {
   "cell_type": "code",
   "execution_count": null,
   "metadata": {},
   "outputs": [],
   "source": []
  }
 ],
 "metadata": {
  "kernelspec": {
   "display_name": "Python 3",
   "language": "python",
   "name": "python3"
  },
  "language_info": {
   "codemirror_mode": {
    "name": "ipython",
    "version": 3
   },
   "file_extension": ".py",
   "mimetype": "text/x-python",
   "name": "python",
   "nbconvert_exporter": "python",
   "pygments_lexer": "ipython3",
   "version": "3.6.7"
  }
 },
 "nbformat": 4,
 "nbformat_minor": 2
}
