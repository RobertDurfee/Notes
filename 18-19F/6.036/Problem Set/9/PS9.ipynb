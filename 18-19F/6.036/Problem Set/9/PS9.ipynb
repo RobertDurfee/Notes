{
 "cells": [
  {
   "cell_type": "code",
   "execution_count": 1,
   "metadata": {},
   "outputs": [],
   "source": [
    "import numpy as np"
   ]
  },
  {
   "cell_type": "code",
   "execution_count": 135,
   "metadata": {},
   "outputs": [],
   "source": [
    "def value_iteration(T, R, gamma, epsilon):\n",
    "    \n",
    "    Q_old = np.zeros(R.shape)\n",
    "    \n",
    "    while True:\n",
    "        \n",
    "        Q_new = R + gamma * np.sum(T * np.broadcast_to(np.max(Q_old, axis=1), T.shape), axis=2)\n",
    "        \n",
    "        if np.max(np.absolute(Q_old - Q_new)) < epsilon:\n",
    "            return Q_new\n",
    "        \n",
    "        Q_old = Q_new"
   ]
  },
  {
   "cell_type": "code",
   "execution_count": 120,
   "metadata": {},
   "outputs": [],
   "source": [
    "def bounded_value_iteration(T, R, gamma, iters):\n",
    "    \n",
    "    Q = np.zeros(R.shape)\n",
    "    \n",
    "    for i in range(iters):\n",
    "        \n",
    "        Q = R + gamma * np.sum(T * np.broadcast_to(np.max(Q, axis=1), T.shape), axis=2)\n",
    "        \n",
    "    return Q"
   ]
  },
  {
   "cell_type": "code",
   "execution_count": 160,
   "metadata": {},
   "outputs": [],
   "source": [
    "T = np.array([[[0.0,1.0,0.0,0.0,0.0,0.0,0.0,0.0,0.0,0.0],[0.0,0.0,0.0,0.0,0.0,0.0,0.0,0.0,0.0,0.0]],\n",
    "              [[0.0,0.0,1.0,0.0,0.0,0.0,0.0,0.0,0.0,0.0],[1.0,0.0,0.0,0.0,0.0,0.0,0.0,0.0,0.0,0.0]],\n",
    "              [[0.0,0.0,0.0,1.0,0.0,0.0,0.0,0.0,0.0,0.0],[0.0,1.0,0.0,0.0,0.0,0.0,0.0,0.0,0.0,0.0]],\n",
    "              [[0.0,0.0,0.0,0.0,1.0,0.0,0.0,0.0,0.0,0.0],[0.0,0.0,1.0,0.0,0.0,0.0,0.0,0.0,0.0,0.0]],\n",
    "              [[0.0,0.0,0.0,0.0,0.0,1.0,0.0,0.0,0.0,0.0],[0.0,0.0,0.0,1.0,0.0,0.0,0.0,0.0,0.0,0.0]],\n",
    "              [[0.0,0.0,0.0,0.0,0.0,0.0,1.0,0.0,0.0,0.0],[0.0,0.0,0.0,0.0,1.0,0.0,0.0,0.0,0.0,0.0]],\n",
    "              [[0.0,0.0,0.0,0.0,0.0,0.0,0.0,1.0,0.0,0.0],[0.0,0.0,0.0,0.0,0.0,1.0,0.0,0.0,0.0,0.0]],\n",
    "              [[0.0,0.0,0.0,0.0,0.0,0.0,0.0,0.0,1.0,0.0],[0.0,0.0,0.0,0.0,0.0,0.0,1.0,0.0,0.0,0.0]],\n",
    "              [[0.0,0.0,0.0,0.0,0.0,0.0,0.0,0.0,0.0,1.0],[0.0,0.0,0.0,0.0,0.0,0.0,0.0,1.0,0.0,0.0]],\n",
    "              [[0.0,0.0,0.0,0.0,0.0,0.0,0.0,0.0,0.0,0.0],[0.0,0.0,0.0,0.0,0.0,0.0,0.0,0.0,0.0,0.0]]])"
   ]
  },
  {
   "cell_type": "code",
   "execution_count": 161,
   "metadata": {},
   "outputs": [],
   "source": [
    "R = np.array([[-1,-1],\n",
    "              [-1,-1],\n",
    "              [-1,-1],\n",
    "              [-1,-1],\n",
    "              [-1,-1],\n",
    "              [-1,-1],\n",
    "              [-1,-1],\n",
    "              [-1,-1],\n",
    "              [-1,-1],\n",
    "              [ 1, 1]])"
   ]
  },
  {
   "cell_type": "code",
   "execution_count": 164,
   "metadata": {},
   "outputs": [
    {
     "data": {
      "text/plain": [
       "array([[-3., -1.],\n",
       "       [-4., -2.],\n",
       "       [-5., -3.],\n",
       "       [-5., -4.],\n",
       "       [-5., -5.],\n",
       "       [-3., -5.],\n",
       "       [-2., -5.],\n",
       "       [-1., -3.],\n",
       "       [ 0., -2.],\n",
       "       [ 1.,  1.]])"
      ]
     },
     "execution_count": 164,
     "metadata": {},
     "output_type": "execute_result"
    }
   ],
   "source": [
    "bounded_value_iteration(T, R, 1, 5)"
   ]
  },
  {
   "cell_type": "code",
   "execution_count": null,
   "metadata": {},
   "outputs": [],
   "source": []
  }
 ],
 "metadata": {
  "kernelspec": {
   "display_name": "Python 3",
   "language": "python",
   "name": "python3"
  },
  "language_info": {
   "codemirror_mode": {
    "name": "ipython",
    "version": 3
   },
   "file_extension": ".py",
   "mimetype": "text/x-python",
   "name": "python",
   "nbconvert_exporter": "python",
   "pygments_lexer": "ipython3",
   "version": "3.6.6"
  }
 },
 "nbformat": 4,
 "nbformat_minor": 2
}
