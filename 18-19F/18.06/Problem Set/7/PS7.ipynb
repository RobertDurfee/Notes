{
 "cells": [
  {
   "cell_type": "markdown",
   "metadata": {},
   "source": [
    "# 18.06 pset 7\n",
    "\n",
    "Due Wednesday, October 24 at 10:55am via Stellar.   Related material *will* be on exam 2."
   ]
  },
  {
   "cell_type": "markdown",
   "metadata": {},
   "source": [
    "## Problem 1 (10 points)\n",
    "\n",
    "Find an orthonormal basis for $N(A)$, where $A$ is the matrix\n",
    "$A = \\begin{pmatrix} 1 & 1 & -1 & 1\\end{pmatrix}$."
   ]
  },
  {
   "cell_type": "markdown",
   "metadata": {},
   "source": [
    "## Problem 2 (8+2 points)\n",
    "\n",
    "The ordinary Gram–Schmidt algorithm only works for linearly independent vectors, i.e. you can only apply it to the columns of $A$ if $A$ has full column rank.\n",
    "\n",
    "**(a)** If $A$ does *not* have full column rank, what goes wrong when you apply Gram–Schmidt to its columns?  Construct an example matrix $A$ that illustrates this problem.\n",
    "\n",
    "**(b)** If you have a matrix $A$ that does *not* have full column rank, you could get an orthonormal basis for $C(A)$ by applying Gram–Schmidt to the ............... columns of $A$."
   ]
  },
  {
   "cell_type": "markdown",
   "metadata": {},
   "source": [
    "## Problem 3 (10 points)\n",
    "\n",
    "If $A$ is an $m \\times n$ real matrix with full column rank, then we learned that Gram–Schmidt gives us the factorization $A=\\hat{Q} \\hat{R}$, where $\\hat{Q}$ is an $m \\times n$ matrix with orthonormal columns ($\\hat{Q}^T \\hat{Q} = I$) and $\\hat{R}$ is an $n \\times n$ invertible upper-triangular matrix.  (This is sometimes called the \"thin\" QR factorization.)\n",
    "\n",
    "Suppose that, instead, we want a factorization $A = QR$ where $Q$ is a *square* $m \\times m$ matrix that is orthogonal (unitary): $Q^T = Q^{-1}$.\n",
    "\n",
    "**(a)** We can find such a $Q$ in the form $Q = \\begin{pmatrix} \\hat{Q} & V \\end{pmatrix}$ by adding $m-n$ columns $V$ to $\\hat{Q}$, if the columns of $V$ are an orthonormal basis for the ............. space of $A$.\n",
    "\n",
    "**(b)** Given $Q = \\begin{pmatrix} \\hat{Q} & V \\end{pmatrix}$ from (a), then $A = QR$ where $R$ is the $? \\, \\times \\, ?$ matrix formed by taking $\\hat{R}$ and .......... (write $R$ in terms of $\\hat{R}$)."
   ]
  },
  {
   "cell_type": "markdown",
   "metadata": {},
   "source": [
    "## Problem 4 (15 points)\n",
    "\n",
    "Suppose that we apply the Gram–Schmidt process to the columns of an $m \\times n$ matrix $A$ (of rank $n$), but in *reverse order*: we start with the *rightmost* column of $A$ and work from right to left.  We will still obtain a matrix $Q_r$ with orthonormal columns and $C(Q_r)=C(A)$.\n",
    "\n",
    "**(a)** If we compute the matrix $M = Q_r^T A$ for this $Q_r$ from \"reversed\" Gram–Schmidt, which entries of $M$ *must* be zero?  (Is $M$ some type of \"triangular\" matrix, and what shape if so?)\n",
    "\n",
    "**(b)** The function `flipdim(A, 2)` in Julia reverses the order of the columns of a matrix `A`.   The function `Q, R = qr(A)` computes the ordinary QR factorization (equivalent to Gram–Schmidt up to sign flips).\n",
    "Combine `flipdim` and `qr` to obtain the \"reverse-order\" $Q_r$ matrix from above for the following $6\\times 4$ matrix $A$, and check that $Q_r^T A$ (computed via Julia) has the pattern of zero entries you predicted in (a)."
   ]
  },
  {
   "cell_type": "code",
   "execution_count": 1,
   "metadata": {},
   "outputs": [
    {
     "data": {
      "text/plain": [
       "6×4 Array{Int64,2}:\n",
       " 7  2  6   9\n",
       " 2  4  3   2\n",
       " 8  6  4  10\n",
       " 4  9  2   5\n",
       " 7  1  5   9\n",
       " 7  8  4   6"
      ]
     },
     "execution_count": 1,
     "metadata": {},
     "output_type": "execute_result"
    }
   ],
   "source": [
    "A = [ 7  2  6   9\n",
    "      2  4  3   2\n",
    "      8  6  4  10\n",
    "      4  9  2   5\n",
    "      7  1  5   9\n",
    "      7  8  4   6 ]"
   ]
  },
  {
   "cell_type": "code",
   "execution_count": 2,
   "metadata": {},
   "outputs": [
    {
     "data": {
      "text/plain": [
       "6×4 Array{Int64,2}:\n",
       "  9  6  2  7\n",
       "  2  3  4  2\n",
       " 10  4  6  8\n",
       "  5  2  9  4\n",
       "  9  5  1  7\n",
       "  6  4  8  7"
      ]
     },
     "execution_count": 2,
     "metadata": {},
     "output_type": "execute_result"
    }
   ],
   "source": [
    "flipdim(A, 2) # this is A with columns reversed"
   ]
  },
  {
   "cell_type": "code",
   "execution_count": 3,
   "metadata": {},
   "outputs": [
    {
     "data": {
      "text/plain": [
       "6×4 Array{Float64,2}:\n",
       " -0.460566   0.352596    0.43914    -0.129135 \n",
       " -0.13159   -0.286576    0.754051    0.0190249\n",
       " -0.526361  -0.0166273  -0.473745   -0.276266 \n",
       " -0.263181  -0.686121   -0.0138678  -0.502429 \n",
       " -0.460566   0.465564    0.0121882  -0.0784793\n",
       " -0.460566  -0.32521    -0.117424    0.805013 "
      ]
     },
     "execution_count": 3,
     "metadata": {},
     "output_type": "execute_result"
    }
   ],
   "source": [
    "Q, R = qr(A) # this is the ordinary QR factorization of A\n",
    "Q"
   ]
  },
  {
   "cell_type": "code",
   "execution_count": 4,
   "metadata": {},
   "outputs": [
    {
     "data": {
      "text/plain": [
       "6×4 Array{Float64,2}:\n",
       " -0.497701  -0.37914     0.328782   -0.215439 \n",
       " -0.1106    -0.672947   -0.291931   -0.343633 \n",
       " -0.553001   0.520643   -0.0275592   0.0212359\n",
       " -0.276501   0.260321   -0.632918   -0.497843 \n",
       " -0.497701  -0.0259241   0.43083     0.034441 \n",
       " -0.331801  -0.25276    -0.468743    0.765518 "
      ]
     },
     "execution_count": 4,
     "metadata": {},
     "output_type": "execute_result"
    }
   ],
   "source": [
    "# how would you get Qᵣ (equivalent to reversed-order Gram-Schmidt,\n",
    "# up to sign flips) by combining flipdim and qr?\n",
    "Qᵣ, R = qr(flipdim(A, 2))\n",
    "Qᵣ"
   ]
  },
  {
   "cell_type": "code",
   "execution_count": 5,
   "metadata": {},
   "outputs": [
    {
     "data": {
      "text/plain": [
       "4×4 Array{Float64,2}:\n",
       " -15.0416   -10.3964   -9.89872  -18.0831\n",
       "  -0.74424   -0.03132  -2.83113    0.0   \n",
       "  -1.29993   -9.69089  -0.0       -0.0   \n",
       "   1.58289   -0.0       0.0        0.0   "
      ]
     },
     "execution_count": 5,
     "metadata": {},
     "output_type": "execute_result"
    }
   ],
   "source": [
    "# check that QᵣᵀA has the predicted pattern of zeros:\n",
    "\n",
    "round.(Qᵣ'A, 5)"
   ]
  },
  {
   "cell_type": "markdown",
   "metadata": {},
   "source": [
    "## Problem 5 (15 points)\n",
    "\n",
    "**(a)** Apply Gram-Schmidt to the polynomials ${1, x, x^2}$ to find an orthonormal basis ${q_1,q_2,q_3}$ of polynomials under the inner (\"dot\") product (*different* from the one used in class):\n",
    "$$\n",
    "f \\cdot g = \\int_0^\\infty f(x) g(x) e^{-x} dx\n",
    "$$\n",
    "(Unlike the Legendre polynomials in class, normalize your polynomials $q_k$ to have $\\Vert q_k \\Vert = \\sqrt {q_k \\cdot q_k} = 1$ under this inner product, i.e. to be really ortho*normal*.)\n",
    "\n",
    "* The [following integral](https://en.wikipedia.org/wiki/Gamma_function) will be useful: $\\int_0^\\infty x^n e^{-x} dx = n!$ ($n$ [factorial](https://en.wikipedia.org/wiki/Factorial)) for any integer $n \\ge 0$.\n",
    "\n",
    "**(b)** Consider the function $f(x) = \\begin{cases} x & x < 1 \\\\ 0 & x \\ge 1 \\end{cases}$.   Find the slope $\\alpha$ of the straight line $\\alpha x$ that is the \"best fit\" to $f(x)$ in the sense of minimizing\n",
    "$$\n",
    "\\Vert f - \\alpha x \\Vert^2 = \\int_0^\\infty \\left[ f(x) - \\alpha x \\right]^2 e^{-x} dx\n",
    "$$\n",
    "In particular, find $\\alpha$ by performing the orthogonal projection (with this dot product) of $f(x)$ onto .........?"
   ]
  }
 ],
 "metadata": {
  "kernelspec": {
   "display_name": "Julia 0.6.2",
   "language": "julia",
   "name": "julia-0.6"
  },
  "language_info": {
   "file_extension": ".jl",
   "mimetype": "application/julia",
   "name": "julia",
   "version": "0.6.2"
  }
 },
 "nbformat": 4,
 "nbformat_minor": 2
}
